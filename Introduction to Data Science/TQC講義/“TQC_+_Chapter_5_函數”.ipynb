{
 "cells": [
  {
   "cell_type": "markdown",
   "metadata": {},
   "source": [
    "# Chapter 5 函數\n"
   ]
  },
  {
   "cell_type": "markdown",
   "metadata": {},
   "source": [
    "- 5-1 函式的定義\n",
    "- 5-2 沒有參數也沒有回傳值\n",
    "- 5-3 函式回傳值\n",
    "- 5-4 帶有參數和回傳值\n",
    "- 5-5 回傳多個值\n",
    "- 5-6 函式預設參數"
   ]
  },
  {
   "cell_type": "markdown",
   "metadata": {},
   "source": [
    "**函式(function)**可以視為是一解決某一問題的片段程式，函式他可以被重覆使用，同時也易於維護，因此可以節省開發成本和維護成本。"
   ]
  },
  {
   "cell_type": "code",
   "execution_count": 7,
   "metadata": {},
   "outputs": [
    {
     "name": "stdout",
     "output_type": "stream",
     "text": [
      "********************\n",
      "******************************\n",
      "**************************************************\n"
     ]
    }
   ],
   "source": [
    "for i in range(1,21):\n",
    "    print(\"*\", end = \"\")\n",
    "print()\n",
    "\n",
    "for i in range(1,31):\n",
    "    print(\"*\", end = \"\")\n",
    "print()\n",
    "\n",
    "for i in range(1,51):\n",
    "    print(\"*\", end = \"\")\n",
    "print()"
   ]
  },
  {
   "cell_type": "markdown",
   "metadata": {},
   "source": [
    "## 5-1 函式的定義\n",
    "\n",
    "**首先要有函式的定義**，它是解決某一問題的片段程式。函式的定義首先以def開頭，接著函式名稱和小括號及其參數，最後是冒號。\n",
    "\n",
    "**再來是呼叫函數**。"
   ]
  },
  {
   "cell_type": "code",
   "execution_count": 10,
   "metadata": {},
   "outputs": [
    {
     "name": "stdout",
     "output_type": "stream",
     "text": [
      "********************\n",
      "******************************\n",
      "**************************************************\n"
     ]
    }
   ],
   "source": [
    "# 定義函數\n",
    "def printStar(n): # 形式參數n\n",
    "    for i in range(1, n + 1):\n",
    "        print(\"*\", end = \"\")\n",
    "    print()\n",
    "\n",
    "# 定義函數    \n",
    "def main():\n",
    "    printStar(20) # 實際參數20\n",
    "    printStar(30) # 實際參數30\n",
    "    printStar(50) # 實際參數40\n",
    "\n",
    "main()"
   ]
  },
  {
   "cell_type": "markdown",
   "metadata": {},
   "source": [
    "## 5-2 沒有參數也沒有回傳值\n",
    "\n",
    "最陽春的函式定義，沒有形式參數。\n"
   ]
  },
  {
   "cell_type": "code",
   "execution_count": 12,
   "metadata": {},
   "outputs": [
    {
     "name": "stdout",
     "output_type": "stream",
     "text": [
      "summation of 1 to 100: 5050\n"
     ]
    }
   ],
   "source": [
    "# 例：從1到100的總和\n",
    "## 定義total函式\n",
    "\n",
    "def total():\n",
    "    sum = 0\n",
    "    for i in range(1,101):\n",
    "        sum += i\n",
    "    print(\"summation of 1 to 100:\", sum)\n",
    "\n",
    "def main():\n",
    "    total()\n",
    "\n",
    "main()"
   ]
  },
  {
   "cell_type": "markdown",
   "metadata": {},
   "source": [
    "## 5-3 函式回傳值\n",
    "\n",
    "執行完函式也可以有回傳值，通常會有return敘述，"
   ]
  },
  {
   "cell_type": "code",
   "execution_count": 13,
   "metadata": {},
   "outputs": [
    {
     "name": "stdout",
     "output_type": "stream",
     "text": [
      "summation of 1 to 100:  5050\n"
     ]
    }
   ],
   "source": [
    "# 例：從1到100的總和\n",
    "\n",
    "def total():\n",
    "    sum = 0\n",
    "    for i in range(1, 101):\n",
    "        sum += i\n",
    "    return sum  # 有回傳值\n",
    "\n",
    "def main():\n",
    "    t = total()  # 以變數t接收total函數的回傳值\n",
    "    print(\"summation of 1 to 100: \", t) # 列印回傳值\n",
    "\n",
    "main()"
   ]
  },
  {
   "cell_type": "markdown",
   "metadata": {},
   "source": [
    "## 5-4 帶有參數和回傳值\n",
    "\n",
    "函式的定義也可以接收參數和回傳值。"
   ]
  },
  {
   "cell_type": "code",
   "execution_count": 14,
   "metadata": {},
   "outputs": [
    {
     "name": "stdout",
     "output_type": "stream",
     "text": [
      "Enter start number: 2\n",
      "Enter end number: 100\n",
      "Summation of 2 to 100: 5049\n"
     ]
    }
   ],
   "source": [
    "# 例：使用者輸入兩個數值區間的總和。\n",
    "\n",
    "def total(a,b): # 接收兩個形式參數a,b\n",
    "    sum = 0\n",
    "    for i in range(a, b + 1):\n",
    "        sum += i\n",
    "    return sum  # 總和以return回傳\n",
    "\n",
    "def main():\n",
    "    x = eval(input(\"Enter start number: \"))\n",
    "    y = eval(input(\"Enter end number: \"))\n",
    "    t = total(x,y)  # 以變數t接收total函數的回傳值\n",
    "    print(\"Summation of %d to %s: %d\" %(x, y, t))\n",
    "\n",
    "main()"
   ]
  },
  {
   "cell_type": "markdown",
   "metadata": {},
   "source": [
    "## 5-5 回傳多個值\n",
    "\n",
    "通常，一個函式只能回傳一個值，但Python提供可從函式回傳多個值。"
   ]
  },
  {
   "cell_type": "code",
   "execution_count": 19,
   "metadata": {},
   "outputs": [
    {
     "name": "stdout",
     "output_type": "stream",
     "text": [
      "Enter start and end number: 1,100\n",
      "sum = 5050, average = 50\n"
     ]
    }
   ],
   "source": [
    "# 例：將某一函式所計算的總和與平均兩個數回傳。\n",
    "\n",
    "def sumAndAverage(n1, n2): # 形式參數n1, n2\n",
    "    total = 0\n",
    "    average = 0.0\n",
    "    for i in range(n1, n2 + 1):\n",
    "        total += i\n",
    "    average = total / (n2-n1+1)\n",
    "    return total, average # 回傳總和與平均數\n",
    "\n",
    "def main():\n",
    "    x, y = eval(input(\"Enter start and end number: \")) # 輸入計算區間\n",
    "    s, a = sumAndAverage(x,y) # 呼叫sumAndAverage函數，x,y為參數，回傳值為s,a\n",
    "    print(\"sum = %d, average = %d\" %(s,a))\n",
    "\n",
    "main() "
   ]
  },
  {
   "cell_type": "markdown",
   "metadata": {},
   "source": [
    "# 5-6 函式預設參數值\n",
    "\n",
    "預設參數不可以置於沒有預設參數的前面。"
   ]
  },
  {
   "cell_type": "code",
   "execution_count": 20,
   "metadata": {},
   "outputs": [
    {
     "name": "stdout",
     "output_type": "stream",
     "text": [
      "sum = 5050, average = 50\n",
      "sum = 55, average = 5\n"
     ]
    }
   ],
   "source": [
    "# 例：將某一函式所計算的總和與平均數回傳。預設一個參數n2。\n",
    "\n",
    "def sumAndAverage(n1, n2 = 100): # 一個實際參數、一個預設參數\n",
    "    total = 0\n",
    "    average = 0.0\n",
    "    for i in range(n1, n2 + 1):\n",
    "        total += i\n",
    "    average = total / (n2-n1+1)\n",
    "    return total, average\n",
    "\n",
    "def main():\n",
    "    s, a = sumAndAverage(1) # 輸入一個實際參數，另一個使用預設參數\n",
    "    print(\"sum = %d, average = %d\" %(s,a))\n",
    "    s, a = sumAndAverage(1,10) # 輸入兩個實際參數，不用預設\n",
    "    print(\"sum = %d, average = %d\" %(s,a))\n",
    "\n",
    "main()"
   ]
  },
  {
   "cell_type": "code",
   "execution_count": 21,
   "metadata": {},
   "outputs": [
    {
     "name": "stdout",
     "output_type": "stream",
     "text": [
      "sum = 5050, average = 50\n",
      "sum = 5049, average = 51\n",
      "sum = 55, average = 5\n"
     ]
    }
   ],
   "source": [
    "# 例：將某一函式所計算的總和與平均數回傳。參數全部有預設值。\n",
    "\n",
    "def sumAndAverage(n1 = 1, n2 = 100):\n",
    "    total = 0\n",
    "    average = 0.0\n",
    "    for i in range(n1, n2 + 1):\n",
    "        total += i\n",
    "    average = total / (n2-n1+1)\n",
    "    return total, average\n",
    "\n",
    "def main():\n",
    "    s, a = sumAndAverage()\n",
    "    print(\"sum = %d, average = %d\" %(s,a))\n",
    "    s, a = sumAndAverage(2)\n",
    "    print(\"sum = %d, average = %d\" %(s,a))\n",
    "    s, a = sumAndAverage(1,10)\n",
    "    print(\"sum = %d, average = %d\" %(s,a))\n",
    "\n",
    "main()"
   ]
  },
  {
   "cell_type": "markdown",
   "metadata": {},
   "source": [
    "## 綜合範例"
   ]
  },
  {
   "cell_type": "raw",
   "metadata": {},
   "source": [
    "**TQC+ 程式語言Python 501 訊息顯示(M)**\n",
    "\n",
    "1. 題目說明:\n",
    "請開啟PYD501.py檔案，依下列題意進行作答，依使用者輸入之訊息進行顯示，使輸出值符合題意要求。作答完成請另存新檔為PYA501.py再進行評分。\n",
    "\n",
    "\n",
    "2. 設計說明：\n",
    "請撰寫一程式，呼叫函式compute()，該函式功能為讓使用者輸入系別（Department）、學號（Student ID）和姓名（Name）並顯示這些訊息。\n",
    "\n",
    "\n",
    "3. 輸入輸出：\n",
    "\n",
    "輸入說明\n",
    "三個字串\n",
    "\n",
    "輸出說明\n",
    "系別（Department）\n",
    "學號（Student ID）\n",
    "姓名（Name）\n",
    "\n",
    "輸入輸出範例\n",
    "\n",
    "範例輸入\n",
    "Information Management\n",
    "123456789\n",
    "Tina Chen\n",
    "\n",
    "範例輸出\n",
    "Department: Information Management\n",
    "Student ID: 123456789\n",
    "Name: Tina Chen"
   ]
  },
  {
   "cell_type": "code",
   "execution_count": 23,
   "metadata": {},
   "outputs": [
    {
     "name": "stdout",
     "output_type": "stream",
     "text": [
      "Economics\n",
      "89171\n",
      "Francis\n",
      "Department: Economics\n",
      "Student ID: 89171\n",
      "Name Francis\n"
     ]
    }
   ],
   "source": [
    "# 定義函式，輸入使用者資訊\n",
    "def compute():\n",
    "    stu_dep = input() # 輸入系別\n",
    "    stu_id = input() # 輸入學號\n",
    "    stu_name = input() # 輸入名字\n",
    "    \n",
    "    print(\"Department:\", stu_dep) # 列印系別\n",
    "    print(\"Student ID:\", stu_id) # 列印學號\n",
    "    print(\"Name\", stu_name) # 列印名字\n",
    "\n",
    "compute() # 呼叫函數"
   ]
  },
  {
   "cell_type": "raw",
   "metadata": {},
   "source": [
    "**TQC+ 程式語言Python 502 乘積(M)**\n",
    " \n",
    "1. 題目說明:\n",
    "請開啟PYD502.py檔案，依下列題意進行作答，依使用者輸入的數字作為參數傳遞並計算乘積，使輸出值符合題意要求。作答完成請另存新檔為PYA502.py再進行評分。\n",
    "\n",
    "\n",
    "2. 設計說明：\n",
    "請撰寫一程式，將使用者輸入的兩個整數作為參數傳遞給一個名為compute(x, y)的函式，此函式將回傳x和y的乘積。\n",
    "\n",
    "\n",
    "3. 輸入輸出：\n",
    "\n",
    "輸入說明\n",
    "兩個整數\n",
    "\n",
    "輸出說明\n",
    "兩個整數相乘之乘積\n",
    "\n",
    "輸入輸出範例\n",
    "\n",
    "範例輸入\n",
    "56\n",
    "11\n",
    "範例輸出\n",
    "616 "
   ]
  },
  {
   "cell_type": "code",
   "execution_count": 24,
   "metadata": {},
   "outputs": [
    {
     "name": "stdout",
     "output_type": "stream",
     "text": [
      "56\n",
      "11\n",
      "616\n"
     ]
    }
   ],
   "source": [
    "# 函式：計算兩數的乘積\n",
    "\n",
    "def compute(a,b): # 兩個形式參數a,b \n",
    "    return a*b # 回傳乘積值\n",
    "\n",
    "num1 = eval(input()) # 輸入變數值\n",
    "num2 = eval(input())\n",
    "\n",
    "print(compute(num1, num2)) # 列印結果"
   ]
  },
  {
   "cell_type": "raw",
   "metadata": {},
   "source": [
    "**TQC+ 程式語言Python 503 連加計算(M)**\t\n",
    " \n",
    "1. 題目說明:\n",
    "請開啟PYD503.py檔案，依下列題意進行作答，依使用者輸入的整數作為參數傳遞進行連加，使輸出值符合題意要求。作答完成請另存新檔為PYA503.py再進行評分。\n",
    "\n",
    "\n",
    "2. 設計說明：\n",
    "請撰寫一程式，讓使用者輸入兩個整數，接著呼叫函式compute()，此函式接收兩個參數a、b，並回傳從a連加到b的和。\n",
    "\n",
    "\n",
    "3. 輸入輸出：\n",
    "\n",
    "輸入說明\n",
    "兩個整數\n",
    "\n",
    "輸出說明\n",
    "從a連加到b的和\n",
    "\n",
    "\n",
    "輸入輸出範例\n",
    "\n",
    "範例輸入\n",
    "33\n",
    "66\n",
    "範例輸出\n",
    "1683 "
   ]
  },
  {
   "cell_type": "code",
   "execution_count": 25,
   "metadata": {},
   "outputs": [
    {
     "name": "stdout",
     "output_type": "stream",
     "text": [
      "33\n",
      "66\n",
      "1683\n"
     ]
    }
   ],
   "source": [
    "# 定義計算函式\n",
    "def compute(a,b): # 兩個參數\n",
    "    return int((a+b)*(b-a+1)/2) # 回傳兩個參數連加之和的值\n",
    "\n",
    "# 輸入兩個整數\n",
    "a = eval(input())\n",
    "b = eval(input())\n",
    "\n",
    "print(compute(a,b))"
   ]
  },
  {
   "cell_type": "raw",
   "metadata": {},
   "source": [
    "**TQC+ 程式語言Python 504 次方計算(M)**\t\n",
    " \n",
    "1. 題目說明:\n",
    "請開啟PYD504.py檔案，依下列題意進行作答，依使用者輸入的整數作為參數傳遞進行公式計算，使輸出值符合題意要求。作答完成請另存新檔為PYA504.py再進行評分。\n",
    "\n",
    "\n",
    "2. 設計說明：\n",
    "請撰寫一程式，讓使用者輸入兩個整數，接著呼叫函式compute()，此函式接收兩個參數a、b，並回傳 \n",
    "a\n",
    "b\n",
    " 的值。\n",
    " \n",
    "\n",
    "3. 輸入輸出：\n",
    "\n",
    "輸入說明\n",
    "兩個整數\n",
    "\n",
    "輸出說明\n",
    "a\n",
    "b\n",
    " 的值\n",
    "\n",
    "輸入輸出範例\n",
    "\n",
    "範例輸入\n",
    "14\n",
    "3\n",
    "\n",
    "範例輸出\n",
    "2744"
   ]
  },
  {
   "cell_type": "code",
   "execution_count": 1,
   "metadata": {},
   "outputs": [
    {
     "name": "stdout",
     "output_type": "stream",
     "text": [
      "14\n",
      "3\n",
      "2744\n"
     ]
    }
   ],
   "source": [
    "def compute(a,b): # 兩個參數\n",
    "     return a**b # 回傳次方值\n",
    "\n",
    "# 輸入兩個整數\n",
    "a = eval(input())\n",
    "b = eval(input())\n",
    "\n",
    "print(compute(a,b))"
   ]
  },
  {
   "cell_type": "raw",
   "metadata": {},
   "source": [
    "**TQC+ 程式語言Python 505 依參數格式化輸出(M)**\t\n",
    " \n",
    "1. 題目說明:\n",
    "請開啟PYD505.py檔案，依下列題意進行作答，依使用者輸入的參數進行格式化輸出，使輸出值符合題意要求。作答完成請另存新檔為PYA505.py再進行評分。\n",
    "\n",
    "\n",
    "2. 設計說明：\n",
    "請撰寫一程式，將使用者輸入的三個參數，變數名稱分別為a（代表字元character）、x（代表個數）、y（代表列數），作為參數傳遞給一個名為compute()的函式，該函式功能為：一列印出x個a字元，總共印出y列。\n",
    "\n",
    "提示：輸出的每一個字元後方有一空格。\n",
    "\n",
    "\n",
    "3. 輸入輸出：\n",
    "\n",
    "輸入說明\n",
    "三個參數，分別為a（代表字元character）、x（代表個數）、y（代表列數）\n",
    "\n",
    "輸出說明\n",
    "一列印出x個a字元，總共印出y列\n",
    "\n",
    "輸入輸出範例\n",
    "\n",
    "範例輸入\n",
    "e\n",
    "5\n",
    "4\n",
    "\n",
    "範例輸出\n",
    "e e e e e \n",
    "e e e e e \n",
    "e e e e e \n",
    "e e e e e  \t\t"
   ]
  },
  {
   "cell_type": "code",
   "execution_count": 2,
   "metadata": {},
   "outputs": [
    {
     "name": "stdout",
     "output_type": "stream",
     "text": [
      "E\n",
      "5\n",
      "4\n",
      "E E E E E \n",
      "E E E E E \n",
      "E E E E E \n",
      "E E E E E \n"
     ]
    }
   ],
   "source": [
    "# 函式：列印出x個a字元，總共y列\n",
    "\n",
    "def compute(a,x,y):  # 三個參數\n",
    "    for i in range(y):\n",
    "        for j in range(x):\n",
    "            print(a, end = \" \")\n",
    "        print()\n",
    "\n",
    "# 輸入三個整數\n",
    "a = input()\n",
    "x = int(input())\n",
    "y = int(input())\n",
    "\n",
    "# 呼叫函數\n",
    "compute(a,x,y)"
   ]
  },
  {
   "cell_type": "raw",
   "metadata": {},
   "source": [
    "**TQC+ 程式語言Python 506 一元二次方程式(M)**\t\n",
    " \n",
    " 1. 題目說明:\n",
    "請開啟PYD506.py檔案，依下列題意進行作答，依使用者輸入的數字作為參數傳遞進行公式計算，使輸出值符合題意要求。作答完成請另存新檔為PYA506.py再進行評分。\n",
    "\n",
    "\n",
    "2. 設計說明：\n",
    "請撰寫一程式，將使用者輸入的三個整數（代表一元二次方程式  \n",
    "$ax^2+bx+c=0$\n",
    " 的三個係數a、b、c）作為參數傳遞給一個名為compute()的函式，該函式回傳方程式的解，如無解則輸出【Your equation has no root.】\n",
    "\n",
    "提示：輸出有順序性\n",
    "\n",
    "\n",
    "3. 輸入輸出：\n",
    "\n",
    "輸入說明\n",
    "三個整數，分別為a、b、c\n",
    "\n",
    "輸出說明\n",
    "代入一元二次方程式，回傳方程式解；如無解則輸出【Your equation has no root.】\n",
    "\n",
    "輸入輸出範例\n",
    "\n",
    "範例輸入1\n",
    "2\n",
    "-3\n",
    "1\n",
    "範例輸出1\n",
    "1.0, 0.5\n",
    "\n",
    "範例輸入2\n",
    "9\n",
    "9\n",
    "8\n",
    "範例輸出2\n",
    "Your equation has no root."
   ]
  },
  {
   "cell_type": "code",
   "execution_count": 4,
   "metadata": {},
   "outputs": [
    {
     "name": "stdout",
     "output_type": "stream",
     "text": [
      "2\n",
      "-3\n",
      "1\n",
      "1.0,0.5\n"
     ]
    }
   ],
   "source": [
    "# 定義函式：回傳一元二次方程式的解\n",
    "def compute(a,b,c):\n",
    "    delta = b**2 - 4 *a *c # 是否有解的判斷式\n",
    "    \n",
    "    if delta < 0:  \n",
    "        return None  # 無解\n",
    "    elif delta == 0:\n",
    "        return -b/ (2*a) # 單一解\n",
    "    else:\n",
    "        res1 = (-b + delta**0.5)/(2*a)\n",
    "        res2 = (-b - delta**0.5)/(2*a)\n",
    "        return str(res1) + \",\" + str(res2) # 兩個解\n",
    "\n",
    "# 輸入一元二次方三個係數\n",
    "a = eval(input())\n",
    "b = eval(input())\n",
    "c = eval(input())\n",
    "\n",
    "# 呼叫函式\n",
    "result = compute(a,b,c)\n",
    "if result == None: # 印出無解\n",
    "    print(\"Your equation has no root.\")\n",
    "else:             # 印出解值\n",
    "    print(result)"
   ]
  },
  {
   "cell_type": "raw",
   "metadata": {},
   "source": [
    "**TQC+ 程式語言Python 507 質數(H)**\n",
    " \n",
    "1. 題目說明:\n",
    "請開啟PYD507.py檔案，依下列題意進行作答，判斷輸入值是否為質數，使輸出值符合題意要求。作答完成請另存新檔為PYA507.py再進行評分。\n",
    "\n",
    "\n",
    "2. 設計說明：\n",
    "請撰寫一程式，讓使用者輸入一個整數x，並將x傳遞給名為compute()的函式，此函式將回傳x是否為質數（Prime number）的布林值，接著再將判斷結果輸出。如輸入值為質數顯示【Prime】，否則顯示【Not Prime】。\n",
    "\n",
    "\n",
    "3. 輸入輸出：\n",
    "\n",
    "輸入說明\n",
    "一個整數\n",
    "\n",
    "輸出說明\n",
    "判斷是否為質數，若為質數顯示【Prime】，否則顯示【Not Prime】\n",
    "\n",
    "輸入輸出範例\n",
    "\n",
    "範例輸入1\n",
    "3\n",
    "範例輸出1\n",
    "Prime\n",
    "\n",
    "範例輸入2\n",
    "6\n",
    "範例輸出2\n",
    "Not Prime\n",
    "\n",
    "範例輸入3\n",
    "1\n",
    "範例輸出3\n",
    "Not Prime\n",
    "\n",
    "範例輸入4\n",
    "0\n",
    "範例輸出4\n",
    "Not Prime\n",
    "\n",
    "範例輸入5\n",
    "-5\n",
    "範例輸出5\n",
    "Not Prime"
   ]
  },
  {
   "cell_type": "code",
   "execution_count": 9,
   "metadata": {},
   "outputs": [
    {
     "name": "stdout",
     "output_type": "stream",
     "text": [
      "3\n",
      "Prime\n"
     ]
    }
   ],
   "source": [
    "import math\n",
    "\n",
    "# 定義函式：判斷輸入的整數是否為質數\n",
    "def compute(num):\n",
    "    s_num = math.floor(num ** 0.5)\n",
    "    for i in range(2, (s_num + 1)): # 從2開始到整數開根號為止的每個數\n",
    "        if (num % i) == 0:  # 判斷是否整除\n",
    "            return False  # 有整除則非質數\n",
    "    return True\n",
    "\n",
    "# 輸入要判斷的整數\n",
    "x = int(input())\n",
    "\n",
    "if x > 1: \n",
    "    if compute(x):\n",
    "        print(\"Prime\")\n",
    "    else:\n",
    "        print(\"Not Prime\")\n",
    "else:  # 小於1的整數都不是質數          \n",
    "    print(\"Not Prime\")"
   ]
  },
  {
   "cell_type": "raw",
   "metadata": {},
   "source": [
    "**TQC+ 程式語言Python 508 最大公因數(M)**\t\n",
    " \n",
    "1. 題目說明:\n",
    "請開啟PYD05.py檔案，依下列題意進行作答，計算兩個正整數的最大公因數，使輸出值符合題意要求。作答完成請另存新檔為PYA508.py再進行評分。。\n",
    "\n",
    "\n",
    "2. 設計說明：\n",
    "請撰寫一程式，讓使用者輸入兩個正整數x、y，並將x與y傳遞給名為compute()的函式，此函式回傳x和y的最大公因數。\n",
    "\n",
    "\n",
    "3. 輸入輸出：\n",
    "\n",
    "輸入說明\n",
    "兩個正整數（以半形逗號分隔）\n",
    "x,y\n",
    "\n",
    "輸出說明\n",
    "最大公因數\n",
    "\n",
    "輸入輸出範例\n",
    "\n",
    "範例輸入1\n",
    "12,8\n",
    "範例輸出1\n",
    "4\n",
    "\n",
    "範例輸入2\n",
    "4,6\n",
    "範例輸出2\n",
    "2 "
   ]
  },
  {
   "cell_type": "code",
   "execution_count": 10,
   "metadata": {},
   "outputs": [
    {
     "name": "stdout",
     "output_type": "stream",
     "text": [
      "12,8\n",
      "4\n"
     ]
    }
   ],
   "source": [
    "# 定義函式：最大公因數\n",
    "def compute(a,b): \n",
    "    gcd = 1\n",
    "    k = 1\n",
    "    if a > 0 and b > 0:\n",
    "        while k <= a and  k <= b: # 執行條件迴圈\n",
    "            if a % k == 0 and b % k == 0: # gcd判斷條件，輸入兩數是否能整除\n",
    "                gcd = k\n",
    "            k += 1\n",
    "        return gcd\n",
    "    \n",
    "# 輸入要判斷的兩個整數\n",
    "x,y = eval(input())\n",
    "\n",
    "# 呼叫函式\n",
    "gcd = compute(x,y)\n",
    "print(gcd)"
   ]
  },
  {
   "cell_type": "raw",
   "metadata": {},
   "source": [
    "**TQC+ 程式語言Python 509 最簡分數(H)**\t\n",
    " \n",
    "1. 題目說明:\n",
    "請開啟PYD05.py檔案，依下列題意進行作答，加總兩個分數總和，並簡化為最簡分數，使輸出值符合題意要求。作答完成請另存新檔為PYA509.py再進行評分。\n",
    "\n",
    "\n",
    "2. 設計說明：\n",
    "請撰寫一程式，讓使用者輸入二個分數，分別是x/y和m/n（其中x、y、m、n皆為正整數），計算這兩個分數的和為p/q，接著將p和q傳遞給名為compute()函式，此函式回傳p和q的最大公因數（Greatest Common Divisor, GCD）。再將p和q各除以其最大公因數，最後輸出的結果必須以最簡分數表示。\n",
    "\n",
    "\n",
    "3. 輸入輸出：\n",
    "\n",
    "輸入說明\n",
    "四個正整數（以半形逗號分隔）\n",
    "x,y\n",
    "m,n\n",
    "\n",
    "輸出說明\n",
    "兩個分數和的最簡分數\n",
    "\n",
    "輸入輸出範例\n",
    "\n",
    "範例輸入1\n",
    "1,2\n",
    "1,6\n",
    "範例輸出1\n",
    "1/2 + 1/6 = 2/3\n",
    "\n",
    "範例輸入2\n",
    "12,16\n",
    "18,32\n",
    "範例輸出2\n",
    "12/16 + 18/32 = 21/16"
   ]
  },
  {
   "cell_type": "code",
   "execution_count": 12,
   "metadata": {},
   "outputs": [
    {
     "name": "stdout",
     "output_type": "stream",
     "text": [
      "12,16\n",
      "18,32\n",
      "12/16 + 18/32 = 21/16\n"
     ]
    }
   ],
   "source": [
    "# 例：兩分數加總並化簡\n",
    "## 最簡分數要用分子分母的最大公因數化簡\n",
    "\n",
    "## 定義函式：求最大公因數\n",
    "def compute(a,b):  \n",
    "    gcd = 1\n",
    "    k = 1\n",
    "    if a > 0 and b > 0:\n",
    "        while k <= a and k < b:\n",
    "            if a % k == 0 and b % k == 0:\n",
    "                gcd = k\n",
    "            k += 1\n",
    "        return gcd\n",
    "\n",
    "# 輸入兩分數 \n",
    "x,y = eval(input())  # x/y\n",
    "m,n = eval(input())  # m/n\n",
    "\n",
    "p = x*n +m*y  # 分子\n",
    "q = y*n      # 分母 \n",
    "\n",
    "# 呼叫函式\n",
    "gcd = compute(p,q) \n",
    "\n",
    "# 列印結果\n",
    "print(\"%d/%d + %d/%d = %d/%d\" %(x,y,m,n,p/gcd, q/gcd))           "
   ]
  },
  {
   "cell_type": "raw",
   "metadata": {},
   "source": [
    "**TQC+ 程式語言Python 510 費氏數列(H)**\n",
    " \n",
    "1. 題目說明:\n",
    "請開啟PYD05.py檔案，依下列題意進行作答，計算費氏數列，並依輸入的正整數回傳費氏數列前n個數值，使輸出值符合題意要求。作答完成請另存新檔為PYA510.py再進行評分。\n",
    "\n",
    "\n",
    "2. 設計說明：\n",
    "請撰寫一程式，計算費氏數列（Fibonacci numbers），使用者輸入一正整數num (num>=2)，並將它傳遞給名為compute()的函式，此函式將輸出費氏數列前num個的數值。\n",
    "\n",
    "提示：費氏數列的某一項數字是其前兩項的和，而且第0項為0，第一項為1，表示方式如下：\n",
    "$F_0=0, F_1=1,...,F_n=F_{n-1}+F_{n-2}$\n",
    "\n",
    " \n",
    "3. 輸入輸出：\n",
    "\n",
    "輸入說明\n",
    "一個正整數num (num>=2)\n",
    "\n",
    "輸出說明\n",
    "依輸入值num，輸出費氏數列前num個的數值（每個數值後方為一個半形空格）\n",
    "\n",
    "輸入輸出範例\n",
    "\n",
    "範例輸入1\n",
    "10\n",
    "範例輸出1\n",
    "0 1 1 2 3 5 8 13 21 34 \n",
    "\n",
    "範例輸入2\n",
    "20\n",
    "範例輸出2\n",
    "0 1 1 2 3 5 8 13 21 34 55 89 144 233 377 610 987 1597 2584 4181 "
   ]
  },
  {
   "cell_type": "code",
   "execution_count": 13,
   "metadata": {},
   "outputs": [
    {
     "name": "stdout",
     "output_type": "stream",
     "text": [
      "20\n",
      "0 1 1 2 3 5 8 13 21 34 55 89 144 233 377 610 987 1597 2584 4181 "
     ]
    }
   ],
   "source": [
    "# 費氏數列：某項數字是其前兩項之和，0+1+(0+1)+(1+1)+(1+2)+...\n",
    "## 定義函式：某項數字\n",
    "def compute(n):\n",
    "    n1 = 0\n",
    "    n2 = 1\n",
    "    print(\"%d %d\" % (n1,n2), end = \" \")\n",
    "    for i in range(3, n+1):\n",
    "        n3 = n1 + n2            # 費氏數列的某項數字\n",
    "        print(\"%d\" % (n3), end = \" \")\n",
    "        n1 = n2\n",
    "        n2 = n3\n",
    "\n",
    "# 輸入正整數\n",
    "num = eval(input())\n",
    "\n",
    "# 呼叫函式\n",
    "compute(num)"
   ]
  },
  {
   "cell_type": "markdown",
   "metadata": {},
   "source": [
    "**TQC+ 程式語言Python 511**\n",
    "\n",
    "試撰寫一程式，在main()函式輸入一整數n，將此整數傳給randNun()函式，，用以顯示n個介於1到100的亂數。若n大於10，則每一列印出十個亂數。\n",
    " "
   ]
  },
  {
   "cell_type": "code",
   "execution_count": 15,
   "metadata": {},
   "outputs": [
    {
     "name": "stdout",
     "output_type": "stream",
     "text": [
      "30\n",
      "  55   79   95   83   42   87   70   61    9   16\n",
      "  37   86   86    9   70   41   85   35   29    2\n",
      "  26   82   35   37  100   85   15   96   18   94\n"
     ]
    }
   ],
   "source": [
    "import random\n",
    "def randNum(num):\n",
    "    for i in range(1,num + 1):\n",
    "        rn = random.randint(1,100)\n",
    "        if i % 10 == 0:\n",
    "            print(\"%4d\" %(rn))\n",
    "        else:\n",
    "            print(\"%4d\" %(rn), end = \" \")\n",
    "\n",
    "def main():\n",
    "    n = eval(input())\n",
    "    randNum(n)\n",
    "    \n",
    "main()"
   ]
  },
  {
   "cell_type": "markdown",
   "metadata": {},
   "source": [
    "**TQC+ 程式語言Python 512**\n",
    "\n",
    "試撰寫一程式，在main()函式輸入一年份year，將此整數傳給isLeap()函式，用以顯示year是否為潤年。"
   ]
  },
  {
   "cell_type": "code",
   "execution_count": 17,
   "metadata": {},
   "outputs": [
    {
     "name": "stdout",
     "output_type": "stream",
     "text": [
      "2018\n",
      "2018 is not a leap year.\n"
     ]
    }
   ],
   "source": [
    "def isLEap(y):\n",
    "    if y % 400 == 0 or (y % 4 == 0 and y % 100 != 0):\n",
    "        print(\"%d is a leap year.\" %(y))\n",
    "    else:\n",
    "        print(\"%d is not a leap year.\" %(y))\n",
    "\n",
    "def main():\n",
    "    year = eval(input())\n",
    "    isLEap(year)\n",
    "\n",
    "main()"
   ]
  },
  {
   "cell_type": "markdown",
   "metadata": {},
   "source": [
    "**TQC+ 程式語言Python 513**\n",
    "\n",
    "試撰寫一程式，在main()函式利用不定數迴圈輸入一年份year，將此整數傳給isLeap()函式，用以顯示year是否為潤年。當輸入的年份是-9999時，則結束輸入的動作。"
   ]
  },
  {
   "cell_type": "code",
   "execution_count": 18,
   "metadata": {},
   "outputs": [
    {
     "name": "stdout",
     "output_type": "stream",
     "text": [
      "2018\n",
      "2018 is not a leap year.\n",
      "-9999\n"
     ]
    }
   ],
   "source": [
    "def isLEap(y):\n",
    "    if y % 400 == 0 or ( y % 4 == 0 and y % 100 != 0):\n",
    "        print(\"%d is a leap year.\" %(y))\n",
    "    else:\n",
    "        print(\"%d is not a leap year.\" %(y))\n",
    "\n",
    "def main():\n",
    "    while True:\n",
    "        year = eval(input())\n",
    "        if year != - 9999:\n",
    "            isLEap(year)\n",
    "        else:\n",
    "            break\n",
    "main()"
   ]
  },
  {
   "cell_type": "markdown",
   "metadata": {},
   "source": [
    "**TQC+ 程式語言Python 514**\n",
    "\n",
    "試撰寫一程式，在main()函式輸入一正整數n，將此整數傳給factor()函式，用以顯示1~n的階層。"
   ]
  },
  {
   "cell_type": "code",
   "execution_count": 1,
   "metadata": {},
   "outputs": [
    {
     "name": "stdout",
     "output_type": "stream",
     "text": [
      "20\n",
      " 1! =  1\n",
      " 2! =  2\n",
      " 3! =  6\n",
      " 4! =  24\n",
      " 5! =  120\n",
      " 6! =  720\n",
      " 7! =  5040\n",
      " 8! =  40320\n",
      " 9! =  362880\n",
      "10! =  3628800\n",
      "11! =  39916800\n",
      "12! =  479001600\n",
      "13! =  6227020800\n",
      "14! =  87178291200\n",
      "15! =  1307674368000\n",
      "16! =  20922789888000\n",
      "17! =  355687428096000\n",
      "18! =  6402373705728000\n",
      "19! =  121645100408832000\n",
      "20! =  2432902008176640000\n"
     ]
    }
   ],
   "source": [
    "def factor(k):\n",
    "    for i in range(1, k+1):\n",
    "        factor = 1\n",
    "        print(\"%2d! = \" %(i), end = \" \")\n",
    "        for j in range(1, i+1):\n",
    "            factor *= j\n",
    "        print(factor)\n",
    "\n",
    "def main():\n",
    "    n = eval(input())\n",
    "    factor(n)\n",
    "\n",
    "main()"
   ]
  },
  {
   "cell_type": "code",
   "execution_count": null,
   "metadata": {},
   "outputs": [],
   "source": []
  }
 ],
 "metadata": {
  "kernelspec": {
   "display_name": "Python 3",
   "language": "python",
   "name": "python3"
  },
  "language_info": {
   "codemirror_mode": {
    "name": "ipython",
    "version": 3
   },
   "file_extension": ".py",
   "mimetype": "text/x-python",
   "name": "python",
   "nbconvert_exporter": "python",
   "pygments_lexer": "ipython3",
   "version": "3.7.4"
  }
 },
 "nbformat": 4,
 "nbformat_minor": 2
}
