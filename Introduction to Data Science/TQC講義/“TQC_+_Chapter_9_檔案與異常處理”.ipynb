{
 "cells": [
  {
   "cell_type": "markdown",
   "metadata": {},
   "source": [
    "# Chapter 9 檔案與異常處理"
   ]
  },
  {
   "cell_type": "markdown",
   "metadata": {},
   "source": [
    "- 9-1 檔案的運作流程\n",
    "- 9-2 檔案資料的寫入與讀取\n",
    "- 9-3 二進位檔案的寫入與讀取（省略）-> 最佳實務\n",
    "- 9-4 異常處理"
   ]
  },
  {
   "cell_type": "markdown",
   "metadata": {},
   "source": [
    "**標準輸入與輸出(standard input/output)** 是指從鍵盤得到資料，將輸出顯示在螢幕上。\n",
    "\n",
    "標準的輸出與輸入有一個缺點，每次執行資料都要重新輸入，如果輸入的資料很多，此種方式費時煩人。因此，我們可以藉助檔案的輸入輸出，先寫入資料於某一檔案，之後再從檔案讀取資料。"
   ]
  },
  {
   "cell_type": "markdown",
   "metadata": {},
   "source": [
    "**檔案操作的三個流程：開啟檔案、操作檔案、關閉檔案**\n",
    "\n",
    "1. 利用open函式開啟檔案與其模式。\n",
    "2. 利用寫入函式操作檔案，或是利用讀取函式操作檔案。\n",
    "3. 利用close函式將檔案關閉。"
   ]
  },
  {
   "cell_type": "markdown",
   "metadata": {},
   "source": [
    "## 9-1 檔案的運作流程"
   ]
  },
  {
   "cell_type": "markdown",
   "metadata": {},
   "source": [
    "**首先，利用open函式開啟檔案，要標明開啟模式、可指定編碼方式**\n",
    "\n",
    "其語法為\n",
    "\n",
    "```\n",
    "variable_name = open(\"file_name\", \"mode\", \"encoding\")\n",
    "\n",
    "檔案物件 = open(檔案路徑, mode = 開啟模式, encoding = \"utf-8\" )\n",
    "```\n",
    "\n",
    "- variable_name表示使用自訂的變數\n",
    "- file_name是使用者自訂檔案的名稱\n",
    "- mode是檔案運作的屬性\n",
    "\n",
    "～文字檔案用'w'表示寫入，用'r'表示從檔案讀取資料，用'a'表示附加到檔案後面。\n",
    "\n",
    "- 寫入模式：w\n",
    "- 附加模式：a\n",
    "- 讀取模式：r\n",
    "- 讀寫模式：r+\n",
    "\n",
    "～若是二進位檔案，則要在屬性後面多加上b，變成wb（寫入）、rb（讀取）與ab（附加）。\n",
    "，則讀取所有檔案的內容\n",
    "\n",
    "```\n",
    "outfile = open(\"names.dat\", \"w\")\n",
    "```"
   ]
  },
  {
   "cell_type": "markdown",
   "metadata": {},
   "source": [
    "## 9-2 檔案的寫入與讀取"
   ]
  },
  {
   "cell_type": "markdown",
   "metadata": {},
   "source": [
    "**文字檔案的存取如下：**\n",
    "\n",
    "- 使用write函式，將資料寫入、儲存於檔案中。\n",
    "    - 寫入文字，檔案物件.write(字串)\n",
    "    - 若要換行，字串用`\\n`\n",
    "- 使用read()函式，則讀取所有檔案的內容。\n",
    "    - 讀取全部文字，檔案物件.read()\n",
    "- 使用readlines函式，則讀取所有檔案的內容，和read()函式功能相同。\n",
    "    - 讀取全部文字，檔案物件.readlines()\n",
    "- 使用readline函式，每次從檔案讀取一行。\n",
    "    - 一次讀取一行，檔案物件.readline()\n",
    "    - 用while迴圈或for迴圈，從檔案依序讀取每行文字到變數中\n",
    "- 使用read(n）函式，表示從檔案讀取n個字元。"
   ]
  },
  {
   "cell_type": "markdown",
   "metadata": {},
   "source": [
    "**以close函式關閉檔案，切斷檔案指標與檔案的關係。**\n",
    "\n",
    "- 使用close函式，關閉檔案\n",
    "    - 基本語法，檔案物件.close()"
   ]
  },
  {
   "cell_type": "code",
   "execution_count": 4,
   "metadata": {},
   "outputs": [],
   "source": [
    "# 寫入模式，新開檔案\n",
    "\n",
    "# 方法（一）\n",
    "def main():\n",
    "    outfile = open('fruit.dat', 'w') # 用open函式以寫入方式開啟檔案\n",
    "    # write data to the file\n",
    "    outfile.write(\"Banana\\n\") # 以write函式將資料寫入檔案\n",
    "    outfile.write(\"Grape\\n\")\n",
    "    outfile.write(\"Orange\")\n",
    "    outfile.close() # 用close函式關閉檔案\n",
    "main()"
   ]
  },
  {
   "cell_type": "code",
   "execution_count": null,
   "metadata": {},
   "outputs": [],
   "source": [
    "# 寫入模式，新開檔案\n",
    "# 方法（二）\n",
    "def main():\n",
    "    outfile = open('fruit.dat', 'w') # 用open函式以寫入方式開啟檔案\n",
    "    # write data to the file\n",
    "    outfile.write(\"Banana\\nGrape\\nOrange\") # 以write函式將資料寫入檔案\n",
    "    outfile.close() # 用close函式關閉檔案\n",
    "main()"
   ]
  },
  {
   "cell_type": "code",
   "execution_count": null,
   "metadata": {},
   "outputs": [],
   "source": [
    "# 寫入模式，打開檔案後可以附加資料\n",
    "\n",
    "def main():\n",
    "    outfile = open('fruit.dat', 'a')  #避免原有資料被洗掉，以附加資料方式開啟\n",
    "    # append data to the file\n",
    "    outfile.write(\"Kiwi\") # 寫入資料\n",
    "    outfile.close()    # 用close函式關閉檔案\n",
    "main()"
   ]
  },
  {
   "cell_type": "code",
   "execution_count": 6,
   "metadata": {},
   "outputs": [
    {
     "name": "stdout",
     "output_type": "stream",
     "text": [
      "Using read()\n",
      "'Banana\\nGrape\\nOrange'\n",
      "Banana\n",
      "Grape\n",
      "Orange\n"
     ]
    }
   ],
   "source": [
    "# 讀取模式：using read()，讀入所有資料\n",
    "# 讀取檔案全部文字，檔案物件.read()\n",
    "\n",
    "def main():\n",
    "    infile = open(\"fruit.dat\", \"r\") #以讀取方式開啟檔案\n",
    "    # read data from the file\n",
    "    \n",
    "    # 方法（一）：using read()\n",
    "    print('Using read()')  # 讀取所有檔案的內容, read()\n",
    "    line11 = infile.read()\n",
    "    print(repr(line11))\n",
    "    print((line11))\n",
    "    infile.close()\n",
    "main()    "
   ]
  },
  {
   "cell_type": "code",
   "execution_count": 7,
   "metadata": {},
   "outputs": [
    {
     "name": "stdout",
     "output_type": "stream",
     "text": [
      "Using readlines()\n",
      "['Banana\\n', 'Grape\\n', 'Orange']\n"
     ]
    }
   ],
   "source": [
    "# 讀取模式：using readlines()，讀入所有資料\n",
    "# 讀取檔案全部文字，檔案物件.readlines()\n",
    "\n",
    "def main():\n",
    "    infile = open(\"fruit.dat\", \"r\") #以讀取方式開啟檔案\n",
    "    # read data from the file\n",
    "    \n",
    "    # 方法（二）：using readlines()\n",
    "    print('Using readlines()') # 讀取所有檔案的內容,  reaslines()\n",
    "    line21 = infile.readlines()\n",
    "    print((line21))\n",
    "    infile.close()\n",
    "main()"
   ]
  },
  {
   "cell_type": "code",
   "execution_count": 8,
   "metadata": {},
   "outputs": [
    {
     "name": "stdout",
     "output_type": "stream",
     "text": [
      "Using readline()\n",
      "'Banana\\n'\n",
      "'Grape\\n'\n",
      "'Orange'\n",
      "Banana\n",
      "\n",
      "Grape\n",
      "\n",
      "Orange\n"
     ]
    }
   ],
   "source": [
    "# 讀取模式：using readline()，一次讀取一行\n",
    "\n",
    "def main():\n",
    "    infile = open(\"fruit.dat\", \"r\") #以讀取方式開啟檔案\n",
    "    # read data from the file\n",
    "    \n",
    "    # 方法（三）：using readline()\n",
    "    print('Using readline()')  #  每次從檔案讀取一行, readline\n",
    "    line31 = infile.readline()\n",
    "    line32 = infile.readline()\n",
    "    line33 = infile.readline()\n",
    "    \n",
    "    print(repr(line31)) # 若字串資料有轉義字，不處理直接印出\n",
    "    print(repr(line32))\n",
    "    print(repr(line33))\n",
    "    print((line31))     # 若字串資料有轉義字，要處理再印出\n",
    "    print((line32))\n",
    "    print((line33))\n",
    "    \n",
    "    infile.close()      # 用close函式關閉檔案\n",
    "\n",
    "main()"
   ]
  },
  {
   "cell_type": "code",
   "execution_count": 9,
   "metadata": {},
   "outputs": [
    {
     "name": "stdout",
     "output_type": "stream",
     "text": [
      "Banana\n",
      "\n",
      "Grape\n",
      "\n",
      "Orange\n"
     ]
    }
   ],
   "source": [
    "# 用迴圈一次讀取一行，直到資料全部讀完，並列印檔案內所有內容\n",
    "# while迴圈\n",
    "\n",
    "def main():\n",
    "    infile = open(\"fruit.dat\", \"r\")\n",
    "    line = infile.readline()\n",
    "    while line != \"\":             # 檔案資料讀完後會行資料是空的\n",
    "        print(line)\n",
    "        line = infile.readline()\n",
    "    infile.close()\n",
    "main()"
   ]
  },
  {
   "cell_type": "code",
   "execution_count": 10,
   "metadata": {},
   "outputs": [
    {
     "name": "stdout",
     "output_type": "stream",
     "text": [
      "Using read(3)\n",
      "'Ban'\n"
     ]
    }
   ],
   "source": [
    "# 讀取模式using read(n)\n",
    "\n",
    "def main():\n",
    "    infile = open(\"fruit.dat\", \"r\") #以讀取方式開啟檔案\n",
    "    # read data from the file\n",
    "    \n",
    "    # 方法（三）：using read(n)\n",
    "    print('Using read(3)')  # 從檔案讀取n個字元 \n",
    "    line41 = infile.read(3)\n",
    "    \n",
    "    print(repr(line41)) # 若字串資料有轉義字，不處理直接印出\n",
    "    infile.close()      # 用close函式關閉檔案\n",
    "\n",
    "main()"
   ]
  },
  {
   "cell_type": "markdown",
   "metadata": {},
   "source": [
    "## 9-3 最佳實務"
   ]
  },
  {
   "cell_type": "code",
   "execution_count": null,
   "metadata": {},
   "outputs": [],
   "source": [
    "～若以下面方式開啟檔案，不用再寫close了！\n",
    "～區塊會自動、安全的關閉檔案\n",
    "\n",
    "```\n",
    "# 語法\n",
    "with open(檔案路徑, mode = 開啟模式) as 檔案物件:\n",
    "    讀取或寫入檔案的程式\n",
    "    \n",
    "# 例\n",
    "with open(\"names.dat\", \"w\") as outfile:\n",
    "```"
   ]
  },
  {
   "cell_type": "code",
   "execution_count": 11,
   "metadata": {},
   "outputs": [],
   "source": [
    "# 複習範例-用write\n",
    "\n",
    "## 1. 開啟檔案、操作檔案（讀入或寫入後儲存）、關閉檔案\n",
    "file = open(\"data.txt\", mode = \"w\") # 開啟檔案\n",
    "file.write(\"Hello File\") # 操作 - 寫入後儲存\n",
    "file.close() #關閉檔案\n",
    "\n",
    "## 2. 變形-寫入多行，用\\n\n",
    "file = open(\"data.txt\", mode = \"w\") # 開啟檔案\n",
    "file.write(\"Hello File\\nSecond Line\") # 操作 - 寫入多行，用\\n\n",
    "file.close() #關閉檔案\n",
    "\n",
    "## 3. 變形-寫入中文，要先指定編碼\n",
    "file = open(\"data.txt\", mode = \"w\", encoding=\"utf-8\") # 開啟檔案時，要指定編碼\n",
    "file.write(\"測試中文\\n好棒棒\") # 操作 - 寫入中文\n",
    "file.close() # 關閉檔案\n",
    "\n",
    "# 4. 最佳實務\n",
    "with open(\"data.txt\", mode = \"w\", encoding = \"utf-8\") as file:\n",
    "         file.write(\"測試中文\\n好棒棒\")"
   ]
  },
  {
   "cell_type": "code",
   "execution_count": 12,
   "metadata": {},
   "outputs": [
    {
     "name": "stdout",
     "output_type": "stream",
     "text": [
      "5\n",
      "3\n",
      "8\n"
     ]
    }
   ],
   "source": [
    "# 複習範例-用read\n",
    "\n",
    "# 最佳實務\n",
    "with open(\"data.txt\", mode = \"w\", encoding = \"utf-8\") as file:\n",
    "         file.write(\"5\\n3\")\n",
    "\n",
    "## 1. 開啟檔案、操作檔案（讀入或寫入後儲存）、關閉檔案\n",
    "with open(\"data.txt\", mode = \"r\", encoding = \"utf-8\") as file:\n",
    "    data = file.read()  # 整個檔案一起讀取\n",
    "print(data)\n",
    "\n",
    "## 2. 變形 - 一行一行讀取資料，並計算總和\n",
    "sum = 0\n",
    "with open(\"data.txt\", mode = \"r\", encoding = \"utf-8\") as file:\n",
    "    for line in file:    # 一行一行的讀取\n",
    "        sum += int(line) # 加總\n",
    "print(sum)               #印出結果"
   ]
  },
  {
   "cell_type": "markdown",
   "metadata": {},
   "source": [
    "## 9-4 異常處理\n",
    "\n",
    "應用程式最怕當機，例如兩數相除，但分母為0；開啟唯讀檔案，但要寫入資料等，所有要有適當的異常處理機制。\n",
    "\n",
    "Python的異常處理機制：\n",
    "\n",
    "```\n",
    "try:\n",
    "敘述主體\n",
    "except<異常型態1>\n",
    "    處理方式\n",
    "...\n",
    "\n",
    "except<異常型態n>\n",
    "    處理方式\n",
    "except:\n",
    "    其他上面沒有的處理方式\n",
    "else:\n",
    "    若沒有異常時，執行此敘述\n",
    "finally:\n",
    "    最後一定會處理的方式\n",
    "```"
   ]
  },
  {
   "cell_type": "code",
   "execution_count": 1,
   "metadata": {},
   "outputs": [
    {
     "name": "stdout",
     "output_type": "stream",
     "text": [
      "Enter two numbers, separated by a comma: 10,0\n",
      "Division by zero!\n",
      "The finally clause is executed\n"
     ]
    }
   ],
   "source": [
    "def main():\n",
    "    try:\n",
    "        n1, n2 = eval(input(\"Enter two numbers, separated by a comma: \"))\n",
    "        ans = n1 / n2\n",
    "        print(\"%d/%d = %d'%(n1, n2, ans)\")\n",
    "    except ZeroDivisionError:\n",
    "        print(\"Division by zero!\")\n",
    "    except SyntaxError:\n",
    "        print(\"A comma may be missing in the input\")\n",
    "    except:\n",
    "        print(\"Something wrong in th input\")\n",
    "    else:\n",
    "        print(\"No exception\")\n",
    "    finally:\n",
    "        print(\"The finally clause is executed\")\n",
    "main()"
   ]
  },
  {
   "cell_type": "markdown",
   "metadata": {},
   "source": [
    "## 綜合範例"
   ]
  },
  {
   "cell_type": "code",
   "execution_count": null,
   "metadata": {},
   "outputs": [],
   "source": [
    "**TQC+ 程式語言Python 901 成績資料(M)**\n",
    "\n",
    "1. 題目說明:\n",
    "請開啟PYD901.py檔案，依下列題意進行作答，使輸出值符合題意要求。作答完成請另存新檔為PYA901.py再進行評分。\n",
    "\n",
    "請注意：程式碼中所提供的檔案路徑，不可進行變動，write.txt檔案需為UTF-8編碼格式。\n",
    "\n",
    "2. 設計說明：\n",
    "請撰寫一程式，將使用者輸入的五筆資料寫入到write.txt（若不存在，則讓程式建立它），每一筆資料為一行，包含學生名字和期末總分，以空白隔開。檔案寫入完成後要關閉。\n",
    "\n",
    "3. 輸入輸出：\n",
    "輸入說明\n",
    "五筆資料（每一筆資料為一行，包含學生名字和分數，以空白隔開）\n",
    "輸出說明\n",
    "將輸入的五筆資料寫入檔案中，不另外輸出於頁面\n",
    "\n",
    "輸入輸出範例\n",
    "範例輸入\n",
    "Leon 87\n",
    "Ben 90\n",
    "Sam 77\n",
    "Karen 92\n",
    "Kelena 92\n",
    "範例輸出\n",
    "Alt text"
   ]
  },
  {
   "cell_type": "code",
   "execution_count": 80,
   "metadata": {},
   "outputs": [
    {
     "name": "stdout",
     "output_type": "stream",
     "text": [
      "Leon 87\n",
      "Ben 90\n",
      "Sam 77\n",
      "Karen 92\n",
      "Kelena 92\n"
     ]
    }
   ],
   "source": [
    "file = open(\"write.txt\", \"w\")\n",
    "\n",
    "for i in range(5):\n",
    "    data = input()\n",
    "    file.write(data + '\\n')\n",
    "       \n",
    "file.close()"
   ]
  },
  {
   "cell_type": "code",
   "execution_count": null,
   "metadata": {},
   "outputs": [],
   "source": [
    "**TQC+ 程式語言Python 902 資料加總(M)**\n",
    "\n",
    "1. 題目說明:\n",
    "請開啟PYD902.py檔案，依下列題意進行作答，使輸出值符合題意要求。作答完成請另存新檔為PYA902.py再進行評分。\n",
    "\n",
    "請注意：資料夾或程式碼中所提供的檔案路徑，不可進行變動，read.txt檔案需為UTF-8編碼格式。\n",
    "\n",
    "2. 設計說明：\n",
    "請撰寫一程式，讀取read.txt的內容（內容為數字，以空白分隔）並將這些數字加總後輸出。檔案讀取完成後要關閉。\n",
    "\n",
    "3. 輸入輸出：\n",
    "輸入說明\n",
    "讀取read.txt的內容（內容為數字，以空白分隔）\n",
    "輸出說明\n",
    "總和\n",
    "\n",
    "輸入輸出範例\n",
    "範例輸入\n",
    "無\n",
    "\n",
    "範例輸出\n",
    "660"
   ]
  },
  {
   "cell_type": "code",
   "execution_count": 1,
   "metadata": {},
   "outputs": [
    {
     "name": "stdout",
     "output_type": "stream",
     "text": [
      "660\n"
     ]
    }
   ],
   "source": [
    "f = open(\"read.txt\", \"r\")\n",
    "data = f.read()\n",
    "f.close\n",
    "\n",
    "num = data.split(\" \")\n",
    "total = 0\n",
    "for i in range(0, len(num)):\n",
    "    total += eval(num[i])\n",
    "\n",
    "print(total)"
   ]
  },
  {
   "cell_type": "code",
   "execution_count": null,
   "metadata": {},
   "outputs": [],
   "source": [
    "**TQC+ 程式語言Python 903 成績資料(M)**\n",
    "  \n",
    "1. 題目說明:\n",
    "請開啟PYD903.py檔案，依下列題意進行作答，使輸出值符合題意要求。作答完成請另存新檔為PYA903.py再進行評分。\n",
    "\n",
    "請注意：資料夾或程式碼中所提供的檔案路徑，不可進行變動，data.txt檔案需為UTF-8編碼格式。\n",
    "\n",
    "2. 設計說明：\n",
    "請撰寫一程式，要求使用者輸入五個人的名字並加入到data.txt的尾端。之後再顯示此檔案的內容。\n",
    "\n",
    "3. 輸入輸出：\n",
    "輸入說明\n",
    "輸入五個人的名字\n",
    "輸出說明\n",
    "讀取及寫入檔案後，輸出此檔案內容\n",
    "\n",
    "輸入輸出範例\n",
    "\n",
    "範例輸入\n",
    "Daisy\n",
    "Kelvin\n",
    "Tom\n",
    "Joyce\n",
    "Sarah\n",
    "\n",
    "範例輸出\n",
    "Append completed!\n",
    "Content of \"data.txt\":\n",
    "Ben\n",
    "Cathy\n",
    "Tony\n",
    "Daisy\n",
    "Kelvin\n",
    "Tom\n",
    "Joyce\n",
    "Sarah  "
   ]
  },
  {
   "cell_type": "code",
   "execution_count": 8,
   "metadata": {},
   "outputs": [
    {
     "name": "stdout",
     "output_type": "stream",
     "text": [
      "Append completed!\n",
      "Content of 'data.txt':\n",
      "Ben\n",
      "Cathy\n",
      "Tony\n",
      "Daisy\n",
      "Kelvin\n",
      "Tom\n",
      "Joyce\n",
      "Sarah\n",
      "\n"
     ]
    }
   ],
   "source": [
    "file = open(\"data.txt\", \"a\")\n",
    "file.write(\"Daisy\\nKelvin\\nTom\\nJoyce\\nSarah\\n\")\n",
    "file.close()\n",
    "\n",
    "infile = open(\"data.txt\", \"r\")\n",
    "print(\"Append completed!\")\n",
    "print(\"Content of 'data.txt':\")\n",
    "print(infile.read())\n",
    "infile.close()"
   ]
  },
  {
   "cell_type": "code",
   "execution_count": null,
   "metadata": {},
   "outputs": [],
   "source": [
    "**TQC+ 程式語言Python 904 資料計算(M)**\n",
    " \n",
    "1. 題目說明:\n",
    "請開啟PYD904.py檔案，依下列題意進行作答，使輸出值符合題意要求。作答完成請另存新檔為PYA904.py再進行評分。\n",
    "\n",
    "請注意：資料夾或程式碼中所提供的檔案路徑，不可進行變動，read.txt檔案需為UTF-8編碼格式。\n",
    "\n",
    "2. 設計說明：\n",
    "請撰寫一程式，讀取read.txt（每一列的格式為名字和身高、體重，以空白分隔）並顯示檔案內容、所有人的平均身高、平均體重以及最高者、最重者。\n",
    "\n",
    "提示：輸出浮點數到小數點後第二位。\n",
    "\n",
    "3. 輸入輸出：\n",
    "輸入說明\n",
    "讀取read.txt（每一行的格式為名字和身高、體重，以空白分隔）\n",
    "輸出說明\n",
    "輸出檔案中的內容\n",
    "平均身高\n",
    "平均體重\n",
    "最高者\n",
    "最重者\n",
    "\n",
    "輸入輸出範例\n",
    "範例輸入\n",
    "無\n",
    "範例輸出\n",
    "Ben 175 65\n",
    "\n",
    "Cathy 155 55\n",
    "\n",
    "Tony 172 75\n",
    "Average height: 167.33\n",
    "Average weight: 65.00\n",
    "The tallest is Ben with 175.00cm\n",
    "The heaviest is Tony with 75.00kg\n",
    " "
   ]
  },
  {
   "cell_type": "code",
   "execution_count": 52,
   "metadata": {},
   "outputs": [
    {
     "name": "stdout",
     "output_type": "stream",
     "text": [
      "Ben 175 65\n",
      "\n",
      "['Ben', 175, 65]\n",
      "[['Ben', 175, 65]]\n",
      "Cathy 155 55\n",
      "\n",
      "['Cathy', 155, 55]\n",
      "[['Ben', 175, 65], ['Cathy', 155, 55]]\n",
      "Tony 172 75\n",
      "\n",
      "['Tony', 172, 75]\n",
      "[['Ben', 175, 65], ['Cathy', 155, 55], ['Tony', 172, 75]]\n",
      "3\n",
      "['Ben', 'Cathy', 'Tony']\n",
      "[175, 155, 172]\n",
      "[65, 55, 75]\n",
      "Average height: 167.33\n",
      "Average weight: 65.00\n",
      "The tallest is Ben with 175.00cm\n",
      "The heaviest is Tony with 75.00kg\n"
     ]
    }
   ],
   "source": [
    "data = []\n",
    "with open(\"read.txt\",\"r\") as file:  # 資料檔案的建檔要正確\n",
    "    for line in file:\n",
    "        print(line)           \n",
    "        tmp = line.strip('\\n').split(' ') \n",
    "        tmp = [tmp[0], eval(tmp[1]), eval(tmp[2])] # 轉換為正確的資料類型\n",
    "        print(tmp)\n",
    "        data.append(tmp)\n",
    "        print(data)\n",
    "\n",
    "length = len(data)\n",
    "print(length)\n",
    "\n",
    "name = [data[x][0] for x in range(length)]\n",
    "height = [data[x][1] for x in range(length)]\n",
    "weight = [data[x][2] for x in range(length)]\n",
    "\n",
    "print(name)\n",
    "print(height)\n",
    "print(weight)\n",
    "print(\"Average height: %.2f\" %(sum(height)/len(height)))\n",
    "print(\"Average weight: %.2f\" %(sum(weight)/len(weight)))\n",
    "\n",
    "max_h = max(height)\n",
    "max_w = max(weight)\n",
    "print(\"The tallest is %s with %.2fcm\" %(name[height.index(max_h)], max_h))\n",
    "print(\"The heaviest is %s with %.2fkg\" %(name[weight.index(max_w)], max_w))"
   ]
  },
  {
   "cell_type": "code",
   "execution_count": null,
   "metadata": {},
   "outputs": [],
   "source": [
    "**TQC+ 程式語言Python 905 字串資料刪除(M)**\n",
    "  \n",
    "  1. 題目說明:\n",
    "請開啟PYD905.py檔案，依下列題意進行作答，使輸出值符合題意要求。作答完成請另存新檔為PYA905.py再進行評分。\n",
    "\n",
    "請注意：資料夾或程式碼中所提供的檔案路徑，不可進行變動，data.txt檔案需為UTF-8編碼格式。\n",
    "\n",
    "2. 設計說明：\n",
    "請撰寫一程式，要求使用者輸入檔案名稱data.txt和一字串s，顯示該檔案的內容。接著刪除檔案中的字串s，顯示刪除後的檔案內容並存檔。\n",
    "\n",
    "3. 輸入輸出：\n",
    "輸入說明\n",
    "輸入data.txt及一個字串\n",
    "輸出說明\n",
    "先輸出原檔案內容，再輸入刪除指定字串後的新檔案內容\n",
    "\n",
    "輸入輸出範例\n",
    "範例輸入1\n",
    "data.txt\n",
    "Tomato\n",
    "範例輸出1\n",
    "=== Before the deletion\n",
    "Apple Kiwi Banana\n",
    "Tomato Pear Durian\n",
    "\n",
    "=== After the deletion\n",
    "Apple Kiwi Banana\n",
    " Pear Durian\n",
    " \n",
    "範例輸入2\n",
    "data.txt\n",
    "Kiwi\n",
    "範例輸出2\n",
    "=== Before the deletion\n",
    "Apple Kiwi Banana\n",
    "Tomato Pear Durian\n",
    "\n",
    "=== After the deletion\n",
    "Apple  Banana\n",
    "Tomato Pear Durian"
   ]
  },
  {
   "cell_type": "code",
   "execution_count": 58,
   "metadata": {},
   "outputs": [
    {
     "name": "stdout",
     "output_type": "stream",
     "text": [
      "data95.txt\n",
      "Tomato\n",
      "=== Before the deletion\n",
      "Apple Kiwi Banana\n",
      "Tomato Pear Durian\n",
      "\n",
      "=== After the deletion\n",
      "Apple Kiwi Banana\n",
      " Pear Durian\n",
      "\n"
     ]
    },
    {
     "data": {
      "text/plain": [
       "<function TextIOWrapper.close()>"
      ]
     },
     "execution_count": 58,
     "metadata": {},
     "output_type": "execute_result"
    }
   ],
   "source": [
    "filename = input()\n",
    "string = input()\n",
    "\n",
    "file = open(filename, \"r+\")\n",
    "\n",
    "data = file.read()\n",
    "print(\"=== Before the deletion\")  \n",
    "print(data)\n",
    "\n",
    "newdata = data.replace(string, \"\")\n",
    "print(\"=== After the deletion\")  \n",
    "print(newdata)\n",
    "file.write(newdata) # 把替代後的資料存檔\n",
    "\n",
    "file.close"
   ]
  },
  {
   "cell_type": "code",
   "execution_count": null,
   "metadata": {},
   "outputs": [],
   "source": [
    "**TQC+ 程式語言Python 906 字串資料取代(M)**\n",
    " \n",
    " 1. 題目說明:\n",
    "請開啟PYD906.py檔案，依下列題意進行作答，使輸出值符合題意要求。作答完成請另存新檔為PYA906.py再進行評分。\n",
    "\n",
    "請注意：資料夾或程式碼中所提供的檔案路徑，不可進行變動，data.txt檔案需為UTF-8編碼格式。\n",
    "\n",
    "2. 設計說明：\n",
    "請撰寫一程式，要求使用者輸入檔名data.txt、字串s1和字串s2。程式將檔案中的字串s1以s2取代之。\n",
    "\n",
    "3. 輸入輸出：\n",
    "輸入說明\n",
    "輸入data.txt及兩個字串（分別為s1、s2，字串s1被s2取代）\n",
    "輸出說明\n",
    "輸出檔案中的內容\n",
    "輸出取代指定字串後的檔案內容\n",
    "\n",
    "輸入輸出範例\n",
    "範例輸入\n",
    "data.txt\n",
    "pen\n",
    "sneakers\n",
    "範例輸出\n",
    "=== Before the replacement\n",
    "watch shoes skirt\n",
    "pen trunks pants\n",
    "=== After the replacement\n",
    "watch shoes skirt\n",
    "sneakers trunks pants\n",
    " \t\t"
   ]
  },
  {
   "cell_type": "code",
   "execution_count": 59,
   "metadata": {},
   "outputs": [
    {
     "name": "stdout",
     "output_type": "stream",
     "text": [
      "data96.txt\n",
      "pen\n",
      "sneakers\n",
      "=== Before the replacement\n",
      "watch shoes skirt\n",
      "pen trunks pants\n",
      "\n",
      "=== After the deletion\n",
      "watch shoes skirt\n",
      "sneakers trunks pants\n",
      "\n"
     ]
    }
   ],
   "source": [
    "filename = input()\n",
    "stringold = input()\n",
    "stringnew = input()\n",
    "\n",
    "infile = open(filename,'r+')\n",
    "data = infile.read()\n",
    "print(\"=== Before the replacement\")\n",
    "print(data)\n",
    "\n",
    "newdata = data.replace(stringold, stringnew)\n",
    "print(\"=== After the deletion\")  \n",
    "print(newdata)\n",
    "file.write(newdata) # 把替代後的資料存檔\n",
    "\n",
    "file.close()"
   ]
  },
  {
   "cell_type": "code",
   "execution_count": null,
   "metadata": {},
   "outputs": [],
   "source": [
    "**TQC+ 程式語言Python 907 詳細資料顯示(M)**\n",
    " \n",
    " 1. 題目說明:\n",
    "請開啟PYD907.py檔案，依下列題意進行作答，使輸出值符合題意要求。作答完成請另存新檔為PYA907.py再進行評分。\n",
    "\n",
    "請注意：資料夾或程式碼中所提供的檔案路徑，不可進行變動，read.txt檔案需為UTF-8編碼格式。\n",
    "\n",
    "2. 設計說明：\n",
    "請撰寫一程式，要求使用者輸入檔名read.txt，顯示該檔案的行數、單字數（簡單起見，單字以空白隔開即可，忽略其它標點符號）以及字元數（不含空白）。\n",
    "\n",
    "3. 輸入輸出：\n",
    "輸入說明\n",
    "讀取read.txt\n",
    "輸出說明\n",
    "行數\n",
    "單字數\n",
    "字元數（不含空白）\n",
    "\n",
    "輸入輸出範例\n",
    "範例輸入\n",
    "read.txt\n",
    "範例輸出\n",
    "6 line(s)\n",
    "102 word(s)\n",
    "614 character(s)\n",
    " \t"
   ]
  },
  {
   "cell_type": "code",
   "execution_count": 69,
   "metadata": {},
   "outputs": [
    {
     "name": "stdout",
     "output_type": "stream",
     "text": [
      "read.txt\n",
      "6 line(s)\n",
      "102 word(s)\n",
      "612 character(s)\n"
     ]
    }
   ],
   "source": [
    "filename = input()\n",
    "count_line = 0\n",
    "count_word = 0\n",
    "count_character = 0\n",
    "\n",
    "with open(filename, \"r\") as file:\n",
    "    for line in file:\n",
    "        count_line += 1\n",
    "        \n",
    "        word = line.strip('\\n').split(\" \")\n",
    "        count_word += len(word)\n",
    "        \n",
    "        count_character += sum([len(x) for x in word])\n",
    "        \n",
    "print(\"%d line(s)\" % count_line)\n",
    "print(\"%d word(s)\" % count_word)\n",
    "print(\"%d character(s)\" % count_character)"
   ]
  },
  {
   "cell_type": "code",
   "execution_count": null,
   "metadata": {},
   "outputs": [],
   "source": [
    " **TQC+ 程式語言Python 908 單字次數計算(H)**\n",
    " \n",
    " 1. 題目說明:\n",
    "請開啟PYD908.py檔案，依下列題意進行作答，使輸出值符合題意要求。作答完成請另存新檔為PYA908.py再進行評分。\n",
    "\n",
    "請注意：資料夾或程式碼中所提供的檔案路徑，不可進行變動，read.txt檔案需為UTF-8編碼格式。\n",
    "\n",
    "2. 設計說明：\n",
    "請撰寫一程式，要求使用者輸入檔名read.txt，以及檔案中某單字出現的次數。輸出符合次數的單字，並依單字的第一個字母大小排序。（單字的判斷以空白隔開即可）\n",
    "\n",
    "3. 輸入輸出：\n",
    "輸入說明\n",
    "讀取read.txt的內容，以及檔案中某單字出現的次數\n",
    "輸出說明\n",
    "輸出符合次數的單字，並依單字的第一個字母大小排序\n",
    "\n",
    "輸入輸出範例\n",
    "範例輸入\n",
    "read.txt\n",
    "3\n",
    "範例輸出\n",
    "a\n",
    "is\n",
    "programming "
   ]
  },
  {
   "cell_type": "code",
   "execution_count": 70,
   "metadata": {},
   "outputs": [
    {
     "name": "stdout",
     "output_type": "stream",
     "text": [
      "read.txt\n",
      "3\n",
      "a\n",
      "is\n",
      "programming\n"
     ]
    }
   ],
   "source": [
    "filename = input()\n",
    "n = int(input())\n",
    "word_dict = dict()\n",
    "\n",
    "with open(filename, \"r\") as file:\n",
    "    for line in file:\n",
    "        word = line.strip('\\n').split(' ')\n",
    "        \n",
    "        for x in word:\n",
    "            if x in word_dict:\n",
    "                word_dict[x] += 1\n",
    "            else:\n",
    "                word_dict[x] = 1\n",
    "\n",
    "word_list = word_dict.items()\n",
    "wordQTY = [x for(x,y) in word_list if  y == n]\n",
    "sortedword = sorted(wordQTY)\n",
    "\n",
    "for x in sortedword:\n",
    "    print(x)"
   ]
  },
  {
   "cell_type": "code",
   "execution_count": null,
   "metadata": {},
   "outputs": [],
   "source": [
    "**TQC+ 程式語言Python 909 聯絡人資料(H)**\n",
    " \n",
    " 1. 題目說明:\n",
    "請開啟PYD909.py檔案，依下列題意進行作答，使輸出值符合題意要求。作答完成請另存新檔為PYA909.py再進行評分。\n",
    "\n",
    "請注意：資料夾或程式碼中所提供的檔案路徑，不可進行變動，data.dat檔案需為UTF-8編碼格式。\n",
    "\n",
    "2. 設計說明：\n",
    "請撰寫一程式，將使用者輸入的五個人的資料寫入data.dat檔，每一個人的資料為姓名和電話號碼，以空白分隔。再將檔案加以讀取並顯示檔案內容。\n",
    "\n",
    "3. 輸入輸出：\n",
    "輸入說明\n",
    "五個人的姓名和電話號碼，以空白分隔\n",
    "輸出說明\n",
    "讀取及寫入檔案後，再輸出讀入的檔案名稱及內容\n",
    "\n",
    "輸入輸出範例\n",
    "範例輸入\n",
    "Karen 123456789\n",
    "Bonnie 235689147\n",
    "Simon 987612345\n",
    "Louis 675489321\n",
    "Andy 019238475\n",
    "範例輸出\n",
    "The content of \"data.dat\":\n",
    "Karen 123456789\n",
    "\n",
    "Bonnie 235689147\n",
    "\n",
    "Simon 987612345\n",
    "\n",
    "Louis 675489321\n",
    "\n",
    "Andy 019238475"
   ]
  },
  {
   "cell_type": "code",
   "execution_count": 10,
   "metadata": {},
   "outputs": [
    {
     "name": "stdout",
     "output_type": "stream",
     "text": [
      "Karen 123456789\n",
      "Bonnie 2345689147\n",
      "Simon 987612345\n",
      "Louis 675489321\n",
      "Andy 019238475\n",
      "The content of \"data.txt\":\n",
      "Karen 123456789\n",
      "\n",
      "Bonnie 2345689147\n",
      "\n",
      "Simon 987612345\n",
      "\n",
      "Louis 675489321\n",
      "\n",
      "Andy 019238475\n",
      "\n"
     ]
    }
   ],
   "source": [
    "filename = \"data.txt\"\n",
    "file = open(filename,  mode = \"w\", encoding = \"utf-8\")\n",
    "\n",
    "for i in range(5):\n",
    "    inp = input()\n",
    "    file.write(inp + '\\n')\n",
    "file.close()\n",
    "\n",
    "infile = open(filename, \"r\") \n",
    "print('The content of \"%s\":' % filename)\n",
    "for line in infile:\n",
    "    print(line)\n",
    "infile.close()"
   ]
  },
  {
   "cell_type": "code",
   "execution_count": null,
   "metadata": {},
   "outputs": [],
   "source": [
    "**TQC+ 程式語言Python 910 學生基本資料(M)**\n",
    "\n",
    "1. 題目說明:\n",
    "請開啟PYD910.py檔案，依下列題意進行作答，使輸出值符合題意要求。作答完成請另存新檔為PYA910.py再進行評分。\n",
    "\n",
    "請注意：資料夾或程式碼中所提供的檔案路徑，不可進行變動，read.dat檔案為UTF-8編碼格式。\n",
    "\n",
    "2. 設計說明：\n",
    "請撰寫一程式，要求使用者讀入read.dat（以UTF-8編碼格式讀取），第一列為欄位名稱，第二列之後是個人記錄。請輸出檔案內容並顯示男生人數和女生人數（根據\"性別\"欄位，0為女性、1為男性）。\n",
    "\n",
    "3. 輸入輸出：\n",
    "輸入說明\n",
    "讀取read.dat\n",
    "輸出說明\n",
    "讀取檔案內容，並格式化輸出男生人數和女生人數\n",
    "\n",
    "輸入輸出範例\n",
    "範例輸入\n",
    "無\n",
    "\n",
    "範例輸出\n",
    "學號 姓名 性別 科系\n",
    "\n",
    "101 陳小華 0 餐旅管理\n",
    "\n",
    "202 李小安 1 廣告\n",
    "\n",
    "303 張小威 1 英文\n",
    "\n",
    "404 羅小美 0 法文\n",
    "\n",
    "505 陳小凱 1 日文\n",
    "Number of males: 3\n",
    "Number of females: 2"
   ]
  },
  {
   "cell_type": "code",
   "execution_count": 9,
   "metadata": {},
   "outputs": [
    {
     "name": "stdout",
     "output_type": "stream",
     "text": [
      "學號 姓名 性別 科系\n",
      "\n",
      "101 陳小華 0 餐旅管理\n",
      "\n",
      "202 李小安 1 廣告\n",
      "\n",
      "303 張小威 1 英文\n",
      "\n",
      "404 羅小美 0 法文\n",
      "\n",
      "505 陳小凱 1 日文\n",
      "\n",
      "Number of males: 3\n",
      "Number of females: 2\n"
     ]
    }
   ],
   "source": [
    "filename = \"read.dat\"\n",
    "count_male = 0\n",
    "count_female = 0\n",
    "\n",
    "with open(filename, mode = \"r\", encoding = \"utf-8\") as file:\n",
    "    for line in file:\n",
    "        print(line)\n",
    "        row = line.strip('\\n').split(' ')\n",
    "        \n",
    "        if row[2] == '1':\n",
    "            count_male += 1\n",
    "        elif row[2] == '0':\n",
    "            count_female += 1\n",
    "print(\"Number of males:\", count_male)\n",
    "print(\"Number of females:\", count_female)"
   ]
  }
 ],
 "metadata": {
  "kernelspec": {
   "display_name": "Python 3",
   "language": "python",
   "name": "python3"
  },
  "language_info": {
   "codemirror_mode": {
    "name": "ipython",
    "version": 3
   },
   "file_extension": ".py",
   "mimetype": "text/x-python",
   "name": "python",
   "nbconvert_exporter": "python",
   "pygments_lexer": "ipython3",
   "version": "3.7.4"
  }
 },
 "nbformat": 4,
 "nbformat_minor": 2
}
