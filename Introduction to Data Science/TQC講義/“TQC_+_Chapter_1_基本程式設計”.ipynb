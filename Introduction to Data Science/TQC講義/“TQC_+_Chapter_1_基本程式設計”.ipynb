{
 "cells": [
  {
   "cell_type": "markdown",
   "metadata": {
    "colab": {},
    "colab_type": "code",
    "id": "XVI0AmCcq_Bp"
   },
   "source": [
    "# Chapter 1基本程式設計"
   ]
  },
  {
   "cell_type": "markdown",
   "metadata": {},
   "source": [
    "- 1-1 輸出函式\n",
    "- 1-2 輸入函式\n",
    "- 1-3 算數運算子\n",
    "- 1-4 算數指定運算子\n",
    "- 1-5 math 數學模組下的函式\n",
    "- 1-6 Python內建的函式"
   ]
  },
  {
   "cell_type": "markdown",
   "metadata": {
    "colab_type": "text",
    "id": "b2DL9qJUvBtn"
   },
   "source": [
    "\n",
    "## IPO模式: 輸入-處理-輸出 \n",
    "**有了問題之後，開始撰寫解決問題的程式，需要有代表問題中項目的變數名稱，才好指派資料給變數。程式經由輸入資料，然後加以處理，最後產生結果加以輸出。**\n",
    "\n",
    "**變數命名要遵守一定的規則，名稱也盡量和要表示的項目接近。\n",
    "輸入的資料要正確，才能避免垃圾進垃圾出的錯誤結果。\n",
    "輸出結果首先要求正確，其次則是美觀。\n",
    "處理過程則是程式的核心。**"
   ]
  },
  {
   "cell_type": "markdown",
   "metadata": {},
   "source": [
    "## 1-1 輸出函數\n",
    "### 螢幕列印：print函式"
   ]
  },
  {
   "cell_type": "code",
   "execution_count": 0,
   "metadata": {
    "colab": {
     "base_uri": "https://localhost:8080/",
     "height": 157
    },
    "colab_type": "code",
    "id": "JIoDzvfX4VOp",
    "outputId": "5bdecc26-c989-4d4c-c847-4a7f050713d4"
   },
   "outputs": [
    {
     "name": "stdout",
     "output_type": "stream",
     "text": [
      "123\n",
      "123.456\n",
      "Python\n",
      "123 123.456 Python\n",
      "a = 123\n",
      "b = 123.456\n",
      "c = Python\n",
      "('a =', 123);('b =', 123.456);c = Python\n"
     ]
    }
   ],
   "source": [
    "a = 123\n",
    "b = 123.456\n",
    "c = \"Python\"\n",
    "\n",
    "print(a)\n",
    "print(b)\n",
    "print(c)\n",
    "\n",
    "# end 後面是一空格。\n",
    "print(a, end = ' ')\n",
    "print(b, end = ' ')\n",
    "print(c)\n",
    "\n",
    "# 以單引號或雙引號括住的字串接會照印出來。\n",
    "print('a =', a)\n",
    "print('b =', b)\n",
    "print('c =', c)\n",
    "\n",
    "print(('a =', a), end = ';')\n",
    "print(('b =', b), end = ';')\n",
    "print('c =', c)"
   ]
  },
  {
   "cell_type": "markdown",
   "metadata": {
    "colab_type": "text",
    "id": "9SkUguTt7uwC"
   },
   "source": [
    "###  1-1-1  format 格式化輸出\n",
    "字串的預設輸出是向左對齊，而整數和浮點數是向右對齊。\n",
    "我們可以利用>和<的符號，作為向右和向左對齊的機制。\n",
    "\n",
    "可以使用x、o、b分別表示十六進位、八進位和二進位的方式輸出結果。\n"
   ]
  },
  {
   "cell_type": "code",
   "execution_count": 0,
   "metadata": {
    "colab": {
     "base_uri": "https://localhost:8080/",
     "height": 175
    },
    "colab_type": "code",
    "id": "GNACkaQ390zX",
    "outputId": "3ce51f58-056d-4ba9-92ad-674729fbdd04"
   },
   "outputs": [
    {
     "name": "stdout",
     "output_type": "stream",
     "text": [
      "       123\n",
      "    123.46\n",
      "Python    \n",
      "123       \n",
      "123.46    \n",
      "    Python\n",
      "        7b\n",
      "       173\n",
      "   1111011\n"
     ]
    }
   ],
   "source": [
    "a = 123\n",
    "b = 123.456\n",
    "c = 'Python'\n",
    "\n",
    "print(format(a, '10d'))\n",
    "print(format(b, '10.2f'))\n",
    "print(format(c, '10s'))\n",
    "\n",
    "print(format(a,'<10d'))\n",
    "print(format(b, \"<10.2f\"))\n",
    "print(format(c, '>10s'))\n",
    "\n",
    "print(format(a, '10x'))\n",
    "print(format(a, '10o'))\n",
    "print(format(a, '10b'))"
   ]
  },
  {
   "cell_type": "markdown",
   "metadata": {
    "colab_type": "text",
    "id": "3f7Yq42i_K3h"
   },
   "source": [
    "### 1-1-2 %的格式化輸出\n",
    "\n",
    "**print('%格式化字符'%(variable_list)**\n",
    "\n",
    "以%為開頭，後接格式化字符，可為d、f、s，這是第一個參數，並且以單引號或雙引號括住；接下來是%再加上小刮號，以小括號括住每一個格式化字符所對應的變數。\n",
    "\n",
    "在%格式中，不管是整數、浮點數或是字串的輸出，全部都是向右靠齊；若是要向左靠齊，則必須加上負的符號'-'才行。\n",
    "\n",
    "在%格式中，有十六進位與八進位，沒有二進位。\n",
    "\n"
   ]
  },
  {
   "cell_type": "code",
   "execution_count": 0,
   "metadata": {
    "colab": {},
    "colab_type": "code",
    "id": "chUtWwxeBwsC"
   },
   "outputs": [],
   "source": [
    "a = 123\n",
    "b = 123.456\n",
    "c = \"Python\""
   ]
  },
  {
   "cell_type": "code",
   "execution_count": 0,
   "metadata": {
    "colab": {
     "base_uri": "https://localhost:8080/",
     "height": 157
    },
    "colab_type": "code",
    "id": "i_gC3BMjAWtS",
    "outputId": "c030f207-bfa0-470e-d3dd-4456a3aa380b"
   },
   "outputs": [
    {
     "name": "stdout",
     "output_type": "stream",
     "text": [
      "|       123|\n",
      "|    123.46|\n",
      "|    Python|\n",
      "|123       |\n",
      "|123.46    |\n",
      "|Python    |\n",
      "   7b\n",
      "  173\n"
     ]
    }
   ],
   "source": [
    "a = 123\n",
    "b = 123.456\n",
    "c = 'Python'\n",
    "\n",
    "print('|%10d|'%(a))\n",
    "print('|%10.2f|'%(b))\n",
    "print('|%10s|'%(c))\n",
    "\n",
    "print('|%-10d|'%(a))\n",
    "print('|%-10.2f|'%(b))\n",
    "print('|%-10s|'%(c))\n",
    "\n",
    "print('%5x'%(a))\n",
    "print('%5o'%(a))"
   ]
  },
  {
   "cell_type": "markdown",
   "metadata": {
    "colab_type": "text",
    "id": "OpGUf5qyEGl5"
   },
   "source": [
    "### 輸出美觀\n",
    "\n",
    "使用format 或%\n",
    "\n",
    "在使用print函數時，加上轉義字元(escape sequence)。例如，跳行\\n、跳八格\\t、\\\\為\\、\\\"為\"、\\'為'。"
   ]
  },
  {
   "cell_type": "code",
   "execution_count": 0,
   "metadata": {
    "colab": {
     "base_uri": "https://localhost:8080/",
     "height": 122
    },
    "colab_type": "code",
    "id": "MTZdBZR0FPM2",
    "outputId": "8c0112ae-a04b-4fa2-f9cc-78d661080730"
   },
   "outputs": [
    {
     "name": "stdout",
     "output_type": "stream",
     "text": [
      "123 123456 12\n",
      "12 123 123456\n",
      "     123   123456       12\n",
      "      12      123   123456\n",
      "     123   123456       12\n",
      "      12      123   123456\n"
     ]
    }
   ],
   "source": [
    "x = 123\n",
    "y = 123456\n",
    "z = 12\n",
    "p = 12\n",
    "q = 123\n",
    "r = 123456\n",
    "\n",
    "print(x,y,z)\n",
    "print(p,q,r)\n",
    "\n",
    "# Using format\n",
    "print(format(x,'8d'), format(y, '8d'), format(z, '8d'))\n",
    "print(format(p, '8d'), format(q, '8d'), format(r, '8d'))\n",
    "\n",
    "# USing %\n",
    "print('%8d %8d %8d'%(x,y,z))\n",
    "print('%8d %8d %8d'%(p,q,r))"
   ]
  },
  {
   "cell_type": "code",
   "execution_count": 0,
   "metadata": {
    "colab": {
     "base_uri": "https://localhost:8080/",
     "height": 122
    },
    "colab_type": "code",
    "id": "0Sj9L9B0F-Mr",
    "outputId": "17fb691f-89f7-40aa-f96a-56d3013d2829"
   },
   "outputs": [
    {
     "name": "stdout",
     "output_type": "stream",
     "text": [
      "Python\"Kotlin\n",
      "Python'Kotlin\n",
      "Python\\Kotlin\n",
      "Python\tKotlin\n",
      "Python\n",
      "Kotlin\n"
     ]
    }
   ],
   "source": [
    "print('Python\\\"Kotlin')\n",
    "print('Python\\'Kotlin')\n",
    "print('Python\\\\Kotlin')\n",
    "print('Python\\tKotlin')\n",
    "print('Python\\nKotlin')"
   ]
  },
  {
   "cell_type": "markdown",
   "metadata": {
    "colab_type": "text",
    "id": "eMvqZTqqBngp"
   },
   "source": [
    "## 1-2 輸入函數\n",
    "### 螢幕輸入用input函數\n"
   ]
  },
  {
   "cell_type": "markdown",
   "metadata": {},
   "source": [
    "**請注意：input函數所輸入的資料是字串型態。**\n",
    "\n",
    "～不同型態的資料不能做運算\n",
    "\n",
    "因為輸入的資料是字串，所以無法和數值相加。\n",
    "如果要做數學運算，請用int()函數將文字資料變為整數，或用float()函數將文字資料變為浮點數。\n",
    "用eval()函數將文字資料變為數值亦可。"
   ]
  },
  {
   "cell_type": "code",
   "execution_count": 7,
   "metadata": {
    "colab": {
     "base_uri": "https://localhost:8080/",
     "height": 175
    },
    "colab_type": "code",
    "id": "7rqfSyyHCZut",
    "outputId": "34bc5061-0807-47e6-d797-16f13dc7041f"
   },
   "outputs": [
    {
     "name": "stdout",
     "output_type": "stream",
     "text": [
      "Enter a number:66\n",
      "166\n",
      "請輸入兩個數字：66,88\n",
      "a=66,b=88\n",
      "a + b = 154\n",
      "請輸入一個數字：66\n",
      "請在輸入另一個數字:88\n",
      "c=66,d=88\n",
      "c + d = 154\n"
     ]
    }
   ],
   "source": [
    "a = int(input('Enter a number:'))\n",
    "a = a + 100\n",
    "print(a)\n",
    "\n",
    "a,b = eval(input(\"請輸入兩個數字：\"))\n",
    "print('a=%d,b=%d' %(a,b))\n",
    "print('a + b =', a + b)\n",
    "\n",
    "c = eval(input(\"請輸入一個數字：\"))\n",
    "d = eval(input(\"請再輸入另一個數字:\"))\n",
    "print('c=%d,d=%d' %(c,d))\n",
    "print('c + d =', c + d)"
   ]
  },
  {
   "cell_type": "markdown",
   "metadata": {
    "colab_type": "text",
    "id": "n7OAP2xlEsPk"
   },
   "source": [
    "## 1-3 數學運算子\n",
    "\n",
    "**運算子是一個具有特殊意義的符號**"
   ]
  },
  {
   "cell_type": "markdown",
   "metadata": {
    "colab": {},
    "colab_type": "code",
    "id": "L_H_W75LBXzK"
   },
   "source": [
    "～ 指定運算子\n",
    "\n",
    "- =賦值\n",
    "\n",
    "將右邊的資料（值）指派給左邊的變數（名稱）。\n",
    "\n",
    "～ 算數運算子\n",
    "\n",
    "- +加\n",
    "- -減\n",
    "- *乘\n",
    "- /除\n",
    "- %餘數\n",
    "- **次方\n",
    "\n",
    "～算數指定運算子\n",
    "\n",
    "- 常見的有+-、-=、=、/=、%=、*=。\n",
    "\n",
    "算數指定運算子是算數運算子與指定運算子的結合。"
   ]
  },
  {
   "cell_type": "markdown",
   "metadata": {
    "colab_type": "text",
    "id": "hcS9QL-MMZ3b"
   },
   "source": [
    "## 1-4 數學函式\n",
    "**math數學模組**\n",
    "\n",
    "～import math，將數學math模組載入\n",
    "\n",
    "- 圓周率$\\pi$、指數$e$\n",
    "- 指數函數exp(x)、對數函數log(x)、開根號sqrt(x)\n",
    "- 三角函數 sin(x)、cos(x)、tan(x)、cot(x))\n",
    "\n",
    "**內建函數**\n",
    "\n",
    "- 絕對值abs(X)\n",
    "- 極大值極小值max()、min()\n",
    "- x的y次方pow(x,y)\n",
    "- 四捨五入到整數round(x)、到小數點第n位round(x,n)"
   ]
  },
  {
   "cell_type": "markdown",
   "metadata": {},
   "source": [
    "## 綜合範例"
   ]
  },
  {
   "cell_type": "raw",
   "metadata": {
    "colab_type": "text",
    "id": "UNevibAfrY-2"
   },
   "source": [
    "**Python綜合範例101 整數格式化輸出**\n",
    "\n",
    "1.題目說明:依下列題意進行作答，輸入整數及進行格式化輸出，使輸出值符合題意要求。\n",
    "\n",
    "2.請撰寫一程式，輸入四個整數，然後將這四個整數以欄寬為5、欄與欄間隔一個空白字元，再以每列印兩個的方式，先列印向右靠齊，再列印向左靠齊，左右皆以直線 |（Vertical bar）作為邊界。\n",
    "\n",
    "3.輸入輸出：\n",
    "\n",
    "- 輸入說明:四個整數\n",
    "- 輸出說明:格式化輸出\n",
    "- 輸入輸出範例\n"
   ]
  },
  {
   "cell_type": "code",
   "execution_count": 0,
   "metadata": {
    "colab": {
     "base_uri": "https://localhost:8080/",
     "height": 227
    },
    "colab_type": "code",
    "id": "htU1sjMmsHg6",
    "outputId": "2ea86a97-c7ee-4080-d4dc-44a06efae59c"
   },
   "outputs": [
    {
     "name": "stdout",
     "output_type": "stream",
     "text": [
      "85\n",
      "4\n",
      "299\n",
      "478\n",
      "|   85     4|\n",
      "|  299   478|\n",
      "   85     4\n",
      "  299   478\n",
      "|85    4    |\n",
      "|299   478  |\n",
      "85    4    \n",
      "299   478  \n"
     ]
    }
   ],
   "source": [
    "# 輸入四個整數\n",
    "num1 = int(input())\n",
    "num2 = int(input())\n",
    "num3 = int(input())\n",
    "num4 = int(input())\n",
    "\n",
    "# 輸出格式化規定：欄寬5、欄與欄間一個空白、每列印兩個、左右皆以直線為邊界\n",
    "## 向右靠齊\n",
    "print(\"|%5d %5d|\" %(num1, num2))\n",
    "print(\"|%5d %5d|\" %(num3, num4))\n",
    "\n",
    "print(format(num1, '>5d'), end = ' ')\n",
    "print(format(num2, '>5d'))\n",
    "print(format(num3, '>5d'), end = ' ')\n",
    "print(format(num4, '>5d'))\n",
    "\n",
    "## 向左靠齊\n",
    "print(\"|%-5d %-5d|\" %(num1,num2))\n",
    "print(\"|%-5d %-5d|\" %(num3,num4))\n",
    "\n",
    "print(format(num1, '<5d'), end = ' ')\n",
    "print(format(num2, '<5d'))\n",
    "print(format(num3, '<5d'), end = ' ')\n",
    "print(format(num4, '<5d'))\n",
    "\n",
    "# ～format格式輸出缺｜，請問要如何補上？"
   ]
  },
  {
   "cell_type": "raw",
   "metadata": {
    "colab_type": "text",
    "id": "nkYO6aqMuQj0"
   },
   "source": [
    "**Python綜合範例102浮點數格式化輸出**\n",
    "\n",
    "1.題目說明:依下列題意進行作答，輸入浮點數及進行格式化輸出，使輸出值符合題意要求。\n",
    "\n",
    "2.設計說明：請撰寫一程式，輸入四個分別含有小數1到4位的浮點數，然後將這四個浮點數以欄寬為7、欄與欄間隔一個空白字元、每列印兩個的方式，先列印向右靠齊，再列印向左靠齊，左右皆以直線 |（Vertical bar）作為邊界。\n",
    "\n",
    "提示：輸出浮點數到小數點後第二位。\n",
    "\n",
    "\n",
    "3.輸入輸出：\n",
    "\n",
    "- 輸入說明:四個浮點數\n",
    "- 輸出說明:格式化輸出\n",
    "- 輸入輸出範例"
   ]
  },
  {
   "cell_type": "code",
   "execution_count": 0,
   "metadata": {
    "colab": {
     "base_uri": "https://localhost:8080/",
     "height": 227
    },
    "colab_type": "code",
    "id": "Md2sLBzepgEA",
    "outputId": "d34573f7-059b-4095-aa1f-f3d2678be8c4"
   },
   "outputs": [
    {
     "name": "stdout",
     "output_type": "stream",
     "text": [
      "23.12\n",
      "395.3\n",
      "100.4617\n",
      "564.329\n",
      "|  23.12  395.30|\n",
      "| 100.46  564.33|\n",
      "|  23.12  395.30|\n",
      "| 100.46  564.33|\n",
      "|23.12   395.30 |\n",
      "|100.46  564.33 |\n",
      "|23.12   395.30 |\n",
      "|100.46  564.329|\n"
     ]
    }
   ],
   "source": [
    "# 輸入四個浮點數\n",
    "num1 = eval(input())\n",
    "num2 = eval(input())\n",
    "num3 = eval(input())\n",
    "num4 = eval(input())\n",
    "\n",
    "# 輸出格式化規定：欄寬7、欄與欄間一個空白、每列印兩個、左右皆以直線為邊界\n",
    "## 向右靠齊\n",
    "print(\"|%7.2f %7.2f|\" %(num1, num2))\n",
    "print(\"|%7.2f %7.2f|\" %(num3, num4))\n",
    "\n",
    "print('|',end = '')\n",
    "print(format(num1, '>7.2f'), end = ' ')\n",
    "print(format(num2, '>7.2f'),end = '')\n",
    "print('|')\n",
    "\n",
    "print('|',end = '')\n",
    "print(format(num3, '>7.2f'), end = ' ')\n",
    "print(format(num4, '>7.2f'), end = '')\n",
    "print('|')\n",
    "\n",
    "## 向左靠齊\n",
    "print(\"|%-7.2f %-7.2f|\" %(num1,num2))\n",
    "print(\"|%-7.2f %-7.2f|\" %(num3,num4))\n",
    "\n",
    "\n",
    "print('|',end = '')\n",
    "print(format(num1, '<7.2f'), end = ' ')\n",
    "print(format(num2, '<7.2f'), end = '')\n",
    "print('|')\n",
    "\n",
    "print('|',end = '')\n",
    "print(format(num3, '<7.2f'), end = ' ')\n",
    "print(format(num4, '<7.3f'), end = '')\n",
    "print('|')"
   ]
  },
  {
   "cell_type": "raw",
   "metadata": {
    "colab_type": "text",
    "id": "wyYSqKRB5i-2"
   },
   "source": [
    "**Python綜合範例103字串格式化輸出(M)**\n",
    "\n",
    "1.題目說明:依下列題意進行作答，輸入單字及進行格式化輸出，使輸出值符合題意要求。\n",
    "\n",
    "2.設計說明：請撰寫一程式，輸入四個單字，然後將這四個單字以欄寬為10、欄與欄間隔一個空白字元、每列印兩個的方式，先列印向右靠齊，再列印向左靠齊，左右皆以直線 |（Vertical bar）作為邊界。\n",
    "\n",
    "3.輸入輸出：\n",
    "\n",
    "- 輸入說明:四個單字\n",
    "- 輸出說明:格式化輸出\n",
    "- 輸入輸出範例"
   ]
  },
  {
   "cell_type": "code",
   "execution_count": 1,
   "metadata": {
    "colab": {
     "base_uri": "https://localhost:8080/",
     "height": 227
    },
    "colab_type": "code",
    "id": "ExH-NZSO59Ii",
    "outputId": "3bc4fbb5-37d5-489b-d499-3a5fc645470b",
    "scrolled": true
   },
   "outputs": [
    {
     "name": "stdout",
     "output_type": "stream",
     "text": [
      "I\n",
      "enjoy\n",
      "learning\n",
      "Python\n",
      "|         I      enjoy|\n",
      "|  learning     Python|\n",
      "|         I      enjoy|\n",
      "|  learning     Python|\n",
      "|I          enjoy     |\n",
      "|learning   Python    |\n",
      "|I          enjoy     |\n",
      "|learning   Python    |\n"
     ]
    }
   ],
   "source": [
    "# 輸入四個字串\n",
    "word1 = input()\n",
    "word2 = input()\n",
    "word3 = input()\n",
    "word4 = input()\n",
    "\n",
    "# 輸出格式化規定：欄寬10、欄與欄間一個空白、每列印兩個、左右皆以直線為邊界\n",
    "## 向右靠齊\n",
    "print(\"|%10s %10s|\" %(word1, word2))\n",
    "print(\"|%10s %10s|\" %(word3, word4))\n",
    "\n",
    "print('|',end = '')\n",
    "print(format(word1, '>10s'), end = ' ')\n",
    "print(format(word2, '>10s'),end = '')\n",
    "print('|')\n",
    "\n",
    "print('|',end = '')\n",
    "print(format(word3, '>10s'), end = ' ')\n",
    "print(format(word4, '>10s'), end = '')\n",
    "print('|')\n",
    "\n",
    "## 向左靠齊\n",
    "print(\"|%-10s %-10s|\" %(word1,word2))\n",
    "print(\"|%-10s %-10s|\" %(word3,word4))\n",
    "\n",
    "\n",
    "print('|',end = '')\n",
    "print(format(word1, '<10s'), end = ' ')\n",
    "print(format(word2, '<10s'), end = '')\n",
    "print('|')\n",
    "\n",
    "print('|',end = '')\n",
    "print(format(word3, '<10s'), end = ' ')\n",
    "print(format(word4, '<10s'), end = '')\n",
    "print('|')"
   ]
  },
  {
   "cell_type": "code",
   "execution_count": 10,
   "metadata": {
    "colab": {
     "base_uri": "https://localhost:8080/",
     "height": 69
    },
    "colab_type": "code",
    "id": "ve9ZxFX0OwcT",
    "outputId": "dcbf1ecf-f190-4325-d1e7-27d56d547add"
   },
   "outputs": [
    {
     "name": "stdout",
     "output_type": "stream",
     "text": [
      "輸入圓的半徑：2\n",
      "圓面積1: 12.56636\n",
      "圓面積2: 12.566370614359172\n"
     ]
    }
   ],
   "source": [
    "import math\n",
    "math.pi\n",
    "math.e\n",
    "\n",
    "r = eval(input(\"輸入圓的半徑：\"))\n",
    "area1 = 3.14159 * (r**2)\n",
    "area2 = math.pi * (r**2)\n",
    "print('圓面積1:',area1)\n",
    "print('圓面積2:',area2)"
   ]
  },
  {
   "cell_type": "code",
   "execution_count": 12,
   "metadata": {
    "colab": {
     "base_uri": "https://localhost:8080/",
     "height": 122
    },
    "colab_type": "code",
    "id": "pANulBaOPdFw",
    "outputId": "dcf9a7ae-bf68-4760-fc4c-c02e8b5f36fd"
   },
   "outputs": [
    {
     "name": "stdout",
     "output_type": "stream",
     "text": [
      "100\n",
      "5\n",
      "1\n",
      "8\n",
      "3\n",
      "3.14\n"
     ]
    }
   ],
   "source": [
    "print(abs(-100))\n",
    "print(max(1,2,3,4,5))\n",
    "print(min(1,2,3,4,5))\n",
    "print(pow(2,3))\n",
    "print(round(3.14159))\n",
    "print(round(3.14159,2))"
   ]
  },
  {
   "cell_type": "markdown",
   "metadata": {
    "colab": {},
    "colab_type": "code",
    "id": "jqZF0DnZQKGw"
   },
   "source": [
    "**TQC+ 程式語言Python 104 圓形面積計算**\n",
    "\n",
    "1. 題目說明:\n",
    "請開啟PYD104.py檔案，依下列題意進行作答，計算圓形之面積和周長，使輸出值符合題意要求。作答完成請另存新檔為PYA104.py再進行評分。\n",
    "\n",
    "2. 設計說明：\n",
    "\n",
    "請撰寫一程式，輸入一圓的半徑，並加以計算此圓之面積和周長，最後請印出此圓的半徑（Radius）、周長（Perimeter）和面積（Area）。\n",
    "\n",
    "提示1：需import math模組，並使用math.pi。\n",
    "\n",
    "提示2：輸出浮點數到小數點後第二位。**\n",
    "\n",
    "3. 輸入輸出：\n",
    "\n",
    "輸入說明\n",
    "半徑\n",
    "\n",
    "輸出說明\n",
    "半徑\n",
    "周長\n",
    "面積\n",
    "\n",
    "輸入輸出範例\n",
    "\n",
    "- 範例輸入1\n",
    "10\n",
    "\n",
    "- 範例輸出1\n",
    "Radius = 10.00\n",
    "Perimeter = 62.83\n",
    "Area = 314.16\n",
    "\n",
    "- 範例輸入2\n",
    "2.5\n",
    "\n",
    "- 範例輸出2\n",
    "Radius = 2.50\n",
    "Perimeter = 15.71\n",
    "Area = 19.63"
   ]
  },
  {
   "cell_type": "code",
   "execution_count": 1,
   "metadata": {},
   "outputs": [
    {
     "name": "stdout",
     "output_type": "stream",
     "text": [
      "10\n",
      "Radius = 10.00\n",
      "Perimeter = 62.83\n",
      "Area = 314.16\n"
     ]
    }
   ],
   "source": [
    "import math\n",
    "PI = math.pi\n",
    "radius = float(input())\n",
    "\n",
    "print(\"Radius = %.2f\" % radius)\n",
    "print(\"Perimeter = %.2f\" % (2 * radius * PI))\n",
    "print(\"Area = %.2f\" % (pow(radius, 2)*PI))"
   ]
  },
  {
   "cell_type": "markdown",
   "metadata": {},
   "source": [
    "**TQC+ 程式語言Python 105 矩形面積計算**\n",
    "\n",
    "- 1. 題目說明:\n",
    "請開啟PYD105.py檔案，依下列題意進行作答，計算矩形之面積和周長，使輸出值符合題意要求。作答完成請另存新檔為PYA105.py再進行評分。\n",
    "\n",
    "2. 設計說明：\n",
    "請撰寫一程式，輸入兩個正數，代表一矩形之寬和高，計算並輸出此矩形之高（Height）、寬（Width）、周長（Perimeter）及面積（Area）。\n",
    "\n",
    "提示：輸出浮點數到小數點後第二位。\n",
    "\n",
    "3. 輸入輸出：\n",
    "輸入說明\n",
    "高、寬\n",
    "\n",
    "輸出說明\n",
    "高\n",
    "寬\n",
    "周長\n",
    "面積\n",
    "\n",
    "輸入輸出範例\n",
    "- 範例輸入\n",
    "23.5\n",
    "19\n",
    "- 範例輸出\n",
    "Height = 23.50\n",
    "Width = 19.00\n",
    "Perimeter = 85.00\n",
    "Area = 446.50"
   ]
  },
  {
   "cell_type": "code",
   "execution_count": 2,
   "metadata": {},
   "outputs": [
    {
     "name": "stdout",
     "output_type": "stream",
     "text": [
      "23.5\n",
      "19\n",
      "Height = 23.50\n",
      "Width = 19.00\n",
      "Perimeter = 85.00\n",
      "Area = 446.50\n"
     ]
    }
   ],
   "source": [
    "h = eval(input())\n",
    "w = eval(input())\n",
    "peri = (h + w) * 2\n",
    "area = h * w\n",
    "\n",
    "print(\"Height = %.2f\" %h)\n",
    "print(\"Width = %.2f\" %w)\n",
    "print(\"Perimeter = %.2f\" % peri)\n",
    "print(\"Area = %.2f\" % area)"
   ]
  },
  {
   "cell_type": "markdown",
   "metadata": {},
   "source": [
    "**TQC+ 程式語言Python 106 公里英哩換算(M)**\n",
    "\n",
    "1. 題目說明:\n",
    "請開啟PYD106.py檔案，依下列題意進行作答，計算選手賽跑每小時平均速度，使輸出值符合題意要求。作答完成請另存新檔為PYA106.py再進行評分。\n",
    "\n",
    "2. 設計說明：\n",
    "假設一賽跑選手在x分y秒的時間跑完z公里，請撰寫一程式，輸入x、y、z數值，最後顯示此選手每小時的平均英哩速度（1英哩等於1.6公里）。\n",
    "提示：輸出浮點數到小數點後第一位。\n",
    "\n",
    "3. 輸入輸出：\n",
    "\n",
    "輸入說明\n",
    "x（min）、y（sec）、z（km）數值\n",
    "\n",
    "輸出說明\n",
    "速度\n",
    "\n",
    "輸入輸出範例\n",
    "\n",
    "- 範例輸入\n",
    "10\n",
    "25\n",
    "3\n",
    "\n",
    "- 範例輸出\n",
    "Speed = 10.8"
   ]
  },
  {
   "cell_type": "code",
   "execution_count": 4,
   "metadata": {},
   "outputs": [
    {
     "name": "stdout",
     "output_type": "stream",
     "text": [
      "10\n",
      "25\n",
      "3\n",
      "Speed = 10.8\n"
     ]
    }
   ],
   "source": [
    "x = eval(input())\n",
    "y = eval(input())\n",
    "z = eval(input())\n",
    "\n",
    "avg_speed = (z/1.6) / (60*x+y)*60*60\n",
    "print(\"Speed = %.1f\" % avg_speed)"
   ]
  },
  {
   "cell_type": "markdown",
   "metadata": {},
   "source": [
    "**TQC+ 程式語言Python 107 數值計算(M)**\n",
    "\n",
    "1. 題目說明:\n",
    "\n",
    "請開啟PYD107.py檔案，依下列題意進行作答，計算五個數字之數值、總和及平均數，使輸出值符合題意要求。作答完成請另存新檔為PYA107.py再進行評分。\n",
    "\n",
    "2. 設計說明：\n",
    "\n",
    "請撰寫一程式，讓使用者輸入五個數字，計算並輸出這五個數字之數值、總和及平均數。\n",
    "提示：總和與平均數皆輸出到小數點後第1位。\n",
    "\n",
    "3. 輸入輸出：\n",
    "\n",
    "輸入說明\n",
    "五個數字\n",
    "\n",
    "輸出說明\n",
    "輸出五個數字\n",
    "總和\n",
    "平均數\n",
    "\n",
    "輸入輸出範例\n",
    "\n",
    "- 範例輸入1\n",
    "20\n",
    "40\n",
    "60\n",
    "80\n",
    "100\n",
    "\n",
    "- 範例輸出1\n",
    "20 40 60 80 100\n",
    "Sum = 300.0\n",
    "Average = 60.0\n",
    "\n",
    "- 範例輸入2\n",
    "88.7\n",
    "12\n",
    "56\n",
    "132.55\n",
    "3\n",
    "\n",
    "- 範例輸出2\n",
    "88.7 12 56 132.55 3\n",
    "Sum = 292.2\n",
    "Average = 58.5"
   ]
  },
  {
   "cell_type": "code",
   "execution_count": 11,
   "metadata": {},
   "outputs": [
    {
     "name": "stdout",
     "output_type": "stream",
     "text": [
      "88\n",
      "12\n",
      "56\n",
      "132.55\n",
      "3\n",
      "88 12 56 132.55 3\n",
      "Sum = 291.6\n",
      "Average = 58.3\n"
     ]
    }
   ],
   "source": [
    "num1=eval(input())\n",
    "num2=eval(input())\n",
    "num3=eval(input())\n",
    "num4=eval(input())\n",
    "num5=eval(input())\n",
    "\n",
    "#總和與平均\n",
    "total_sum = num1 + num2 + num3 + num4 + num5\n",
    "average = total_sum / 5\n",
    "\n",
    "#列印\n",
    "print(num1, num2, num3, num4, num5)\n",
    "print(\"Sum = %.1f\" % total_sum)\n",
    "print(\"Average = %.1f\" % average)"
   ]
  },
  {
   "cell_type": "markdown",
   "metadata": {},
   "source": [
    "**TQC+ 程式語言Python 108 座標距離計算(H)**\n",
    "\n",
    "1. 題目說明:\n",
    "請開啟PYD108.py檔案，依下列題意進行作答，計算兩點座標及其距離，使輸出值符合題意要求。作答完成請另存新檔為PYA108.py再進行評分。\n",
    "\n",
    "2. 設計說明：\n",
    "請撰寫一程式，讓使用者輸入四個數字x1、y1、x2、y2，分別代表兩個點的座標(x1, y1)、(x2, y2)。計算並輸出這兩點的座標與其歐式距離。\n",
    "\n",
    "提示1：歐式距離\n",
    "\n",
    "提示2：兩座標的歐式距離，輸出到小數點後第4位\n",
    "\n",
    "3. 輸入輸出：\n",
    "\n",
    "輸入說明\n",
    "四個數字x1、y1、x2、y2\n",
    "\n",
    "輸出說明\n",
    "座標1\n",
    "座標2\n",
    "兩座標的歐式距離\n",
    "\n",
    "輸入輸出範例\n",
    "\n",
    "- 範例輸入\n",
    "2\n",
    "1\n",
    "5.5\n",
    "8\n",
    "\n",
    "- 範例輸出\n",
    "( 2 , 1 )\n",
    "( 5.5 , 8 )\n",
    "Distance = 7.8262"
   ]
  },
  {
   "cell_type": "code",
   "execution_count": 13,
   "metadata": {},
   "outputs": [
    {
     "name": "stdout",
     "output_type": "stream",
     "text": [
      "2\n",
      "1\n",
      "5.5\n",
      "8\n",
      "( 2 , 5.5 )\n",
      "( 1 , 8 )\n",
      "Distance = 2.6926\n"
     ]
    }
   ],
   "source": [
    "x1 = eval(input())\n",
    "x2 = eval(input())\n",
    "y1 = eval(input())\n",
    "y2 = eval(input())\n",
    "\n",
    "dist = ((x2-x1)**2 + (y2-y1)**2)**(0.5)\n",
    "\n",
    "print(\"(\", x1,\",\", y1,\")\")\n",
    "print(\"(\", x2,\",\", y2,\")\")\n",
    "print(\"Distance = %.4f\" %dist)"
   ]
  },
  {
   "cell_type": "raw",
   "metadata": {},
   "source": [
    "**TQC+ 程式語言Python 109 正五邊形面積計算(H)**\n",
    "\n",
    "1. 題目說明:\n",
    "請開啟PYD109.py檔案，依下列題意進行作答，計算正五邊形之面積，使輸出值符合題意要求。作答完成請另存新檔為PYA109.py再進行評分。\n",
    "\n",
    "2. 設計說明：\n",
    "請撰寫一程式，讓使用者輸入一個正數s，代表正五邊形之邊長，計算並輸出此正五邊形之面積（Area）。\n",
    "\n",
    "提示1：建議使用import math模組的math.pow及math.tan\n",
    "\n",
    "提示2：正五邊形面積的公式：\n",
    "\n",
    "提示3：輸出浮點數到小數點後第四位。\n",
    "\n",
    "3. 輸入輸出：\n",
    "\n",
    "輸入說明\n",
    "正數s\n",
    "\n",
    "輸出說明\n",
    "正五邊形面積\n",
    "\n",
    "輸入輸出範例\n",
    "\n",
    "範例輸入\n",
    "5\n",
    "\n",
    "範例輸出\n",
    "Area = 43.0119"
   ]
  },
  {
   "cell_type": "code",
   "execution_count": 1,
   "metadata": {},
   "outputs": [
    {
     "name": "stdout",
     "output_type": "stream",
     "text": [
      "5\n",
      "Area = 43.0119\n"
     ]
    }
   ],
   "source": [
    "import math\n",
    "s = eval(input())\n",
    "area = (5*math.pow(s,2)) / (4*math.tan(math.pi/5))\n",
    "print(\"Area = %.4f\" % area)"
   ]
  },
  {
   "cell_type": "code",
   "execution_count": null,
   "metadata": {},
   "outputs": [],
   "source": [
    "**TQC+ 程式語言Python 110 正n邊形面積計算**\n",
    "\n",
    "1. 題目說明:\n",
    "請開啟PYD110.py檔案，依下列題意進行作答，計算正n邊形面積，使輸出值符合題意要求。作答完成請另存新檔為PYA110.py再進行評分。\n",
    "\n",
    "2. 設計說明：\n",
    "請撰寫一程式，讓使用者輸入兩個正數n、s，代表正n邊形之邊長為s，計算並輸出此正n邊形之面積（Area）。\n",
    "\n",
    "提示1：建議使用import math模組的math.pow及math.tan\n",
    "\n",
    "提示2：正n邊形面積的公式如下：\n",
    "\n",
    "提示3：輸出浮點數到小數點後第四位\n",
    "\n",
    "3. 輸入輸出：\n",
    "\n",
    "輸入說明\n",
    "正數n、s\n",
    "\n",
    "輸出說明\n",
    "正n邊形面積\n",
    "\n",
    "輸入輸出範例\n",
    "\n",
    "範例輸入\n",
    "8\n",
    "6\n",
    "\n",
    "範例輸出\n",
    "Area = 173.8234"
   ]
  },
  {
   "cell_type": "code",
   "execution_count": 2,
   "metadata": {},
   "outputs": [
    {
     "name": "stdout",
     "output_type": "stream",
     "text": [
      "8\n",
      "6\n",
      "Area = 173.8234\n"
     ]
    }
   ],
   "source": [
    "import math\n",
    "\n",
    "n = eval(input())\n",
    "s = eval(input())\n",
    "\n",
    "area = (n*math.pow(s,2)) / (4*math.tan(math.pi/n))\n",
    "print(\"Area = %.4f\" % area)"
   ]
  },
  {
   "cell_type": "markdown",
   "metadata": {},
   "source": [
    "**TQC+ 程式語言Python 11**\n",
    "\n",
    "請撰寫一程式，請使用者輸入攝氏溫度，然後輸出其對應的華氏溫度。"
   ]
  },
  {
   "cell_type": "code",
   "execution_count": 16,
   "metadata": {},
   "outputs": [
    {
     "name": "stdout",
     "output_type": "stream",
     "text": [
      "100\n",
      "Celsius 100.00 ---> Fahrenheit 212.00\n"
     ]
    }
   ],
   "source": [
    "cDegree = eval(input())\n",
    "fDegree = (9 / 5) * cDegree + 32\n",
    "print(\"Celsius %.2f ---> Fahrenheit %.2f\" %(cDegree, fDegree))"
   ]
  }
 ],
 "metadata": {
  "colab": {
   "collapsed_sections": [],
   "name": "“TQC + Chapter 1 - 基本程式設計.ipynb”的副本",
   "provenance": []
  },
  "kernelspec": {
   "display_name": "Python 3",
   "language": "python",
   "name": "python3"
  },
  "language_info": {
   "codemirror_mode": {
    "name": "ipython",
    "version": 3
   },
   "file_extension": ".py",
   "mimetype": "text/x-python",
   "name": "python",
   "nbconvert_exporter": "python",
   "pygments_lexer": "ipython3",
   "version": "3.7.4"
  }
 },
 "nbformat": 4,
 "nbformat_minor": 1
}
