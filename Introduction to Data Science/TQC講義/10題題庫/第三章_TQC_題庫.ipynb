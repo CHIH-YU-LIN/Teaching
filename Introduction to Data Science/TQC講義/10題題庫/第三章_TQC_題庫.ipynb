{
 "cells": [
  {
   "cell_type": "raw",
   "metadata": {},
   "source": [
    "**TQC+ 程式語言Python 311**\n",
    "請使用迴圈敘述撰寫一程式式，預測未來學費。假設第一年的學費由使用者輸入，而學費每年漲3%，試計算幾年後學費會變成兩倍。\n",
    "1.輸入輸出\n",
    "(1)範例輸入\n",
    "   10000\n",
    "(2)範例輸出\n",
    "   #1 year: 10300.00\n",
    "   #2 year: 10609.00\n",
    "   #3 year: 10927.27\n",
    "   #4 year: 11255.09\n",
    "   #5 year: 11592.74\n",
    "   #6 year: 11940.52\n",
    "   #7 year: 12298.74\n",
    "   #8 year: 12667.70\n",
    "   #9 year: 13047.73\n",
    "   #10 year: 13439.16\n",
    "   #11 year: 13842.34\n",
    "   #12 year: 14257.61\n",
    "   #13 year: 14658.34\n",
    "   #14 year: 15125.90\n",
    "   #15 year: 15579.67\n",
    "   #16 year: 16047.06\n",
    "   #17 year: 16528.48\n",
    "   #18 year: 17024.33\n",
    "   #19 year: 17535.06\n",
    "   #20 year: 18061.11\n",
    "   #21 year: 18602.95\n",
    "   #22 year: 19161.03\n",
    "   #23 year: 19735.87\n",
    "   #24 year: 20327.94\n",
    "   Tuition will be doubled in 24 year"
   ]
  },
  {
   "cell_type": "code",
   "execution_count": 1,
   "metadata": {},
   "outputs": [
    {
     "name": "stdout",
     "output_type": "stream",
     "text": [
      "10000\n",
      "#1 year: 10300.00\n",
      "#2 year: 10609.00\n",
      "#3 year: 10927.27\n",
      "#4 year: 11255.09\n",
      "#5 year: 11592.74\n",
      "#6 year: 11940.52\n",
      "#7 year: 12298.74\n",
      "#8 year: 12667.70\n",
      "#9 year: 13047.73\n",
      "#10 year: 13439.16\n",
      "#11 year: 13842.34\n",
      "#12 year: 14257.61\n",
      "#13 year: 14685.34\n",
      "#14 year: 15125.90\n",
      "#15 year: 15579.67\n",
      "#16 year: 16047.06\n",
      "#17 year: 16528.48\n",
      "#18 year: 17024.33\n",
      "#19 year: 17535.06\n",
      "#20 year: 18061.11\n",
      "#21 year: 18602.95\n",
      "#22 year: 19161.03\n",
      "#23 year: 19735.87\n",
      "#24 year: 20327.94\n",
      "Tuition will be doubled in 24 year\n"
     ]
    }
   ],
   "source": [
    "tuition=eval(input())\n",
    "year=0\n",
    "tuitionD=tuition*2\n",
    "while tuition<tuitionD:\n",
    "    year+=1\n",
    "    tuition*=1.03\n",
    "    print('#%d year: %.2f'%(year,tuition))\n",
    "print('Tuition will be doubled in %d year'%(year))"
   ]
  },
  {
   "cell_type": "raw",
   "metadata": {},
   "source": [
    "**TQC+ 程式語言Python 312**\n",
    "\n",
    "請使用迴圈敘述撰寫一程式式，將華氏溫度10度到240度轉為其對應的攝氏溫度。\n",
    "\n",
    "*提示:攝氏溫度=5/9* (華氏溫度-32)\n",
    "\n",
    "1.輸入輸出\n",
    "\n",
    "(1)範例輸入\n",
    "   無\n",
    "   \n",
    "(2)範例輸出\n",
    "\n",
    "   華氏      攝氏\n",
    "   10        -12.22\n",
    "   20        -6.67\n",
    "   30        -1.11\n",
    "   40        4.44\n",
    "   50        10.00\n",
    "   60        15.56\n",
    "   70        21.11\n",
    "   80        26.67\n",
    "   90        32.33\n",
    "   100       37.78\n",
    "   110       43.33\n",
    "   120       48.89\n",
    "   130       54.44\n",
    "   140       60.00\n",
    "   150       65.56\n",
    "   160       71.11\n",
    "   170       76.67\n",
    "   180       82.22\n",
    "   190       87.78\n",
    "   200       93.33\n",
    "   210       98.89\n",
    "   220       104.44"
   ]
  },
  {
   "cell_type": "code",
   "execution_count": 2,
   "metadata": {},
   "outputs": [
    {
     "name": "stdout",
     "output_type": "stream",
     "text": [
      "華氏      攝氏\n",
      "10     -12.22\n",
      "20      -6.67\n",
      "30      -1.11\n",
      "40       4.44\n",
      "50      10.00\n",
      "60      15.56\n",
      "70      21.11\n",
      "80      26.67\n",
      "90      32.22\n",
      "100     37.78\n",
      "110     43.33\n",
      "120     48.89\n",
      "130     54.44\n",
      "140     60.00\n",
      "150     65.56\n",
      "160     71.11\n",
      "170     76.67\n",
      "180     82.22\n",
      "190     87.78\n",
      "200     93.33\n",
      "210     98.89\n",
      "220    104.44\n",
      "230    110.00\n",
      "240    115.56\n"
     ]
    }
   ],
   "source": [
    "print('%s %7s'%('華氏','攝氏'))\n",
    "for F in range(10,250,10):\n",
    "    C=5/9*(F-32)\n",
    "    print('%-4d %8.2f'%(F,C))"
   ]
  },
  {
   "cell_type": "raw",
   "metadata": {},
   "source": [
    "**TQC+ 程式語言Python 313**\n",
    "\n",
    "請使用迴圈敘述撰寫一程式式，然後計算:\n",
    "    1/3+3/5+5/7+7/9+9/11+...+(n-2)/(n)\n",
    "    \n",
    "1.輸入輸出\n",
    "\n",
    "(1)範例輸入\n",
    "   99\n",
    "   \n",
    "(2)範例輸出\n",
    "   total = 45.12445"
   ]
  },
  {
   "cell_type": "code",
   "execution_count": 3,
   "metadata": {},
   "outputs": [
    {
     "name": "stdout",
     "output_type": "stream",
     "text": [
      "99\n",
      "total=45.12445\n"
     ]
    }
   ],
   "source": [
    "n=eval(input())\n",
    "total=0\n",
    "\n",
    "for i in range(n,2,-2):\n",
    "    total+=(i-2)/i\n",
    "print('total=%.5f'%(total))"
   ]
  },
  {
   "cell_type": "raw",
   "metadata": {},
   "source": [
    "**TQC+ 程式語言Python 314**\n",
    "\n",
    "請使用迴圈敘述撰寫一程式式，然後計算:\n",
    "    1+1/2+1/3+1/4+1/5+...+1/n\n",
    "    \n",
    "1.輸入輸出 \n",
    "\n",
    "  (1)範例輸入 \n",
    "     50000\n",
    "     \n",
    "  (2)範例輸出\n",
    "     1+1/2+1/3+1/4+...+1/n = 11.397003949278504"
   ]
  },
  {
   "cell_type": "code",
   "execution_count": 1,
   "metadata": {},
   "outputs": [
    {
     "name": "stdout",
     "output_type": "stream",
     "text": [
      "50000\n",
      "1+1/2+1/3+1/4+...+1/n= 11.397003949278504\n"
     ]
    }
   ],
   "source": [
    "n=eval(input())\n",
    "total=0\n",
    "for i in range(1,n+1):\n",
    "    total+=1.0/i\n",
    "print('1+1/2+1/3+1/4+...+1/n=',total)"
   ]
  },
  {
   "cell_type": "markdown",
   "metadata": {},
   "source": [
    "**TQC+ 程式語言Python 315**\n",
    "\n",
    "請使用迴圈敘述撰寫一程式式，然後計算:\n",
    "    1/n+1/(n-1)+1/(n-2)+1/(n-3)+1/(n-4)+...+1\n",
    "    \n",
    "1.輸入輸出 \n",
    "\n",
    "  (1)範例輸入 \n",
    "     50000\n",
    "     \n",
    "  (2)範例輸出\n",
    "     1/n+1/(n-1)+1/(n-2)+...+1 = 11.397003949278519"
   ]
  },
  {
   "cell_type": "code",
   "execution_count": 2,
   "metadata": {},
   "outputs": [
    {
     "name": "stdout",
     "output_type": "stream",
     "text": [
      "50000\n",
      "1/n+1/(n-1)+1/(n-2)+...+1= 11.397003949278519\n"
     ]
    }
   ],
   "source": [
    "n=eval(input())\n",
    "total=0\n",
    "for i in range(n,0,-1):\n",
    "    total +=1.0/i\n",
    "print('1/n+1/(n-1)+1/(n-2)+...+1=',total)"
   ]
  },
  {
   "cell_type": "markdown",
   "metadata": {},
   "source": [
    "**TQC+ 程式語言Python 習題301**\n",
    "\n",
    "請以while迴圈撰寫9 * 9乘法表。\n",
    "\n",
    "輸出結果如同本章內文以for迴圈撰寫9 * 9乘法表。"
   ]
  },
  {
   "cell_type": "code",
   "execution_count": 3,
   "metadata": {},
   "outputs": [
    {
     "name": "stdout",
     "output_type": "stream",
     "text": [
      "  1*2=2  2*2=4  3*2=6  4*2=8  5*2=10  6*2=12  7*2=14  8*2=16  9*2=18\n",
      "  1*3=3  2*3=6  3*3=9  4*3=12  5*3=15  6*3=18  7*3=21  8*3=24  9*3=27\n",
      "  1*4=4  2*4=8  3*4=12  4*4=16  5*4=20  6*4=24  7*4=28  8*4=32  9*4=36\n",
      "  1*5=5  2*5=10  3*5=15  4*5=20  5*5=25  6*5=30  7*5=35  8*5=40  9*5=45\n",
      "  1*6=6  2*6=12  3*6=18  4*6=24  5*6=30  6*6=36  7*6=42  8*6=48  9*6=54\n",
      "  1*7=7  2*7=14  3*7=21  4*7=28  5*7=35  6*7=42  7*7=49  8*7=56  9*7=63\n",
      "  1*8=8  2*8=16  3*8=24  4*8=32  5*8=40  6*8=48  7*8=56  8*8=64  9*8=72\n",
      "  1*9=9  2*9=18  3*9=27  4*9=36  5*9=45  6*9=54  7*9=63  8*9=72  9*9=81\n"
     ]
    }
   ],
   "source": [
    "i=1\n",
    "while i<9:\n",
    "    j=1\n",
    "    i+=1\n",
    "    while j<=9:\n",
    "        print('%3d*%d=%d'%(j,i,i*j),end='')\n",
    "        j+=1\n",
    "    print()"
   ]
  },
  {
   "cell_type": "raw",
   "metadata": {},
   "source": [
    "**TQC+ 程式語言Python 習題302**\n",
    "\n",
    "請撰寫一程式，讓使用者輸入一個正整數(<100)，然後以三角形的方式依序\n",
    "輸出此數的階乘結果。\n",
    "\n",
    "* 提示:輸出欄寬為4，且需靠左對齊。\n",
    "\n",
    "* 輸入與輸出樣本1:\n",
    "\n",
    "輸入\n",
    "5\n",
    "\n",
    "* 輸入與輸出樣本2:\n",
    "輸入\n",
    "12"
   ]
  },
  {
   "cell_type": "code",
   "execution_count": 4,
   "metadata": {},
   "outputs": [
    {
     "name": "stdout",
     "output_type": "stream",
     "text": [
      "Enter a number:5\n",
      "   1\n",
      "   1   2\n",
      "   1   2   3\n",
      "   1   2   3   4\n",
      "   1   2   3   4   5\n"
     ]
    }
   ],
   "source": [
    "n=eval(input(\"Enter a number:\"))\n",
    "for i in range(1,n+1):\n",
    "    for j in range(1,i+1):\n",
    "        print(\"%4d\"%(j),end=\"\")\n",
    "    print()"
   ]
  },
  {
   "cell_type": "code",
   "execution_count": 5,
   "metadata": {},
   "outputs": [
    {
     "name": "stdout",
     "output_type": "stream",
     "text": [
      "Enter a number:12\n",
      "   1\n",
      "   1   2\n",
      "   1   2   3\n",
      "   1   2   3   4\n",
      "   1   2   3   4   5\n",
      "   1   2   3   4   5   6\n",
      "   1   2   3   4   5   6   7\n",
      "   1   2   3   4   5   6   7   8\n",
      "   1   2   3   4   5   6   7   8   9\n",
      "   1   2   3   4   5   6   7   8   9  10\n",
      "   1   2   3   4   5   6   7   8   9  10  11\n",
      "   1   2   3   4   5   6   7   8   9  10  11  12\n"
     ]
    }
   ],
   "source": [
    "n=eval(input(\"Enter a number:\"))\n",
    "for i in range(1,n+1):\n",
    "    for j in range(1,i+1):\n",
    "        print(\"%4d\"%(j),end=\"\")\n",
    "    print()"
   ]
  },
  {
   "cell_type": "raw",
   "metadata": {},
   "source": [
    "**TQC+ 程式語言Python 習題303**\n",
    "\n",
    "請撰寫一程式，讓使用者輸入二個正整數a、b(a<b)，利用迴圈計算從a開始的偶數連加到b的總和。例如:輸入a=1、b=100，則輸出結果為2550。\n",
    "\n",
    "* 輸入與輸出樣本\n",
    "\n",
    "輸入\n",
    "1\n",
    "100"
   ]
  },
  {
   "cell_type": "code",
   "execution_count": 6,
   "metadata": {},
   "outputs": [
    {
     "name": "stdout",
     "output_type": "stream",
     "text": [
      "1\n",
      "100\n",
      "total=2550\n"
     ]
    }
   ],
   "source": [
    "a=eval(input())\n",
    "b=eval(input())\n",
    "\n",
    "total=0\n",
    "for i in range(1,b+1):\n",
    "    if i%2==0:\n",
    "        total+=i\n",
    "print('total=%d'%(total))"
   ]
  },
  {
   "cell_type": "raw",
   "metadata": {},
   "source": [
    "**TQC+ 程式語言Python 習題304**\n",
    "\n",
    "試撰寫一程式，由使用者輸入一個正整數(<100)後，印出以下的左上三角形。\n",
    "\n",
    "* 提示:輸出欄寬為4，且需靠左對齊。\n",
    "\n",
    "* 輸入與輸出樣本1:\n",
    "輸入\n",
    "Enter a number: 6\n",
    "\n",
    "* 輸入與輸出樣本2:\n",
    "輸入\n",
    "Enter a number: 8"
   ]
  },
  {
   "cell_type": "code",
   "execution_count": 7,
   "metadata": {},
   "outputs": [
    {
     "name": "stdout",
     "output_type": "stream",
     "text": [
      "Enter a number:6\n",
      "   1   2   3   4   5   6\n",
      "   1   2   3   4   5\n",
      "   1   2   3   4\n",
      "   1   2   3\n",
      "   1   2\n",
      "   1\n"
     ]
    }
   ],
   "source": [
    "n=eval(input(\"Enter a number:\"))\n",
    "for i in range(n,0,-1):\n",
    "    for j in range(1,i+1):\n",
    "        print(\"%4d\"%(j),end=\"\")\n",
    "    print()"
   ]
  },
  {
   "cell_type": "code",
   "execution_count": 8,
   "metadata": {},
   "outputs": [
    {
     "name": "stdout",
     "output_type": "stream",
     "text": [
      "Enter a number:8\n",
      "   1   2   3   4   5   6   7   8\n",
      "   1   2   3   4   5   6   7\n",
      "   1   2   3   4   5   6\n",
      "   1   2   3   4   5\n",
      "   1   2   3   4\n",
      "   1   2   3\n",
      "   1   2\n",
      "   1\n"
     ]
    }
   ],
   "source": [
    "n=eval(input(\"Enter a number:\"))\n",
    "for i in range(n,0,-1):\n",
    "    for j in range(1,i+1):\n",
    "        print(\"%4d\"%(j),end=\"\")\n",
    "    print()"
   ]
  },
  {
   "cell_type": "raw",
   "metadata": {},
   "source": [
    "**TQC+ 程式語言Python 習題305**\n",
    "\n",
    "試撰寫一程式，由使用者輸入一數字，然後印出1到此數字階乘。\n",
    "\n",
    "* 輸入與輸出樣本1:\n",
    "輸入\n",
    "10\n",
    "\n",
    "* 輸入與輸出樣本2:\n",
    "輸入\n",
    "20"
   ]
  },
  {
   "cell_type": "code",
   "execution_count": 9,
   "metadata": {},
   "outputs": [
    {
     "name": "stdout",
     "output_type": "stream",
     "text": [
      "10\n",
      "#1!=1\n",
      "#2!=2\n",
      "#3!=6\n",
      "#4!=24\n",
      "#5!=120\n",
      "#6!=720\n",
      "#7!=5040\n",
      "#8!=40320\n",
      "#9!=362880\n",
      "#10!=3628800\n"
     ]
    }
   ],
   "source": [
    "n=eval(input(\"\"))\n",
    "for i in range(1,n+1):\n",
    "    factor=1\n",
    "    for j in range(1,i+1):\n",
    "        factor*=j\n",
    "    print(\"#%d!=%d\"%(j,factor))"
   ]
  },
  {
   "cell_type": "code",
   "execution_count": 10,
   "metadata": {},
   "outputs": [
    {
     "name": "stdout",
     "output_type": "stream",
     "text": [
      "20\n",
      "#1!=1\n",
      "#2!=2\n",
      "#3!=6\n",
      "#4!=24\n",
      "#5!=120\n",
      "#6!=720\n",
      "#7!=5040\n",
      "#8!=40320\n",
      "#9!=362880\n",
      "#10!=3628800\n",
      "#11!=39916800\n",
      "#12!=479001600\n",
      "#13!=6227020800\n",
      "#14!=87178291200\n",
      "#15!=1307674368000\n",
      "#16!=20922789888000\n",
      "#17!=355687428096000\n",
      "#18!=6402373705728000\n",
      "#19!=121645100408832000\n",
      "#20!=2432902008176640000\n"
     ]
    }
   ],
   "source": [
    "n=eval(input(\"\"))\n",
    "for i in range(1,n+1):\n",
    "    factor=1\n",
    "    for j in range(1,i+1):\n",
    "        factor*=j\n",
    "    print(\"#%d!=%d\"%(j,factor))"
   ]
  }
 ],
 "metadata": {
  "kernelspec": {
   "display_name": "Python 3",
   "language": "python",
   "name": "python3"
  },
  "language_info": {
   "codemirror_mode": {
    "name": "ipython",
    "version": 3
   },
   "file_extension": ".py",
   "mimetype": "text/x-python",
   "name": "python",
   "nbconvert_exporter": "python",
   "pygments_lexer": "ipython3",
   "version": "3.7.4"
  }
 },
 "nbformat": 4,
 "nbformat_minor": 4
}
