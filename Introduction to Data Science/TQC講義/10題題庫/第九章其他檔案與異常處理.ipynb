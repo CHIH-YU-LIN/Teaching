{
  "nbformat": 4,
  "nbformat_minor": 0,
  "metadata": {
    "colab": {
      "name": "其他——檔案與異常處理 ",
      "provenance": [],
      "collapsed_sections": []
    },
    "kernelspec": {
      "name": "python3",
      "display_name": "Python 3"
    }
  },
  "cells": [
    {
      "cell_type": "code",
      "metadata": {
        "id": "02DvH9ngKtS3",
        "colab_type": "code",
        "outputId": "664a18df-cd5e-41da-b2f8-dda7f0bc4c31",
        "colab": {
          "base_uri": "https://localhost:8080/",
          "height": 317
        }
      },
      "source": [
        "outfile = open('students.dat','w')\n",
        "#write data to the file\n",
        "while True:\n",
        "  name = input()\n",
        "  calculus = input()\n",
        "  accounting = input()\n",
        "  if name == 'none':\n",
        "    break\n",
        "  else:\n",
        "    outfile.write(name)\n",
        "    outfile.write(' ')\n",
        "    outfile.write(calculus)\n",
        "    outfile.write(' ')\n",
        "    outfile.write(accounting)\n",
        "    outfile.write(' ')\n",
        "    outfile.write('\\n')\n",
        "outfile.close()"
      ],
      "execution_count": 0,
      "outputs": [
        {
          "output_type": "stream",
          "text": [
            "Peter\n",
            "90\n",
            "89\n",
            "Mary\n",
            "88\n",
            "79\n",
            "John\n",
            "80\n",
            "95\n",
            "Nancy\n",
            "87\n",
            "76\n",
            "Lulu\n",
            "67\n",
            "99\n",
            "none\n",
            "10\n",
            "10\n"
          ],
          "name": "stdout"
        }
      ]
    },
    {
      "cell_type": "code",
      "metadata": {
        "id": "M4a_fR3NLIUj",
        "colab_type": "code",
        "outputId": "8dfbe2c7-2382-44c9-ae40-d99be38d7253",
        "colab": {
          "base_uri": "https://localhost:8080/",
          "height": 183
        }
      },
      "source": [
        "infile = open('students.dat','r')\n",
        "\n",
        "info = infile.readline()\n",
        "while info != '':\n",
        "  print(info)\n",
        "  info = infile.readline()\n",
        "\n",
        "infile.close()"
      ],
      "execution_count": 0,
      "outputs": [
        {
          "output_type": "stream",
          "text": [
            "Peter 90 89 \n",
            "\n",
            "Mary 88 79 \n",
            "\n",
            "John 80 95 \n",
            "\n",
            "Nancy 87 76 \n",
            "\n",
            "Lulu 67 99 \n",
            "\n"
          ],
          "name": "stdout"
        }
      ]
    },
    {
      "cell_type": "code",
      "metadata": {
        "id": "kkCo3x4OLIbW",
        "colab_type": "code",
        "outputId": "53b07ff4-997d-4837-de68-289fa2c8d71b",
        "colab": {
          "base_uri": "https://localhost:8080/",
          "height": 100
        }
      },
      "source": [
        "infile = open('students.dat','r')\n",
        "\n",
        "info = infile.readline()\n",
        "while info != '':\n",
        "  lst = info.split(' ')\n",
        "  calculus = eval(lst[1])\n",
        "  accounting = eval(lst[2])\n",
        "  average = calculus * 0.6 + accounting * 0.4\n",
        "  print('|%10s: %.2f|'%(lst[0], average))\n",
        "  info = infile.readline()\n",
        "\n",
        "infile.close()\n"
      ],
      "execution_count": 0,
      "outputs": [
        {
          "output_type": "stream",
          "text": [
            "|     Peter: 89.60|\n",
            "|      Mary: 84.40|\n",
            "|      John: 86.00|\n",
            "|     Nancy: 82.60|\n",
            "|      Lulu: 79.80|\n"
          ],
          "name": "stdout"
        }
      ]
    },
    {
      "cell_type": "code",
      "metadata": {
        "id": "tof7xf0TLIhq",
        "colab_type": "code",
        "outputId": "69c44029-9dfe-4119-9028-b918901401ea",
        "colab": {
          "base_uri": "https://localhost:8080/",
          "height": 100
        }
      },
      "source": [
        "#1.試撰寫一程式，要求使用者輸入五個好友的姓名、電話，以及出生年、月、日。並將它寫入名為friends.dat的檔案。\n",
        "outfile=open('friends.dat','w')\n",
        "for i in range(1,6):\n",
        "  data=input()\n",
        "  outfile.write(data)\n",
        "  outfile.write('\\n')\n",
        "\n",
        "outfile.close()"
      ],
      "execution_count": 0,
      "outputs": [
        {
          "output_type": "stream",
          "text": [
            "John 0911-231-897 87-09-10\n",
            "Mary 0919-257-333 78-10-08\n",
            "Peter 0922-999-202 81-10-11\n",
            "Nancy 0922-333-897 82-11-23\n",
            "Linda 0913-245-789 88-02-11\n"
          ],
          "name": "stdout"
        }
      ]
    },
    {
      "cell_type": "code",
      "metadata": {
        "id": "oC7WafB3LIpF",
        "colab_type": "code",
        "outputId": "8b8cc3f1-22c5-4709-e487-ac2a309e7167",
        "colab": {
          "base_uri": "https://localhost:8080/",
          "height": 183
        }
      },
      "source": [
        "# 2.試著撰寫一程式，以不定數迴圈輸入學生的姓名、python的分數，當姓名為none時，則結束輸入的動作，並將寫入各為scores.dat的檔案(至少輸入三位學生)\n",
        "outfile=open('scores.dat','w')\n",
        "while True:\n",
        "  name=input()\n",
        "  score=input()\n",
        "  if name=='none':\n",
        "    break\n",
        "  else:\n",
        "    outfile.write(name)\n",
        "    outfile.write(' ')\n",
        "    outfile.write(score)\n",
        "    outfile.write('\\n')\n",
        "\n",
        "outfile.close()\n"
      ],
      "execution_count": 0,
      "outputs": [
        {
          "output_type": "stream",
          "text": [
            "Joe\n",
            "90\n",
            "Mary\n",
            "88\n",
            "Nancy\n",
            "88\n",
            "Jennifer\n",
            "99\n",
            "none\n",
            "11\n"
          ],
          "name": "stdout"
        }
      ]
    },
    {
      "cell_type": "code",
      "metadata": {
        "id": "4b601EY2LIvu",
        "colab_type": "code",
        "outputId": "82e35ba7-045c-40b6-c27f-ae10954afcfe",
        "colab": {
          "base_uri": "https://localhost:8080/",
          "height": 183
        }
      },
      "source": [
        "#3.試撰寫一程式，將習題1的friends.dat檔案開啟，病毒初期檔案內容後加以印出\n",
        "infile=open('friends.dat','r')\n",
        "for i in range(1,6):\n",
        "  info=infile.readline()\n",
        "  print(info)\n",
        "infile.close()"
      ],
      "execution_count": 0,
      "outputs": [
        {
          "output_type": "stream",
          "text": [
            "John 0911-231-897 87-09-10\n",
            "\n",
            "Mary 0919-257-333 78-10-08\n",
            "\n",
            "Peter 0922-999-202 81-10-11\n",
            "\n",
            "Nancy 0922-333-897 82-11-23\n",
            "\n",
            "Linda 0913-245-789 88-02-11\n",
            "\n"
          ],
          "name": "stdout"
        }
      ]
    },
    {
      "cell_type": "code",
      "metadata": {
        "id": "K6AJwKg2LI3V",
        "colab_type": "code",
        "outputId": "a30a088c-e08b-4f3e-c030-8b6ad6919cfb",
        "colab": {
          "base_uri": "https://localhost:8080/",
          "height": 150
        }
      },
      "source": [
        "#4.試撰寫一程式，將習題2的scores.dat檔案開啟，病毒初期檔案內容加以印出\n",
        "infile=open('scores.dat','r')\n",
        "info=infile.readline()\n",
        "while info !='':\n",
        "  print(info)\n",
        "  info=infile.readline()\n",
        "\n",
        "infile.close()\n"
      ],
      "execution_count": 0,
      "outputs": [
        {
          "output_type": "stream",
          "text": [
            "Joe 90\n",
            "\n",
            "Mary 88\n",
            "\n",
            "Nancy 88\n",
            "\n",
            "Jennifer 99\n",
            "\n"
          ],
          "name": "stdout"
        }
      ]
    },
    {
      "cell_type": "code",
      "metadata": {
        "id": "TDv8nu3CLI_Q",
        "colab_type": "code",
        "outputId": "849c2e7e-1713-437f-b6bb-1a3aa651a70b",
        "colab": {
          "base_uri": "https://localhost:8080/",
          "height": 33
        }
      },
      "source": [
        "infile=open('scores.dat','r')\n",
        "count = 0\n",
        "tot = 0\n",
        "info= infile.readline()\n",
        "while info !='':\n",
        "  lst = info.split(' ')\n",
        "  tot += eval(lst[1])\n",
        "  count += 1\n",
        "  info= infile.readline()\n",
        "\n",
        "average = tot / count\n",
        "print('average score : %.2f'%(average))\n",
        "infile.close()"
      ],
      "execution_count": 0,
      "outputs": [
        {
          "output_type": "stream",
          "text": [
            "average score : 91.25\n"
          ],
          "name": "stdout"
        }
      ]
    },
    {
      "cell_type": "code",
      "metadata": {
        "id": "zDseKJt_LJFx",
        "colab_type": "code",
        "colab": {}
      },
      "source": [
        ""
      ],
      "execution_count": 0,
      "outputs": []
    },
    {
      "cell_type": "code",
      "metadata": {
        "id": "xq0YoPGoLJMp",
        "colab_type": "code",
        "colab": {}
      },
      "source": [
        ""
      ],
      "execution_count": 0,
      "outputs": []
    }
  ]
}