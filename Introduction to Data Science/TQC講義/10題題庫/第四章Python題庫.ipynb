{
 "cells": [
  {
   "cell_type": "raw",
   "metadata": {},
   "source": [
    "**TQC+ 程式語言Python 411 **\n",
    "\n",
    "試撰寫一程試，試輸入二年份year1和year2(如year1<=year2)，然後顯示year1~year2(如2000~2100)的所有閏年。\n",
    "\n",
    "1.輸入輸出:\n",
    "\n",
    " (1)範例輸入\n",
    "    2000,2100\n",
    " (2)範例輸出\n",
    "    2000 2004 2008 2012 2016 2020 2024 2028 2032 2036 \n",
    "    2040 2044 2048 2052 2056 2060 2064 2068 2072 2076 \n",
    "    2080 2084 2088 2092 2096\n",
    " \n"
   ]
  },
  {
   "cell_type": "code",
   "execution_count": 1,
   "metadata": {},
   "outputs": [
    {
     "name": "stdout",
     "output_type": "stream",
     "text": [
      "2000,2100\n",
      " 2000  2004  2008  2012  2016  2020  2024  2028  2032  2036  2040  2044  2048  2052  2056  2060  2064  2068  2072  2076  2080  2084  2088  2092  2096 "
     ]
    }
   ],
   "source": [
    "year1,year2 = eval(input())\n",
    "for i in range(year1,year2+1):\n",
    "    if i%400==0 or (i%4==0 and i%100!=0):\n",
    "        print('%5d '%(i), end ='')"
   ]
  },
  {
   "cell_type": "raw",
   "metadata": {},
   "source": [
    "**TQC+ 程式語言Python 412 **\n",
    "\n",
    "承上題，將輸出每一列印十個。\n",
    "\n",
    "1.輸入輸出:\n",
    "\n",
    " (1)範例輸入\n",
    "    2000,2100\n",
    " \n",
    " (2)範例輸出\n",
    "    2000 2004 2008 2012 2016 2020 2024 2028 2032 2036 \n",
    "    2040 2044 2048 2052 2056 2060 2064 2068 2072 2076 \n",
    "    2080 2084 2088 2092 2096\n",
    " "
   ]
  },
  {
   "cell_type": "code",
   "execution_count": 2,
   "metadata": {},
   "outputs": [
    {
     "name": "stdout",
     "output_type": "stream",
     "text": [
      "2000,2100\n",
      " 2000  2004  2008  2012  2016  2020  2024  2028  2032  2036\n",
      " 2040  2044  2048  2052  2056  2060  2064  2068  2072  2076\n",
      " 2080  2084  2088  2092  2096 "
     ]
    }
   ],
   "source": [
    "count = 0\n",
    "year1, year2 = eval(input())\n",
    "for i in range(year1, year2+1):\n",
    "  if i%400==0 or (i%4==0 and i%100!=0):\n",
    "     count += 1\n",
    "     if count % 10 != 0:\n",
    "        print('%5d '%(i), end = '')\n",
    "     else:\n",
    "       print('%5d'%(i))"
   ]
  },
  {
   "cell_type": "raw",
   "metadata": {},
   "source": [
    "**TQC+ 程式語言Python 413 **\n",
    "\n",
    "試撰寫一程式，輸入三個正整數a,b以及c，然後求出這三個正整數的最大公因數。\n",
    "\n",
    "1.輸入輸出1:\n",
    "\n",
    " (1)範例輸入\n",
    "    12\n",
    "    24\n",
    "    8\n",
    " \n",
    " (2)範例輸出\n",
    "    gcd(12,24,8) = 4\n",
    "\n",
    "2.輸入輸出2:\n",
    "\n",
    " (1)範例輸入\n",
    "   12 \n",
    "   18\n",
    "   20\n",
    " \n",
    " (2)範例輸出\n",
    "    gcd(12,18,20) = 2\n",
    "      "
   ]
  },
  {
   "cell_type": "code",
   "execution_count": 3,
   "metadata": {},
   "outputs": [
    {
     "name": "stdout",
     "output_type": "stream",
     "text": [
      "12\n",
      "24\n",
      "8\n",
      "gcd(12, 24, 8) = 4\n"
     ]
    }
   ],
   "source": [
    "a = eval(input())\n",
    "b = eval(input())\n",
    "c = eval(input())\n",
    "\n",
    "gcd = 1\n",
    "k = 2 \n",
    "while k <= a and k <=b and k <=c :\n",
    "  if a % k == 0 and b % k == 0 and c % k == 0 :\n",
    "      gcd = k\n",
    "  k  += 1\n",
    "print('gcd(%d, %d, %d) = %d'%(a, b, c, gcd))"
   ]
  },
  {
   "cell_type": "code",
   "execution_count": 4,
   "metadata": {},
   "outputs": [
    {
     "name": "stdout",
     "output_type": "stream",
     "text": [
      "12\n",
      "18\n",
      "20\n",
      "gcd(12, 18, 20) = 2\n"
     ]
    }
   ],
   "source": [
    "a = eval(input())\n",
    "b = eval(input())\n",
    "c = eval(input())\n",
    "\n",
    "gcd = 1\n",
    "k = 2 \n",
    "while k <= a and k <=b and k <=c :\n",
    "  if a % k == 0 and b % k == 0 and c % k == 0 :\n",
    "      gcd = k\n",
    "  k  += 1\n",
    "print('gcd(%d, %d, %d) = %d'%(a, b, c, gcd))"
   ]
  },
  {
   "cell_type": "raw",
   "metadata": {},
   "source": [
    "**TQC+ 程式語言Python 414 **\n",
    "\n",
    "1.輸入輸出1:\n",
    " \n",
    " (1)範例輸入\n",
    "    13\n",
    " (2)範例輸出\n",
    "    13 is a prime number.\n",
    "    \n",
    "1.輸入輸出2:\n",
    " \n",
    " (1)範例輸入\n",
    "    12\n",
    " (2)範例輸出\n",
    "    12 is not a prime number.\n",
    "    "
   ]
  },
  {
   "cell_type": "code",
   "execution_count": 5,
   "metadata": {},
   "outputs": [
    {
     "name": "stdout",
     "output_type": "stream",
     "text": [
      "13\n",
      "13 is a prime number.\n"
     ]
    }
   ],
   "source": [
    "a = eval(input())\n",
    "isPrime = 1\n",
    "divisor = 2\n",
    "while divisor <= a / 2 :\n",
    "  if a % divisor == 0 :\n",
    "     isPrime = 0\n",
    "     break\n",
    "  divisor += 1\n",
    "if isPrime == 1 :\n",
    "  print('%d is a prime number.'%(a))\n",
    "else:\n",
    "  print('%d is not a prime number.'%(a))"
   ]
  },
  {
   "cell_type": "code",
   "execution_count": 6,
   "metadata": {},
   "outputs": [
    {
     "name": "stdout",
     "output_type": "stream",
     "text": [
      "12\n",
      "12 is not a prime number.\n"
     ]
    }
   ],
   "source": [
    "a = eval(input())\n",
    "isPrime = 1\n",
    "divisor = 2\n",
    "while divisor <= a / 2 :\n",
    "  if a % divisor == 0 :\n",
    "     isPrime = 0\n",
    "     break\n",
    "  divisor += 1\n",
    "if isPrime == 1 :\n",
    "  print('%d is a prime number.'%(a))\n",
    "else:\n",
    "  print('%d is not a prime number.'%(a))"
   ]
  },
  {
   "cell_type": "raw",
   "metadata": {},
   "source": [
    "**TQC+ 程式語言Python 415 **\n",
    "\n",
    "1.輸入輸出1:\n",
    " \n",
    " (1)範例輸入\n",
    "    50\n",
    " (2)範例輸出\n",
    "    The first 50 prime numbers are:\n",
    "    2 3 5 7 11 13 17 19 23 29 31 37 41 43 47 53 59 61 67 71 73 79\n",
    "    83 89 97 101 103 107 109 113 127 131 137 139 149 151 157 163 \n",
    "    167 173 179 181 191 193 197 199 211 223 227 229\n",
    "    \n",
    "1.輸入輸出2:\n",
    " \n",
    " (1)範例輸入\n",
    "    100\n",
    " (2)範例輸出\n",
    "    The first 100 prime numbers are:\n",
    "    2 3 5 7 11 13 17 19 23 29 31 37 41 43 47 53 59 61 67 71 73 79\n",
    "    83 89 97 101 103 107 109 113 127 131 137 139 149 151 157 163 \n",
    "    167 173 179 181 191 193 197 199 211 223 227 229 233 239 241\n",
    "    251 257 263 269 271 277 281 283 293 307 311 313 317 331 337\n",
    "    347 349 353 359 367 373 379 383 389 397 401 409 419 421 431 \n",
    "    433 439 443 449 457 461 463 467 479 487 491 499 503 509 521 \n",
    "    523 541\n",
    "    \n",
    "    \n",
    "    "
   ]
  },
  {
   "cell_type": "code",
   "execution_count": 4,
   "metadata": {},
   "outputs": [
    {
     "name": "stdout",
     "output_type": "stream",
     "text": [
      "50\n",
      "The first 50 prime numbers are: \n",
      "2357111317192329313741434753596167717379838997101103107109113127131137139149151157163167173179181191193197199211223227229"
     ]
    }
   ],
   "source": [
    "number = eval(input())\n",
    "a = 2\n",
    "count = 0\n",
    "\n",
    "print('The first %d prime numbers are: '%(number))\n",
    "while count < number :\n",
    "    isPrime = 1\n",
    "    divisor = 2\n",
    "    while divisor <= a / 2:\n",
    "        if a % divisor == 0:\n",
    "            isPrime = 0 \n",
    "            break\n",
    "        divisor += 1\n",
    "    if isPrime == 1:\n",
    "        count += 1\n",
    "        print(a , end = '')\n",
    "    a += 1\n",
    "        "
   ]
  },
  {
   "cell_type": "code",
   "execution_count": 8,
   "metadata": {},
   "outputs": [
    {
     "name": "stdout",
     "output_type": "stream",
     "text": [
      "100\n",
      "The first 100 prime numbers are: \n",
      "2357111317192329313741434753596167717379838997101103107109113127131137139149151157163167173179181191193197199211223227229233239241251257263269271277281283293307311313317331337347349353359367373379383389397401409419421431433439443449457461463467479487491499503509521523541"
     ]
    }
   ],
   "source": [
    "number = eval(input())\n",
    "a = 2\n",
    "count = 0\n",
    "\n",
    "print('The first %d prime numbers are: '%(number))\n",
    "while count < number :\n",
    "    isPrime = 1\n",
    "    divisor = 2\n",
    "    while divisor <= a / 2:\n",
    "        if a % divisor == 0:\n",
    "            isPrime = 0 \n",
    "            break\n",
    "        divisor += 1\n",
    "    if isPrime == 1:\n",
    "        count += 1\n",
    "        print(a, end = '')\n",
    "    a += 1\n",
    "        "
   ]
  },
  {
   "cell_type": "markdown",
   "metadata": {},
   "source": [
    "**TQC+ 程式語言Python 習題401**\n",
    "\n",
    "1.試撰寫一程式，指示使用者輸入一個數值，然後求出此數不是1的最小因數。\n",
    "\n",
    "  輸入與輸出樣本1:\n",
    "  輸入:\n",
    "  Enter a number:15\n",
    "  \n",
    "  輸入與輸出樣本2:\n",
    "  輸入:\n",
    "  Enter a number:20\n",
    "  \n",
    "  輸入與輸出樣本3:\n",
    "  輸入:\n",
    "  Enter a number:7\n",
    "  "
   ]
  },
  {
   "cell_type": "code",
   "execution_count": 10,
   "metadata": {},
   "outputs": [
    {
     "name": "stdout",
     "output_type": "stream",
     "text": [
      "Enter a number: 15\n",
      "The smallest factor is 3\n"
     ]
    }
   ],
   "source": [
    "num = eval(input('Enter a number: '))\n",
    "factor = 2\n",
    "while factor <= num:\n",
    "  if num % factor == 0:\n",
    "      break\n",
    "  factor += 1\n",
    "print('The smallest factor is %d'%(factor))"
   ]
  },
  {
   "cell_type": "code",
   "execution_count": 11,
   "metadata": {},
   "outputs": [
    {
     "name": "stdout",
     "output_type": "stream",
     "text": [
      "Enter a number: 20\n",
      "The smallest factor is 2\n"
     ]
    }
   ],
   "source": [
    "num = eval(input('Enter a number: '))\n",
    "factor = 2\n",
    "while factor <= num:\n",
    "  if num % factor == 0:\n",
    "      break\n",
    "  factor += 1\n",
    "print('The smallest factor is %d'%(factor))"
   ]
  },
  {
   "cell_type": "code",
   "execution_count": 12,
   "metadata": {},
   "outputs": [
    {
     "name": "stdout",
     "output_type": "stream",
     "text": [
      "Enter a number: 7\n",
      "The smallest factor is 7\n"
     ]
    }
   ],
   "source": [
    "num = eval(input('Enter a number: '))\n",
    "factor = 2\n",
    "while factor <= num:\n",
    "  if num % factor == 0:\n",
    "      break\n",
    "  factor += 1\n",
    "print('The smallest factor is %d'%(factor))"
   ]
  },
  {
   "cell_type": "markdown",
   "metadata": {},
   "source": [
    "**TQC+ 程式語言Python 習題402**\n",
    "\n",
    "1.試撰寫一程式，指示使用者輸入一個數值，然後求出此數不是1的最小因數。\n",
    "\n",
    "  輸入與輸出樣本1:\n",
    "  輸入:\n",
    "  Enter a number:8\n",
    "  Enter a number:12\n",
    "  \n",
    "  輸入與輸出樣本2:\n",
    "  輸入:\n",
    "  Enter a number:12\n",
    "  Enter a number:6\n",
    "  \n",
    "  輸入與輸出樣本3:\n",
    "  輸入:\n",
    "  Enter a number:13\n",
    "  Enter a number:5\n",
    "  "
   ]
  },
  {
   "cell_type": "code",
   "execution_count": 13,
   "metadata": {},
   "outputs": [
    {
     "name": "stdout",
     "output_type": "stream",
     "text": [
      "Enter a number1: 8\n",
      "Enter a number2: 12\n",
      "The greatest common factor is 4\n"
     ]
    }
   ],
   "source": [
    "num1 = eval(input('Enter a number1: '))\n",
    "num2 = eval(input('Enter a number2: '))\n",
    "\n",
    "gcd = 1\n",
    "factor = 2\n",
    "while factor <= num1 and factor <= num2:\n",
    "    if num1 % factor == 0 and num2 % factor == 0:\n",
    "       gcd = factor\n",
    "    factor += 1\n",
    "print('The greatest common factor is %d'%(gcd))"
   ]
  },
  {
   "cell_type": "code",
   "execution_count": 14,
   "metadata": {},
   "outputs": [
    {
     "name": "stdout",
     "output_type": "stream",
     "text": [
      "Enter a number1: 12\n",
      "Enter a number2: 6\n",
      "The greatest common factor is 6\n"
     ]
    }
   ],
   "source": [
    "num1 = eval(input('Enter a number1: '))\n",
    "num2 = eval(input('Enter a number2: '))\n",
    "\n",
    "gcd = 1\n",
    "factor = 2\n",
    "while factor <= num1 and factor <= num2:\n",
    "    if num1 % factor == 0 and num2 % factor == 0:\n",
    "       gcd = factor\n",
    "    factor += 1\n",
    "print('The greatest common factor is %d'%(gcd))"
   ]
  },
  {
   "cell_type": "code",
   "execution_count": 16,
   "metadata": {},
   "outputs": [
    {
     "name": "stdout",
     "output_type": "stream",
     "text": [
      "Enter a number1: 13\n",
      "Enter a number2: 5\n",
      "The greatest common factor is 1\n"
     ]
    }
   ],
   "source": [
    "num1 = eval(input('Enter a number1: '))\n",
    "num2 = eval(input('Enter a number2: '))\n",
    "\n",
    "gcd = 1\n",
    "factor = 2\n",
    "while factor <= num1 and factor <= num2:\n",
    "    if num1 % factor == 0 and num2 % factor == 0:\n",
    "       gcd = factor\n",
    "    factor += 1\n",
    "print('The greatest common factor is %d'%(gcd))"
   ]
  },
  {
   "cell_type": "markdown",
   "metadata": {},
   "source": [
    "**TQC+ 程式語言Python 習題403**\n",
    "\n",
    "1.試撰寫一程式，使用者輸入一起始與終止區間的兩個正整數<其中起始數<=終止數，然後顯示出這一區間的所有質數，起始值不為1。\n",
    "  \n",
    "  輸入與輸出樣本1:\n",
    "  輸入:\n",
    "  2\n",
    "  100\n"
   ]
  },
  {
   "cell_type": "code",
   "execution_count": null,
   "metadata": {},
   "outputs": [],
   "source": [
    "start = eval(input())\n",
    "end = eval(input())\n",
    "for i in range(start, end+1):\n",
    "    isPrime = 1\n",
    "    divisor = 2\n",
    "    while divisor <= i / 2:\n",
    "        if i % divisor == 0:\n",
    "            isPrime = 0\n",
    "            break\n",
    "        divisor += 1\n",
    "    if isPrime == 1:\n",
    "        print(i, end = '')"
   ]
  },
  {
   "cell_type": "markdown",
   "metadata": {},
   "source": [
    "**TQC+ 程式語言Python 習題404**\n",
    "\n",
    "今有一選舉，其候選人有3位，共有十個投票者。試撰寫一程式，先顯示候選人的選單讓投票人選舉，假設你代替了這十個投票者。最後顯示每位候選人的票數。注意，可能會有廢票。\n"
   ]
  },
  {
   "cell_type": "code",
   "execution_count": 3,
   "metadata": {},
   "outputs": [
    {
     "name": "stdout",
     "output_type": "stream",
     "text": [
      "\n",
      "1: Peter\n",
      "2: Nancy\n",
      "3: Mary\n",
      "Which one do you prefer:1\n",
      "\n",
      "1: Peter\n",
      "2: Nancy\n",
      "3: Mary\n",
      "Which one do you prefer:1\n",
      "\n",
      "1: Peter\n",
      "2: Nancy\n",
      "3: Mary\n",
      "Which one do you prefer:1\n",
      "\n",
      "1: Peter\n",
      "2: Nancy\n",
      "3: Mary\n",
      "Which one do you prefer:1\n",
      "\n",
      "1: Peter\n",
      "2: Nancy\n",
      "3: Mary\n",
      "Which one do you prefer:1\n",
      "\n",
      "1: Peter\n",
      "2: Nancy\n",
      "3: Mary\n",
      "Which one do you prefer:2\n",
      "\n",
      "1: Peter\n",
      "2: Nancy\n",
      "3: Mary\n",
      "Which one do you prefer:2\n",
      "\n",
      "1: Peter\n",
      "2: Nancy\n",
      "3: Mary\n",
      "Which one do you prefer:2\n",
      "\n",
      "1: Peter\n",
      "2: Nancy\n",
      "3: Mary\n",
      "Which one do you prefer:3\n",
      "\n",
      "1: Peter\n",
      "2: Nancy\n",
      "3: Mary\n",
      "Which one do you prefer:3\n",
      "\n",
      "Peter: 5, Nancy: 3, Mary:2\n",
      "Invalid: 0\n"
     ]
    }
   ],
   "source": [
    "a1=0\n",
    "a2=0\n",
    "a3=0\n",
    "none=0\n",
    "\n",
    "for i in range(1,11):\n",
    "  print()\n",
    "  print('1: Peter')\n",
    "  print('2: Nancy')\n",
    "  print('3: Mary')\n",
    "  print('Which one do you prefer:', end = '')\n",
    "\n",
    "  toll = eval(input())\n",
    "  if toll == 1:\n",
    "      a1 += 1\n",
    "  elif toll == 2:\n",
    "      a2 += 1\n",
    "  elif toll == 3:\n",
    "      a3 += 1\n",
    "  else:\n",
    "      none += 1\n",
    "\n",
    "print('\\nPeter: %d, Nancy: %d, Mary:%d'%(a1,a2,a3))\n",
    "print('Invalid: %d'%(none))"
   ]
  },
  {
   "cell_type": "markdown",
   "metadata": {},
   "source": [
    "**TQC+ 程式語言Python 習題405**\n",
    "\n",
    "承上題，可否將上題在每一次投票後立即顯示每位候選人的票數。"
   ]
  },
  {
   "cell_type": "code",
   "execution_count": 2,
   "metadata": {},
   "outputs": [
    {
     "name": "stdout",
     "output_type": "stream",
     "text": [
      "\n",
      "1: Peter\n",
      "2: Nancy\n",
      "3: Mary\n",
      "Which one do you prefer:1\n",
      "Peter: 1, Nancy: 0, Mary:0\n",
      "\n",
      "1: Peter\n",
      "2: Nancy\n",
      "3: Mary\n",
      "Which one do you prefer:1\n",
      "Peter: 2, Nancy: 0, Mary:0\n",
      "\n",
      "1: Peter\n",
      "2: Nancy\n",
      "3: Mary\n",
      "Which one do you prefer:1\n",
      "Peter: 3, Nancy: 0, Mary:0\n",
      "\n",
      "1: Peter\n",
      "2: Nancy\n",
      "3: Mary\n",
      "Which one do you prefer:2\n",
      "Peter: 3, Nancy: 1, Mary:0\n",
      "\n",
      "1: Peter\n",
      "2: Nancy\n",
      "3: Mary\n",
      "Which one do you prefer:1\n",
      "Peter: 4, Nancy: 1, Mary:0\n",
      "\n",
      "1: Peter\n",
      "2: Nancy\n",
      "3: Mary\n",
      "Which one do you prefer:2\n",
      "Peter: 4, Nancy: 2, Mary:0\n",
      "\n",
      "1: Peter\n",
      "2: Nancy\n",
      "3: Mary\n",
      "Which one do you prefer:5\n",
      "Peter: 4, Nancy: 2, Mary:0\n",
      "\n",
      "1: Peter\n",
      "2: Nancy\n",
      "3: Mary\n",
      "Which one do you prefer:3\n",
      "Peter: 4, Nancy: 2, Mary:1\n",
      "\n",
      "1: Peter\n",
      "2: Nancy\n",
      "3: Mary\n",
      "Which one do you prefer:2\n",
      "Peter: 4, Nancy: 3, Mary:1\n",
      "\n",
      "1: Peter\n",
      "2: Nancy\n",
      "3: Mary\n",
      "Which one do you prefer:1\n",
      "Peter: 5, Nancy: 3, Mary:1\n",
      "\n",
      "Peter: 5, Nancy: 3, Mary:1\n",
      "Invalid: 1\n"
     ]
    }
   ],
   "source": [
    "a1=0\n",
    "a2=0\n",
    "a3=0\n",
    "none=0\n",
    "\n",
    "for i in range(1,11):\n",
    "  print()\n",
    "  print('1: Peter')\n",
    "  print('2: Nancy')\n",
    "  print('3: Mary')\n",
    "  print('Which one do you prefer:', end = '')\n",
    "\n",
    "  toll = eval(input())\n",
    "  if toll == 1:\n",
    "      a1 += 1\n",
    "  elif toll == 2:\n",
    "      a2 += 1\n",
    "  elif toll == 3:\n",
    "      a3 += 1\n",
    "  else:\n",
    "    none += 1\n",
    "  print('Peter: %d, Nancy: %d, Mary:%d'%(a1,a2,a3))\n",
    "\n",
    "print('\\nPeter: %d, Nancy: %d, Mary:%d'%(a1,a2,a3))\n",
    "print('Invalid: %d'%(none))"
   ]
  }
 ],
 "metadata": {
  "colab": {
   "name": "第一章範例及習題.ipynb",
   "provenance": []
  },
  "kernelspec": {
   "display_name": "Python 3",
   "language": "python",
   "name": "python3"
  },
  "language_info": {
   "codemirror_mode": {
    "name": "ipython",
    "version": 3
   },
   "file_extension": ".py",
   "mimetype": "text/x-python",
   "name": "python",
   "nbconvert_exporter": "python",
   "pygments_lexer": "ipython3",
   "version": "3.7.6"
  }
 },
 "nbformat": 4,
 "nbformat_minor": 1
}
