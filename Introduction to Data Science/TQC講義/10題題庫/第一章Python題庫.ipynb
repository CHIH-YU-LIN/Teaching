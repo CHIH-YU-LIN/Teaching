{
 "cells": [
  {
   "cell_type": "raw",
   "metadata": {},
   "source": [
    "綜合範例11\n",
    "\n",
    "請使用者輸入攝氏溫度，然後輸出其對應的華氏溫度。"
   ]
  },
  {
   "cell_type": "code",
   "execution_count": 1,
   "metadata": {
    "colab": {
     "base_uri": "https://localhost:8080/",
     "height": 50
    },
    "colab_type": "code",
    "id": "rmoFgbDArT65",
    "outputId": "03c2696e-ab7c-43af-f81b-6414bc3ae9ac"
   },
   "outputs": [
    {
     "name": "stdout",
     "output_type": "stream",
     "text": [
      "0\n",
      "Celsis 0.00 ---> Fahrenheit 32.00\n"
     ]
    }
   ],
   "source": [
    "cDegree = eval(input())\n",
    "fDegree = (9/5)*cDegree+32\n",
    "\n",
    "print(\"Celsis %.2f ---> Fahrenheit %.2f\"%(cDegree,fDegree))"
   ]
  },
  {
   "cell_type": "raw",
   "metadata": {},
   "source": [
    "綜合範例12\n",
    "\n",
    "請使用者輸入三角形的三點座標，然後計算此三角形的面積。\n",
    "\n",
    "提示：假設三角形三個點的座標為(x1,y1),(x2,y2),(x3,y3)，則三邊的長分別為side1,side2,以及side3。\n",
    "\n",
    "利用綜合範例8可得到這三邊的長。然後利用下列公式即可得到此三角形的面積。\n",
    "s＝(side1＋side2＋side3)/2\n",
    "area＝√s＊(s-side1)＊(s-side2)＊(s-side3)"
   ]
  },
  {
   "cell_type": "code",
   "execution_count": 2,
   "metadata": {
    "colab": {
     "base_uri": "https://localhost:8080/",
     "height": 84
    },
    "colab_type": "code",
    "id": "oKObgXfErgQq",
    "outputId": "6bc43bed-9cf6-4f9d-9b60-230256ab75c8"
   },
   "outputs": [
    {
     "name": "stdout",
     "output_type": "stream",
     "text": [
      "1.5,-3.4\n",
      "4.6,5\n",
      "9.5, -3.4\n",
      "The area of the triangle=33.60\n"
     ]
    }
   ],
   "source": [
    "import math\n",
    "x1,y1=eval(input())\n",
    "x2,y2=eval(input())\n",
    "x3,y3=eval(input())\n",
    "\n",
    "side1=math.sqrt((x2-x1)**2+(y2-y1)**2)\n",
    "side2=math.sqrt((x3-x1)**2+(y3-y1)**2)\n",
    "side3=math.sqrt((x3-x2)**2+(y3-y2)**2)\n",
    "\n",
    "s=(side1+side2+side3)/2\n",
    "area=math.sqrt((s*(s-side1)*(s-side2)*(s-side3)))\n",
    "print(\"The area of the triangle=%.2f\"%(area))"
   ]
  },
  {
   "cell_type": "raw",
   "metadata": {},
   "source": [
    "綜合範例13\n",
    "\n",
    "請使用者輸入矩形的長和寬(皆為正整數)，然後計算此矩形的面積和周長(輸出結果欄位為4)。"
   ]
  },
  {
   "cell_type": "code",
   "execution_count": 3,
   "metadata": {
    "colab": {
     "base_uri": "https://localhost:8080/",
     "height": 67
    },
    "colab_type": "code",
    "id": "PZVPjAPJruz8",
    "outputId": "f2436968-8d0a-46b7-c628-17192e407542"
   },
   "outputs": [
    {
     "name": "stdout",
     "output_type": "stream",
     "text": [
      "5,10\n",
      "area=  50\n",
      "perimeter=  30\n"
     ]
    }
   ],
   "source": [
    "length,width=eval(input())\n",
    "area=length*width\n",
    "perimeter=2*(length+width)\n",
    "print(\"area=%4d\"%(area))\n",
    "print(\"perimeter=%4d\"%(perimeter))"
   ]
  },
  {
   "cell_type": "raw",
   "metadata": {},
   "source": [
    "綜合範例14\n",
    "\n",
    "請使用者輸入起始的速度v0、結束的速度v1，然後顯示其平均速度。"
   ]
  },
  {
   "cell_type": "code",
   "execution_count": 4,
   "metadata": {
    "colab": {
     "base_uri": "https://localhost:8080/",
     "height": 50
    },
    "colab_type": "code",
    "id": "cn2PjmaPr5G6",
    "outputId": "ee2c3097-a4c2-4f8e-be9b-1d3dfd0674f9"
   },
   "outputs": [
    {
     "name": "stdout",
     "output_type": "stream",
     "text": [
      "5.8, 51.6, 4.6\n",
      "average acceleration is 9.96\n"
     ]
    }
   ],
   "source": [
    "v0,v1,t = eval(input())\n",
    "a=(v1-v0)/t\n",
    "print(\"average acceleration is %.2f\"%(a))"
   ]
  },
  {
   "cell_type": "raw",
   "metadata": {},
   "source": [
    "綜合範例15\n",
    "\n",
    "假設你每個月在帳戶存款10000，銀行的年利率為1.23%，也就是說，月利率為0.0123/12=0.001025。\n",
    "\n",
    "一個月後，帳戶的存款會是：10000*(1+0.001025)=10010.25\n",
    "\n",
    "兩個月過後，帳戶的存款會變成：10010.25*(1+0.001025)=10020.51\n",
    "\n",
    "三個月過後，帳戶的存款會變成：10020.51*(1+0.001025)=10030.78，依此類推。\n",
    "\n",
    "請撰寫一程式，提示使用者每個月存入帳戶的金額，並顯示六個月後帳戶裏的總金額(輸出到小數點後2位)。\n"
   ]
  },
  {
   "cell_type": "code",
   "execution_count": 9,
   "metadata": {
    "colab": {
     "base_uri": "https://localhost:8080/",
     "height": 128
    },
    "colab_type": "code",
    "id": "St8oF9ODsFuz",
    "outputId": "ca4f1c33-c73e-4203-a77b-063ed059213f"
   },
   "outputs": [
    {
     "name": "stdout",
     "output_type": "stream",
     "text": [
      "Enter monthly saving amount: 10000\n",
      "10061.657809293767\n",
      "After the sixth month,the account value is 10061.66\n"
     ]
    }
   ],
   "source": [
    "monthlyDeposit = eval(input(\"Enter monthly saving amount: \"))\n",
    "currentValue = monthlyDeposit\n",
    "\n",
    "# First month value\n",
    "currentValue = currentValue * (1 + 0.0123/12)\n",
    "\n",
    "# Second month value\n",
    "currentValue = currentValue * (1 + 0.0123/12)\n",
    "\n",
    "# Third month value\n",
    "currentValue = currentValue * (1 + 0.0123/12)\n",
    "\n",
    "# Fourth month value\n",
    "currentValue = currentValue * (1 + 0.0123/12)\n",
    "\n",
    "# Fifth month value\n",
    "currentValue = currentValue * (1 + 0.0123/12)\n",
    "\n",
    "# Sixth month value\n",
    "currentValue = currentValue * (1 + 0.0123/12)\n",
    "\n",
    "print(\"After the sixth month,the account value is %.2f\" % (currentValue))"
   ]
  },
  {
   "cell_type": "raw",
   "metadata": {},
   "source": [
    "習題1\n",
    "\n",
    "請撰寫一程式，請使用輸入華氏溫度，然後輸出其對應的攝氏溫度。\n",
    "\n",
    "提示：攝氏溫度=(華氏溫度-32)*5/9"
   ]
  },
  {
   "cell_type": "code",
   "execution_count": 10,
   "metadata": {
    "colab": {
     "base_uri": "https://localhost:8080/",
     "height": 50
    },
    "colab_type": "code",
    "id": "gF3Ji8-kub5k",
    "outputId": "5ab7ce6e-7b5c-424d-88b6-1d3bff5f43d7"
   },
   "outputs": [
    {
     "name": "stdout",
     "output_type": "stream",
     "text": [
      "212\n",
      "Fahrenheit 212.00 ---> Celsius 100.00\n"
     ]
    }
   ],
   "source": [
    "fDegree = eval(input())\n",
    "cDegree = (fDegree-32)*5/9\n",
    "print(\"Fahrenheit %.2f ---> Celsius %.2f\"%(fDegree, cDegree))"
   ]
  },
  {
   "cell_type": "code",
   "execution_count": null,
   "metadata": {},
   "outputs": [],
   "source": [
    "習題2\n",
    "\n",
    "area=(5s*s)/(4tan⁡(π/5))，其中s=2rsin⁡(π/5)，r為五邊形的中心點到頂點的距離。\n",
    "\n",
    "請使用者輸入r，然後計算五邊形的面積(輸出到小數點後2位)。"
   ]
  },
  {
   "cell_type": "code",
   "execution_count": 11,
   "metadata": {
    "colab": {
     "base_uri": "https://localhost:8080/",
     "height": 50
    },
    "colab_type": "code",
    "id": "J5X6PZWzxe_X",
    "outputId": "fc9efa8a-48ab-4f1f-a6b1-63166c24631f"
   },
   "outputs": [
    {
     "name": "stdout",
     "output_type": "stream",
     "text": [
      "5.5\n",
      "Area is 71.92\n"
     ]
    }
   ],
   "source": [
    "import math\n",
    "r = eval(input())\n",
    "s = 2 * r * math.sin(math.pi/5)\n",
    "area = (5/(4*math.tan(math.pi/5)))*(s**2)\n",
    "print(\"Area is %.2f\"%(area))"
   ]
  },
  {
   "cell_type": "raw",
   "metadata": {},
   "source": [
    "習題3\n",
    "\n",
    "給訂飛機的加速度a，以及起飛的速度V，在不考慮外力損耗下(如輪胎摩擦力、空氣阻力等)則要讓飛機起飛的最短跑道長度為length=v^2/2a。\n",
    "\n",
    "試撰寫一程式，提示使用者輸入以公尺/秒為單位的速度ｖ，以及以公尺/秒平方為單位的加速度a，然後輸出最短的跑道長度(輸出到小數點後2位)。"
   ]
  },
  {
   "cell_type": "code",
   "execution_count": 12,
   "metadata": {
    "colab": {
     "base_uri": "https://localhost:8080/",
     "height": 50
    },
    "colab_type": "code",
    "id": "XzM9BpoozKND",
    "outputId": "d71d3d3a-88f5-4186-9539-0432580e497b"
   },
   "outputs": [
    {
     "name": "stdout",
     "output_type": "stream",
     "text": [
      "70,4.3\n",
      "Minimum runway length is 569.77 meters\n"
     ]
    }
   ],
   "source": [
    "v, a = eval(input())\n",
    "length = v**2 / (2*a)\n",
    "print(\"Minimum runway length is %.2f meters\"%(length))"
   ]
  },
  {
   "cell_type": "raw",
   "metadata": {},
   "source": [
    "習題4\n",
    "\n",
    "請撰寫一程式，計算從起始溫度到最後溫度時熱水所需要的能量。在城市中提示使用者輸入熱水量(公斤)、起始溫度與最後溫度。計算能量的公式如下:Q= M*(finalT-initialT)*4184\n",
    "其中M是熱水的公斤數，finalT是最後溫度，initialT是起始溫度，Q是以焦耳(Joules)來衡量的能量(輸出到小數點後2位)。"
   ]
  },
  {
   "cell_type": "code",
   "execution_count": 13,
   "metadata": {
    "colab": {
     "base_uri": "https://localhost:8080/",
     "height": 50
    },
    "colab_type": "code",
    "id": "0dbwKFAf0A2w",
    "outputId": "02ab4a78-2d51-4d06-d157-1a26a9b49b5d"
   },
   "outputs": [
    {
     "name": "stdout",
     "output_type": "stream",
     "text": [
      "10,12,100\n",
      "Q=3681920.00\n"
     ]
    }
   ],
   "source": [
    "# input M, initialT, and finalT\n",
    "M,initialT,finalT = eval(input())\n",
    "Q=M*(finalT-initialT)*4184\n",
    "print('Q=%.2f'%(Q))"
   ]
  },
  {
   "cell_type": "raw",
   "metadata": {},
   "source": [
    "習題5\n",
    "\n",
    "請撰寫一程式，計算圓柱體的底面積和體積(輸出到小數點後2位)。在程式中提示使用者輸入圓柱的半徑和高。\n",
    "area = πr^2\n",
    "volume = area * height\n",
    "\n",
    "其中area是底面積，volume是體積，r是圓柱體的半徑，height是圓柱體的高度。\n"
   ]
  },
  {
   "cell_type": "code",
   "execution_count": 14,
   "metadata": {
    "colab": {
     "base_uri": "https://localhost:8080/",
     "height": 50
    },
    "colab_type": "code",
    "id": "g8n5ojee4Eej",
    "outputId": "80027386-6d75-4c66-f674-6c0827bd7d80"
   },
   "outputs": [
    {
     "name": "stdout",
     "output_type": "stream",
     "text": [
      "6.5, 10\n",
      "area:132.73, volume:1327.32\n"
     ]
    }
   ],
   "source": [
    "import math\n",
    "r, height = eval(input())\n",
    "area = r * r * math.pi\n",
    "volume = area * height\n",
    "print(\"area:%.2f, volume:%.2f\"%(area, volume))\n"
   ]
  }
 ],
 "metadata": {
  "colab": {
   "name": "第一章範例及習題.ipynb",
   "provenance": []
  },
  "kernelspec": {
   "display_name": "Python 3",
   "language": "python",
   "name": "python3"
  },
  "language_info": {
   "codemirror_mode": {
    "name": "ipython",
    "version": 3
   },
   "file_extension": ".py",
   "mimetype": "text/x-python",
   "name": "python",
   "nbconvert_exporter": "python",
   "pygments_lexer": "ipython3",
   "version": "3.7.4"
  }
 },
 "nbformat": 4,
 "nbformat_minor": 1
}
