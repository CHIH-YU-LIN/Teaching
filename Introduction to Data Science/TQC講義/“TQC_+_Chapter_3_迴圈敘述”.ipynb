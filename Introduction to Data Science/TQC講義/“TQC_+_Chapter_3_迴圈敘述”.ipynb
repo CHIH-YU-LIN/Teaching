{
 "cells": [
  {
   "cell_type": "markdown",
   "metadata": {},
   "source": [
    "# Chapter 3 迴圈敘述"
   ]
  },
  {
   "cell_type": "markdown",
   "metadata": {},
   "source": [
    "- 3-1 while迴圈\n",
    "- 3-2 for...in range迴圈\n",
    "- 3-3 巢狀迴圈"
   ]
  },
  {
   "cell_type": "markdown",
   "metadata": {},
   "source": [
    "**迴圈敘述(loop statement)** 表示重覆執行某些敘述。\n",
    "\n",
    "迴圈敘述的**三個要件** 分別是初值設定運算式、條件運算式，以及更新運算式。\n",
    "\n",
    "Python的**兩種迴圈敘述** 分別是以while和for,,,in range的方式表示。"
   ]
  },
  {
   "cell_type": "markdown",
   "metadata": {},
   "source": [
    "## 3-1 while敘述\n",
    "\n",
    "while迴圈敘述如下：\n",
    "\n",
    "```\n",
    "初值設定\n",
    "while條件運算式：\n",
    "    主體敘述\n",
    "```\n",
    "\n",
    "注意，while敘述後面要加分號(;)。\n",
    "\n",
    "迴圈要執行的主體敘述要內縮，並且對齊。"
   ]
  },
  {
   "cell_type": "code",
   "execution_count": 1,
   "metadata": {},
   "outputs": [
    {
     "name": "stdout",
     "output_type": "stream",
     "text": [
      "total =  5050\n"
     ]
    }
   ],
   "source": [
    "# 範例程式\n",
    "## 從1加到100的總和\n",
    "\n",
    "i = 1\n",
    "total = 0\n",
    "\n",
    "while i <= 100:\n",
    "    total += i\n",
    "    i += 1\n",
    "print(\"total = \", total)\n",
    "\n",
    "## 從2加到100的總和，i = 2\n",
    "## 從1加到99的總和，while i < 100:\n",
    "## 從1加到100的奇數總和， i += 2"
   ]
  },
  {
   "cell_type": "markdown",
   "metadata": {},
   "source": [
    "## 3-2 for ... in range迴圈\n",
    "\n",
    "for...in range敘述的語法如下：\n",
    "\n",
    "```\n",
    "for i in range(start, end, step):\n",
    "```\n",
    "\n",
    "表示i從start值開始，直到end-1，中間每次加step值。\n",
    "\n",
    "若step值為1，則可省略。"
   ]
  },
  {
   "cell_type": "code",
   "execution_count": 2,
   "metadata": {},
   "outputs": [
    {
     "name": "stdout",
     "output_type": "stream",
     "text": [
      "total =  5050\n"
     ]
    }
   ],
   "source": [
    "# 範例程式\n",
    "## 從1加到100的總和\n",
    "\n",
    "total = 0\n",
    "for i in range(1, 101):\n",
    "    total += i\n",
    "print(\"total = \", total)\n",
    "\n",
    "## 從2加到100的總和\n",
    "## 從1加到99的總和\n",
    "## 從1加到100的奇數總和"
   ]
  },
  {
   "cell_type": "markdown",
   "metadata": {},
   "source": [
    "## 3-3 巢狀迴圈\n",
    "\n",
    "巢狀迴圈(nested loop)或稱多重迴圈，亦即迴圈內又有一迴圈，外迴圈內有內迴圈。"
   ]
  },
  {
   "cell_type": "code",
   "execution_count": 3,
   "metadata": {},
   "outputs": [
    {
     "name": "stdout",
     "output_type": "stream",
     "text": [
      "=====\n",
      "x = 1\n",
      " y = 1\n",
      " y = 2\n",
      " y = 3\n",
      " y = 4\n",
      " y = 5\n",
      "=====\n",
      "x = 2\n",
      " y = 1\n",
      " y = 2\n",
      " y = 3\n",
      " y = 4\n",
      " y = 5\n",
      "=====\n",
      "x = 3\n",
      " y = 1\n",
      " y = 2\n",
      " y = 3\n",
      " y = 4\n",
      " y = 5\n",
      "=====\n",
      "x = 4\n",
      " y = 1\n",
      " y = 2\n",
      " y = 3\n",
      " y = 4\n",
      " y = 5\n",
      "=====\n",
      "x = 5\n",
      " y = 1\n",
      " y = 2\n",
      " y = 3\n",
      " y = 4\n",
      " y = 5\n",
      "=====\n"
     ]
    }
   ],
   "source": [
    "# 範例程式\n",
    "\n",
    "print(\"=====\")\n",
    "for x in range(1, 6):\n",
    "    print(\"x = %d\" %(x))\n",
    "    for y in range(1,6):\n",
    "        print(\" y = %d\"%(y))\n",
    "    print(\"=====\")"
   ]
  },
  {
   "cell_type": "code",
   "execution_count": 20,
   "metadata": {},
   "outputs": [
    {
     "name": "stdout",
     "output_type": "stream",
     "text": [
      "1*1= 1   2*1= 2   3*1= 3   4*1= 4   5*1= 5   6*1= 6   7*1= 7   8*1= 8   9*1= 9   \n",
      "1*2= 2   2*2= 4   3*2= 6   4*2= 8   5*2=10   6*2=12   7*2=14   8*2=16   9*2=18   \n",
      "1*3= 3   2*3= 6   3*3= 9   4*3=12   5*3=15   6*3=18   7*3=21   8*3=24   9*3=27   \n",
      "1*4= 4   2*4= 8   3*4=12   4*4=16   5*4=20   6*4=24   7*4=28   8*4=32   9*4=36   \n",
      "1*5= 5   2*5=10   3*5=15   4*5=20   5*5=25   6*5=30   7*5=35   8*5=40   9*5=45   \n",
      "1*6= 6   2*6=12   3*6=18   4*6=24   5*6=30   6*6=36   7*6=42   8*6=48   9*6=54   \n",
      "1*7= 7   2*7=14   3*7=21   4*7=28   5*7=35   6*7=42   7*7=49   8*7=56   9*7=63   \n",
      "1*8= 8   2*8=16   3*8=24   4*8=32   5*8=40   6*8=48   7*8=56   8*8=64   9*8=72   \n",
      "1*9= 9   2*9=18   3*9=27   4*9=36   5*9=45   6*9=54   7*9=63   8*9=72   9*9=81   \n"
     ]
    }
   ],
   "source": [
    "# 範例程式\n",
    "## 九九乘法表\n",
    "\n",
    "for x in range(1,10):\n",
    "    for y in range(1,10):\n",
    "        print(\"%d*%d=%2d \" %(y, x, y*x), end = '  ') #同一列是內迴圈y在變\n",
    "    print()"
   ]
  },
  {
   "cell_type": "markdown",
   "metadata": {},
   "source": [
    "## 綜合範例"
   ]
  },
  {
   "cell_type": "raw",
   "metadata": {},
   "source": [
    "**TQC+ 程式語言Python 301 迴圈整數連加**\n",
    "\n",
    "1. 題目說明:\n",
    "請開啟PYD301.py檔案，依下列題意進行作答，依輸入值計算總和，使輸出值符合題意要求。作答完成請另存新檔為PYA301.py再進行評分。\n",
    "\n",
    "\n",
    "2. 設計說明：\n",
    "請使用迴圈敘述撰寫一程式，讓使用者輸入兩個正整數a、b（a < b），利用迴圈計算從a開始連加到b的總和。\n",
    "\n",
    "例如：輸入a=1、b=100，則輸出結果為5050（1 + 2 + … + 100 = 5050）。\n",
    "\n",
    "3. 輸入輸出：\n",
    "輸入說明\n",
    "兩個正整數（a、b，且a < b）\n",
    "輸出說明\n",
    "計算從a開始連加到b的總和\n",
    "\n",
    "輸入輸出範例\n",
    "\n",
    "範例輸入\n",
    "66\n",
    "666\n",
    "範例輸出\n",
    "219966|"
   ]
  },
  {
   "cell_type": "code",
   "execution_count": 21,
   "metadata": {},
   "outputs": [
    {
     "name": "stdout",
     "output_type": "stream",
     "text": [
      "66\n",
      "666\n",
      "219966\n"
     ]
    }
   ],
   "source": [
    "# 區間正整數連加\n",
    "# 輸入上下界\n",
    "a = int(input())\n",
    "b = int(input())\n",
    "ans = 0\n",
    "\n",
    "for i in range(a, b + 1):\n",
    "    ans += i\n",
    "print(ans)"
   ]
  },
  {
   "cell_type": "raw",
   "metadata": {},
   "source": [
    "**TQC+ 程式語言Python 302 迴圈偶數連加**\n",
    "\n",
    "1. 題目說明:\n",
    "請開啟PYD302.py檔案，依下列題意進行作答，依輸入值計算偶數的總和，使輸出值符合題意要求。作答完成請另存新檔為PYA302.py再進行評分。\n",
    "\n",
    "\n",
    "2. 設計說明：\n",
    "請使用迴圈敘述撰寫一程式，讓使用者輸入兩個正整數a、b（a < b），利用迴圈計算從a開始的偶數連加到b的總和。\n",
    "\n",
    "例如：輸入a=1、b=100，則輸出結果為2550（2 + 4 + … + 100 = 2550）。\n",
    "\n",
    "3. 輸入輸出：\n",
    "輸入說明\n",
    "兩個正整數（a、b，且a < b）\n",
    "輸出說明\n",
    "計算從a開始的偶數連加到b的總和\n",
    "\n",
    "輸入輸出範例\n",
    "\n",
    "範例輸入\n",
    "14\n",
    "1144\n",
    "範例輸出\n",
    "327714"
   ]
  },
  {
   "cell_type": "code",
   "execution_count": 22,
   "metadata": {},
   "outputs": [
    {
     "name": "stdout",
     "output_type": "stream",
     "text": [
      "14\n",
      "1144\n",
      "327714\n"
     ]
    }
   ],
   "source": [
    "a = int(input())\n",
    "b = int(input())\n",
    "ans = 0\n",
    "\n",
    "for i in range(a, b + 1):\n",
    "    if i % 2 == 0:  # 確認是偶數\n",
    "        ans += i   # 偶數連加\n",
    "print(ans)\n"
   ]
  },
  {
   "cell_type": "raw",
   "metadata": {},
   "source": [
    "**TQC+ 程式語言Python 303 迴圈數值相乘(M)**\n",
    "\n",
    "1. 題目說明:\n",
    "請開啟PYD303.py檔案，依下列題意進行作答，依輸入值以三角形的方式輸出此數相乘結果，使輸出值符合題意要求。作答完成請另存新檔為PYA303.py再進行評分。\n",
    "\n",
    "\n",
    "2. 設計說明：\n",
    "請使用迴圈敘述撰寫一程式，讓使用者輸入一個正整數（`<100`），然後以三角形的方式依序輸出此數的相乘結果。\n",
    "\n",
    "提示：輸出欄寬為4，且需靠右對齊。\n",
    "\n",
    "\n",
    "3. 輸入輸出：\n",
    "輸入說明\n",
    "一個正整數（`<100`）\n",
    "輸出說明\n",
    "\n",
    "輸入輸出範例\n",
    "以三角形的方式依序輸出此數的階乘結果\n",
    "\n",
    "範例輸入1\n",
    "5\n",
    "範例輸出1\n",
    "\n",
    "\n",
    "   1\n",
    "   2   4\n",
    "   3   6   9\n",
    "   4   8  12  16\n",
    "   5  10  15  20  25\n",
    "\n",
    "\n",
    "範例輸入2\n",
    "12\n",
    "範例輸出2\n",
    "\n",
    "\n",
    "   1\n",
    "   2   4\n",
    "   3   6   9\n",
    "   4   8  12  16\n",
    "   5  10  15  20  25\n",
    "   6  12  18  24  30  36\n",
    "   7  14  21  28  35  42  49\n",
    "   8  16  24  32  40  48  56  64\n",
    "   9  18  27  36  45  54  63  72  81\n",
    "  10  20  30  40  50  60  70  80  90 100\n",
    "  11  22  33  44  55  66  77  88  99 110 121\n",
    "  12  24  36  48  60  72  84  96 108 120 132 144\n",
    " "
   ]
  },
  {
   "cell_type": "code",
   "execution_count": 24,
   "metadata": {},
   "outputs": [
    {
     "name": "stdout",
     "output_type": "stream",
     "text": [
      "12\n",
      "   1\n",
      "   2   4\n",
      "   3   6   9\n",
      "   4   8  12  16\n",
      "   5  10  15  20  25\n",
      "   6  12  18  24  30  36\n",
      "   7  14  21  28  35  42  49\n",
      "   8  16  24  32  40  48  56  64\n",
      "   9  18  27  36  45  54  63  72  81\n",
      "  10  20  30  40  50  60  70  80  90 100\n",
      "  11  22  33  44  55  66  77  88  99 110 121\n",
      "  12  24  36  48  60  72  84  96 108 120 132 144\n"
     ]
    }
   ],
   "source": [
    "num = eval(input()) # 輸入正整數（有幾列）\n",
    "\n",
    "for i in range(1, num + 1):\n",
    "    for j in range(1, i + 1): # 隨列數加1為數字個數\n",
    "        print(\"%4d\"%(i*j), end = \"\") # 每列從i開始，有i+1個，每個為i*j\n",
    "    print()"
   ]
  },
  {
   "cell_type": "raw",
   "metadata": {},
   "source": [
    "**TQC+ 程式語言Python 304 迴圈倍數總和**\n",
    "\n",
    "1. 題目說明:\n",
    "請開啟PYD304.py檔案，依下列題意進行作答，依輸入值計算所有5之倍數總和，使輸出值符合題意要求。作答完成請另存新檔為PYA304.py再進行評分。\n",
    "\n",
    "\n",
    "2. 設計說明：\n",
    "請使用迴圈敘述撰寫一程式，讓使用者輸入一個正整數a，利用迴圈計算從1到a之間，所有5之倍數數字總和。\n",
    "\n",
    "\n",
    "3. 輸入輸出：\n",
    "輸入說明\n",
    "一個正整數\n",
    "輸出說明\n",
    "所有5之倍數數字總和\n",
    "\n",
    "輸入輸出範例\n",
    "\n",
    "範例輸入\n",
    "21\n",
    "範例輸出\n",
    "50\n"
   ]
  },
  {
   "cell_type": "code",
   "execution_count": 25,
   "metadata": {},
   "outputs": [
    {
     "name": "stdout",
     "output_type": "stream",
     "text": [
      "21\n",
      "50\n"
     ]
    }
   ],
   "source": [
    "num = eval(input())\n",
    "ans = 0\n",
    "\n",
    "for i in range(1, num + 1): # 計算區間1到輸入值之間\n",
    "    if i % 5 == 0: # 5的倍數\n",
    "        ans += i # 加總值\n",
    "print(ans)"
   ]
  },
  {
   "cell_type": "raw",
   "metadata": {},
   "source": [
    "**TQC+ 程式語言Python 305 數字反轉**\n",
    "\n",
    "1. 題目說明:\n",
    "請開啟PYD305.py檔案，依下列題意進行作答，將輸入值進行反轉，使輸出值符合題意要求。作答完成請另存新檔為PYA305.py再進行評分。\n",
    "\n",
    "2. 設計說明：\n",
    "請撰寫一程式，讓使用者輸入一個正整數，將此數值以反轉的順序輸出。\n",
    "\n",
    "3. 輸入輸出：\n",
    "輸入說明\n",
    "一個正整數\n",
    "輸出說明\n",
    "將此數值以反轉的順序輸出\n",
    "\n",
    "輸入輸出範例\n",
    "\n",
    "範例輸入1\n",
    "31283\n",
    "範例輸出1\n",
    "38213\n",
    "\n",
    "範例輸入2\n",
    "1003120\n",
    "範例輸出2\n",
    "0213001\n"
   ]
  },
  {
   "cell_type": "code",
   "execution_count": null,
   "metadata": {},
   "outputs": [],
   "source": [
    "a = eval(input()) #輸入正整數\n",
    "\n",
    "# 數值以反轉順序輸出\n",
    "while a != 0:\n",
    "    print(a % 10, end = \" \")   # 除以10的餘數，列印\n",
    "    a //= 10   # 除以10的商，繼續迴圈"
   ]
  },
  {
   "cell_type": "raw",
   "metadata": {},
   "source": [
    "**TQC+ 程式語言Python 306 迴圈階乘計算**\n",
    "\n",
    "1. 題目說明:\n",
    "請開啟PYD306.py檔案，依下列題意進行作答，依輸入值計算n!的值，使輸出值符合題意要求。作答完成請另存新檔為PYA306.py再進行評分。\n",
    "\n",
    "\n",
    "2. 設計說明：\n",
    "請使用迴圈敘述撰寫一程式，讓使用者輸入一個正整數n，利用迴圈計算並輸出n!的值。\n",
    "\n",
    "\n",
    "3. 輸入輸出：\n",
    "輸入說明\n",
    "一個正整數\n",
    "輸出說明\n",
    "計算n!的值\n",
    "\n",
    "輸入輸出範例\n",
    "\n",
    "範例輸入\n",
    "15\n",
    "範例輸出\n",
    "1307674368000\n"
   ]
  },
  {
   "cell_type": "code",
   "execution_count": null,
   "metadata": {},
   "outputs": [],
   "source": [
    "# 階乘\n",
    "\n",
    "n = eval(input())\n",
    "result = 1\n",
    "\n",
    "for i in range(1, n + 1):\n",
    "    result *= i\n",
    "print(result)"
   ]
  },
  {
   "cell_type": "raw",
   "metadata": {},
   "source": [
    "**TQC+ 程式語言Python 307 乘法表(M)**\n",
    "\n",
    "1. 題目說明:\n",
    "請開啟PYD307.py檔案，依下列題意進行作答，依輸入值計算n*n乘法表，使輸出值符合題意要求。作答完成請另存新檔為PYA307.py再進行評分。\n",
    "\n",
    "2. 設計說明：\n",
    "(1) 請使用迴圈敘述撰寫一程式，要求使用者輸入一個正整數n（`n<10`），顯示n*n乘法表。\n",
    "\n",
    "(2) 每項運算式需進行格式化排列整齊，每個運算子及運算元輸出的欄寬為2，而每項乘積輸出的欄寬為4，皆靠左對齊不跳行。\n",
    "\n",
    "3. 輸入輸出：\n",
    "輸入說明\n",
    "一個正整數n（`n<10`）\n",
    "輸出說明\n",
    "輸出格式化的n*n乘法表\n",
    "\n",
    "輸入輸出範例\n",
    "範例輸入1\n",
    "3\n",
    "範例輸出1\n",
    "1 * 1 = 1   2 * 1 = 2   3 * 1 = 3\n",
    "1 * 2 = 2   2 * 2 = 4   3 * 2 = 6\n",
    "1 * 3 = 3   2 * 3 = 6   3 * 3 = 9\n",
    "範例輸入2\n",
    "5\n",
    "範例輸出2\n",
    "1 * 1 = 1   2 * 1 = 2   3 * 1 = 3   4 * 1 = 4   5 * 1 = 5\n",
    "1 * 2 = 2   2 * 2 = 4   3 * 2 = 6   4 * 2 = 8   5 * 2 = 10\n",
    "1 * 3 = 3   2 * 3 = 6   3 * 3 = 9   4 * 3 = 12  5 * 3 = 15\n",
    "1 * 4 = 4   2 * 4 = 8   3 * 4 = 12  4 * 4 = 16  5 * 4 = 20\n",
    "1 * 5 = 5   2 * 5 = 10  3 * 5 = 15  4 * 5 = 20  5 * 5 = 25\n"
   ]
  },
  {
   "cell_type": "code",
   "execution_count": 5,
   "metadata": {},
   "outputs": [
    {
     "name": "stdout",
     "output_type": "stream",
     "text": [
      "5\n",
      "1 * 1 = 1   2 * 1 = 2   3 * 1 = 3   4 * 1 = 4   5 * 1 = 5   \n",
      "1 * 2 = 2   2 * 2 = 4   3 * 2 = 6   4 * 2 = 8   5 * 2 = 10  \n",
      "1 * 3 = 3   2 * 3 = 6   3 * 3 = 9   4 * 3 = 12  5 * 3 = 15  \n",
      "1 * 4 = 4   2 * 4 = 8   3 * 4 = 12  4 * 4 = 16  5 * 4 = 20  \n",
      "1 * 5 = 5   2 * 5 = 10  3 * 5 = 15  4 * 5 = 20  5 * 5 = 25  \n"
     ]
    }
   ],
   "source": [
    "n =eval(input())\n",
    "\n",
    "for i in range(1, n + 1):\n",
    "    for j in range(1, n + 1):\n",
    "        print(\"%-2d* %d = %-4d\" %(j, i, j*i), end = \"\")\n",
    "    print()"
   ]
  },
  {
   "cell_type": "raw",
   "metadata": {},
   "source": [
    "**TQC+ 程式語言Python 308 迴圈位數加總(M)**\n",
    "\n",
    "1. 題目說明:\n",
    "請開啟PYD308.py檔案，依下列題意進行作答，將輸入值之每位數全部加總，使輸出值符合題意要求。作答完成請另存新檔為PYA308.py再進行評分。\n",
    "\n",
    "2. 設計說明：\n",
    "請使用迴圈敘述撰寫一程式，要求使用者輸入一個數字，此數字代表後面測試資料的數量。每一筆測試資料是一個正整數（由使用者輸入），將此正整數的每位數全部加總起來。\n",
    "\n",
    "3. 輸入輸出：\n",
    "輸入說明\n",
    "先輸入一個正整數代表後面測試資料的數量\n",
    "依測試資料的數量，再輸入正整數的測試資料\n",
    "輸出說明\n",
    "將測試資料的每位數全部加總\n",
    "\n",
    "輸入輸出範例\n",
    "- 輸入與輸出會交雜如下，輸出的部份以粗體字表示 1\n",
    "1\n",
    "98765\n",
    "Sum of all digits of 98765 is 35\n",
    "\n",
    "- 輸入與輸出會交雜如下，輸出的部份以粗體字表示 2\n",
    "3\n",
    "32412\n",
    "Sum of all digits of 32412 is 12\n",
    "0\n",
    "Sum of all digits of 0 is 0\n",
    "769\n",
    "Sum of all digits of 769 is 22\n"
   ]
  },
  {
   "cell_type": "code",
   "execution_count": null,
   "metadata": {},
   "outputs": [],
   "source": [
    "# 將測試資料的每位數全部加總\n",
    "\n",
    "total = eval(input()) # 測試資料的數量\n",
    "\n",
    "for i in range(total):\n",
    "    num = eval(input()) # 輸入測試值\n",
    "\n",
    "    tmp = num\n",
    "    sum_digit = 0:\n",
    "    while tmp != 0:\n",
    "        sum_digit += tmp % 10 #除以10的餘數，為位數值\n",
    "        tmp //= 10            # 反覆除以10的商\n",
    "    print(\"Sum of all digits of %d is %d\" %(num, num_digit))"
   ]
  },
  {
   "cell_type": "raw",
   "metadata": {},
   "source": [
    "**TQC+ 程式語言Python 309 存款總額(H)**\n",
    "\n",
    "1. 題目說明:\n",
    "請開啟PYD309.py檔案，依下列題意進行作答，計算每個月的存款總額，使輸出值符合題意要求。作答完成請另存新檔為PYA309.py再進行評分。\n",
    "\n",
    "\n",
    "2. 設計說明：\n",
    "請使用迴圈敘述撰寫一程式，提示使用者輸入金額（如10,000）、年收益率（如5.75），以及經過的月份數（如5），接著顯示每個月的存款總額。\n",
    "\n",
    "提示：四捨五入，輸出浮點數到小數點後第二位。\n",
    "\n",
    "\n",
    "舉例：\n",
    "- 假設您存款$10,000，年收益為5.75%。\n",
    "- 過了一個月，存款會是：10000 + 10000 * 5.75 / 1200 = 10047.92\n",
    "- 過了兩個月，存款會是：10047.92 + 10047.92 * 5.75 / 1200 = 10096.06\n",
    "- 過了三個月，存款將是：10096.06 + 10096.06 * 5.75 / 1200 = 10144.44\n",
    "- 以此類推。\n",
    "\n",
    "3. 輸入輸出：\n",
    "\n",
    "輸入說明\n",
    "一個正整數（金額）、一個正數（收益率）及一個正整數（月份）\n",
    "輸出說明\n",
    "格式化輸出每個月的存款總額\n",
    "\n",
    "輸入輸出範例\n",
    "\n",
    "範例輸入\n",
    "\n",
    "50000\n",
    "1.3\n",
    "5\n",
    "\n",
    "範例輸出\n",
    "\n",
    "- Month \t  Amount\n",
    "- 1 \t 50054.17\n",
    "- 2 \t 50108.39\n",
    "- 3 \t 50162.68\n",
    "- 4 \t 50217.02\n",
    "- 5 \t 50271.42\n"
   ]
  },
  {
   "cell_type": "code",
   "execution_count": null,
   "metadata": {},
   "outputs": [],
   "source": [
    "# 輸入金額、年收益率和份數\n",
    "amount = eval(input())\n",
    "rate = eval(input())\n",
    "months = eval(input())\n",
    "\n",
    "# 計算每個月存款總額\n",
    "total = amount\n",
    "print(\"%s \\t %s\" % ('Month', 'Amount'))\n",
    "for i in range(1, months + 1):\n",
    "    total += total * rate /1200\n",
    "    print(\"%3d \\t %.2f\" %(i, total)) "
   ]
  },
  {
   "cell_type": "markdown",
   "metadata": {},
   "source": [
    "**TQC+ 程式語言Python 310 迴圈公式計算(H)**\n",
    "\n",
    "1. 題目說明:\n",
    "請開啟PYD310.py檔案，依下列題意進行作答，依公式計算總和，使輸出值符合題意要求。作答完成請另存新檔為PYA310.py再進行評分。\n",
    "\n",
    "2. 設計說明：\n",
    "請使用迴圈敘述撰寫一程式，讓使用者輸入正整數n (1 < n)，計算以下公式的總和並顯示結果：\n",
    "\n",
    "$\\frac{1}{1+\\sqrt{2}} + \\frac{1}{\\sqrt{2}+ \\sqrt{3}}+....+\\frac{1}{\\sqrt{n-1}+\\sqrt{n}}$\n",
    "\n",
    "提示：輸出結果至小數點後四位。\n",
    "\n",
    "3. 輸入輸出：\n",
    "輸入說明\n",
    "一個正整數\n",
    "輸出說明\n",
    "代入公式計算結果\n",
    "\n",
    "輸入輸出範例\n",
    "範例輸入\n",
    "8\n",
    "範例輸出\n",
    "1.8284"
   ]
  },
  {
   "cell_type": "code",
   "execution_count": 6,
   "metadata": {},
   "outputs": [
    {
     "name": "stdout",
     "output_type": "stream",
     "text": [
      "8\n",
      "1.8284\n"
     ]
    }
   ],
   "source": [
    "n = eval(input())\n",
    "sum_series = 0\n",
    "\n",
    "for i in range(2, n + 1):\n",
    "    sum_series += 1/ ((i-1)**0.5 + i**0.5)\n",
    "print(\"%.4f\" % sum_series)"
   ]
  },
  {
   "cell_type": "raw",
   "metadata": {},
   "source": [
    "**TQC+ 程式語言Python 315**\n",
    "\n",
    "使用迴圈敘述撰寫一程式，然後計算：\n",
    "\n",
    "1 + 1/2 + 1/3 + ... + 1/n\n",
    "\n",
    "或者\n",
    "\n",
    "1/n + 1/(n-1) + 1/(n-2) + ... + 1/n"
   ]
  },
  {
   "cell_type": "code",
   "execution_count": null,
   "metadata": {},
   "outputs": [],
   "source": [
    "n = eval(input())\n",
    "total = 0\n",
    "for i in range(1, n+1):\n",
    "    total += 1.0/i\n",
    "print(\"1 +1/2 +...+1/n = \", total)"
   ]
  },
  {
   "cell_type": "code",
   "execution_count": null,
   "metadata": {},
   "outputs": [],
   "source": [
    "n = eval(input())\n",
    "total = 0\n",
    "\n",
    "for i in range(n, 0, -1):\n",
    "    total += 1.0/i\n",
    "print(\"1/n + 1/(n-1) +...+ 1 = \", total)"
   ]
  },
  {
   "cell_type": "code",
   "execution_count": null,
   "metadata": {},
   "outputs": [],
   "source": []
  }
 ],
 "metadata": {
  "kernelspec": {
   "display_name": "Python 3",
   "language": "python",
   "name": "python3"
  },
  "language_info": {
   "codemirror_mode": {
    "name": "ipython",
    "version": 3
   },
   "file_extension": ".py",
   "mimetype": "text/x-python",
   "name": "python",
   "nbconvert_exporter": "python",
   "pygments_lexer": "ipython3",
   "version": "3.7.4"
  }
 },
 "nbformat": 4,
 "nbformat_minor": 2
}
