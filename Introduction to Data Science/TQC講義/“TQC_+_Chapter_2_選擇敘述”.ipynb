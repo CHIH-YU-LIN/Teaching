{
 "cells": [
  {
   "cell_type": "markdown",
   "metadata": {},
   "source": [
    "# Chapter 2 選擇敘述"
   ]
  },
  {
   "cell_type": "markdown",
   "metadata": {},
   "source": [
    "- 2-1 關係運算子\n",
    "- 2-2 if 敘述\n",
    "- 2-3 if ... else敘述\n",
    "- 2-4 if...elif...else敘述\n",
    "- 2-5 邏輯運算子"
   ]
  },
  {
   "cell_type": "markdown",
   "metadata": {},
   "source": [
    "日常生活充滿了選擇性的問題，如(1)若中樂特獎，則將捐出一些錢給偏鄉：(2)若我有把握期末考可以考90分，則選擇去打球，否則在家練習Python的程式題目；(3)若小明考全班第一名，將領獎金1000元；若是第二名，則領500元；若是第三名，則領300元。\n",
    "Python提供的選擇敘述計有if、if...else、以及if...elif...else，分別對應前面的(1)、(2)、和(3)的敘述。"
   ]
  },
  {
   "cell_type": "markdown",
   "metadata": {},
   "source": [
    "## 2-1 關係運算子"
   ]
  },
  {
   "cell_type": "markdown",
   "metadata": {},
   "source": [
    "在選擇敘述一定會用到關係運算子(relational operator)做為檢視條件運算子的真、假。\n",
    "\n",
    "- `<` 表  小於\n",
    "- `<=` 表  小於等於\n",
    "- `>` 表  大於\n",
    "- `>=` 表  大於等於\n",
    "- `==` 表  等於\n",
    "- `!=` 表  不等於\n",
    "\n",
    "關係運算子的條件運算式最後的運算結果，只有兩種狀況，不是真就是假。"
   ]
  },
  {
   "cell_type": "markdown",
   "metadata": {},
   "source": [
    "## 2-2 if敘述\n",
    "\n",
    "if 敘述的語法如下：\n",
    "\n",
    "```\n",
    "if 條件運算式：\n",
    "    主體敘述\n",
    "```\n",
    "\n",
    "條件運算式用以判斷條件的真假。\n",
    "\n",
    "- 若為真，則執行其對應的主體敘述。\n",
    "- 若為假，則不理會。\n",
    "\n",
    "注意，條件運算式的後面要加冒號（：），而且要執行的主體敘述要內縮，內縮幾格沒有硬性規定，通常是四個空格。"
   ]
  },
  {
   "cell_type": "code",
   "execution_count": 1,
   "metadata": {},
   "outputs": [
    {
     "name": "stdout",
     "output_type": "stream",
     "text": [
      "Enter a number: 10\n",
      "10 is greater than 0\n",
      "Over\n"
     ]
    }
   ],
   "source": [
    "# 範例程式\n",
    "## 使用者輸入一值，指定給變數a，然後判斷a是否大於0。\n",
    "## 若是，則印出a大於0的訊息；若否，則不加理會。\n",
    "\n",
    "a = eval(input(\"Enter a number: \"))\n",
    "if a > 0:\n",
    "    print(a, \"is greater than 0\")\n",
    "print(\"Over\")    "
   ]
  },
  {
   "cell_type": "markdown",
   "metadata": {},
   "source": [
    "## 2-3 if... else敘述\n",
    "\n",
    "If... else 敘述的語法如下：\n",
    "\n",
    "```\n",
    "if 條件運算式：\n",
    "    主體敘述1\n",
    "else:\n",
    "    主體敘述2\n",
    "```\n",
    "\n",
    "條件運算式用以判斷條件的真、假。\n",
    "\n",
    "- 若為真，則執行其對應的主體敘述1。\n",
    "- 若為假，則執行主體敘述2。\n",
    "\n",
    "注意，條件運算式和else的後面都要加冒號（：），而且要執行的主體敘述1和主體敘述2都要內縮。"
   ]
  },
  {
   "cell_type": "code",
   "execution_count": 2,
   "metadata": {},
   "outputs": [
    {
     "name": "stdout",
     "output_type": "stream",
     "text": [
      "Enter a number: 10\n",
      "10 is greater than 0\n",
      "Over\n"
     ]
    }
   ],
   "source": [
    "# 範例程式\n",
    "## 使用者輸入一值，指定給變數a，然後判斷a是否大於0。\n",
    "## 若是，則印出a大於0的訊息；若否，則印出小於0的訊息。\n",
    "\n",
    "a = eval(input(\"Enter a number: \"))\n",
    "if a > 0:\n",
    "    print(a, \"is greater than 0\")\n",
    "else:\n",
    "    print(a, \"is less than 0\")\n",
    "print(\"Over\")"
   ]
  },
  {
   "cell_type": "markdown",
   "metadata": {},
   "source": [
    "## 2-4 if...elif...else敘述\n",
    "\n",
    "if...elif...else敘述的語法如下：\n",
    "\n",
    "```\n",
    "if 條件運算式：\n",
    "    主體敘述1\n",
    "elif條件運算式：\n",
    "    主體敘述2\n",
    "else:\n",
    "    主體敘述3\n",
    "```\n",
    "\n",
    "條件運算式用以判斷條件的真、假。\n",
    "\n",
    "- 若為真，則執行其對應的主體敘述1。\n",
    "- 若為假，再繼續。\n",
    "\n",
    "判斷elif內的條件運算式的真、假\n",
    "\n",
    "- 若為真，則執行其對應的主體敘述2。\n",
    "- 若為假，則執行主體敘述3。"
   ]
  },
  {
   "cell_type": "code",
   "execution_count": 5,
   "metadata": {},
   "outputs": [
    {
     "name": "stdout",
     "output_type": "stream",
     "text": [
      "10 is greater than 0\n",
      "Over\n"
     ]
    }
   ],
   "source": [
    "# 範例程式\n",
    "## 使用者輸入一值，指定給變數a，然後判斷a是否大於0。\n",
    "## 若是，則印出a大於0的訊息；若小於0，則印出a小於0的訊息；若等於0，則印出a等於0的訊息。\n",
    "\n",
    "if a > 0:\n",
    "    print(a, \"is greater than 0\")\n",
    "elif a < 0:\n",
    "    print(a, \"is less than 0\")\n",
    "else:\n",
    "    print(a, \"is equal to 0\")\n",
    "print(\"Over\")"
   ]
  },
  {
   "cell_type": "code",
   "execution_count": 7,
   "metadata": {},
   "outputs": [
    {
     "name": "stdout",
     "output_type": "stream",
     "text": [
      "Enter parameters a,b,c: 1,2,1\n",
      "One Solution\n",
      "Over\n"
     ]
    }
   ],
   "source": [
    "# 範例程式\n",
    "## 一元二次方程式的解有三種情況，無解、唯一解、兩個不同解。\n",
    "\n",
    "a,b,c = eval(input(\"Enter parameters a,b,c: \"))\n",
    "d = b*b - 4*a*c\n",
    "\n",
    "if d > 0:\n",
    "    print(\"Two Different Solutions\")\n",
    "elif d == 0:\n",
    "    print(\"One Solution\")\n",
    "else:\n",
    "    print(\"No Solution\")\n",
    "print(\"Over\")"
   ]
  },
  {
   "cell_type": "code",
   "execution_count": 8,
   "metadata": {},
   "outputs": [
    {
     "name": "stdout",
     "output_type": "stream",
     "text": [
      "Enter height in centimeters: 185\n",
      "Enter weight in kilograms: 68\n",
      "Your BMI is  19.87\n",
      "Normal\n"
     ]
    }
   ],
   "source": [
    "# 範例程式\n",
    "## BMI測量\n",
    "\n",
    "height = eval(input(\"Enter height in centimeters: \"))\n",
    "weight = eval(input(\"Enter weight in kilograms: \"))\n",
    "\n",
    "bmi = weight / (height/100) ** 2\n",
    "print(\"Your BMI is %6.2f\" %(bmi))\n",
    "\n",
    "if bmi < 18.5:\n",
    "    print(\"Underweight\")\n",
    "elif bmi < 25.0:\n",
    "    print(\"Normal\")\n",
    "elif bmi < 30:\n",
    "    print(\"Overweight\")\n",
    "else:\n",
    "    printP(\"Obese\")"
   ]
  },
  {
   "cell_type": "markdown",
   "metadata": {},
   "source": [
    "## 2-5 邏輯運算子\n",
    "\n",
    "有時一個條件運算式不足以檢視問題的真假，需要多個條件運算式時，必須藉助邏輯運算子(logical operator)。\n",
    "\n",
    "- and 表 且\n",
    "- or 表 或\n",
    "- not 表 反"
   ]
  },
  {
   "cell_type": "code",
   "execution_count": 9,
   "metadata": {},
   "outputs": [
    {
     "name": "stdout",
     "output_type": "stream",
     "text": [
      "Enter a number: 100\n",
      "100 is not in the between 85 and 95\n",
      "Over\n"
     ]
    }
   ],
   "source": [
    "num = eval(input(\"Enter a number: \"))\n",
    "\n",
    "if (85 <= num) and (num <= 95):    #或寫成(85<= num <=95)\n",
    "    print(\"%d is in the between 85 and 95\" %(num))\n",
    "else:\n",
    "    print(\"%d is not in the between 85 and 95\" %(num))\n",
    "print(\"Over\")"
   ]
  },
  {
   "cell_type": "markdown",
   "metadata": {},
   "source": [
    "## 綜合範例"
   ]
  },
  {
   "cell_type": "raw",
   "metadata": {},
   "source": [
    "**TQC+ 程式語言Python 201 偶數判斷**\n",
    "\n",
    "1. 題目說明:\n",
    "請開啟PYD201.py檔案，依下列題意進行作答，判斷輸入值是否為偶數，使輸出值符合題意要求。作答完成請另存新檔為PYA201.py再進行評分。\n",
    "\n",
    "2. 設計說明：\n",
    "請使用選擇敘述撰寫一程式，讓使用者輸入一個正整數，然後判斷它是否為偶數（even）。\n",
    "\n",
    "3. 輸入輸出：\n",
    "輸入說明\n",
    "一個正整數\n",
    "輸出說明\n",
    "判斷是否為偶數\n",
    "\n",
    "輸入輸出範例\n",
    "\n",
    "範例輸入1\n",
    "56\n",
    "範例輸出1\n",
    "56 is an even number.\n",
    "\n",
    "範例輸入2\n",
    "21\n",
    "範例輸出2\n",
    "21 is not an even number."
   ]
  },
  {
   "cell_type": "code",
   "execution_count": 10,
   "metadata": {},
   "outputs": [
    {
     "name": "stdout",
     "output_type": "stream",
     "text": [
      "56\n",
      "56 is an even number.\n"
     ]
    }
   ],
   "source": [
    "a = int(input())\n",
    "\n",
    "if a%2 == 0:\n",
    "    print(\"%d is an even number.\" % a)\n",
    "else:\n",
    "    print(\"%d is not an even number.\" % a)"
   ]
  },
  {
   "cell_type": "raw",
   "metadata": {},
   "source": [
    "**TQC+ 程式語言Python 202 倍數判斷**\n",
    "\n",
    "1. 題目說明:\n",
    "請開啟PYD202.py檔案，依下列題意進行作答，判斷輸入值是否為3或5的倍數，使輸出值符合題意要求。作答完成請另存新檔為PYA202.py再進行評分。\n",
    "\n",
    "2. 設計說明：\n",
    "請使用選擇敘述撰寫一程式，讓使用者輸入一個正整數，然後判斷它是3或5的倍數，顯示【x is a multiple of 3.】或【x is a multiple of 5.】；若此數值同時為3與5的倍數，顯示【x is a multiple of 3 and 5.】；如此數值皆不屬於3或5的倍數，顯示【x is not a multiple of 3 or 5.】，將使用者輸入的數值代入x。\n",
    "\n",
    "3. 輸入輸出：\n",
    "輸入說明\n",
    "一個正整數\n",
    "輸出說明\n",
    "判斷是否為3或者是5的倍數\n",
    "\n",
    "輸入輸出範例\n",
    "\n",
    "範例輸入1\n",
    "55\n",
    "範例輸出1\n",
    "55 is a multiple of 5.\n",
    "\n",
    "範例輸入2\n",
    "36\n",
    "範例輸出2\n",
    "36 is a multiple of 3.\n",
    "\n",
    "範例輸入3\n",
    "92\n",
    "範例輸出3\n",
    "92 is not a multiple of 3 or 5.\n",
    "\n",
    "範例輸入4\n",
    "15\n",
    "範例輸出4\n",
    "15 is a multiple of 3 and 5."
   ]
  },
  {
   "cell_type": "code",
   "execution_count": 11,
   "metadata": {},
   "outputs": [
    {
     "name": "stdout",
     "output_type": "stream",
     "text": [
      "92\n",
      "92 is not a multiple of 3 or 5.\n"
     ]
    }
   ],
   "source": [
    "a = int(input())\n",
    "\n",
    "if (a%3 ==0) and (a%5 == 0):\n",
    "    print(\"%d is a multiple of 3 and 5.\" % a)\n",
    "elif a%3 == 0:\n",
    "    print(\"%d is a mutiple of 3.\" % a)\n",
    "elif a%5 == 0:\n",
    "    print(\"%d is a multiple of 5.\" %a)\n",
    "else:\n",
    "    print(\"%d is not a multiple of 3 or 5.\" % a)"
   ]
  },
  {
   "cell_type": "raw",
   "metadata": {},
   "source": [
    "**TQC+ 程式語言Python 203 閏年判斷(M)**\n",
    "\n",
    "1. 題目說明:\n",
    "請開啟PYD203.py檔案，依下列題意進行作答，判斷輸入值是否為閏年，使輸出值符合題意要求。作答完成請另存新檔為PYA203.py再進行評分。\n",
    "\n",
    "2. 設計說明：\n",
    "請使用選擇敘述撰寫一程式，讓使用者輸入一個西元年份，然後判斷它是否為閏年（leap year）或平年。其判斷規則為：每四年一閏，每百年不閏，但每四百年也一閏。\n",
    "\n",
    "3. 輸入輸出：\n",
    "輸入說明\n",
    "一個正整數\n",
    "輸出說明\n",
    "判斷是否為閏年或平年\n",
    "\n",
    "輸入輸出範例\n",
    "- 範例輸入1\n",
    "1992\n",
    "- 範例輸出1\n",
    "1992 is a leap year.\n",
    "- 範例輸入2\n",
    "2010\n",
    "- 範例輸出2\n",
    "2010 is not a leap year."
   ]
  },
  {
   "cell_type": "code",
   "execution_count": 13,
   "metadata": {},
   "outputs": [
    {
     "name": "stdout",
     "output_type": "stream",
     "text": [
      "2000\n",
      "2000 is a leap year.\n"
     ]
    }
   ],
   "source": [
    "year = int(input())\n",
    "\n",
    "if (year%400 == 0) or (year%4 == 0 and year%100 != 0):\n",
    "    print(year, \"is a leap year.\")\n",
    "else:\n",
    "    print(year, \"is not a leap year.\")"
   ]
  },
  {
   "cell_type": "raw",
   "metadata": {},
   "source": [
    "**TQC+ 程式語言Python 204 算術運算(M)**\n",
    "\n",
    "1. 題目說明:\n",
    "請開啟PYD204.py檔案，依下列題意進行作答，依輸入值進行算術運算，使輸出值符合題意要求。作答完成請另存新檔為PYA204.py再進行評分。\n",
    "\n",
    "2. 設計說明：\n",
    "請使用選擇敘述撰寫一程式，讓使用者輸入兩個整數a、b，然後再輸入一算術運算子 (+、-、*、/、//、%） ，輸出經過運算後的結果。\n",
    "\n",
    "\n",
    "3. 輸入輸出：\n",
    "\n",
    "輸入說明\n",
    "兩個整數a、b，及一個算術運算子 (+、-、*、/、//、%）\n",
    "\n",
    "輸出說明\n",
    "運算結果 (無須做格式化)\n",
    "\n",
    "輸入輸出範例\n",
    "- 範例輸入\n",
    "30\n",
    "20\n",
    "*\n",
    "- 範例輸出1\n",
    "600"
   ]
  },
  {
   "cell_type": "code",
   "execution_count": 14,
   "metadata": {},
   "outputs": [
    {
     "name": "stdout",
     "output_type": "stream",
     "text": [
      "30\n",
      "20\n",
      "*\n",
      "600\n"
     ]
    }
   ],
   "source": [
    "# 輸入兩個整數\n",
    "a = eval(input())\n",
    "b = eval(input())\n",
    "opr = input()\n",
    "ans = 0\n",
    "\n",
    "# 數學運算\n",
    "if opr == \"+\":\n",
    "    ans = a + b\n",
    "elif opr == \"-\":\n",
    "    ans = a - b\n",
    "elif opr == \"*\":\n",
    "    ans = a * b\n",
    "elif opr == \"/\":\n",
    "    ans = a / b\n",
    "elif opr == \"//\":\n",
    "    ans = a // b\n",
    "elif opr == \"%\":\n",
    "    ans = a % b\n",
    "\n",
    "print(ans)"
   ]
  },
  {
   "cell_type": "raw",
   "metadata": {},
   "source": [
    "**TQC+ 程式語言Python 205 字元判斷(M)**\n",
    "\n",
    "1. 題目說明:\n",
    "請開啟PYD205.py檔案，依下列題意進行作答，判斷輸入值的字元，使輸出值符合題意要求。作答完成請另存新檔為PYA205.py再進行評分。\n",
    "\n",
    "2. 設計說明：\n",
    "請使用選擇敘述撰寫一程式，讓使用者輸入一個字元，判斷它是包括大、小寫的英文字母（alphabet）、數字（number）、或者其它字元（symbol）。例如：a為英文字母、9為數字、$為其它字元。\n",
    "\n",
    "3. 輸入輸出：\n",
    "輸入說明\n",
    "一個字元\n",
    "輸出說明\n",
    "判斷是英文字母（包括大、小寫）、數字、或者其它字元\n",
    "\n",
    "輸入輸出範例\n",
    "\n",
    "- 範例輸入1\n",
    "P\n",
    "- 範例輸出1\n",
    "P is an alphabet.\n",
    "- 範例輸入2\n",
    "@\n",
    "- 範例輸出2\n",
    "@ is a symbol.\n",
    "- 範例輸入3\n",
    "7\n",
    "- 範例輸出3\n",
    "7 is a number.\n"
   ]
  },
  {
   "cell_type": "code",
   "execution_count": null,
   "metadata": {},
   "outputs": [],
   "source": [
    "c = input()\n",
    "\n",
    "if (\"a\" <= c <= \"z\")    # 字元是英文字母\n",
    "    print(c, \"is an alphabet.\") \n",
    "elif (\"0\" <= c <= \"9\"): # 字元是數字\n",
    "    print(c, \"is a number.\")\n",
    "else:                   # 字元是其他字元\n",
    "    print(c, \"is a symbol.\")"
   ]
  },
  {
   "cell_type": "raw",
   "metadata": {},
   "source": [
    "**TQC+ 程式語言Python 206 等級判斷**\n",
    "\n",
    "1. 題目說明:\n",
    "請開啟PYD206.py檔案，依下列題意進行作答，判斷輸入值所對應的等級，使輸出值符合題意要求。作答完成請另存新檔為PYA206.py再進行評分。\n",
    "\n",
    "2. 設計說明：\n",
    "請用選擇敘述撰寫一程式，根據使用者輸入的分數顯示對應的等級。標準如下表所示：\n",
    "\n",
    "分　數\t等級\n",
    "\n",
    "80 ~ 100\tA\n",
    "\n",
    "70 ~ 79\tB\n",
    "\n",
    "60 ~ 69\tC\n",
    "\n",
    "<= 59\tF\n",
    "\n",
    "3. 輸入輸出：\n",
    "\n",
    "輸入說明\n",
    "一個整數\n",
    "\n",
    "輸出說明\n",
    "判斷輸入值所對應的等級\n",
    "\n",
    "輸入輸出範例\n",
    "- 範例輸入\n",
    "79\n",
    "- 範例輸出\n",
    "B"
   ]
  },
  {
   "cell_type": "code",
   "execution_count": null,
   "metadata": {},
   "outputs": [],
   "source": [
    "score = eval(input())\n",
    "\n",
    "if 80 <= score <= 100:\n",
    "    grade = \"A\"\n",
    "elif 70 <= score <= 79:\n",
    "    grade = \"B\"\n",
    "elif 60 <= score <=69:\n",
    "    grade = \"C\"\n",
    "elif score <= 59:\n",
    "    grade = \"F\"\n",
    "\n",
    "print(grade)"
   ]
  },
  {
   "cell_type": "raw",
   "metadata": {},
   "source": [
    "**TQC+ 程式語言Python 207 折扣方案(M)**\n",
    "\n",
    "1. 題目說明:\n",
    "請開啟PYD207.py檔案，依下列題意進行作答，判斷輸入值之折扣並計算實付金額，使輸出值符合題意要求。作答完成請另存新檔為PYA207.py再進行評分。\n",
    "\n",
    "2. 設計說明：\n",
    "請使用選擇敘述撰寫一程式，要求使用者輸入購物金額，購物金額需大於8,000（含）以上，並顯示折扣優惠後的實付金額。購物金額折扣方案如下表所示：\n",
    "\n",
    "金　　額\t折　扣\n",
    "\n",
    "8,000（含）以上\t9.5折\n",
    "\n",
    "18,000（含）以上\t9折\n",
    "\n",
    "28,000（含）以上\t8折\n",
    "\n",
    "38,000（含）以上\t7折\n",
    "\n",
    "3. 輸入輸出：\n",
    "\n",
    "輸入說明\n",
    "一個數值，需大於8,000（含）以上\n",
    "\n",
    "輸出說明\n",
    "顯示折扣優惠後的實付金額（輸出不需指定小數點位數）\n",
    "\n",
    "輸入輸出範例\n",
    "\n",
    "- 範例輸入\n",
    "12000\n",
    "- 範例輸出\n",
    "11400.0"
   ]
  },
  {
   "cell_type": "code",
   "execution_count": null,
   "metadata": {},
   "outputs": [],
   "source": [
    "cost = eval(input())\n",
    "\n",
    "if cost >= 38000:\n",
    "    pay = cost * 0.7\n",
    "elif cost >= 28000:\n",
    "    pay = cost * 0.8\n",
    "elif cost >= 18000:\n",
    "    pay = cost * 0.9\n",
    "elif cost >= 8000:\n",
    "    pay = cost * 0.95\n",
    "\n",
    "print(pay)"
   ]
  },
  {
   "cell_type": "raw",
   "metadata": {},
   "source": [
    "**TQC+ 程式語言Python 208 十進位換算(H)**\n",
    "\n",
    "1. 題目說明:\n",
    "請開啟PYD208.py檔案，依下列題意進行作答，依輸入值進行進位轉換，使輸出值符合題意要求。作答完成請另存新檔為PYA208.py再進行評分。\n",
    "\n",
    "2. 設計說明：\n",
    "請使用選擇敘述撰寫一程式，讓使用者輸入一個十進位整數num(0 ≤ num ≤ 15)，將num轉換成十六進位值。\n",
    "\n",
    "提示：轉換規則 = 十進位0~9的十六進位值為其本身，十進位10~15的十六進位值為A~F。\n",
    "\n",
    "3. 輸入輸出：\n",
    "輸入說明\n",
    "一個數值\n",
    "輸出說明\n",
    "將此數值轉換成十六進位值\n",
    "\n",
    "輸入輸出範例\n",
    "範例輸入1\n",
    "13\n",
    "範例輸出1\n",
    "D\n",
    "範例輸入2\n",
    "8\n",
    "範例輸出2\n",
    "8"
   ]
  },
  {
   "cell_type": "code",
   "execution_count": 1,
   "metadata": {},
   "outputs": [
    {
     "name": "stdout",
     "output_type": "stream",
     "text": [
      "13\n",
      "D\n"
     ]
    }
   ],
   "source": [
    "num = eval(input())\n",
    "\n",
    "if 0 <= num <= 9: hex_num = num\n",
    "elif num == 10:  hex_num = \"A\"\n",
    "elif num == 11:  hex_num = \"B\"\n",
    "elif num == 12:  hex_num = \"C\"\n",
    "elif num == 13:  hex_num = \"D\"\n",
    "elif num == 14:  hex_num = \"E\"\n",
    "elif num == 15:  hex_num = \"F\"\n",
    "print(hex_num)"
   ]
  },
  {
   "cell_type": "code",
   "execution_count": null,
   "metadata": {},
   "outputs": [],
   "source": [
    "**TQC+ 程式語言Python 209 距離判斷(H)**\n",
    "\n",
    "1. 題目說明:\n",
    "請開啟PYD209.py檔案，依下列題意進行作答，計算輸入值之座標，使輸出值符合題意要求。作答完成請另存新檔為PYA209.py再進行評分。\n",
    "\n",
    "2. 設計說明：\n",
    "請使用選擇敘述撰寫一程式，讓使用者輸入一個點的平面座標x和y值，判斷此點是否與點(5, 6)的距離小於或等於15，如距離小於或等於15顯示【Inside】，反之顯示【Outside】。\n",
    "\n",
    "提示：計算平面上兩點距離的公式：\n",
    "\n",
    "3. 輸入輸出：\n",
    "輸入說明\n",
    "兩個數值x、y\n",
    "輸出說明\n",
    "小於或等於15輸出Inside；大於15輸出Outside\n",
    "\n",
    "輸入輸出範例\n",
    "範例輸入1\n",
    "7\n",
    "20\n",
    "範例輸出1\n",
    "Inside\n",
    "範例輸入2\n",
    "30\n",
    "35\n",
    "範例輸出2\n",
    "Outside\n"
   ]
  },
  {
   "cell_type": "code",
   "execution_count": 2,
   "metadata": {},
   "outputs": [
    {
     "name": "stdout",
     "output_type": "stream",
     "text": [
      "7\n",
      "20\n",
      "Inside\n"
     ]
    }
   ],
   "source": [
    "x = eval(input())\n",
    "y = eval(input())\n",
    "dist = ((x-5)**2 + (y-6)**2)** 0.5 # 兩點距離公式\n",
    "\n",
    "if dist <= 15:\n",
    "    print(\"Inside\")\n",
    "else:\n",
    "    print(\"Outside\")"
   ]
  },
  {
   "cell_type": "markdown",
   "metadata": {},
   "source": [
    "**TQC+ 程式語言Python 210 三角形判斷(H)**\n",
    "\n",
    "1. 題目說明:\n",
    "請開啟PYD210.py檔案，依下列題意進行作答，檢查輸入值是否可組成三角形，使輸出值符合題意要求。作答完成請另存新檔為PYA210.py再進行評分。\n",
    "\n",
    "2. 設計說明：\n",
    "請使用選擇敘述撰寫一程式，讓使用者輸入三個邊長，檢查這三個邊長是否可以組成一個三角形。若可以，則輸出該三角形之周長；否則顯示【Invalid】。\n",
    "提示：檢查方法 = 任意兩個邊長之總和大於第三邊長。\n",
    "\n",
    "3. 輸入輸出：\n",
    "輸入說明\n",
    "三個正整數\n",
    "輸出說明\n",
    "可以組成三角形則輸出周長；否則顯示Invalid\n",
    "\n",
    "輸入輸出範例\n",
    "\n",
    "- 範例輸入1\n",
    "5\n",
    "6\n",
    "13\n",
    "- 範例輸出1\n",
    "Invalid\n",
    "- 範例輸入2\n",
    "1\n",
    "1\n",
    "1\n",
    "- 範例輸出2\n",
    "3"
   ]
  },
  {
   "cell_type": "code",
   "execution_count": null,
   "metadata": {},
   "outputs": [],
   "source": [
    "side1 = eval(input())\n",
    "side2 = eval(input())\n",
    "side3 = eval(input())\n",
    "\n",
    "# 三角形，任一兩邊長之和大於第三邊\n",
    "if (side1 + side2 > side3) and (side1 + side3 > side2) and (side2 + side3 > side1):\n",
    "    print(side1 + side2 +side3)\n",
    "else:\n",
    "    print(\"Invalid\")"
   ]
  },
  {
   "cell_type": "markdown",
   "metadata": {},
   "source": [
    "**TQC+ 程式語言Python 212**\n",
    "\n",
    "請使用選擇敘述撰寫一程式，利用亂數產生器產生介於1~100之間的亂數，然後檢視這個亂數是偶數或是奇數。"
   ]
  },
  {
   "cell_type": "code",
   "execution_count": null,
   "metadata": {},
   "outputs": [],
   "source": [
    "import random\n",
    "num = random.randint(1,100)\n",
    "if num % 2 == 0:\n",
    "    print(\"%d is even number.\" %(num))\n",
    "else:\n",
    "    print(\"%d is odd number.\" %(num))"
   ]
  },
  {
   "cell_type": "markdown",
   "metadata": {},
   "source": [
    "**TQC+ 程式語言Python 215**\n",
    "\n",
    "請使用選擇敘述撰寫一程式，輸入三個整數，並由小到大加以排序後印出。"
   ]
  },
  {
   "cell_type": "code",
   "execution_count": null,
   "metadata": {},
   "outputs": [],
   "source": [
    "num1, num2, nym3 = eval(input(\"Enter three integers: \"))\n",
    "\n",
    "if num1 > num2:\n",
    "    num1, num2 = num2, num1\n",
    "if num2 > num3:\n",
    "    num2, num3 = num3, num2\n",
    "if num1 >num2:\n",
    "    num1, mum2 = num2, num1\n",
    "\n",
    "print(\"The sorted numbers are\", num1, num2, num3)"
   ]
  },
  {
   "cell_type": "code",
   "execution_count": null,
   "metadata": {},
   "outputs": [],
   "source": []
  }
 ],
 "metadata": {
  "kernelspec": {
   "display_name": "Python 3",
   "language": "python",
   "name": "python3"
  },
  "language_info": {
   "codemirror_mode": {
    "name": "ipython",
    "version": 3
   },
   "file_extension": ".py",
   "mimetype": "text/x-python",
   "name": "python",
   "nbconvert_exporter": "python",
   "pygments_lexer": "ipython3",
   "version": "3.7.4"
  }
 },
 "nbformat": 4,
 "nbformat_minor": 2
}
