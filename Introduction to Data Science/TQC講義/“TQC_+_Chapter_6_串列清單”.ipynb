{
 "cells": [
  {
   "cell_type": "markdown",
   "metadata": {},
   "source": [
    "# Chapter 6 串列"
   ]
  },
  {
   "cell_type": "markdown",
   "metadata": {},
   "source": [
    "串列(list)是儲存資料的容器，可以存放不同型態的資料。\n",
    "串列可分為一維串列、二維串列，以及三維以上的多維串列。\n",
    "- 一維串列是由多個項目所組成的。\n",
    "- 二維串列是由多個一維串列所組成的。\n",
    "- 三維串列是由多個二維串列所組成的。"
   ]
  },
  {
   "cell_type": "markdown",
   "metadata": {},
   "source": [
    "## 6-1 一維串列的運作"
   ]
  },
  {
   "cell_type": "code",
   "execution_count": 1,
   "metadata": {},
   "outputs": [],
   "source": [
    "# 建立串列：可用中括號\n",
    "\n",
    "lst1 = []   # 空串列\n",
    "lst2 = [1,2,3,4,5,6]   # 數字資料\n",
    "lst3 = [\"banana\", \"apple\", \"orange\"] # 文字資料\n",
    "lst4 = [1,\"banana\", 12.21] # 數字文字混合資料"
   ]
  },
  {
   "cell_type": "code",
   "execution_count": 2,
   "metadata": {},
   "outputs": [
    {
     "name": "stdout",
     "output_type": "stream",
     "text": [
      "[1, 2, 3, 4, 5]\n",
      "[4, 5, 4, 5, 4, 5]\n",
      "True\n",
      "False\n"
     ]
    }
   ],
   "source": [
    "# 運算子(一）： +, *, in/not in\n",
    "\n",
    "lst1 = [1,2,3]\n",
    "lst2 = [4,5]\n",
    "print(lst1+lst2) # + 為串接，將兩串列連接在一起\n",
    "print(3*lst2)    # *為複製，複製多少幾個串列\n",
    "\n",
    "lst3 = [1,2,3,4,5]\n",
    "print( 5 in lst3)  # 判斷某項目是否存在於串列中\n",
    "print(8 in lst3)"
   ]
  },
  {
   "cell_type": "code",
   "execution_count": 3,
   "metadata": {},
   "outputs": [
    {
     "name": "stdout",
     "output_type": "stream",
     "text": [
      "1\n",
      "2\n",
      "5\n",
      "[2, 3]\n",
      "[1, 2, 3, 4, 5]\n",
      "[1, 2, 3]\n",
      "[2, 3, 4, 5]\n"
     ]
    }
   ],
   "source": [
    "# 運算子(二）： []索引與切片\n",
    "## 索引：利用[]再加索引可存取其對應的項目\n",
    "## 切片：利用[start:end]則是從start項取到end-1項\n",
    "## 索引0是第一個項目，索引1是第二個項目\n",
    "## 索引是負號，則由右往左計算，索引-1是最後一個。\n",
    "\n",
    "lst = [1,2,3,4,5]\n",
    "print(lst[0])    \n",
    "print(lst[1])\n",
    "print(lst[-1])\n",
    "print(lst[1:3])\n",
    "print(lst[:])\n",
    "print(lst[:3])\n",
    "print(lst[1:])"
   ]
  },
  {
   "cell_type": "code",
   "execution_count": 4,
   "metadata": {},
   "outputs": [
    {
     "name": "stdout",
     "output_type": "stream",
     "text": [
      "4\n",
      "2\n",
      "1\n"
     ]
    }
   ],
   "source": [
    "# 函數（一）： len(), count(), index()\n",
    "\n",
    "lst = [\"apple\", \"orange\", \"banana\", \"apple\"]\n",
    "\n",
    "print(len(lst)) #利用len（）函數，計算串列的長度\n",
    "\n",
    "print(lst.count(\"apple\")) #利用count(value)函數，計算value出現於串列的次數\n",
    "\n",
    "print(lst.index(\"orange\")) #利用index(value)函數，找出出現value的位置索引。\n"
   ]
  },
  {
   "cell_type": "code",
   "execution_count": 4,
   "metadata": {},
   "outputs": [
    {
     "name": "stdout",
     "output_type": "stream",
     "text": [
      "[1, 2, 3, 4, 5]\n",
      "[1, 2, 3, 4, 5, 0]\n",
      "[99, 1, 2, 3, 4, 5, 0]\n",
      "[99, 1, 2, 3, 4, 5]\n",
      "[1, 2, 3, 4, 5]\n",
      "[2, 3, 4, 5]\n",
      "[2, 3, 4, 5]\n",
      "[5, 4, 3, 2]\n"
     ]
    }
   ],
   "source": [
    "# 函數（二）： append()與insert()、pop()與remove()、sort()與reverse()\n",
    "\n",
    "lst = [1,2,3,4,5]\n",
    "print(lst)\n",
    "\n",
    "lst.append(0)  #利用append(value)，將value加入串列尾端\n",
    "print(lst)\n",
    "\n",
    "lst.insert(0,99) #利用insert(index, value)，將value加入串列index索引位置。\n",
    "print(lst)\n",
    "\n",
    "lst.pop() #利用pop(index)，刪除串列最後一個項目\n",
    "print(lst)\n",
    "\n",
    "lst.pop(0) #利用pop(index)，刪除index索引位置的項目\n",
    "print(lst)\n",
    "\n",
    "lst.remove(1) #利用remove(value)，刪除元素值為value的項目；若有多個則只刪第一個。\n",
    "print(lst)\n",
    "\n",
    "lst.sort()  #利用sort()將串列由小到大排序\n",
    "print(lst)\n",
    "\n",
    "lst.reverse() #利用reverse將串列由大到小排序\n",
    "print(lst)"
   ]
  },
  {
   "cell_type": "code",
   "execution_count": 22,
   "metadata": {},
   "outputs": [
    {
     "name": "stdout",
     "output_type": "stream",
     "text": [
      "15\n",
      "5\n",
      "1\n"
     ]
    }
   ],
   "source": [
    "# 函數（三）：sum()、max()與min()\n",
    "\n",
    "lst = [1,2,3,4,5]\n",
    "\n",
    "print(sum(lst)) # 利用sum函數，加總串列元素和\n",
    "\n",
    "print(max(lst)) # 利用max函式，回傳串列中最大的項目\n",
    "\n",
    "print(min(lst)) # 利用min函式，回傳串列中最小的項目"
   ]
  },
  {
   "cell_type": "code",
   "execution_count": 32,
   "metadata": {},
   "outputs": [
    {
     "name": "stdout",
     "output_type": "stream",
     "text": [
      "lst[0] = apple\n",
      "lst[1] = orange\n",
      "lst[2] = banana\n",
      "apple orange banana \n",
      "lst[0] = apple\n",
      "lst[1] = orange\n",
      "lst[2] = banana\n"
     ]
    }
   ],
   "source": [
    "# 函數（四）：與for迴圈結合\n",
    "## 印出所有元素項目\n",
    "\n",
    "lst = [\"apple\", \"orange\", \"banana\"]\n",
    "\n",
    "#方法（一）:for ...in range\n",
    "for i in range(len(lst)):\n",
    "    print(\"lst[%d] = %s\" %(i, lst[i]))\n",
    "\n",
    "#方法（二）：for\n",
    "for i in lst:\n",
    "    print(i, end = \" \")\n",
    "print()  #上面全部印完後，換行\n",
    "\n",
    "# 方法（二'）：for 印出對應位置，在此沒有lst[i]此用法，因為i就是lst[i]\n",
    "\n",
    "x = 0 \n",
    "for i in lst:\n",
    "    print(\"lst[%d] = %s\" %(x,i))\n",
    "    x = x + 1"
   ]
  },
  {
   "cell_type": "code",
   "execution_count": 35,
   "metadata": {},
   "outputs": [
    {
     "name": "stdout",
     "output_type": "stream",
     "text": [
      "The lottery numbers are: \n",
      "  25   32   33   46   15   35 "
     ]
    }
   ],
   "source": [
    "# 範例程式（一）：大樂透電腦選號\n",
    "## 以亂數產生六個1~49的亂數\n",
    "\n",
    "import random\n",
    "\n",
    "lotto = []\n",
    "for i in range(1, 7):\n",
    "    randNum = random.randint(1, 49)\n",
    "    lotto.append(randNum)   # 用append方法將產生的亂數加入串列\n",
    "\n",
    "print(\"The lottery numbers are: \")\n",
    "for i in lotto:\n",
    "    print(\"%4d\" %(i), end = \" \")"
   ]
  },
  {
   "cell_type": "code",
   "execution_count": 37,
   "metadata": {},
   "outputs": [
    {
     "name": "stdout",
     "output_type": "stream",
     "text": [
      "The lottery numbers are: \n",
      "   14   10   27   47    5   26 \n",
      "After sorting:\n",
      "   5   10   14   26   27   47 \n"
     ]
    }
   ],
   "source": [
    "# 範例程式（二）：大樂透電腦選號\n",
    "## 以亂數產生六個1~49的亂數\n",
    "#避免產生重覆數字、由小到大排列\n",
    "\n",
    "import random\n",
    "\n",
    "lotto = []\n",
    "n = 1             \n",
    "\n",
    "while n <= 6:          #用while來寫不定數迴圈\n",
    "    randNum = random.randint(1, 49)\n",
    "    if randNum not in lotto:   # 避免重複數字\n",
    "        lotto.append(randNum)         \n",
    "        n += 1             #計算亂數的數目\n",
    "\n",
    "print(\"The lottery numbers are: \\n\", end = \" \") #純粹說明\n",
    "for i in lotto:\n",
    "    print(\"%4d\" %(i), end = \" \")\n",
    "print()  # 樂透數字會在同一列\n",
    "\n",
    "lotto.sort()       # 將串列元素由小到大排序\n",
    "print(\"After sorting:\")\n",
    "for i in lotto:\n",
    "    print(\"%4d\" %(i), end = \" \")\n",
    "print()  # 樂透數字會在同一列"
   ]
  },
  {
   "cell_type": "markdown",
   "metadata": {},
   "source": [
    "## 6-2 二維串列的運作"
   ]
  },
  {
   "cell_type": "code",
   "execution_count": 38,
   "metadata": {},
   "outputs": [
    {
     "name": "stdout",
     "output_type": "stream",
     "text": [
      "[[1, 2, 3], [4, 5, 6]]\n",
      "[1, 2, 3]\n",
      "2\n",
      "3\n"
     ]
    }
   ],
   "source": [
    "# 6-2-1 如何得知二維串列的列數與行數\n",
    "\n",
    "lst = [[1,2,3],[4,5,6]]\n",
    "\n",
    "print(lst)                #二維陣列\n",
    "print(lst[0])             # 二維陣列第一個位置的元素，索引位置0\n",
    "print(len(lst))           # 二維陣列的元素數目\n",
    "print(len(lst[0]))        #二維陣列第一個位置元素中的項目數目"
   ]
  },
  {
   "cell_type": "code",
   "execution_count": 6,
   "metadata": {},
   "outputs": [
    {
     "name": "stdout",
     "output_type": "stream",
     "text": [
      "Enter the number of rows: 5\n",
      "Enter the number of columns: 3\n",
      "[[44, 8, 8], [45, 40, 8], [20, 42, 8], [4, 20, 22], [9, 18, 43]]\n"
     ]
    }
   ],
   "source": [
    "# 6-2-2 如何加入一元素於二維串列\n",
    "# 使用者輸入二維陣列的行數與列數，然後用亂數產生元素值。\n",
    "\n",
    "import random\n",
    "rows = eval(input(\"Enter the number of rows: \"))\n",
    "columns = eval(input(\"Enter the number of columns: \"))\n",
    "\n",
    "lst = []              #建立空串列\n",
    "for i in range(rows):\n",
    "    lst.append([])   #建立二維空串列，串列中的串列\n",
    "    for j in range(columns):\n",
    "        lst[i].append(random.randint(1,50))\n",
    "print(lst)        "
   ]
  },
  {
   "cell_type": "code",
   "execution_count": 7,
   "metadata": {},
   "outputs": [
    {
     "name": "stdout",
     "output_type": "stream",
     "text": [
      "\n",
      "lst[0][0] =    44\n",
      "lst[0][1] =     8\n",
      "lst[0][2] =     8\n",
      "\n",
      "lst[1][0] =    45\n",
      "lst[1][1] =    40\n",
      "lst[1][2] =     8\n",
      "\n",
      "lst[2][0] =    20\n",
      "lst[2][1] =    42\n",
      "lst[2][2] =     8\n",
      "\n",
      "lst[3][0] =     4\n",
      "lst[3][1] =    20\n",
      "lst[3][2] =    22\n",
      "\n",
      "lst[4][0] =     9\n",
      "lst[4][1] =    18\n",
      "lst[4][2] =    43\n",
      "\n"
     ]
    }
   ],
   "source": [
    "# 6-2-3 列印出二維串列中的每一個元素\n",
    "## 方法（一）： for in range\n",
    "print()\n",
    "for i in range(len(lst)):\n",
    "    for j in range(len(lst[0])):\n",
    "        print(\"lst[%d][%d] = %5d\" %(i,j,lst[i][j])) #一一列印所有元素\n",
    "    print()"
   ]
  },
  {
   "cell_type": "code",
   "execution_count": 8,
   "metadata": {},
   "outputs": [
    {
     "name": "stdout",
     "output_type": "stream",
     "text": [
      "\n",
      "   44     8     8 \n",
      "   45    40     8 \n",
      "   20    42     8 \n",
      "    4    20    22 \n",
      "    9    18    43 \n"
     ]
    }
   ],
   "source": [
    "# 列印出二維串列中的每一個元素\n",
    "# 一次列印，for in range\n",
    "    \n",
    "print()\n",
    "for i in range(len(lst)):\n",
    "    for j in range(len(lst[0])):\n",
    "        print(\"%5d\" %(lst[i][j]), end = \" \") #只印所有元素\n",
    "    print()"
   ]
  },
  {
   "cell_type": "code",
   "execution_count": 9,
   "metadata": {},
   "outputs": [
    {
     "name": "stdout",
     "output_type": "stream",
     "text": [
      "   44     8     8 \n",
      "   45    40     8 \n",
      "   20    42     8 \n",
      "    4    20    22 \n",
      "    9    18    43 \n"
     ]
    }
   ],
   "source": [
    "# 列印出二維串列中的每一個元素\n",
    "## 方法（二）： for in \n",
    "\n",
    "for row in lst:\n",
    "    for value in row:\n",
    "        print(\"%5d\" %(value), end = \" \")\n",
    "    print()"
   ]
  },
  {
   "cell_type": "code",
   "execution_count": 45,
   "metadata": {},
   "outputs": [
    {
     "name": "stdout",
     "output_type": "stream",
     "text": [
      "Sum for column 0 is 136\n",
      "Sum for column 1 is 142\n",
      "Sum for column 2 is 80\n"
     ]
    }
   ],
   "source": [
    "# 6-2-4 計算行與列的和\n",
    "## （一）計算行的和：外迴圈以行的區間為主，內迴圈則以列為主。\n",
    "\n",
    "for column in range(len(lst[0])):\n",
    "    total = 0\n",
    "    for row in range(len(lst)):\n",
    "        total += lst[row][column]\n",
    "    print(\"Sum for column %d is %d\" %(column, total))"
   ]
  },
  {
   "cell_type": "code",
   "execution_count": 47,
   "metadata": {},
   "outputs": [
    {
     "name": "stdout",
     "output_type": "stream",
     "text": [
      "Sum for column 2 is 78\n",
      "Sum for column 2 is 105\n",
      "Sum for column 2 is 53\n",
      "Sum for column 2 is 55\n",
      "Sum for column 2 is 67\n"
     ]
    }
   ],
   "source": [
    "# 計算行與列的和\n",
    "## （二）計算列的和：外迴圈以列的區間為主，內迴圈則以行為主。\n",
    "\n",
    "for row in range(len(lst)):\n",
    "    total = 0\n",
    "    for column in range(len(lst[0])):\n",
    "        total += lst[row][column]\n",
    "    print(\"Sum for column %d is %d\" %(column, total))"
   ]
  },
  {
   "cell_type": "code",
   "execution_count": 48,
   "metadata": {},
   "outputs": [
    {
     "name": "stdout",
     "output_type": "stream",
     "text": [
      "Sum for column 0 is 78\n",
      "Sum for column 1 is 105\n",
      "Sum for column 2 is 53\n",
      "Sum for column 3 is 55\n",
      "Sum for column 4 is 67\n"
     ]
    }
   ],
   "source": [
    "# 計算行與列的和\n",
    "## （三）計算列的和：直接用sum計算。\n",
    "\n",
    "for row in range(len(lst)):\n",
    "    total = 0\n",
    "    total += sum(lst[row])\n",
    "    print(\"Sum for row %d is %d\" %(row, total))"
   ]
  },
  {
   "cell_type": "markdown",
   "metadata": {},
   "source": [
    "## 綜合範例"
   ]
  },
  {
   "cell_type": "raw",
   "metadata": {},
   "source": [
    "**TQC+ 程式語言Python 601 偶數索引值加總**\n",
    "\n",
    "1. 題目說明:\n",
    "請開啟PYD601.py檔案，依下列題意進行作答，處理偶數索引的值，使輸出值符合題意要求。作答完成請另存新檔為PYA601.py再進行評分。\n",
    "\n",
    "\n",
    "2. 設計說明：\n",
    "請撰寫一程式，利用一維串列存放使用者輸入的12個正整數（範圍1~99）。顯示這些數字，接著將串列索引為偶數的數字相加並輸出結果。\n",
    "\n",
    "提示：輸出每一個數字欄寬設定為3，每3個一列，靠右對齊。\n",
    "\n",
    "\n",
    "3. 輸入輸出：\n",
    "\n",
    "輸入說明\n",
    "12個正整數（範圍1~99）\n",
    "\n",
    "輸出說明\n",
    "格式化輸出12個正整數\n",
    "12個數字中，索引為偶數的數字相加總合\n",
    "\n",
    "輸入輸出範例\n",
    "\n",
    "範例輸入\n",
    "56\n",
    "45\n",
    "43\n",
    "22\n",
    "3\n",
    "1\n",
    "39\n",
    "20\n",
    "93\n",
    "18\n",
    "44\n",
    "83\n",
    "\n",
    "範例輸出\n",
    "\n",
    "```\n",
    " 56 45 43\n",
    " 22  3  1\n",
    " 39 20 93\n",
    " 18 44 83\n",
    "278\n",
    "```"
   ]
  },
  {
   "cell_type": "code",
   "execution_count": 10,
   "metadata": {},
   "outputs": [
    {
     "name": "stdout",
     "output_type": "stream",
     "text": [
      "56\n",
      "45\n",
      "43\n",
      "22\n",
      "3\n",
      "1\n",
      "39\n",
      "20\n",
      "93\n",
      "18\n",
      "44\n",
      "83\n",
      " 56  45  43\n",
      " 22   3   1\n",
      " 39  20  93\n",
      " 18  44  83\n",
      "278\n"
     ]
    }
   ],
   "source": [
    "size = 12\n",
    "sum_of_even_index = 0\n",
    "count = 0\n",
    "aList = []\n",
    "\n",
    "for i in range(size):\n",
    "    aList.append(eval(input()))\n",
    "\n",
    "for i in range(size):\n",
    "    count += 1\n",
    "    print(\"%3d\" %aList[i], end = \"\\n\" if count % 3 == 0 else \" \")\n",
    "    if i % 2 == 0:\n",
    "        sum_of_even_index += aList[i]\n",
    "\n",
    "print(sum_of_even_index)"
   ]
  },
  {
   "cell_type": "raw",
   "metadata": {},
   "source": [
    "**TQC+ 程式語言Python 602 撲克牌總和**\n",
    " \n",
    " 1. 題目說明:\n",
    "請開啟PYD602.py檔案，依下列題意進行作答，輸出並計算五張牌總和，使輸出值符合題意要求。作答完成請另存新檔為PYA602.py再進行評分。\n",
    "\n",
    "\n",
    "2. 設計說明：\n",
    "請撰寫一程式，讓使用者輸入52張牌中的5張，計算並輸出其總和。\n",
    "\n",
    "提示：J、Q、K以及A分別代表11、12、13以及1。\n",
    "\n",
    "\n",
    "3. 輸入輸出：\n",
    "\n",
    "輸入說明\n",
    "5張牌數\n",
    "\n",
    "輸出說明\n",
    "5張牌的數值總和\n",
    "\n",
    "輸入輸出範例\n",
    "\n",
    "範例輸入\n",
    "5\n",
    "10\n",
    "K\n",
    "3\n",
    "A\n",
    "範例輸出\n",
    "32"
   ]
  },
  {
   "cell_type": "code",
   "execution_count": 53,
   "metadata": {},
   "outputs": [
    {
     "name": "stdout",
     "output_type": "stream",
     "text": [
      "5\n",
      "10\n",
      "K\n",
      "3\n",
      "A\n",
      "32\n"
     ]
    }
   ],
   "source": [
    "cards = []\n",
    "result = 0\n",
    "\n",
    "for i in range(5):\n",
    "    cards.append(input())\n",
    "    \n",
    "for i in range(5):\n",
    "    if cards[i] == \"A\":\n",
    "        result += 1\n",
    "    elif cards[i] == \"J\":\n",
    "        result += 11\n",
    "    elif cards[i] == \"Q\":\n",
    "        result += 12\n",
    "    elif cards[i] == \"K\":\n",
    "        result += 13\n",
    "    elif cards[i] == \"10\":\n",
    "        result += 10 \n",
    "    else:\n",
    "        result += eval(cards[i])\n",
    "print(result)"
   ]
  },
  {
   "cell_type": "raw",
   "metadata": {},
   "source": [
    "**TQC+ 程式語言Python 603 數字排序**\n",
    " \n",
    "1. 題目說明:\n",
    "請開啟PYD603.py檔案，依下列題意進行作答，顯示最大的三個數字，使輸出值符合題意要求。作答完成請另存新檔為PYA603.py再進行評分。\n",
    "\n",
    "\n",
    "2. 設計說明：\n",
    "請撰寫一程式，要求使用者輸入十個數字並存放在串列中。接著由大到小的順序顯示最大的3個數字。\n",
    "\n",
    "\n",
    "3. 輸入輸出：\n",
    "\n",
    "輸入說明\n",
    "十個數字\n",
    "\n",
    "輸出說明\n",
    "由大到小排序，顯示最大的3個數字\n",
    "\n",
    "輸入輸出範例\n",
    "\n",
    "範例輸入1\n",
    "40\n",
    "32\n",
    "12\n",
    "29\n",
    "20\n",
    "19\n",
    "38\n",
    "48\n",
    "57\n",
    "44\n",
    "\n",
    "範例輸出1\n",
    "57 48 44\n",
    "\n",
    "範例輸入2\n",
    "139\n",
    "246\n",
    "15\n",
    "38\n",
    "77\n",
    "122\n",
    "42\n",
    "30\n",
    "100\n",
    "1\n",
    "範例輸出2\n",
    "246 139 122\n",
    " "
   ]
  },
  {
   "cell_type": "code",
   "execution_count": 56,
   "metadata": {},
   "outputs": [
    {
     "name": "stdout",
     "output_type": "stream",
     "text": [
      "40\n",
      "32\n",
      "12\n",
      "29\n",
      "20\n",
      "19\n",
      "38\n",
      "48\n",
      "57\n",
      "44\n",
      "57 48 44\n"
     ]
    }
   ],
   "source": [
    "lst = [] # 空串列\n",
    "\n",
    "for i in range(10):\n",
    "    lst.append(eval(input())) # 逐次加入十個數字\n",
    "    \n",
    "lst.sort() # 由小到大排序\n",
    "print(lst[-1], lst[-2], lst[-3]) # 由大到小顯示最大的3個數字"
   ]
  },
  {
   "cell_type": "raw",
   "metadata": {},
   "source": [
    "**TQC+ 程式語言Python 604 眾數**\n",
    " \n",
    "1. 題目說明:\n",
    "請開啟PYD604.py檔案，依下列題意進行作答，計算眾數及其出現的次數，使輸出值符合題意要求。作答完成請另存新檔為PYA604.py再進行評分。\n",
    "\n",
    "\n",
    "2. 設計說明：\n",
    "請撰寫一程式，讓使用者輸入十個整數作為樣本數，輸出眾數（樣本中出現最多次的數字）及其出現的次數。\n",
    "提示：假設樣本中只有一個眾數。\n",
    "\n",
    "\n",
    "3. 輸入輸出：\n",
    "\n",
    "輸入說明\n",
    "十個整數\n",
    "\n",
    "輸出說明\n",
    "眾數\n",
    "眾數出現的次數\n",
    "\n",
    "輸入輸出範例\n",
    "\n",
    "範例輸入\n",
    "34\n",
    "18\n",
    "22\n",
    "32\n",
    "18\n",
    "29\n",
    "30\n",
    "38\n",
    "42\n",
    "18\n",
    "\n",
    "範例輸出\n",
    "18\n",
    "3"
   ]
  },
  {
   "cell_type": "code",
   "execution_count": 12,
   "metadata": {},
   "outputs": [
    {
     "name": "stdout",
     "output_type": "stream",
     "text": [
      "34\n",
      "18\n",
      "22\n",
      "32\n",
      "18\n",
      "29\n",
      "30\n",
      "38\n",
      "42\n",
      "18\n",
      "18\n",
      "3\n"
     ]
    }
   ],
   "source": [
    "size = 10\n",
    "sample = []\n",
    "count = [0]*size\n",
    "\n",
    "for i in range(size):\n",
    "    num = int(input())  # 輸入10個整數\n",
    "    sample.append(num)  # 輸入資料逐次附加在樣本中\n",
    "    count[sample.index(num)] += 1  # 計算樣本中各整數的次數\n",
    "    # print(count)\n",
    "    \n",
    "num_occu = max(count) # 出現次數最多的為眾數\n",
    "\n",
    "print(sample[count.index(num_occu)]) # 眾數\n",
    "print(num_occu) # 眾數出現的次數"
   ]
  },
  {
   "cell_type": "raw",
   "metadata": {},
   "source": [
    "**TQC+ 程式語言Python 605 成績計算**\n",
    " \n",
    "1. 題目說明:\n",
    "請開啟PYD605.py檔案，依下列題意進行作答，去除最高最低分後加總其餘成績，使輸出值符合題意要求。作答完成請另存新檔為PYA605.py再進行評分。\n",
    "\n",
    "\n",
    "2. 設計說明：\n",
    "請撰寫一程式，讓使用者輸入十個成績，接下來將十個成績中最小和最大值（最小、最大值不重複）以外的成績作加總及平均，並輸出結果。\n",
    "\n",
    "提示：平均值輸出到小數點後第二位。\n",
    "\n",
    "\n",
    "3. 輸入輸出：\n",
    "\n",
    "輸入說明\n",
    "十個數字\n",
    "\n",
    "輸出說明\n",
    "總和\n",
    "平均\n",
    "\n",
    "輸入輸出範例\n",
    "\n",
    "範例輸入\n",
    "89\n",
    "78\n",
    "67\n",
    "80\n",
    "75\n",
    "98\n",
    "77\n",
    "89\n",
    "76\n",
    "60\n",
    "\n",
    "範例輸出\n",
    "631\n",
    "78.88"
   ]
  },
  {
   "cell_type": "code",
   "execution_count": 59,
   "metadata": {},
   "outputs": [
    {
     "name": "stdout",
     "output_type": "stream",
     "text": [
      "89\n",
      "78\n",
      "67\n",
      "80\n",
      "75\n",
      "98\n",
      "77\n",
      "89\n",
      "76\n",
      "60\n",
      "631\n",
      "78.88\n"
     ]
    }
   ],
   "source": [
    "lst = []  # 空串列\n",
    "for i in range(10):      # 輸入十個成績\n",
    "    lst.append(eval(input()))  # 逐次附加到串列中\n",
    "\n",
    "total = sum(lst) - max(lst) - min(lst) # 不算最高最低分成績\n",
    "print(total)   # 成績總和\n",
    "print(\"%.2f\" %(total/8)) # 平均成績到小數點二位"
   ]
  },
  {
   "cell_type": "raw",
   "metadata": {},
   "source": [
    "**TQC+ 程式語言Python 606 二維串列行列數(M)**\t\n",
    " \n",
    " 1. 題目說明:\n",
    "請開啟PYD606.py檔案，依下列題意進行作答，印出串列的值，使輸出值符合題意要求。作答完成請另存新檔為PYA606.py再進行評分。\n",
    "\n",
    "\n",
    "2. 設計說明：\n",
    "請撰寫一程式，讓使用者輸入兩個正整數rows、cols，分別表示二維串列lst 的「第一個維度大小」與「第二個維度大小」。\n",
    "串列元素[row][col]所儲存的數字，其規則為：row、col 的交點值 = 第二個維度的索引col – 第一個維度的索引row。\n",
    "接著以該串列作為參數呼叫函式compute()輸出串列。\n",
    "\n",
    "提示：欄寬為4。\n",
    "\n",
    "\n",
    "3. 輸入輸出：\n",
    "\n",
    "輸入說明\n",
    "兩個正整數（rows、cols）\n",
    "\n",
    "輸出說明\n",
    "格式化輸出row、col的交點值\n",
    "\n",
    "輸入輸出範例\n",
    "\n",
    "範例輸入\n",
    "5\n",
    "10\n",
    "\n",
    "範例輸出\n",
    "\n",
    "   0   1   2   3   4   5   6   7   8   9\n",
    "  -1   0   1   2   3   4   5   6   7   8\n",
    "  -2  -1   0   1   2   3   4   5   6   7\n",
    "  -3  -2  -1   0   1   2   3   4   5   6\n",
    "  -4  -3  -2  -1   0   1   2   3   4   5 \n"
   ]
  },
  {
   "cell_type": "code",
   "execution_count": 13,
   "metadata": {},
   "outputs": [
    {
     "name": "stdout",
     "output_type": "stream",
     "text": [
      "5\n",
      "10\n",
      "   0    1    2    3    4    5    6    7    8    9 \n",
      "  -1    0    1    2    3    4    5    6    7    8 \n",
      "  -2   -1    0    1    2    3    4    5    6    7 \n",
      "  -3   -2   -1    0    1    2    3    4    5    6 \n",
      "  -4   -3   -2   -1    0    1    2    3    4    5 \n"
     ]
    }
   ],
   "source": [
    "# 定義函數 列印二維串列\n",
    "def compute(lst):\n",
    "    for i in range(len(lst)):\n",
    "        for j in range(len(lst[i])):\n",
    "            print(\"%4d\" % lst[i][j],  end = \" \")\n",
    "        print()\n",
    "\n",
    "row = eval(input())  # 輸入二維串列的列數\n",
    "column = eval(input()) # 輸入二維串列的行數\n",
    "lst = []  # 空串列\n",
    "\n",
    "for i in range(row):\n",
    "    lst.append([])  # \n",
    "    for j in range(column):\n",
    "        lst[i].append(j-i)\n",
    "\n",
    "compute(lst) # 呼叫函數"
   ]
  },
  {
   "cell_type": "raw",
   "metadata": {},
   "source": [
    "**TQC+ 程式語言Python 607 成績計算(M)**\t\n",
    " \n",
    " \n",
    "1. 題目說明:\n",
    "請開啟PYD607.py檔案，依下列題意進行作答，顯示學生成績總分和平均分數，使輸出值符合題意要求。作答完成請另存新檔為PYA607.py再進行評分。\n",
    "\n",
    "\n",
    "2. 設計說明：\n",
    "請撰寫一程式，讓使用者輸入三位學生各五筆成績，接著再計算並輸出每位學生的總分及平均分數。\n",
    "提示：平均分數輸出到小數點後第二位。\n",
    "\n",
    "\n",
    "3. 輸入輸出：\n",
    "\n",
    "輸入說明\n",
    "三位學生各五筆成績\n",
    "\n",
    "輸出說明\n",
    "格式化輸出每位學生的總分及平均分數\n",
    "\n",
    "輸入輸出範例\n",
    "\n",
    "輸入與輸出會交雜如下，輸出的部份以粗體字表示\n",
    "\n",
    "The 1st student:\n",
    "78\n",
    "89\n",
    "88\n",
    "70\n",
    "60\n",
    "\n",
    "The 2nd student:\n",
    "90\n",
    "78\n",
    "66\n",
    "68\n",
    "78\n",
    "\n",
    "The 3rd student:\n",
    "69\n",
    "97\n",
    "70\n",
    "89\n",
    "90\n",
    "\n",
    "```\n",
    "Student 1\n",
    "#Sum 385\n",
    "#Average 77.00\n",
    "Student 2\n",
    "#Sum 380\n",
    "#Average 76.00\n",
    "Student 3\n",
    "#Sum 415\n",
    "#Average 83.00\n",
    "```"
   ]
  },
  {
   "cell_type": "code",
   "execution_count": 63,
   "metadata": {},
   "outputs": [
    {
     "name": "stdout",
     "output_type": "stream",
     "text": [
      "The 1st student:\n",
      "78\n",
      "89\n",
      "88\n",
      "70\n",
      "60\n",
      "The 2nd student:\n",
      "90\n",
      "78\n",
      "66\n",
      "68\n",
      "78\n",
      "The 3rd student:\n",
      "69\n",
      "97\n",
      "70\n",
      "89\n",
      "90\n",
      "Student 1\n",
      "#Sum 385\n",
      "#Average 77.00\n",
      "Student 2\n",
      "#Sum 380\n",
      "#Average 76.00\n",
      "Student 3\n",
      "#Sum 415\n",
      "#Average 83.00\n"
     ]
    }
   ],
   "source": [
    "score_lst = []\n",
    "order_lst = [\"1st\", \"2nd\", \"3rd\"]\n",
    "\n",
    "for i in range(3):  #3位學生\n",
    "    print(\"The %s student:\" % order_lst[i])\n",
    "    score_lst.append([])  # 第i位學生\n",
    "    for j in range(5): #各5筆成績\n",
    "        score_lst[i].append(eval(input()))\n",
    "\n",
    "for i in range(3):  #印出3位學生成績的相關資訊\n",
    "    print(\"Student %d\" % (i+1)) # 哪一位學生\n",
    "    print(\"#Sum %d\" % (sum(score_lst[i]))) # 總分數\n",
    "    print(\"#Average %.2f\" % (sum(score_lst[i])/5 )) # 平均成績"
   ]
  },
  {
   "cell_type": "raw",
   "metadata": {},
   "source": [
    "**TQC+ 程式語言Python 608 最大最小值索引(M)**\n",
    " \n",
    " 1. 題目說明:\n",
    "請開啟PYD608.py檔案，依下列題意進行作答，建立3*3矩陣並輸出矩陣最大值與最小值的索引，使輸出值符合題意要求。作答完成請另存新檔為PYA608.py再進行評分。\n",
    "\n",
    "\n",
    "2. 設計說明：\n",
    "請撰寫一程式，讓使用者建立一個3*3的矩陣，其內容為從鍵盤輸入的整數（不重複），接著輸出矩陣最大值與最小值的索引。\n",
    "\n",
    "\n",
    "3. 輸入輸出：\n",
    "\n",
    "輸入說明\n",
    "九個整數\n",
    "\n",
    "輸出說明\n",
    "矩陣最大值及其索引\n",
    "矩陣最小值及其索引\n",
    "\n",
    "輸入輸出範例\n",
    "\n",
    "範例輸入\n",
    "6\n",
    "4\n",
    "8\n",
    "39\n",
    "12\n",
    "3\n",
    "-3\n",
    "49\n",
    "33\n",
    "\n",
    "範例輸出\n",
    "Index of the largest number 49 is: (2, 1)\n",
    "Index of the smallest number -3 is: (2, 0)"
   ]
  },
  {
   "cell_type": "code",
   "execution_count": 68,
   "metadata": {},
   "outputs": [
    {
     "name": "stdout",
     "output_type": "stream",
     "text": [
      "6\n",
      "4\n",
      "8\n",
      "39\n",
      "12\n",
      "3\n",
      "-3\n",
      "49\n",
      "33\n",
      "Index of the largest number 49 is: (2,1)\n",
      "Index of the smallest number -3 is: (2,0)\n"
     ]
    }
   ],
   "source": [
    "# 建立3*3的矩陣\n",
    "size = 3\n",
    "mat = []\n",
    "\n",
    "# 逐一加入元素，先列後行（由左到右）\n",
    "for i in range(size):\n",
    "    mat.append([])\n",
    "    for j in range(size):\n",
    "        mat[i].append(eval(input())) \n",
    "\n",
    "# 預設比較基礎\n",
    "max_num = min_num = mat[0][0]\n",
    "max_index = min_index = [0,0]\n",
    "\n",
    "for i in range(size):\n",
    "    for j in range(size):\n",
    "        if mat[i][j] > max_num: #最大值\n",
    "            max_num = mat[i][j]\n",
    "            max_index = [i,j]\n",
    "        elif mat[i][j] < min_num: # 最小值\n",
    "            min_num = mat[i][j]\n",
    "            min_index = [i,j]\n",
    "            \n",
    "print(\"Index of the largest number %d is: (%d,%d)\" % (max_num, max_index[0], max_index[1]))\n",
    "print(\"Index of the smallest number %d is: (%d,%d)\" % (min_num, min_index[0], min_index[1]))\n"
   ]
  },
  {
   "cell_type": "raw",
   "metadata": {},
   "source": [
    "**TQC+ 程式語言Python 609 矩陣相加(H)**\t\n",
    "\n",
    "1. 題目說明:\n",
    "請開啟PYD609.py檔案，依下列題意進行作答，依輸入值建立2*2矩陣，並計算其相加結果，使輸出值符合題意要求。作答完成請另存新檔為PYA609.py再進行評分。\n",
    "\n",
    "\n",
    "2. 設計說明：\n",
    "請撰寫一程式，讓使用者建立兩個2*2的矩陣，其內容為從鍵盤輸入的整數，接著輸出這兩個矩陣的內容以及它們相加的結果。\n",
    "\n",
    "\n",
    "3. 輸入輸出：\n",
    "\n",
    "輸入說明\n",
    "兩個2*2矩陣，皆輸入整數\n",
    "\n",
    "輸出說明\n",
    "矩陣1的內容\n",
    "矩陣2的內容\n",
    "矩陣1及矩陣2相加的結果\n",
    "\n",
    "輸入輸出範例\n",
    "\n",
    "輸入與輸出會交雜如下，輸出的部份以粗體字表示\n",
    "\n",
    "\n",
    "Enter matrix 1:\n",
    "[1, 1]: 3\n",
    "[1, 2]: 5\n",
    "[2, 1]: 7\n",
    "[2, 2]: 5\n",
    "    \n",
    "Enter matrix 2:\n",
    "[1, 1]: 6\n",
    "[1, 2]: 9\n",
    "[2, 1]: 8\n",
    "[2, 2]: 3\n",
    "\n",
    "Matrix 1:    \n",
    "**3 5 **\n",
    "**7 5 **\n",
    "Matrix 2:\n",
    "**6 9 **\n",
    "**8 3 **\n",
    "Sum of 2 matrices:\n",
    "**9 14 **\n",
    "**15 8 **\n"
   ]
  },
  {
   "cell_type": "code",
   "execution_count": 71,
   "metadata": {},
   "outputs": [
    {
     "name": "stdout",
     "output_type": "stream",
     "text": [
      "Enter matrix 1: \n",
      "[1, 1]:  3\n",
      "[1, 2]:  5\n",
      "[2, 1]:  7\n",
      "[2, 2]:  5\n",
      "Enter matrix 2: \n",
      "[1, 1]:  6\n",
      "[1, 2]:  9\n",
      "[2, 1]:  8\n",
      "[2, 2]:  3\n",
      "Matrix 1:\n",
      "3 5 \n",
      "7 5 \n",
      "Matrix 2:\n",
      "6 9 \n",
      "8 3 \n",
      "Sum of 2 matrices:\n",
      "9 14 \n",
      "15 8 \n"
     ]
    }
   ],
   "source": [
    "# 定義函數，列印串列\n",
    "def compute(mat, num_row, num_col):\n",
    "    for i in range(num_row):\n",
    "        for j in range(num_col):\n",
    "            print(\"%d\" % mat[i][j], end = \" \")\n",
    "        print()\n",
    "\n",
    "# 建立2*2的串列兩個        \n",
    "ROWs = COLs = 2\n",
    "mat1 = []\n",
    "mat2 = []\n",
    "\n",
    "# 矩陣1的內容輸入\n",
    "print(\"Enter matrix 1: \") \n",
    "for i in range(ROWs):\n",
    "    mat1.append([])\n",
    "    for j in range(COLs):\n",
    "        print(\"[%d, %d]: \" % (i+1, j+1), end = \" \")\n",
    "        mat1[i].append(eval(input()))\n",
    "\n",
    "# 矩陣2的內容輸入\n",
    "print(\"Enter matrix 2: \") \n",
    "for i in range(ROWs):\n",
    "    mat2.append([])\n",
    "    for j in range(COLs):\n",
    "        print(\"[%d, %d]: \" % (i+1, j+1), end = \" \")\n",
    "        mat2[i].append(eval(input()))  \n",
    "\n",
    "print(\"Matrix 1:\") # 列印矩陣1的內容\n",
    "compute(mat1, ROWs, COLs)\n",
    "print(\"Matrix 2:\") # 列印矩陣2的內容\n",
    "compute(mat2, ROWs, COLs)\n",
    "\n",
    "print(\"Sum of 2 matrices:\") # 列印矩陣1及矩陣2相加的結果\n",
    "for i in range(ROWs):\n",
    "    for j in range(COLs):\n",
    "        print(\"%d\" % (mat1[i][j] + mat2[i][j]), end = \" \")\n",
    "    print()\n"
   ]
  },
  {
   "cell_type": "raw",
   "metadata": {},
   "source": [
    "**TQC+ 程式語言Python 610 平均溫度(H)**\n",
    " \n",
    "1. 題目說明:\n",
    "請開啟PYD610.py檔案，依下列題意進行作答，依輸入值計算四週的平均溫度及最高、最低溫度，使輸出值符合題意要求。作答完成請另存新檔為PYA610.py再進行評分。\n",
    "\n",
    "\n",
    "2. 設計說明：\n",
    "請撰寫一程式，讓使用者輸入四週各三天的溫度，接著計算並輸出這四週的平均溫度及最高、最低溫度。\n",
    "\n",
    "提示1：平均溫度輸出到小數點後第二位。\n",
    "提示2：最高溫度及最低溫度的輸出，如為31時，則輸出31，如為31.1時，則輸出31.1。\n",
    "\n",
    "\n",
    "3. 輸入輸出：\n",
    "\n",
    "輸入說明\n",
    "四週各三天的溫度\n",
    "\n",
    "輸出說明\n",
    "平均溫度\n",
    "最高溫度\n",
    "最低溫度\n",
    "\n",
    "輸入輸出範例\n",
    "\n",
    "輸入與輸出會交雜如下，輸出的部份以粗體字表示"
   ]
  },
  {
   "cell_type": "code",
   "execution_count": 78,
   "metadata": {},
   "outputs": [
    {
     "name": "stdout",
     "output_type": "stream",
     "text": [
      "Week 1\n",
      "Day 1:23.1\n",
      "Day 2:24\n",
      "Day 3:23.5\n",
      "Week 2\n",
      "Day 1:32\n",
      "Day 2:33\n",
      "Day 3:35.3\n",
      "Week 3\n",
      "Day 1:29\n",
      "Day 2:30\n",
      "Day 3:26\n",
      "Week 4\n",
      "Day 1:27.6\n",
      "Day 2:25\n",
      "Day 3:28.8\n",
      "Average: 28.11\n",
      "Highest: 35.3\n",
      "Lowest: 23.1\n"
     ]
    }
   ],
   "source": [
    "# 建立4*3串列\n",
    "num_week = 4\n",
    "num_day = 3\n",
    "temp = [] #空串列\n",
    "\n",
    "# 逐一輸入元素內容\n",
    "for i in range(num_week):\n",
    "    temp.append([])\n",
    "    print(\"Week %d\" % (i+1))\n",
    "    for j in range(num_day):\n",
    "        temp[i].append(eval(input(\"Day %d:\" % (j+1))))\n",
    "\n",
    "comb = []   #空一維串列，放入所有資料           \n",
    "for i in range(num_week):\n",
    "    comb.extend(temp[i])\n",
    "\n",
    "avg = sum(comb) / (num_week*num_day) # 計算平均溫度\n",
    "\n",
    "print(\"Average: %.2f\" %avg) #平均溫度\n",
    "print(\"Highest:\", max(comb)) #最高溫度\n",
    "print(\"Lowest:\", min(comb)) #最低溫度"
   ]
  },
  {
   "cell_type": "markdown",
   "metadata": {},
   "source": [
    "**TQC+ 程式語言Python 611**\n",
    "\n",
    "撰寫一程式，將一宣告好的整數串列（大小為5）傳遞給名為output(aList)的函式，此函式將以使用者的輸入初始化後，在將之回傳道主程式並輸出該串列。\n",
    "\n",
    "接著，主程式將該串列傳遞給名為max(aList)和min(aList)函式，並分別回傳後輸出aList的最大值(Max)和最小值(Min)。    "
   ]
  },
  {
   "cell_type": "code",
   "execution_count": 80,
   "metadata": {},
   "outputs": [
    {
     "name": "stdout",
     "output_type": "stream",
     "text": [
      "4\n",
      "5\n",
      "3\n",
      "-2\n",
      "9\n",
      "[4, 5, 3, -2, 9]\n",
      "Max =  9\n",
      "Min =  4\n"
     ]
    }
   ],
   "source": [
    "def output(aList):\n",
    "    for i in range(len(aList)):\n",
    "        aList[i] = eval(input())\n",
    "    return aList\n",
    "\n",
    "def max(aList):\n",
    "    max_num = aList[0]\n",
    "    for i in range(len(aList)):\n",
    "        if aList[i] > max_num:\n",
    "            max_num = aList[i]\n",
    "    return max_num\n",
    "\n",
    "def min(aList):\n",
    "    min_num = aList[0]\n",
    "    for i in range(len(aList)):\n",
    "        if aList[i] < min_num:\n",
    "            min_mum = aList[i]\n",
    "    return min_num\n",
    "\n",
    "def main():\n",
    "    lst = [0] * 5\n",
    "    print(output(lst))\n",
    "    print(\"Max = \", max(lst))\n",
    "    print(\"Min = \", min(lst))\n",
    "\n",
    "main()"
   ]
  },
  {
   "cell_type": "markdown",
   "metadata": {},
   "source": [
    "**TQC+ 程式語言Python 612**\n",
    "\n",
    "撰寫一程式，讓輸入者輸入十個不重覆的數字到串列，並將該串列傳遞給名為comput()的函式。\n",
    "此函式接收一個串列lst和一個數字a（預設為3)，並回傳lst中a個最大的數字，最後再將回傳結果輸出。"
   ]
  },
  {
   "cell_type": "code",
   "execution_count": 84,
   "metadata": {},
   "outputs": [
    {
     "name": "stdout",
     "output_type": "stream",
     "text": [
      "45\n",
      "89\n",
      "-3\n",
      "17\n",
      "92\n",
      "24\n",
      "38\n",
      "-23\n",
      "55\n",
      "10\n",
      "[45, 89, -3, 17, 92, 24, 38, -23, 55, 10]\n",
      "[]\n"
     ]
    }
   ],
   "source": [
    "def compute(lst, a=3):\n",
    "    lst.sort()\n",
    "    ans = []\n",
    "    for i in range(-1, -1*a*-1, -1):\n",
    "        ans.append(lst[i])\n",
    "    return ans\n",
    "\n",
    "def main():\n",
    "    lst = []\n",
    "    for i in range(10):\n",
    "        num = eval(input())\n",
    "        lst.append(num)\n",
    "    print(lst)\n",
    "    print(compute(lst))\n",
    "\n",
    "main()"
   ]
  },
  {
   "cell_type": "markdown",
   "metadata": {},
   "source": [
    "**TQC+ 程式語言Python 613**\n",
    "\n",
    "撰寫一程式，以lotto()產生大樂透號碼，並以main()函式呼叫五次lotto()函式。亦即產生五組大樂透號碼。請將樂透號碼由小到大排序。\n"
   ]
  },
  {
   "cell_type": "code",
   "execution_count": 87,
   "metadata": {},
   "outputs": [
    {
     "name": "stdout",
     "output_type": "stream",
     "text": [
      "[2, 5, 9, 13, 47, 49]\n",
      "[9, 20, 29, 31, 36, 43]\n",
      "[7, 22, 26, 27, 37, 46]\n",
      "[2, 5, 6, 14, 16, 41]\n",
      "[12, 14, 21, 23, 33, 34]\n"
     ]
    }
   ],
   "source": [
    "import random\n",
    "\n",
    "def lotto():\n",
    "    lottoLst = []\n",
    "    count = 0\n",
    "    while count < 6:\n",
    "        lottoNum = random.randint(1,49)\n",
    "        if lottoNum not in lottoLst:\n",
    "            lottoLst.append(lottoNum)\n",
    "            count += 1\n",
    "    lottoLst.sort()\n",
    "    print(lottoLst)\n",
    "\n",
    "def main():\n",
    "    for i in range(1,6):\n",
    "        lotto()\n",
    "\n",
    "main()"
   ]
  },
  {
   "cell_type": "markdown",
   "metadata": {},
   "source": [
    "**TQC+ 程式語言Python 614 + 615**\n",
    "\n",
    "撰寫一程式，以隨機亂數的方式產生100個介於1~1000的亂數，將它置於randLst串列中，然後印出第二小的數和第二大的數。這100亂數不能重覆。\n"
   ]
  },
  {
   "cell_type": "code",
   "execution_count": 14,
   "metadata": {},
   "outputs": [
    {
     "name": "stdout",
     "output_type": "stream",
     "text": [
      "   7   14   24   26   30   51   52   72   83   94\n",
      "  97  102  105  107  108  125  127  129  130  131\n",
      " 142  146  154  171  193  198  200  213  219  222\n",
      " 232  233  253  268  271  277  303  357  365  368\n",
      " 372  377  385  386  395  412  417  425  438  450\n",
      " 452  472  490  498  504  530  544  552  564  567\n",
      " 590  592  597  598  602  603  609  621  638  643\n",
      " 648  651  654  674  679  686  687  697  717  737\n",
      " 750  756  785  798  813  823  829  832  839  851\n",
      " 918  941  946  975  978  994  995  998  999 1000\n",
      "\n",
      "14\n",
      "999\n"
     ]
    }
   ],
   "source": [
    "import random\n",
    "randLst = []\n",
    "count = 1\n",
    "\n",
    "while count <= 100:\n",
    "    randNum = random.randint(1,1000)\n",
    "    if randNum not in randLst:\n",
    "        randLst.append(randNum)\n",
    "        count += 1\n",
    "\n",
    "randLst.sort()\n",
    "for j in range(1, 101):\n",
    "    if j % 10 == 0:\n",
    "        print(\"%4d\" %(randLst[j-1]))\n",
    "    else:\n",
    "        print(\"%4d\" %(randLst[j-1]), end = \" \")\n",
    "\n",
    "print()\n",
    "print(randLst[1])\n",
    "print(randLst[len(randLst) - 2 ])\n"
   ]
  },
  {
   "cell_type": "code",
   "execution_count": null,
   "metadata": {},
   "outputs": [],
   "source": []
  }
 ],
 "metadata": {
  "kernelspec": {
   "display_name": "Python 3",
   "language": "python",
   "name": "python3"
  },
  "language_info": {
   "codemirror_mode": {
    "name": "ipython",
    "version": 3
   },
   "file_extension": ".py",
   "mimetype": "text/x-python",
   "name": "python",
   "nbconvert_exporter": "python",
   "pygments_lexer": "ipython3",
   "version": "3.7.4"
  }
 },
 "nbformat": 4,
 "nbformat_minor": 2
}
