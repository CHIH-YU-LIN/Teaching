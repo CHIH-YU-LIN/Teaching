{
 "cells": [
  {
   "cell_type": "markdown",
   "metadata": {},
   "source": [
    "# Chapter 7 數組、集合，以及詞典"
   ]
  },
  {
   "cell_type": "markdown",
   "metadata": {},
   "source": [
    "- 7-1 數組\n",
    "- 7-2 集合\n",
    "- 7-3 詞典"
   ]
  },
  {
   "cell_type": "markdown",
   "metadata": {},
   "source": [
    "## 7-1 數組\n",
    "\n",
    "- 數組的元素不可以改變\n",
    "- 在數組中無法刪除個別元素和取代數組中的資料，但可以刪除整個數組的所有元素。\n",
    "- 沒有提供類似串列加入的方法，但可以利用串接+與複製*元素。"
   ]
  },
  {
   "cell_type": "code",
   "execution_count": 1,
   "metadata": {},
   "outputs": [
    {
     "name": "stdout",
     "output_type": "stream",
     "text": [
      "()\n",
      "(1, 2, 3, 4, 5)\n",
      "(1, 2, 3, 4, 5)\n",
      "('P', 'y', 't', 'h', 'o', 'n')\n"
     ]
    }
   ],
   "source": [
    "# 7-1-1 建立數組\n",
    "# 數組是以小括號來建立的，元素之間以逗號隔開。\n",
    "\n",
    "tuple1 = ()   #空數組\n",
    "print(tuple1)\n",
    "\n",
    "tuple2 = (1,2,3,4,5)  \n",
    "print(tuple2)\n",
    "\n",
    "tuple3 = tuple([1,2,3,4,5]) #將串列變成數組\n",
    "print(tuple3)\n",
    "\n",
    "tuple4 = tuple(\"Python\") #將字串變成數組\n",
    "print(tuple4)"
   ]
  },
  {
   "cell_type": "code",
   "execution_count": 10,
   "metadata": {},
   "outputs": [
    {
     "name": "stdout",
     "output_type": "stream",
     "text": [
      "(1, 2, 3, 4, 5, 6)\n",
      "(1, 2, 3, 4, 5, 6, 7, 8)\n",
      "(1, 2, 3, 4, 5, 6, 7, 8, 1, 2, 3, 4, 5, 6, 7, 8)\n",
      "True\n",
      "3\n",
      "(2, 3)\n"
     ]
    }
   ],
   "source": [
    "# 運算子： +, *, [], in/not in\n",
    "\n",
    "tuple2 =(1,2,3,4,5)\n",
    "\n",
    "tuple2 += (6,)  #串接\n",
    "print(tuple2)\n",
    "\n",
    "tuple2 += (7,8) #串接\n",
    "print(tuple2)\n",
    "\n",
    "tuple3 = 2 * tuple2   #複製 \n",
    "print(tuple3)\n",
    "\n",
    "print(9 not in tuple2)  #\n",
    "\n",
    "print(tuple2[2]) #索引\n",
    "\n",
    "print(tuple2[1:3]) #切片"
   ]
  },
  {
   "cell_type": "code",
   "execution_count": 8,
   "metadata": {},
   "outputs": [
    {
     "name": "stdout",
     "output_type": "stream",
     "text": [
      "5\n",
      "5\n",
      "1\n",
      "15\n"
     ]
    }
   ],
   "source": [
    "# 函數（一）：len()、max()、min()、sum()\n",
    "\n",
    "tuple2 =(1,2,3,4,5)\n",
    "\n",
    "print(len(tuple2)) # 長度\n",
    "\n",
    "print(max(tuple2)) #最大值\n",
    "\n",
    "print(min(tuple2)) #最小值\n",
    "\n",
    "print(sum(tuple2)) # 加總"
   ]
  },
  {
   "cell_type": "code",
   "execution_count": 2,
   "metadata": {},
   "outputs": [
    {
     "name": "stdout",
     "output_type": "stream",
     "text": [
      "1 2 3 4 5 "
     ]
    }
   ],
   "source": [
    "# 函數（二）：for迴圈\n",
    "\n",
    "tuple2 =(1,2,3,4,5)\n",
    "\n",
    "for i in tuple2:\n",
    "    print(i, end = \" \")\n",
    "\n",
    "# 可以用del()刪除整個數組，但不能刪去當中的元素"
   ]
  },
  {
   "cell_type": "markdown",
   "metadata": {},
   "source": [
    "## 7-2 集合\n",
    "\n",
    "集合沒有重覆資料。"
   ]
  },
  {
   "cell_type": "code",
   "execution_count": 13,
   "metadata": {},
   "outputs": [
    {
     "name": "stdout",
     "output_type": "stream",
     "text": [
      "{}\n",
      "{1, 3, 6}\n",
      "{1, 2, 3, 4, 5}\n",
      "{1, 2, 3}\n",
      "{1, 2, 3, 4}\n"
     ]
    }
   ],
   "source": [
    "## 建立集合\n",
    "#用大括號建立集合，元素之間以逗號隔開\n",
    "\n",
    "set1 = {}    #空集合\n",
    "print(set1)\n",
    "\n",
    "set2 = {1,3,6}\n",
    "print(set2)\n",
    "\n",
    "set3 = set([x for x in range(1,6)]) #由串列建立集合\n",
    "print(set3)\n",
    "\n",
    "set4 = set((1,2,3)) #由數組建立集合\n",
    "print(set4)\n",
    "\n",
    "set5 = set([1,1,2,2,3,3,4,4]) #集合無重覆資料，裡面用中或小括號均可\n",
    "print(set5)\n"
   ]
  },
  {
   "cell_type": "code",
   "execution_count": 24,
   "metadata": {},
   "outputs": [
    {
     "name": "stdout",
     "output_type": "stream",
     "text": [
      "{1, 2, 3, 4, 5}\n",
      "None\n",
      "{1, 2, 3, 4, 5, 6}\n",
      "None\n",
      "{1, 2, 3, 4, 5}\n"
     ]
    }
   ],
   "source": [
    "# 7-2-2 集合的加入與刪除\n",
    "\n",
    "set1 = {1,2,3,4,5}\n",
    "print(set1)\n",
    "\n",
    "print(set1.add(6))  #使用add(x)將x加入集合中\n",
    "print(set1)\n",
    "\n",
    "print(set1.remove(6)) #使用remove(x)將X從集合中刪除\n",
    "print(set1)"
   ]
  },
  {
   "cell_type": "code",
   "execution_count": 23,
   "metadata": {},
   "outputs": [
    {
     "name": "stdout",
     "output_type": "stream",
     "text": [
      "3\n",
      "6\n",
      "3\n",
      "1\n",
      "False\n"
     ]
    }
   ],
   "source": [
    "# 集合的函數\n",
    "\n",
    "print(len(set1)) #使用len()計算長度\n",
    "\n",
    "print(sum(set1)) #使用sum()計算總和\n",
    "\n",
    "print(max(set1)) #使用max()求出最大值\n",
    "\n",
    "print(min(set1)) #使用min()求出最小值\n",
    "\n",
    "print(4 in set1) #使用in / not in 判斷"
   ]
  },
  {
   "cell_type": "code",
   "execution_count": 19,
   "metadata": {},
   "outputs": [
    {
     "name": "stdout",
     "output_type": "stream",
     "text": [
      "{1, 2, 3, 5}\n",
      "{1, 3}\n",
      "{2}\n",
      "{2, 5}\n"
     ]
    }
   ],
   "source": [
    "# 7-2-3 集合的聯集、交集、差集與對稱差集\n",
    "\n",
    "set1 = {1,2,3}\n",
    "set2 = {1,3,5}\n",
    "\n",
    "print(set1.union(set2)) #聯集：A或B集合中會有的項目\n",
    "\n",
    "print(set1.intersection(set2)) #交集：A與B集合共有項目\n",
    "\n",
    "print(set1.difference(set2)) #差集：用A集合去掉與B集合共有的項目\n",
    "\n",
    "print(set1.symmetric_difference(set2)) #對稱差集：去掉A集合與B集合共有的項目"
   ]
  },
  {
   "cell_type": "code",
   "execution_count": 20,
   "metadata": {},
   "outputs": [
    {
     "name": "stdout",
     "output_type": "stream",
     "text": [
      "True\n",
      "True\n",
      "True\n",
      "False\n"
     ]
    }
   ],
   "source": [
    "# 7-2-4 子集合、超集合，以及==和!=\n",
    "## A集合的所有項目是B集合的子集合，A是B的子集合，B是A的超集合。\n",
    "## 兩個集合是否相等\n",
    "\n",
    "set1 = {1,2,3}\n",
    "set2 = {1,3}\n",
    "\n",
    "print(set2.issubset(set1)) #子集合\n",
    "\n",
    "print(set1.issuperset(set2)) #超集合\n",
    "\n",
    "set3 = {1,3,2}\n",
    "\n",
    "print(set1 == set3) # 檢視兩集合是否相等\n",
    "print(set1 != set3) # 檢視兩集合是否相等\n"
   ]
  },
  {
   "cell_type": "markdown",
   "metadata": {},
   "source": [
    "## 7-3 詞典\n",
    "\n",
    "詞典由一個鍵值(key)和一個數值(value)所組成的數對(key-value pair)。"
   ]
  },
  {
   "cell_type": "code",
   "execution_count": 22,
   "metadata": {},
   "outputs": [
    {
     "name": "stdout",
     "output_type": "stream",
     "text": [
      "{}\n",
      "{'Taipei': '101', 'Paris': 'Tour Eiffel', 'London': 'Big Ben'}\n",
      "{'Taipei': '101', 'Paris': 'Tour Eiffel', 'London': 'Big Ben', 'Berlin': 'Wall'}\n"
     ]
    }
   ],
   "source": [
    "# 7-3-1 建立詞典\n",
    "# 用大括號可以建立字典\n",
    "\n",
    "dic1={}    #空字典\n",
    "print(dic1)\n",
    "\n",
    "# 由鍵值與數值所組合的內容建立項目\n",
    "dic2 = {\"Taipei\":\"101\", \"Paris\":\"Tour Eiffel\", \"London\":\"Big Ben\"} \n",
    "print(dic2)\n"
   ]
  },
  {
   "cell_type": "code",
   "execution_count": 29,
   "metadata": {},
   "outputs": [
    {
     "name": "stdout",
     "output_type": "stream",
     "text": [
      "101\n",
      "{'Taipei': '101', 'Paris': 'Tour Eiffel', 'London': 'Big Ben', 'Berlin': 'Wall'}\n",
      "{'Taipei': '101', 'Paris': 'Tour Eiffel', 'London': 'Big Ben'}\n",
      "{'Taipei': '101', 'London': 'Big Ben'}\n",
      "{'Taipei': '101'}\n"
     ]
    }
   ],
   "source": [
    "# 7-3-2 詞典的運作\n",
    "# 詞典的運算子：[]索引與切片\n",
    "\n",
    "dic2 = {\"Taipei\":\"101\", \"Paris\":\"Tour Eiffel\", \"London\":\"Big Ben\"}\n",
    "\n",
    "print(dic2[\"Taipei\"]) #利用[]用鍵取值\n",
    "\n",
    "dic2[\"Berlin\"] = \"Wall\" #加入辭典中項目\n",
    "print(dic2)\n",
    "\n",
    "del dic2[\"Berlin\"] #利用del()刪除辭典中項目，用鍵取值\n",
    "print(dic2)\n",
    "\n",
    "dic2.pop(\"Paris\") #利用pop()刪除辭典中項目，用鍵取值\n",
    "print(dic2)\n",
    "\n",
    "dic2.popitem()  #利用popitem()刪除辭典中最後一個項目，用鍵取值\n",
    "print(dic2)\n",
    "\n",
    "dic2,clear()   #利用clear()刪除辭典中所有項目，用鍵取值\n",
    "print(dic2)"
   ]
  },
  {
   "cell_type": "code",
   "execution_count": 32,
   "metadata": {},
   "outputs": [
    {
     "name": "stdout",
     "output_type": "stream",
     "text": [
      "dict_keys(['Taipei', 'Paris', 'London'])\n",
      "dict_values(['101', 'Tour Eiffel', 'Big Ben'])\n",
      "dict_items([('Taipei', '101'), ('Paris', 'Tour Eiffel'), ('London', 'Big Ben')])\n",
      "Big Ben\n"
     ]
    }
   ],
   "source": [
    "# 詞典之項目\n",
    "\n",
    "dic2 = {\"Taipei\":\"101\", \"Paris\":\"Tour Eiffel\", \"London\":\"Big Ben\"}\n",
    "\n",
    "## 鍵值：keys()可以取得字典中的鍵值\n",
    "print(dic2.keys())\n",
    "\n",
    "## 數值：values()可以取得字典中的數值\n",
    "print(dic2.values())\n",
    "\n",
    "## 項目：items()可以取得字典中的項目\n",
    "print(dic2.items())\n",
    "\n",
    "## 用鍵取值\n",
    "\n",
    "print(dic2.get(\"London\"))"
   ]
  },
  {
   "cell_type": "code",
   "execution_count": 34,
   "metadata": {},
   "outputs": [
    {
     "name": "stdout",
     "output_type": "stream",
     "text": [
      "{1: 'Red', 2: 'Yellow', 3: 'Green'}\n",
      "{1: 'Red', 2: 'Yellow', 3: 'Green'}\n",
      "{1: 'Red', 2: 'Yellow', 3: 'Green', 4: 'Black'}\n",
      "{4: 'Black', 1: 'Red'}\n"
     ]
    }
   ],
   "source": [
    "# 詞典之複製\n",
    "##copy()是將某一詞典複製到另一詞典。\n",
    "## update()是將兩個詞典合併，若有相同鍵值則合併。\n",
    "\n",
    "dict1 = {1:\"Red\", 2:\"Yellow\", 3:\"Green\"}\n",
    "dict2 = {4:\"Black\", 1:\"Red\"}\n",
    "\n",
    "dict3 = dict1.copy() #將dict1複製成dict3，變成有一備份\n",
    "print(dict1)\n",
    "print(dict3)\n",
    "\n",
    "dict1.update(dict2) #將dict2合併到dict1中\n",
    "print(dict1)\n",
    "print(dict2)\n"
   ]
  },
  {
   "cell_type": "markdown",
   "metadata": {},
   "source": [
    "## 綜合範例"
   ]
  },
  {
   "cell_type": "markdown",
   "metadata": {},
   "source": [
    "**TQC+ 程式語言Python 701 串列數組轉換**\n",
    " \n",
    " 1. 題目說明:\n",
    "請開啟PYD701.py檔案，依下列題意進行作答，將串列轉為數組，使輸出值符合題意要求。作答完成請另存新檔為PYA701.py再進行評分。\n",
    "\n",
    "\n",
    "2. 設計說明：\n",
    "請撰寫一程式，輸入數個整數並儲存至串列中，以輸入-9999為結束點（串列中不包含-9999），再將此串列轉換成數組，最後顯示該數組以及其長度（Length）、最大值（Max）、最小值（Min）、總和（Sum）。\n",
    "\n",
    "\n",
    "3. 輸入輸出：\n",
    "\n",
    "輸入說明\n",
    "n個整數，直至-9999結束輸入\n",
    "\n",
    "輸出說明\n",
    "數組\n",
    "數組的長度\n",
    "數組中的最大值\n",
    "數組中的最小值\n",
    "數組內的整數總和\n",
    "\n",
    "輸入輸出範例\n",
    "\n",
    "- 範例輸入\n",
    "-4\n",
    "0\n",
    "37\n",
    "19\n",
    "26\n",
    "-43\n",
    "9\n",
    "-9999\n",
    "- 範例輸出\n",
    "(-4, 0, 37, 19, 26, -43, 9)\n",
    "Length: 7\n",
    "Max: 37\n",
    "Min: -43\n",
    "Sum: 44"
   ]
  },
  {
   "cell_type": "code",
   "execution_count": 35,
   "metadata": {},
   "outputs": [
    {
     "name": "stdout",
     "output_type": "stream",
     "text": [
      "-4\n",
      "0\n",
      "37\n",
      "19\n",
      "26\n",
      "043\n",
      "-9\n",
      "7\n",
      "-9999\n",
      "(-4, 0, 37, 19, 26, 43, -9, 7)\n",
      "Length: 8\n",
      "Max: 43\n",
      "Min: -9\n",
      "Sum: 119\n"
     ]
    }
   ],
   "source": [
    "num = []\n",
    "\n",
    "while True:\n",
    "    n = int(input())\n",
    "    if n == -9999:\n",
    "        break\n",
    "    num.append(n)\n",
    "\n",
    "num_tuple = tuple(num)\n",
    "print(num_tuple)\n",
    "print(\"Length:\", len(num_tuple))\n",
    "print(\"Max:\", max(num_tuple))\n",
    "print(\"Min:\", min(num_tuple))\n",
    "print(\"Sum:\", sum(num_tuple))"
   ]
  },
  {
   "cell_type": "markdown",
   "metadata": {},
   "source": [
    "**TQC+ 程式語言Python 702 數組合併排序**\n",
    " \n",
    " 1. 題目說明:\n",
    "請開啟PYD702.py檔案，依下列題意進行作答，將兩數組合併並進行排序，使輸出值符合題意要求。作答完成請另存新檔為PYA702.py再進行評分。\n",
    "\n",
    "\n",
    "2. 設計說明：\n",
    "請撰寫一程式，輸入並建立兩組數組，各以-9999為結束點（數組中不包含-9999）。將此兩數組合併並從小到大排序之，顯示排序前的數組和排序後的串列。\n",
    "\n",
    "\n",
    "3. 輸入輸出：\n",
    "\n",
    "輸入說明\n",
    "兩個數組，直至-9999結束輸入\n",
    "\n",
    "輸出說明\n",
    "排序前的數組\n",
    "排序後的串列\n",
    "\n",
    "輸入輸出範例\n",
    "\n",
    "輸入與輸出會交雜如下，輸出的部份以粗體字表示\n",
    "\n",
    "- Create tuple1:\n",
    "9\n",
    "0\n",
    "-1\n",
    "3\n",
    "8\n",
    "-9999\n",
    "\n",
    "- Create tuple2:\n",
    "28\n",
    "16\n",
    "39\n",
    "56\n",
    "78\n",
    "88\n",
    "-9999\n",
    "\n",
    "Combined tuple before sorting: (9, 0, -1, 3, 8, 28, 16, 39, 56, 78, 88)\n",
    "    \n",
    "Combined list after sorting: [-1, 0, 3, 8, 9, 16, 28, 39, 56, 78, 88] "
   ]
  },
  {
   "cell_type": "code",
   "execution_count": 37,
   "metadata": {},
   "outputs": [
    {
     "name": "stdout",
     "output_type": "stream",
     "text": [
      "Create tuple1:\n",
      "9\n",
      "0\n",
      "-1\n",
      "3\n",
      "8\n",
      "-9999\n",
      "Create tuple2:\n",
      "28\n",
      "16\n",
      "39\n",
      "56\n",
      "78\n",
      "88\n",
      "-9999\n",
      "Combined tuple before sorting:  (9, 0, -1, 3, 8, 28, 16, 39, 56, 78, 88)\n",
      "Combined list after sorting: [-1, 0, 3, 8, 9, 16, 28, 39, 56, 78, 88]\n"
     ]
    }
   ],
   "source": [
    "tup1 = ()\n",
    "tup2 = ()\n",
    "\n",
    "print(\"Create tuple1:\")\n",
    "while True:\n",
    "    num = eval(input())\n",
    "    if num == -9999:\n",
    "        break\n",
    "    tup1 += (num,)\n",
    "    \n",
    "print(\"Create tuple2:\")\n",
    "while True:\n",
    "    num = eval(input())\n",
    "    if num == -9999:\n",
    "        break\n",
    "    tup2 += (num,)\n",
    "\n",
    "tup_comb = tup1 + tup2\n",
    "\n",
    "print(\"Combined tuple before sorting: \", tup_comb)\n",
    "\n",
    "lst_comb = list(tup_comb)\n",
    "print(\"Combined list after sorting:\", sorted(lst_comb))"
   ]
  },
  {
   "cell_type": "markdown",
   "metadata": {},
   "source": [
    "**TQC+ 程式語言Python 703 數組條件判斷**\n",
    " \n",
    "1. 題目說明:\n",
    "請開啟PYD703.py檔案，依下列題意進行作答，輸入字串至數組並進行條件判斷，使輸出值符合題意要求。作答完成請另存新檔為PYA703.py再進行評分。\n",
    "\n",
    "\n",
    "2. 設計說明：\n",
    "請撰寫一程式，輸入一些字串至數組（至少輸入五個字串），以字串\"end\"為結束點（數組中不包含字串\"end\"）。接著輸出該數組，再分別顯示該數組的第一個元素到第三個元素和倒數三個元素。\n",
    "\n",
    "\n",
    "3. 輸入輸出：\n",
    "\n",
    "輸入說明\n",
    "至少輸入五個字串至數組，直至end結束輸入\n",
    "\n",
    "輸出說明\n",
    "數組\n",
    "該數組的前三個元素\n",
    "該數組最後三個元素\n",
    "\n",
    "輸入輸出範例\n",
    "\n",
    "範例輸入\n",
    "\n",
    "president\n",
    "dean\n",
    "chair\n",
    "staff\n",
    "teacher\n",
    "student\n",
    "end\n",
    "\n",
    "範例輸出\n",
    "\n",
    "('president', 'dean', 'chair', 'staff', 'teacher', 'student')\n",
    "('president', 'dean', 'chair')\n",
    "('staff', 'teacher', 'student')"
   ]
  },
  {
   "cell_type": "code",
   "execution_count": 38,
   "metadata": {},
   "outputs": [
    {
     "name": "stdout",
     "output_type": "stream",
     "text": [
      "president\n",
      "dean\n",
      "chair\n",
      "staff\n",
      "teacher\n",
      "student\n",
      "end\n",
      "('president', 'dean', 'chair', 'staff', 'teacher', 'student')\n",
      "('president', 'dean', 'chair')\n",
      "('staff', 'teacher', 'student')\n"
     ]
    }
   ],
   "source": [
    "tup = ()\n",
    "while True:\n",
    "    word = input()\n",
    "    if word == \"end\":\n",
    "        break\n",
    "    tup += (word, )\n",
    "\n",
    "print(tup)\n",
    "print(tup[0:3])\n",
    "print(tup[-3:])\n"
   ]
  },
  {
   "cell_type": "markdown",
   "metadata": {},
   "source": [
    " **TQC+ 程式語言Python 704 集合條件判斷(M)**\n",
    " \n",
    " 1. 題目說明:\n",
    "請開啟PYD704.py檔案，依下列題意進行作答，將整數儲存至集合（set）中並進行條件判斷，使輸出值符合題意要求。作答完成請另存新檔為PYA704.py再進行評分。\n",
    "\n",
    "\n",
    "2. 設計說明：\n",
    "請撰寫一程式，輸入數個整數並儲存至集合，以輸入-9999為結束點（集合中不包含-9999），最後顯示該集合的長度（Length）、最大值（Max）、最小值（Min）、總和（Sum）。\n",
    "\n",
    "\n",
    "3. 輸入輸出：\n",
    "\n",
    "輸入說明\n",
    "輸入n個整數至集合，直至-9999結束輸入\n",
    "\n",
    "輸出說明\n",
    "集合的長度\n",
    "集合中的最大值\n",
    "集合中的最小值\n",
    "集合內的整數總和\n",
    "\n",
    "\n",
    "輸入輸出範例\n",
    "\n",
    "- 範例輸入\n",
    "34\n",
    "-23\n",
    "29\n",
    "7\n",
    "0\n",
    "-1\n",
    "-9999\n",
    "\n",
    "- 範例輸出\n",
    "Length: 6\n",
    "Max: 34\n",
    "Min: -23\n",
    "Sum: 46"
   ]
  },
  {
   "cell_type": "code",
   "execution_count": 40,
   "metadata": {},
   "outputs": [
    {
     "name": "stdout",
     "output_type": "stream",
     "text": [
      "34\n",
      "-23\n",
      "29\n",
      "7\n",
      "0\n",
      "-1\n",
      "-9999\n",
      "Length: 6\n",
      "Max: 34\n",
      "Min: -23\n",
      "Sum: 46\n"
     ]
    }
   ],
   "source": [
    "num = set()\n",
    "\n",
    "while True:\n",
    "    inp = eval(input())\n",
    "    if inp == -9999:\n",
    "        break\n",
    "    num.add(inp)\n",
    "\n",
    "print(\"Length:\", len(num))\n",
    "print(\"Max:\", max(num))\n",
    "print(\"Min:\", min(num))\n",
    "print(\"Sum:\", sum(num))"
   ]
  },
  {
   "cell_type": "markdown",
   "metadata": {},
   "source": [
    "**TQC+ 程式語言Python 705 子集合與超集合(M)**\n",
    " \n",
    " 1. 題目說明:\n",
    "請開啟PYD705.py檔案，依下列題意進行作答，將整數各自儲存至三個集合中並進行條件判斷，使輸出值符合題意要求。作答完成請另存新檔為PYA705.py再進行評分。\n",
    "\n",
    "\n",
    "2. 設計說明：\n",
    "請撰寫一程式，依序輸入五個、三個、九個整數，並各自儲存到集合set1、set2、set3中。接著回答：set2是否為set1的子集合（subset）？set3是否為set1的超集合（superset）？\n",
    "\n",
    "\n",
    "3. 輸入輸出：\n",
    "\n",
    "輸入說明\n",
    "依序分別輸入五個、三個、九個整數\n",
    "\n",
    "輸出說明\n",
    "顯示回覆：\n",
    "set2是否為set1的子集合（subset）？\n",
    "set3是否為set1的超集合（superset）？\n",
    "\n",
    "輸入輸出範例\n",
    "\n",
    "輸入與輸出會交雜如下，輸出的部份以粗體字表示\n",
    "\n",
    "- Input to set1:\n",
    "3\n",
    "28\n",
    "-2\n",
    "7\n",
    "39\n",
    "\n",
    "- Input to set2:\n",
    "2\n",
    "77\n",
    "0\n",
    "\n",
    "- Input to set3:\n",
    "3\n",
    "28\n",
    "12\n",
    "99\n",
    "39\n",
    "7\n",
    "-1\n",
    "-2\n",
    "65\n",
    "\n",
    "set2 is subset of set1: False\n",
    "\n",
    "set3 is superset of set1: True"
   ]
  },
  {
   "cell_type": "code",
   "execution_count": 43,
   "metadata": {},
   "outputs": [
    {
     "name": "stdout",
     "output_type": "stream",
     "text": [
      "Input to set1: \n",
      "3\n",
      "28\n",
      "-2\n",
      "39\n",
      "2\n",
      "Input to set2: \n",
      "77\n",
      "0\n",
      "3\n",
      "Input to set3: \n",
      "28\n",
      "12\n",
      "99\n",
      "39\n",
      "7\n",
      "-1\n",
      "-2\n",
      "65\n",
      "3\n",
      "set2 is subset of set1: False\n",
      "set3 is superset of set1: False\n"
     ]
    }
   ],
   "source": [
    "set1 = set()\n",
    "set2 = set()\n",
    "set3 = set()\n",
    "\n",
    "print(\"Input to set1: \")\n",
    "for i in range(5):\n",
    "    num = int(input())\n",
    "    set1.add(num)\n",
    "\n",
    "print(\"Input to set2: \")\n",
    "for i in range(3):\n",
    "    num = int(input())\n",
    "    set2.add(num)\n",
    "\n",
    "print(\"Input to set3: \")\n",
    "for i in range(9):\n",
    "    num = int(input())\n",
    "    set3.add(num)\n",
    "\n",
    "print(\"set2 is subset of set1:\", set2.issubset(set1))\n",
    "print(\"set3 is superset of set1:\" , set3.issuperset(set1))"
   ]
  },
  {
   "cell_type": "markdown",
   "metadata": {},
   "source": [
    "**TQC+ 程式語言Python 706 全字母句(M)**\n",
    " \n",
    " 1. 題目說明:\n",
    "請開啟PYD706.py檔案，依下列題意進行作答，進行全字母句之判斷，使輸出值符合題意要求。作答完成請另存新檔為PYA706.py再進行評分。\n",
    "\n",
    "\n",
    "2. 設計說明：\n",
    "全字母句（Pangram）是英文字母表所有的字母都出現至少一次（最好只出現一次）的句子。請撰寫一程式，要求使用者輸入一正整數k（代表有k筆測試資料），每一筆測試資料為一句子，程式判斷該句子是否為Pangram，並印出對應結果True（若是）或False（若不是）。\n",
    "提示：不區分大小寫字母\n",
    "\n",
    "\n",
    "3. 輸入輸出：\n",
    "\n",
    "輸入說明\n",
    "先輸入一個正整數表示測試資料筆數，再輸入測試資料\n",
    "\n",
    "輸出說明\n",
    "輸入的資料是否為全字母句\n",
    "\n",
    "輸入輸出範例\n",
    "\n",
    "輸入與輸出會交雜如下，輸出的部份以粗體字表示 第1組\n",
    "3\n",
    "The quick brown fox jumps over the lazy dog\n",
    "True\n",
    "Learning Python is funny\n",
    "False\n",
    "Pack my box with five dozen liquor jugs\n",
    "True\n",
    "\n",
    "輸入與輸出會交雜如下，輸出的部份以粗體字表示 第2組\n",
    "2\n",
    "Quick fox jumps nightly above wizard\n",
    "True\n",
    "These can be weapons of terror\n",
    "False\n",
    " "
   ]
  },
  {
   "cell_type": "code",
   "execution_count": 44,
   "metadata": {},
   "outputs": [
    {
     "name": "stdout",
     "output_type": "stream",
     "text": [
      "3\n",
      "The quick brown fox jumps over the lazy dog\n",
      "True\n",
      "Learning Python is funny\n",
      "False\n",
      "PAck my box with five dozen liquor jugs\n",
      "True\n"
     ]
    }
   ],
   "source": [
    "num_alph = 26\n",
    "k = eval(input())\n",
    "\n",
    "for i in range(k):\n",
    "    sentence = input()\n",
    "    alphabet = set(sentence.lower())\n",
    "    alphabet.remove(\" \")\n",
    "    \n",
    "    print(len(alphabet) == num_alph)"
   ]
  },
  {
   "cell_type": "markdown",
   "metadata": {},
   "source": [
    "**TQC+ 程式語言Python 707 共同科目(H)**\n",
    " \n",
    " 1. 題目說明:\n",
    "請開啟PYD707.py檔案，依下列題意進行作答，輸入X組和Y組各自的科目至集合中並進行條件判斷，使輸出值符合題意要求。作答完成請另存新檔為PYA707.py再進行評分。\n",
    "\n",
    "\n",
    "2. 設計說明：\n",
    "請撰寫一程式，輸入X組和Y組各自的科目至集合中，以字串\"end\"作為結束點（集合中不包含字串\"end\"）。請依序分行顯示(1) X組和Y組的所有科目、(2)X組和Y組的共同科目、(3)Y組有但X組沒有的科目，以及(4) X組和Y組彼此沒有的科目（不包含相同科目）。\n",
    "提示：科目須參考範例輸出樣本，依字母由小至大進行排序。\n",
    "\n",
    "\n",
    "3. 輸入輸出：\n",
    "\n",
    "輸入說明\n",
    "輸入X組和Y組各自的科目至集合，直至end結束輸入\n",
    "\n",
    "輸出說明\n",
    "X組和Y組的所有科目\n",
    "X組和Y組的共同科目\n",
    "Y組有但X組沒有的科目\n",
    "X組和Y組彼此沒有的科目（不包含相同科目）\n",
    "\n",
    "輸入輸出範例\n",
    "\n",
    "輸入與輸出會交雜如下，輸出的部份以粗體字表示\n",
    "\n",
    "Enter group X's subjects:\n",
    "Math\n",
    "Literature\n",
    "English\n",
    "History\n",
    "Geography\n",
    "end\n",
    "Enter group Y's subjects:\n",
    "Math\n",
    "Literature\n",
    "Chinese\n",
    "Physical\n",
    "Chemistry\n",
    "end\n",
    "['Chemistry', 'Chinese', 'English', 'Geography', 'History', 'Literature', 'Math', 'Physical']\n",
    "['Literature', 'Math']\n",
    "['Chemistry', 'Chinese', 'Physical']\n",
    "['Chemistry', 'Chinese', 'English', 'Geography', 'History', 'Physical']\n",
    "\n",
    " \t"
   ]
  },
  {
   "cell_type": "code",
   "execution_count": 46,
   "metadata": {},
   "outputs": [
    {
     "name": "stdout",
     "output_type": "stream",
     "text": [
      "Enter group X's subjects:\n",
      "Math\n",
      "Literature\n",
      "English\n",
      "History\n",
      "Geography\n",
      "end\n",
      "Enter group Y's subjects:\n",
      "Math\n",
      "Literature\n",
      "Chinese\n",
      "physical\n",
      "Chemstry\n",
      "end\n",
      "['Chemstry', 'Chinese', 'English', 'Geography', 'History', 'Literature', 'Math', 'physical']\n",
      "['Literature', 'Math']\n",
      "['Chemstry', 'Chinese', 'physical']\n",
      "['Chemstry', 'Chinese', 'English', 'Geography', 'History', 'physical']\n"
     ]
    }
   ],
   "source": [
    "X = set()\n",
    "Y = set()\n",
    "\n",
    "print(\"Enter group X's subjects:\")\n",
    "while True:\n",
    "    subject = input()\n",
    "    if subject == \"end\":\n",
    "        break\n",
    "    X.add(subject)\n",
    "\n",
    "print(\"Enter group Y's subjects:\")\n",
    "while True:\n",
    "    subject = input()\n",
    "    if subject == \"end\":\n",
    "        break\n",
    "    Y.add(subject)\n",
    "\n",
    "print(sorted(X|Y))\n",
    "print(sorted(X&Y))\n",
    "print(sorted(Y-X))\n",
    "print(sorted(X^Y))\n",
    "        "
   ]
  },
  {
   "cell_type": "markdown",
   "metadata": {},
   "source": [
    "**TQC+ 程式語言Python 708 詞典合併(M)**\n",
    " \n",
    " 1. 題目說明:\n",
    "請開啟PYD708.py檔案，依下列題意進行作答，進行兩詞典合併，使輸出值符合題意要求。作答完成請另存新檔為PYA708.py再進行評分。\n",
    "\n",
    "\n",
    "2. 設計說明：\n",
    "請撰寫一程式，自行輸入兩個詞典（以輸入鍵值\"end\"作為輸入結束點，詞典中將不包含鍵值\"end\"），將此兩詞典合併，並根據key值字母由小到大排序輸出，如有重複key值，後輸入的key值將覆蓋前一key值。\n",
    "\n",
    "\n",
    "3. 輸入輸出：\n",
    "\n",
    "輸入說明\n",
    "輸入兩個詞典，直至end結束輸入\n",
    "\n",
    "輸出說明\n",
    "合併兩詞典，並根據key值字母由小到大排序輸出，如有重複key值，後輸入的key值將覆蓋前一key值\n",
    "\n",
    "輸入輸出範例\n",
    "\n",
    "輸入與輸出會交雜如下，輸出的部份以粗體字表示\n",
    "\n",
    "- Create dict1:\n",
    "Key: a\n",
    "Value: apple\n",
    "Key: b\n",
    "Value: banana\n",
    "Key: d\n",
    "Value: durian\n",
    "Key: end\n",
    "\n",
    "\n",
    "- Create dict2:\n",
    "Key: c\n",
    "Value: cat\n",
    "Key: e\n",
    "Value: elephant\n",
    "Key: end\n",
    "a: apple\n",
    "b: banana\n",
    "c: cat\n",
    "d: durian\n",
    "e: elephant"
   ]
  },
  {
   "cell_type": "code",
   "execution_count": null,
   "metadata": {},
   "outputs": [],
   "source": [
    "def compute():\n",
    "    dic = {}\n",
    "    while True:\n",
    "        key = input(\"Key: \")\n",
    "        if key == \"end\":\n",
    "            return dic\n",
    "        value = input(\"Value: \")\n",
    "        dic[key] = value\n",
    "\n",
    "print(\"Create dict1: \")\n",
    "dict1 = compute()\n",
    "\n",
    "print(\"Create dict2: \")\n",
    "dict2 = compute()\n",
    "\n",
    "merge_dict = dict1.copy()\n",
    "merge_dict.update(dict2)\n",
    "\n",
    "sortedDict = sorted(merge_dict)\n",
    "\n",
    "for i in sortedDict:\n",
    "    print(\"%s: %s\" % (i, merge_dict[i]))"
   ]
  },
  {
   "cell_type": "markdown",
   "metadata": {},
   "source": [
    "**TQC+ 程式語言Python 709 詞典排序(H)**\n",
    " \n",
    " 1. 題目說明:\n",
    "請開啟PYD709.py檔案，依下列題意進行作答，輸入顏色詞典並進行排序，使輸出值符合題意要求。作答完成請另存新檔為PYA709.py再進行評分。\n",
    "\n",
    "\n",
    "2. 設計說明：\n",
    "請撰寫一程式，輸入一顏色詞典color_dict（以輸入鍵值\"end\"作為輸入結束點，詞典中將不包含鍵值\"end\"），再根據key值的字母由小到大排序並輸出。\n",
    "\n",
    "\n",
    "3. 輸入輸出：\n",
    "\n",
    "輸入說明\n",
    "輸入一個詞典，直至end結束輸入\n",
    "\n",
    "輸出說明\n",
    "根據key值字母由小到大排序輸出\n",
    "\n",
    "輸入輸出範例\n",
    "\n",
    "輸入與輸出會交雜如下，輸出的部份以粗體字表示\n",
    "\n",
    "Key: Green Yellow\n",
    "Value: #ADFF2F\n",
    "Key: Snow\n",
    "Value: #FFFAFA\n",
    "Key: Gold\n",
    "Value: #FFD700\n",
    "Key: Red\n",
    "Value: #FF0000\n",
    "Key: White\n",
    "Value: #FFFFFF\n",
    "Key: Green\n",
    "Value: #008000\n",
    "Key: Black\n",
    "Value: #000000\n",
    "Key: end\n",
    "Black: #000000\n",
    "Gold: #FFD700\n",
    "Green: #008000\n",
    "Green Yellow: #ADFF2F\n",
    "Red: #FF0000\n",
    "Snow: #FFFAFA\n",
    "White: #FFFFFF"
   ]
  },
  {
   "cell_type": "code",
   "execution_count": null,
   "metadata": {},
   "outputs": [],
   "source": [
    "color_dict = {}\n",
    "\n",
    "while True:\n",
    "    key = input(\"Key: \")\n",
    "    if key == \"end\":\n",
    "        break\n",
    "    value = input(\"Value: \")\n",
    "    color_dict[key] = value\n",
    "\n",
    "sortedDict = sorted(color_dict)\n",
    "\n",
    "for i in sorted Dict:\n",
    "    print(\"%s: %s\" % (i, color_dict[i]))"
   ]
  },
  {
   "cell_type": "markdown",
   "metadata": {},
   "source": [
    "**TQC+ 程式語言Python 710 詞典搜尋(H)**\n",
    " \n",
    " 1. 題目說明:\n",
    "請開啟PYD710.py檔案，依下列題意進行作答，為一詞典輸入資料並進行搜尋，使輸出值符合題意要求。作答完成請另存新檔為PYA710.py再進行評分。\n",
    "\n",
    "\n",
    "2. 設計說明：\n",
    "請撰寫一程式，為一詞典輸入資料（以輸入鍵值\"end\"作為輸入結束點，詞典中將不包含鍵值\"end\"），再輸入一鍵值並檢視此鍵值是否存在於該詞典中。\n",
    "\n",
    "\n",
    "3. 輸入輸出：\n",
    "\n",
    "輸入說明\n",
    "先輸入一個詞典，直至end結束輸入，再輸入一個鍵值進行搜尋是否存在\n",
    "\n",
    "輸出說明\n",
    "鍵值是否存在詞典中\n",
    "\n",
    "輸入輸出範例\n",
    "\n",
    "輸入與輸出會交雜如下，輸出的部份以粗體字表示\n",
    "\n",
    "Key: 123-4567-89\n",
    "Value: Jennifer\n",
    "Key: 987-6543-21\n",
    "Value: Tommy\n",
    "Key: 246-8246-82\n",
    "Value: Kay\n",
    "Key: end\n",
    "Search key: 246-8246-82\n",
    "True"
   ]
  },
  {
   "cell_type": "code",
   "execution_count": null,
   "metadata": {},
   "outputs": [],
   "source": [
    "my_dict = {}\n",
    "\n",
    "while True:\n",
    "    key = input(\"Key: \")\n",
    "    if key == \"end\":\n",
    "        break\n",
    "    value = input(\"Value: \")\n",
    "    my_dict[key] = value\n",
    "\n",
    "search_key = input(\"Search key: \")\n",
    "print(search_key in my_dict)"
   ]
  },
  {
   "cell_type": "code",
   "execution_count": null,
   "metadata": {},
   "outputs": [],
   "source": []
  }
 ],
 "metadata": {
  "kernelspec": {
   "display_name": "Python 3",
   "language": "python",
   "name": "python3"
  },
  "language_info": {
   "codemirror_mode": {
    "name": "ipython",
    "version": 3
   },
   "file_extension": ".py",
   "mimetype": "text/x-python",
   "name": "python",
   "nbconvert_exporter": "python",
   "pygments_lexer": "ipython3",
   "version": "3.7.4"
  }
 },
 "nbformat": 4,
 "nbformat_minor": 2
}
