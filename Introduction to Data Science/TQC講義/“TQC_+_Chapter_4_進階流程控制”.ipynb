{
 "cells": [
  {
   "cell_type": "markdown",
   "metadata": {},
   "source": [
    "# Chapter 4 進階控制流程"
   ]
  },
  {
   "cell_type": "markdown",
   "metadata": {},
   "source": [
    "- 4-1 亂數產生器\n",
    "- 4-2 定數迴圈與不定數迴圈\n",
    "- 4-3 break與continue敘述"
   ]
  },
  {
   "cell_type": "markdown",
   "metadata": {},
   "source": [
    "## 4-1 亂數產生器\n",
    "\n",
    "```\n",
    "import random\n",
    "\n",
    "random,randint(a,b)\n",
    "```"
   ]
  },
  {
   "cell_type": "code",
   "execution_count": 2,
   "metadata": {},
   "outputs": [
    {
     "name": "stdout",
     "output_type": "stream",
     "text": [
      "   6  84  45 100  21  48  66  41  43  89"
     ]
    }
   ],
   "source": [
    "# 範例程式\n",
    "## 產生10個亂數。\n",
    "import random\n",
    "for i in range(1,11):\n",
    "    randNum = random.randint(1,100)\n",
    "    print(\"%4d\" %(randNum), end = \"\")"
   ]
  },
  {
   "cell_type": "code",
   "execution_count": 1,
   "metadata": {},
   "outputs": [
    {
     "name": "stdout",
     "output_type": "stream",
     "text": [
      "57 23 60 57 76 64 64 97 67 63 \n",
      "even = 4, odd = 6\n"
     ]
    }
   ],
   "source": [
    "# 範例程式\n",
    "## 產生10個亂數，並看看幾個奇數、幾個偶數。\n",
    "\n",
    "import random\n",
    "odd = 0\n",
    "even = 0\n",
    "\n",
    "for i in range(1,11): # 迴圈10次\n",
    "    randNum = random.randint(1,100) # 產生亂數\n",
    "    print(randNum, end = \" \") # 列印10個亂數\n",
    "    \n",
    "    if randNum % 2 == 0:  # 奇偶數的判斷\n",
    "        even += 1\n",
    "    else:\n",
    "        odd += 1\n",
    "        \n",
    "print(\"\\neven = %d, odd = %d\" %(even, odd)) # 列印奇偶數"
   ]
  },
  {
   "cell_type": "code",
   "execution_count": 9,
   "metadata": {},
   "outputs": [
    {
     "name": "stdout",
     "output_type": "stream",
     "text": [
      "   44    78    48    72    67    71    27     1    17    21\n",
      "   19    22    42     7    17    84     8    18    46    18\n",
      "   14    51    17    30     5    72    50    79    78     1\n",
      "   21    95     2    40    15    18    79    77    33    96\n",
      "    1    46   100    78    33    50    90    81     8    77\n",
      "   87    42    50     5    89     9    87    90    30     8\n",
      "   23    80    67    93    78    49    46    36    19    89\n",
      "   47    79     5    13    34    38    84    97    56    30\n",
      "   18    20    12     1    70    41    73    53    76    59\n",
      "   83     5    57     6    90    23    21    74    24    50\n",
      "\n",
      "times3 = 40, times5 = 21, times7 = 14\n",
      "others = 40\n"
     ]
    }
   ],
   "source": [
    "# 範例程式\n",
    "## 產生100個亂數，並看看幾個是3的倍數、幾個是5的倍數，和7的倍數。\n",
    "\n",
    "import random\n",
    "times3 = 0\n",
    "times5 = 0\n",
    "times7 = 0\n",
    "others = 0\n",
    "count = 1\n",
    "\n",
    "# 產生100個亂數\n",
    "for i in range(1,101):\n",
    "    \n",
    "    flag = False\n",
    "    randNum = random.randint(1,100)\n",
    "    # 列印亂數，一列10個\n",
    "    if count % 10 != 0:\n",
    "        print(\"%5d\"%(randNum), end = \" \")\n",
    "    else:\n",
    "        print(\"%5d\" %(randNum))\n",
    "    count += 1\n",
    "    \n",
    "    # 判斷式否為3的倍數、5的倍數、7的倍數\n",
    "    if randNum %3 == 0:\n",
    "        times3 += 1\n",
    "        flag = True\n",
    "    if randNum %5 == 0:\n",
    "        times5 += 1\n",
    "        flag = True\n",
    "    if randNum %7 == 0:\n",
    "        times7 +=1\n",
    "        flag = True\n",
    "    if flag == False:\n",
    "        others += 1\n",
    "        \n",
    "# 列印個數 - 3的倍數、5的倍數、7的倍數        \n",
    "print(\"\\ntimes3 = %d, times5 = %d, times7 = %d\"%(times3, times5, times7))\n",
    "print(\"others = %d\"%(others))\n"
   ]
  },
  {
   "cell_type": "markdown",
   "metadata": {},
   "source": [
    "## 4-2 定數迴圈與不定數迴圈\n",
    "\n",
    "當迴圈有固定執行次數時，我們稱之為定數迴圈。\n",
    "\n",
    "當迴圈沒有固定執行次數時，則稱之為不定數迴圈，使用者隨時可以其他方式來終止迴圈的執行。"
   ]
  },
  {
   "cell_type": "code",
   "execution_count": 12,
   "metadata": {},
   "outputs": [
    {
     "name": "stdout",
     "output_type": "stream",
     "text": [
      " 47  16  41  14  48   1 \n",
      " 36   9  35  32   9  12 \n",
      " 15  32   7   5  42  45 \n",
      " 30  31  14   9  21  38 \n",
      " 40  11   3  42  12  15 \n",
      " 40  30   5  15  10  20 \n",
      "  9  29  27   5  40  43 \n",
      " 24   1  40  13  49  33 \n",
      " 39  40  41  34  28  43 \n",
      " 19  16  11  39  45   8 \n",
      "Over\n"
     ]
    }
   ],
   "source": [
    "# 範例程式\n",
    "## 多重迴圈，外迴圈while、以count變數輔助，內迴圈for。\n",
    "## 產生六個1~49的亂數。\n",
    "## 定數迴圈\n",
    "\n",
    "import random\n",
    "count = 1\n",
    "while count <= 10:\n",
    "    for i in range(1,7):\n",
    "        randNum = random.randint(1,49)\n",
    "        print(\"%3d\"%(randNum), end = \" \")\n",
    "    print()\n",
    "    count += 1\n",
    "print(\"Over\")"
   ]
  },
  {
   "cell_type": "code",
   "execution_count": 13,
   "metadata": {},
   "outputs": [
    {
     "name": "stdout",
     "output_type": "stream",
     "text": [
      " 21  37  34  13   9  37 \n",
      "continue:1 or quit:0 --->1\n",
      "  6  47  18  38  16  24 \n",
      "continue:1 or quit:0 --->1\n",
      " 31   6  24  27  13   5 \n",
      "continue:1 or quit:0 --->0\n"
     ]
    }
   ],
   "source": [
    "# 範例程式\n",
    "## 多重迴圈，外迴圈while、以again變數控，內迴圈for。\n",
    "## 產生六個1~49的亂數。\n",
    "## 不定數迴圈，輸入1繼續、輸入0離開\n",
    "\n",
    "import random\n",
    "again = 1\n",
    "while again == 1:\n",
    "    for i in range(1,7):\n",
    "        randNum = random.randint(1,49)\n",
    "        print(\"%3d\"%(randNum), end = \" \")\n",
    "    print()\n",
    "    again = eval(input(\"continue:1 or quit:0 --->\"))"
   ]
  },
  {
   "cell_type": "markdown",
   "metadata": {},
   "source": [
    "## 4-3 break與continue敘述\n",
    "\n",
    "while True是一個無窮迴圈。\n",
    "\n",
    "- **break**表示中止執行包含此敘述的迴圈。\n",
    "- **continue**表示不繼續執行continue下的敘述，而直接回到迴圈的條件運算式進行判斷。"
   ]
  },
  {
   "cell_type": "code",
   "execution_count": 3,
   "metadata": {},
   "outputs": [
    {
     "name": "stdout",
     "output_type": "stream",
     "text": [
      "3 15 1 2 46 8 \n",
      "continue:1 or quit:0 --->1\n",
      "24 4 40 4 20 38 \n",
      "continue:1 or quit:0 --->0\n",
      "Over\n"
     ]
    }
   ],
   "source": [
    "# 範例程式break\n",
    "## 多重迴圈，外迴圈while、以again變數控，內迴圈for。\n",
    "## 產生六個1~49的亂數。\n",
    "## 無窮迴圈迴圈，輸入1繼續、輸入0離開\n",
    "\n",
    "import random\n",
    "while True:           #無窮迴圈\n",
    "    for i in range(1,7):\n",
    "        randNum = random.randint(1,49)\n",
    "        print(randNum, end = \" \")\n",
    "    print()\n",
    "    again = eval(input(\"continue:1 or quit:0 --->\"))\n",
    "    if again == 0:\n",
    "        break\n",
    "print(\"Over\")"
   ]
  },
  {
   "cell_type": "code",
   "execution_count": 15,
   "metadata": {},
   "outputs": [
    {
     "name": "stdout",
     "output_type": "stream",
     "text": [
      "74 + 73 = 147\n",
      "Correct, you are very good.\n",
      "Over\n"
     ]
    }
   ],
   "source": [
    "# 範例程break\n",
    "## 產生兩個亂數，分別指定給n1與n2，然後由使用者輸入這兩個數字的和。\n",
    "## 若答錯就繼續，若答對就break停止。\n",
    "\n",
    "import random\n",
    "n1 = random.randint(1,100)\n",
    "n2 = random.randint(1,100)\n",
    "\n",
    "while True:  #無窮迴圈，做到對為止\n",
    "    solution = n1 + n2\n",
    "    answer = eval(input(\"%d + %d = \" %(n1, n2)))\n",
    "    if answer == solution:\n",
    "        print(\"Correct, you are very good.\")\n",
    "        break\n",
    "    else:\n",
    "        print(\"Wrong answer, try again.\")\n",
    "print(\"Over\")"
   ]
  },
  {
   "cell_type": "code",
   "execution_count": 16,
   "metadata": {},
   "outputs": [
    {
     "name": "stdout",
     "output_type": "stream",
     "text": [
      "  1   2   3   4   6   7   8   9  11  12  13  14 \n",
      "total = 90\n"
     ]
    }
   ],
   "source": [
    "# 範例程式continue\n",
    "## 計算由1到15，將5的倍數除去，其餘的數字印出並加總。\n",
    "## 無窮迴圈 continue\n",
    "\n",
    "total = 0\n",
    "number = 1\n",
    "\n",
    "while number <=15:\n",
    "    if number %5 == 0: # 5的倍數時，number加1後離開，繼續下次迴圈\n",
    "        number += 1\n",
    "        continue\n",
    "    print(\"%3d\" %(number), end = \" \") #非5的倍數時，列印並加總，number加1\n",
    "    total += number\n",
    "    number += 1\n",
    "\n",
    "print(\"\\ntotal = %d\" %(total)) # 印出加總和        "
   ]
  },
  {
   "cell_type": "code",
   "execution_count": 17,
   "metadata": {},
   "outputs": [
    {
     "name": "stdout",
     "output_type": "stream",
     "text": [
      "  1   2   3   4 \n",
      "total = 10\n"
     ]
    }
   ],
   "source": [
    "# 範例程式\n",
    "## 計算由1到15，將5的倍數除去，其餘的數字印出並加總。\n",
    "## 用break，則到5就停止了\n",
    "\n",
    "total = 0\n",
    "number = 1\n",
    "\n",
    "while number <=15:\n",
    "    if number %5 == 0: # 5的倍數時，number加1後離開整個迴圈\n",
    "        number += 1\n",
    "        break       \n",
    "    print(\"%3d\" %(number), end = \" \")\n",
    "    total += number\n",
    "    number += 1\n",
    "\n",
    "print(\"\\ntotal = %d\" %(total))       "
   ]
  },
  {
   "cell_type": "markdown",
   "metadata": {},
   "source": [
    "## 綜合範例"
   ]
  },
  {
   "cell_type": "raw",
   "metadata": {},
   "source": [
    "**TQC+ 程式語言Python 401 最小值(M)**\n",
    "\n",
    "1. 題目說明:\n",
    "請開啟PYD401.py檔案，依下列題意進行作答，使輸出值符合題意要求。作答完成請另存新檔為PYA401.py再進行評分。 \n",
    "\n",
    "\n",
    "2. 設計說明：\n",
    "請撰寫一程式，由使用者輸入十個數字，然後找出其最小值，最後輸出最小值。\n",
    "\n",
    "\n",
    "3. 輸入輸出：\n",
    "輸入說明\n",
    "十個數值\n",
    "輸出說明\n",
    "十個數值中的最小值\n",
    "\n",
    "輸入輸出範例\n",
    "\n",
    "範例輸入\n",
    "23\n",
    "57\n",
    "48\n",
    "2\n",
    "99\n",
    "70\n",
    "9\n",
    "65\n",
    "35\n",
    "88\n",
    "\n",
    "範例輸出\n",
    "2"
   ]
  },
  {
   "cell_type": "code",
   "execution_count": 18,
   "metadata": {},
   "outputs": [
    {
     "name": "stdout",
     "output_type": "stream",
     "text": [
      "23\n",
      "57\n",
      "48\n",
      "2\n",
      "99\n",
      "70\n",
      "9\n",
      "65\n",
      "35\n",
      "88\n",
      "2\n"
     ]
    }
   ],
   "source": [
    "# 定數迴圈最小值\n",
    "total = 10\n",
    "\n",
    "min_num = eval(input()) # 輸入第一個數字\n",
    "\n",
    "for i in range(total-1): # 輸入其他九個數字\n",
    "    num = eval(input())  \n",
    "    if num < min_num:   # 比大小\n",
    "        min_num = num\n",
    "        \n",
    "print(min_num)"
   ]
  },
  {
   "cell_type": "raw",
   "metadata": {},
   "source": [
    "**TQC+ 程式語言Python 402 不定數迴圈-最小值(M)**\t\t\n",
    "\n",
    "1. 題目說明:\n",
    "請開啟PYD402.py檔案，依下列題意進行作答，使輸出值符合題意要求。作答完成請另存新檔為PYA402.py再進行評分。\n",
    "\n",
    "\n",
    "2. 設計說明：\n",
    "請撰寫一程式，讓使用者輸入數字，輸入的動作直到輸入值為9999才結束，然後找出其最小值，並輸出最小值。\n",
    "\n",
    "\n",
    "3. 輸入輸出：\n",
    "輸入說明\n",
    "n個數值，直至9999結束輸入\n",
    "輸出說明\n",
    "n個數值中的最小值\n",
    "\n",
    "輸入輸出範例\n",
    "\n",
    "範例輸入\n",
    "29\n",
    "100\n",
    "948\n",
    "377\n",
    "-28\n",
    "0\n",
    "-388\n",
    "9999\n",
    "\n",
    "範例輸出\n",
    "-388\n",
    "\t"
   ]
  },
  {
   "cell_type": "code",
   "execution_count": 19,
   "metadata": {},
   "outputs": [
    {
     "name": "stdout",
     "output_type": "stream",
     "text": [
      "29\n",
      "100\n",
      "948\n",
      "377\n",
      "-28\n",
      "0\n",
      "-388\n",
      "9999\n",
      "-388\n"
     ]
    }
   ],
   "source": [
    "# 不定數迴圈最小值\n",
    "num = eval(input())\n",
    "min_num = num\n",
    "\n",
    "while num != 9999: # 輸入值為9999則停止\n",
    "    num = eval(input())\n",
    "    if num < min_num:\n",
    "        min_num = num\n",
    "print(min_num)"
   ]
  },
  {
   "cell_type": "raw",
   "metadata": {},
   "source": [
    "**TQC+ 程式語言Python 403 倍數總和計算(M)**\t\n",
    "\n",
    "1. 題目說明:\n",
    "請開啟PYD403.py檔案，依下列題意進行作答，使輸出值符合題意要求。作答完成請另存新檔為PYA403.py再進行評分。\n",
    "\n",
    "\n",
    "2. 設計說明：\n",
    "請撰寫一程式，讓使用者輸入兩個正整數a、b（a<=b），輸出從a到b（包含a和b）之間4或9的倍數（一列輸出十個數字、欄寬為4、靠左對齊）以及倍數之個數、總和。\n",
    "\n",
    "\n",
    "3. 輸入輸出：\n",
    "輸入說明\n",
    "兩個正整數a、b（a<=b）\n",
    "輸出說明\n",
    "格式化輸出兩個正整數之間4或9之倍數（包含a和b）\n",
    "倍數個數\n",
    "倍數總合\n",
    "\n",
    "輸入輸出範例\n",
    "\n",
    "範例輸入1\n",
    "5\n",
    "55\n",
    "範例輸出1\n",
    "8   9   12  16  18  20  24  27  28  32  \n",
    "36  40  44  45  48  52  54  \n",
    "17\n",
    "513\n",
    "\n",
    "範例輸入2\n",
    "4\n",
    "9\n",
    "範例輸出2\n",
    "4   8   9   \n",
    "3\n",
    "21"
   ]
  },
  {
   "cell_type": "code",
   "execution_count": 4,
   "metadata": {},
   "outputs": [
    {
     "name": "stdout",
     "output_type": "stream",
     "text": [
      "5\n",
      "55\n",
      "8    9    12   16   18   20   24   27   28   32   \n",
      "36   40   44   45   48   52   54   \n",
      "17\n",
      "513\n"
     ]
    }
   ],
   "source": [
    "# 輸入兩個正整數\n",
    "a = int(input())\n",
    "b = int(input())\n",
    "\n",
    "count = total_sum = 0\n",
    "time = 10\n",
    "\n",
    "for i in range(a, b + 1):     # 兩個正整數的區間\n",
    "    if i % 4 == 0 or i % 9 == 0: # 4或9的倍數\n",
    "        print(\"%-4d\" %i, end = \" \")\n",
    "        total_sum += i  #倍數總和\n",
    "        count += 1 # 倍數個數\n",
    "        if count % time == 0: # 一列印10個數，換行列印\n",
    "            print()\n",
    "if count > 0 and count % 10 != 0 : #迴圈執行完畢，換行列印\n",
    "    print() \n",
    "print(\"%d\" %(count)) # 列印倍數個數\n",
    "print(total_sum) # 列印倍數總和"
   ]
  },
  {
   "cell_type": "raw",
   "metadata": {},
   "source": [
    "**TQC+ 程式語言Python 404 數字反轉判斷(M)**\t\n",
    "\n",
    "1. 題目說明:\n",
    "請開啟PYD404.py檔案，依下列題意進行作答，使輸出值符合題意要求。作答完成請另存新檔為PYA404.py再進行評分。\n",
    "\n",
    "2. 設計說明：\n",
    "請撰寫一程式，讓使用者輸入一個正整數，將此正整數以反轉的順序輸出，並判斷如輸入0，則輸出為0。\n",
    "\n",
    "\n",
    "3. 輸入輸出：\n",
    "輸入說明\n",
    "一個正整數或0\n",
    "輸出說明\n",
    "正整數反轉輸出。如輸入數值為0，輸出為0\n",
    "\n",
    "輸入輸出範例\n",
    "\n",
    "範例輸入1\n",
    "31283\n",
    "範例輸出1\n",
    "38213\n",
    "\n",
    "範例輸入2\n",
    "0\n",
    "範例輸出2\n",
    "0\n",
    "\n",
    "範例輸入3\n",
    "135790\n",
    "範例輸出3\n",
    "097531"
   ]
  },
  {
   "cell_type": "code",
   "execution_count": 21,
   "metadata": {},
   "outputs": [
    {
     "name": "stdout",
     "output_type": "stream",
     "text": [
      "13579\n",
      "9 7 5 3 1 "
     ]
    }
   ],
   "source": [
    "\n",
    "number = eval(input()) # 輸入一個整數\n",
    "if number == 0:  # 如數值是0，就列印0\n",
    "    print(number)\n",
    "else:          \n",
    "    while number ! = 0: # 如數值不是0，則正整數反轉順序輸出\n",
    "        print(number % 10, end = \" \") #列印除以10的餘數\n",
    "        number //= 10  # 取除以10後的商數，繼續"
   ]
  },
  {
   "cell_type": "raw",
   "metadata": {},
   "source": [
    "**TQC+ 程式語言Python 405 不定數迴圈-分數等級(M)**\t\n",
    " \n",
    " 1. 題目說明:\n",
    "請開啟PYD405.py檔案，依下列題意進行作答，使輸出值符合題意要求。作答完成請另存新檔為PYA405.py再進行評分。\n",
    "\n",
    "\n",
    "2. 設計說明：\n",
    "請撰寫一程式，以不定數迴圈的方式輸入一個正整數（代表分數），之後根據以下分數與GPA的對照表，印出其所對應的GPA。假設此不定數迴圈輸入-9999則會結束此迴圈。標準如下表所示：\n",
    "\n",
    "\n",
    "分　數\tGPA\n",
    "90 ~ 100\tA\n",
    "80 ~ 89\tB\n",
    "70 ~ 79\tC\n",
    "60 ~ 69\tD\n",
    "0 ~ 59\tE\n",
    "\n",
    "3. 輸入輸出：\n",
    "\n",
    "輸入說明\n",
    "一個正整數，直至-9999結束輸入\n",
    "\n",
    "輸出說明\n",
    "依輸入值，輸出對應的GPA\n",
    "\n",
    "輸入輸出範例\n",
    "\n",
    "輸入與輸出會交雜如下，輸出的部份以粗體字表示\n",
    "75\n",
    "C\n",
    "39\n",
    "E\n",
    "100\n",
    "A\n",
    "85\n",
    "B\n",
    "65\n",
    "D\n",
    "-9999"
   ]
  },
  {
   "cell_type": "code",
   "execution_count": 22,
   "metadata": {},
   "outputs": [
    {
     "name": "stdout",
     "output_type": "stream",
     "text": [
      "75\n",
      "C\n",
      "39\n",
      "E\n",
      "-9999\n"
     ]
    }
   ],
   "source": [
    "# 不定數迴圈-分數等級\n",
    "grade = \"\"\n",
    "score = int(input()) # 輸入成績\n",
    "\n",
    "# 等級判斷\n",
    "while score != -9999: \n",
    "    if score >= 90 and score <= 100:\n",
    "        grade = \"A\"\n",
    "    elif score >= 80 and score <= 89:\n",
    "        grade = \"B\"\n",
    "    elif score >= 70 and score <= 79:\n",
    "        grade = \"C\"\n",
    "    elif score >= 60 and score <=69:\n",
    "        grade = \"D\"\n",
    "    else:\n",
    "        grade = \"E\"\n",
    "    print(grade)\n",
    "    \n",
    "    score = eval(input()) # 再次輸入成績，直到-9999結束"
   ]
  },
  {
   "cell_type": "raw",
   "metadata": {},
   "source": [
    "**TQC+ 程式語言Python 406 不定數迴圈-BMI計算(M)**\n",
    "\n",
    "1. 題目說明:\n",
    "請開啟PYD406.py檔案，依下列題意進行作答，使輸出值符合題意要求。作答完成請另存新檔為PYA406.py再進行評分。\n",
    "\n",
    "\n",
    "2. 設計說明：\n",
    "請撰寫一程式，以不定數迴圈的方式輸入身高與體重，計算出BMI之後再根據以下對照表，印出BMI及相對應的BMI代表意義（State）。假設此不定數迴圈輸入-9999則會結束此迴圈。標準如下表所示：\n",
    "\n",
    "BMI值\t代表意義\n",
    "\n",
    "BMI < 18.5\tunder weight\n",
    "\n",
    "18.5 <= BMI < 25\tnormal\n",
    "\n",
    "25.0 <= BMI < 30\tover weight\n",
    "\n",
    "30 <= BMI\tfat\n",
    "\n",
    "提示： \n",
    "BMI，輸出浮點數到小數點後第二位。 不需考慮男性或女性標準。\n",
    "\n",
    "\n",
    "3. 輸入輸出：\n",
    "輸入說明\n",
    "兩個正數（身高cm、體重kg），直至-9999結束輸入\n",
    "輸出說明\n",
    "輸出BMI值\n",
    "BMI值代表意義\n",
    "\n",
    "輸入輸出範例\n",
    "\n",
    "輸入與輸出會交雜如下，輸出的部份以粗體字表示\n",
    "\n",
    "176\n",
    "80\n",
    "BMI: 25.83\n",
    "State: over weight\n",
    "\n",
    "170\n",
    "100\n",
    "BMI: 34.60\n",
    "State: fat\n",
    "\n",
    "-9999"
   ]
  },
  {
   "cell_type": "code",
   "execution_count": 23,
   "metadata": {},
   "outputs": [
    {
     "name": "stdout",
     "output_type": "stream",
     "text": [
      "176\n",
      "80\n",
      "BMI: 25.83\n",
      "State: over weight\n",
      "-9999\n"
     ]
    }
   ],
   "source": [
    "state = \"\"\n",
    "height = eval(input()) # 輸入身高\n",
    "\n",
    "while height != -9999: \n",
    "    weight = eval(input()) # 輸入體重\n",
    "    bmi = weight / (height /100 * height /100) # 計算BMI\n",
    "    if weight == -9999: # 體重為-9999時，停止\n",
    "        break\n",
    "        \n",
    "    elif bmi >= 30:   #BMI等級判斷\n",
    "        state = \"fat\"\n",
    "    elif bmi >= 25 and bmi < 29.9:\n",
    "        state = \"over weight\"\n",
    "    elif bmi >= 18.5 and bmi <= 24.9:\n",
    "        state = \"normal\"\n",
    "    elif bmi <18.5:\n",
    "        state = \"under weight\"\n",
    "    print(\"BMI: %.2f\" %bmi)  #列印BNI\n",
    "    print(\"State: %s\" %state) #列印評定狀態\n",
    "    \n",
    "    height = eval(input())  # 再次輸入身高，直到-9999停止"
   ]
  },
  {
   "cell_type": "raw",
   "metadata": {},
   "source": [
    "**TQC+ 程式語言Python 407 不定數迴圈-閏年判斷(M)**\n",
    "\n",
    "1. 題目說明:\n",
    "請開啟PYD407.py檔案，依下列題意進行作答，使輸出值符合題意要求。作答完成請另存新檔為PYA407.py再進行評分。\n",
    "\n",
    "\n",
    "2. 設計說明：\n",
    "(1) 請撰寫一程式，以不定數迴圈的方式讓使用者輸入西元年份，然後判斷它是否為閏年（leap year）或平年。其判斷規則如下：每四年一閏，每百年不閏，但每四百年也一閏。\n",
    "(2) 假設此不定數迴圈輸入-9999則會結束此迴圈。\n",
    "\n",
    "\n",
    "3. 輸入輸出：\n",
    "輸入說明\n",
    "一個正整數，直至-9999結束輸入輸出說明\n",
    "判斷是否為閏年或平年\n",
    "\n",
    "輸入輸出範例\n",
    "\n",
    "輸入與輸出會交雜如下，輸出的部份以粗體字表示\n",
    "\n",
    "2017\n",
    "2017 is not a leap year.\n",
    "\n",
    "2000\n",
    "2000 is a leap year.\n",
    "\n",
    "2016\n",
    "2016 is a leap year.\n",
    "\n",
    "2009\n",
    "2009 is not a leap year.\n",
    "\n",
    "2018\n",
    "2018 is not a leap year.\n",
    "\n",
    "-9999\t"
   ]
  },
  {
   "cell_type": "code",
   "execution_count": 24,
   "metadata": {},
   "outputs": [
    {
     "name": "stdout",
     "output_type": "stream",
     "text": [
      "2017\n",
      "2017 is not a leap year.\n",
      "-9999\n"
     ]
    }
   ],
   "source": [
    "# 不定數迴圈，閏年判斷\n",
    "year = eval(input())  # 輸入西元\n",
    "while year != -9999:\n",
    "    # 每四年一閏，每百年不閏，每四百年一閏。\n",
    "    if year % 400 == 0 or (year %4 == 0 and year % 100 != 0):\n",
    "        print(year, \"is a leap year.\")\n",
    "    else:\n",
    "        print(year, \"is not a leap year.\")\n",
    "    year = eval(input())  # 再次輸入西元，-9999則停止"
   ]
  },
  {
   "cell_type": "raw",
   "metadata": {},
   "source": [
    "**TQC+ 程式語言Python 408 奇偶數個數計算(M)**\t\n",
    " \n",
    " 1. 題目說明:\n",
    "請開啟PYD408.py檔案，依下列題意進行作答，使輸出值符合題意要求。作答完成請另存新檔為PYA408.py再進行評分。\n",
    "\n",
    "\n",
    "2. 設計說明：\n",
    "請撰寫一程式，讓使用者輸入十個整數，計算並輸出偶數和奇數的個數。\n",
    "\n",
    "\n",
    "3. 輸入輸出：\n",
    "\n",
    "輸入說明\n",
    "十個整數\n",
    "\n",
    "輸出說明\n",
    "偶數的個數\n",
    "奇數的個數\n",
    "\n",
    "輸入輸出範例\n",
    "\n",
    "範例輸入\n",
    "\n",
    "69\n",
    "48\n",
    "19\n",
    "91\n",
    "83\n",
    "22\n",
    "18\n",
    "37\n",
    "82\n",
    "40\n",
    "\n",
    "範例輸出\n",
    "\n",
    "Even numbers: 5\n",
    "\n",
    "Odd numbers: 5"
   ]
  },
  {
   "cell_type": "code",
   "execution_count": 25,
   "metadata": {},
   "outputs": [
    {
     "name": "stdout",
     "output_type": "stream",
     "text": [
      "69\n",
      "48\n",
      "19\n",
      "91\n",
      "83\n",
      "22\n",
      "18\n",
      "37\n",
      "82\n",
      "40\n",
      "Even numbers: 5\n",
      "Odd numbers:  5\n"
     ]
    }
   ],
   "source": [
    "# 奇偶數計算\n",
    "even = odd = 0\n",
    "\n",
    "for i in range(10): #輸入10個整數\n",
    "    a = int(input())  \n",
    "    if a%2 == 0:  #偶數\n",
    "        even += 1\n",
    "    else:\n",
    "        odd += 1  #奇數\n",
    "print(\"Even numbers:\", even)\n",
    "print(\"Odd numbers: \", odd)"
   ]
  },
  {
   "cell_type": "raw",
   "metadata": {},
   "source": [
    "**TQC+ 程式語言Python 409 得票數計算(H)**\n",
    "  \n",
    "  1. 題目說明:\n",
    "請開啟PYD409.py檔案，依下列題意進行作答，使輸出值符合題意要求。作答完成請另存新檔為PYA409.py再進行評分。\n",
    "\n",
    "\n",
    "2. 設計說明：\n",
    "某次選舉有兩位候選人，分別是No.1: Nami、No.2: Chopper。請撰寫一程式，輸入五張選票，輸入值如為1即表示針對1號候選人投票；輸入值如為2即表示針對2號候選人投票，如輸入其他值則視為廢票。每次投完後需印出目前每位候選人的得票數，最後印出最高票者為當選人；如最終計算有相同的最高票數者或無法選出最高票者，顯示【=> No one won the election.】。\n",
    "\n",
    "\n",
    "3. 輸入輸出：\n",
    "\n",
    "輸入說明\n",
    "五個正整數（1、2或其他）\n",
    "\n",
    "輸出說明\n",
    "每次投完後需印出目前每位候選人的得票數\n",
    "\n",
    "五張選票投票完成，最後印出最高票者為當選人\n",
    "\n",
    "輸入輸出範例\n",
    "\n",
    "輸入與輸出會交雜如下，輸出的部份以粗體字表示\n",
    "\n",
    "2\n",
    "Total votes of No.1: Nami =  0\n",
    "Total votes of No.2: Chopper =  1\n",
    "Total null votes =  0\n",
    "\n",
    "1\n",
    "Total votes of No.1: Nami =  1\n",
    "Total votes of No.2: Chopper =  1\n",
    "Total null votes =  0\n",
    "\n",
    "8\n",
    "Total votes of No.1: Nami =  1\n",
    "Total votes of No.2: Chopper =  1\n",
    "Total null votes =  1\n",
    "\n",
    "2\n",
    "Total votes of No.1: Nami =  1\n",
    "Total votes of No.2: Chopper =  2\n",
    "Total null votes =  1\n",
    "\n",
    "2\n",
    "Total votes of No.1: Nami =  1\n",
    "Total votes of No.2: Chopper =  3\n",
    "Total null votes =  1\n",
    "\n",
    "=> No.2 Chopper won the election."
   ]
  },
  {
   "cell_type": "code",
   "execution_count": 28,
   "metadata": {},
   "outputs": [
    {
     "name": "stdout",
     "output_type": "stream",
     "text": [
      "2\n",
      "Total votes of No. 1: Nami =  0\n",
      "Total votes of No.2: Chopper =  1\n",
      "1\n",
      "Total votes of No. 1: Nami =  1\n",
      "Total votes of No.2: Chopper =  1\n",
      "8\n",
      "Total votes of No. 1: Nami =  1\n",
      "Total votes of No.2: Chopper =  1\n",
      "2\n",
      "Total votes of No. 1: Nami =  1\n",
      "Total votes of No.2: Chopper =  2\n",
      "2\n",
      "Total votes of No. 1: Nami =  1\n",
      "Total votes of No.2: Chopper =  3\n",
      "=> No.2 Chopper won the election.\n"
     ]
    }
   ],
   "source": [
    "# 兩位候選人，五張選票\n",
    "vote1 = vote2 = null_vote = 0\n",
    "\n",
    "for i in range(5):  \n",
    "    n = eval(input()) # 每張選票投誰，累計票數\n",
    "    if n == 1:\n",
    "        vote1 += 1\n",
    "    elif n == 2:\n",
    "        vote2 += 1\n",
    "    else:\n",
    "        null_vote += 1\n",
    "    print(\"Total votes of No. 1: Nami = \", vote1)\n",
    "    print(\"Total votes of No.2: Chopper = \", vote2)\n",
    "\n",
    "# 結果判斷誰贏\n",
    "if vote1 > vote2:\n",
    "    print(\"=> No.1 Nami won the election.\")\n",
    "elif vote1 < vote2:\n",
    "    print(\"=> No.2 Chopper won the election.\")\n",
    "else:\n",
    "    print(\"=> No one won the election.\")"
   ]
  },
  {
   "cell_type": "raw",
   "metadata": {},
   "source": [
    "   \t\t\n",
    " **TQC+ 程式語言Python 410 繪製等腰三角形(H)**\t\n",
    " \n",
    " 1. 題目說明:\n",
    "請開啟PYD410.py檔案，依下列題意進行作答，使輸出值符合題意要求。作答完成請另存新檔為PYA410.py再進行評分。\n",
    "\n",
    "2. 設計說明：\n",
    "請撰寫一程式，依照使用者輸入的n，畫出對應的等腰三角形。\n",
    "\n",
    "\n",
    "3. 輸入輸出：\n",
    "\n",
    "輸入說明\n",
    "一個正整數\n",
    "\n",
    "輸出說明\n",
    "以 * 畫出等腰三角形\n",
    "（每列最後一個 * 的右方無空白）\n",
    "\n",
    "輸入輸出範例\n",
    "\n",
    "範例輸入\n",
    "7\n",
    "範例輸出\n",
    " \n",
    " ```   \n",
    "      *\n",
    "     ***\n",
    "    *****\n",
    "   *******\n",
    "  *********\n",
    " ***********\n",
    "************* \t\t\n",
    "```"
   ]
  },
  {
   "cell_type": "code",
   "execution_count": 29,
   "metadata": {},
   "outputs": [
    {
     "name": "stdout",
     "output_type": "stream",
     "text": [
      "7\n",
      "            * \n",
      "          * * * \n",
      "        * * * * * \n",
      "      * * * * * * * \n",
      "    * * * * * * * * * \n",
      "  * * * * * * * * * * * \n",
      "* * * * * * * * * * * * * \n"
     ]
    }
   ],
   "source": [
    "# 繪製等腰三角型\n",
    "\n",
    "n = eval(input())\n",
    "\n",
    "for i in range(0,n):\n",
    "    for j in range(n-i, 1, -1): #印空白\n",
    "        print(\" \", end = \" \")\n",
    "    for k in range(0, i*2 + 1, 1):#印星號\n",
    "        print(\"*\", end=\" \")\n",
    "    print()"
   ]
  }
 ],
 "metadata": {
  "kernelspec": {
   "display_name": "Python 3",
   "language": "python",
   "name": "python3"
  },
  "language_info": {
   "codemirror_mode": {
    "name": "ipython",
    "version": 3
   },
   "file_extension": ".py",
   "mimetype": "text/x-python",
   "name": "python",
   "nbconvert_exporter": "python",
   "pygments_lexer": "ipython3",
   "version": "3.7.4"
  }
 },
 "nbformat": 4,
 "nbformat_minor": 2
}
