{
 "cells": [
  {
   "cell_type": "markdown",
   "metadata": {},
   "source": [
    "# Chapter 8 字串"
   ]
  },
  {
   "cell_type": "markdown",
   "metadata": {},
   "source": [
    "- 8-1 建立空字串\n",
    "- 8-2 字串的運作\n",
    "- 8-3 測試字串\n",
    "- 8-4 子字串的運作\n",
    "- 8-5 轉換字串\n",
    "- 8-6 如何從字串中去掉頭尾空白\n",
    "- 8-7 如何將字串加以格式化"
   ]
  },
  {
   "cell_type": "markdown",
   "metadata": {},
   "source": [
    "通常，字串是以雙引號括起來，而字元是以單引號括起來。但是，Python沒有字串(string)與字元(character)的區別，所以用雙引號或單引號來括住字串皆可。"
   ]
  },
  {
   "cell_type": "markdown",
   "metadata": {},
   "source": [
    "## 8-1 建立字串\n",
    "\n",
    "我們可以使用下面兩種方式建立字串，一是str()，二是對稱的單雙引號。"
   ]
  },
  {
   "cell_type": "code",
   "execution_count": 5,
   "metadata": {},
   "outputs": [
    {
     "data": {
      "text/plain": [
       "'Learning Python'"
      ]
     },
     "execution_count": 5,
     "metadata": {},
     "output_type": "execute_result"
    }
   ],
   "source": [
    "s1 = str()\n",
    "s1\n",
    "\n",
    "s2 = ''\n",
    "s2\n",
    "\n",
    "s3 = str(\"Learning Python\")\n",
    "s3\n",
    "\n",
    "s4 = \"Learning Python\"\n",
    "s4"
   ]
  },
  {
   "cell_type": "markdown",
   "metadata": {},
   "source": [
    "## 8-2 字串的運作\n",
    "\n",
    "一、運算子\n",
    "\n",
    "- ＋：連結\n",
    "\n",
    "- *：複製\n",
    "\n",
    "- []：索引，用來擷取字串的某一字元。\n",
    "\n",
    "    - 索引值是負的，表示由右往左計算位置，或將此值加上字串長度。\n",
    "\n",
    "- [start:end:step]:分割/切片\n",
    "    - 從start到end-1，隔step\n",
    "\n",
    "- in / not in:檢視字串是否在另一字串中"
   ]
  },
  {
   "cell_type": "code",
   "execution_count": 7,
   "metadata": {},
   "outputs": [
    {
     "name": "stdout",
     "output_type": "stream",
     "text": [
      "BrightWonderful\n",
      "BrightBright\n"
     ]
    }
   ],
   "source": [
    "s = \"Bright\"\n",
    "t = \"Wonderful\"\n",
    "\n",
    "print(s+t)\n",
    "print(s*2)"
   ]
  },
  {
   "cell_type": "code",
   "execution_count": 11,
   "metadata": {},
   "outputs": [
    {
     "name": "stdout",
     "output_type": "stream",
     "text": [
      "r\n",
      "h\n",
      "righ\n",
      "Bright\n",
      "Brig\n",
      "right\n",
      "True\n",
      "False\n"
     ]
    }
   ],
   "source": [
    "s = \"Bright\"\n",
    "\n",
    "print(s[1])\n",
    "print(s[-2])\n",
    "\n",
    "print(s[1:-1])\n",
    "print(s[:])\n",
    "print(s[:4])\n",
    "print(s[1:])\n",
    "\n",
    "print(\"B\" in s)\n",
    "print(\"T\" in s)"
   ]
  },
  {
   "cell_type": "markdown",
   "metadata": {},
   "source": [
    "**二、函數**\n",
    "\n",
    "- len()：計算字串長度\n",
    "- max()：計算字串的最大值\n",
    "- min()：計算字串的最小值"
   ]
  },
  {
   "cell_type": "code",
   "execution_count": 6,
   "metadata": {},
   "outputs": [
    {
     "name": "stdout",
     "output_type": "stream",
     "text": [
      "6\n",
      "t\n",
      "B\n"
     ]
    }
   ],
   "source": [
    "s = \"Bright\"\n",
    "print(len(s))\n",
    "\n",
    "print(max(s))\n",
    "print(min(s))"
   ]
  },
  {
   "cell_type": "markdown",
   "metadata": {},
   "source": [
    "## 8-3 測試字串\n",
    "\n",
    "測試字串旨在測試字串是否屬於英文字母數字、字母、數字、以及其他種類。"
   ]
  },
  {
   "cell_type": "code",
   "execution_count": 12,
   "metadata": {},
   "outputs": [
    {
     "name": "stdout",
     "output_type": "stream",
     "text": [
      "True\n",
      "True\n",
      "False\n",
      "True\n",
      "False\n",
      "False\n",
      "False\n"
     ]
    }
   ],
   "source": [
    "s = \"Linda\"\n",
    "\n",
    "print(s.isdigit()) #是否是數字構成\n",
    "print(s.isalpha()) #是否是字母構成\n",
    "print(s.isalnum()) #是否是字母和數字構成\n",
    "\n",
    "print(s.isidentifier()) #是否是符合識別字的名稱\n",
    "\n",
    "print(s.isupper()) #是否是大寫字母\n",
    "print(s.islower()) #是否是小寫字母\n",
    "print(s.isspace()) #是否是白色空白"
   ]
  },
  {
   "cell_type": "markdown",
   "metadata": {},
   "source": [
    "## 8-4 子字串的運作\n",
    "\n",
    "對字串的比較"
   ]
  },
  {
   "cell_type": "code",
   "execution_count": 17,
   "metadata": {},
   "outputs": [
    {
     "name": "stdout",
     "output_type": "stream",
     "text": [
      "True\n",
      "True\n",
      "3\n",
      "-1\n",
      "0\n"
     ]
    }
   ],
   "source": [
    "s = \"Linda\"\n",
    "\n",
    "print(s.endswith('da')) #字串字尾是否是括號中的子子串\n",
    "print(s.startswith(\"Li\")) #字串開頭是否是括號中的子子串\n",
    "\n",
    "print(s.find(\"d\"))       #找尋字串中出現括號中的子字串的最小索引值\n",
    "print(s.rfind(\"e\"))      #找尋字串中出現括號中的子字串的最大索引值\n",
    "print(s.count(\"e\"))      #計算字串中出現括號中的子字串個數"
   ]
  },
  {
   "cell_type": "markdown",
   "metadata": {},
   "source": [
    "## 8-5 轉換字串\n",
    "\n",
    "轉換字串大小寫的方法。"
   ]
  },
  {
   "cell_type": "code",
   "execution_count": 20,
   "metadata": {},
   "outputs": [
    {
     "name": "stdout",
     "output_type": "stream",
     "text": [
      "Welcome to taipei\n",
      "welcome to taipei\n",
      "WELCOME TO TAIPEI\n",
      "Welcome To Taipei\n",
      "WELCOME TO tAIPEI\n",
      "welcome to Tainan\n"
     ]
    }
   ],
   "source": [
    "s = \"welcome to Taipei\"\n",
    "\n",
    "print(s.capitalize()) #第一個字元大寫，其他小寫\n",
    "print(s.lower()) #全部小寫\n",
    "print(s.upper()) #全部大寫\n",
    "print(s.title()) # 每個單字第一個字大寫\n",
    "print(s.swapcase()) #大寫變小寫、小寫變大寫\n",
    "print(s.replace(\"Taipei\", \"Tainan\")) #舊改新"
   ]
  },
  {
   "cell_type": "markdown",
   "metadata": {},
   "source": [
    "## 8-6 如何從字串中去掉頭尾空白\n",
    "\n",
    "將字串中的頭尾空白去掉。"
   ]
  },
  {
   "cell_type": "code",
   "execution_count": 22,
   "metadata": {},
   "outputs": [
    {
     "name": "stdout",
     "output_type": "stream",
     "text": [
      "Learning Python now!   \n",
      "   Learning Python now!\n",
      "Learning Python now!\n"
     ]
    }
   ],
   "source": [
    "s = \"   Learning Python now!   \"\n",
    "\n",
    "print(s.lstrip()) #刪除字串左側的空白\n",
    "print(s.rstrip()) #刪除字串右側的空白\n",
    "print(s.strip())  #刪除字串兩側的空白"
   ]
  },
  {
   "cell_type": "markdown",
   "metadata": {},
   "source": [
    "## 8-7 如何將字串格式化\n",
    "\n",
    "將字串格式化的方法。"
   ]
  },
  {
   "cell_type": "code",
   "execution_count": 24,
   "metadata": {},
   "outputs": [
    {
     "name": "stdout",
     "output_type": "stream",
     "text": [
      " Bigflower Francis  \n",
      "Bigflower Francis   \n",
      "   Bigflower Francis\n"
     ]
    }
   ],
   "source": [
    "s = \"Bigflower Francis\"\n",
    "\n",
    "print(s.center(20)) #在給予的寬度欄位下，向中對齊\n",
    "print(s.ljust(20))  #在給予的寬度欄位下，向左對齊\n",
    "print(s.rjust(20))  #在給予的寬度欄位下，向右對齊"
   ]
  },
  {
   "cell_type": "code",
   "execution_count": 25,
   "metadata": {},
   "outputs": [
    {
     "name": "stdout",
     "output_type": "stream",
     "text": [
      "['Apple', 'Orange', 'Banana', 'Kiwi']\n",
      "['2019', '11', '08']\n"
     ]
    }
   ],
   "source": [
    "s = \"Apple Orange Banana Kiwi\"\n",
    "\n",
    "lst = s.split() #將字串解析到串列，以空白為分隔符號\n",
    "print(lst)\n",
    "\n",
    "t = \"2019-11-08\"\n",
    "\n",
    "lstt = t.split(\"-\") #將字串解析到串列，以-為分隔符號\n",
    "print(lstt)"
   ]
  },
  {
   "cell_type": "markdown",
   "metadata": {},
   "source": [
    "## 綜合範例"
   ]
  },
  {
   "cell_type": "code",
   "execution_count": null,
   "metadata": {},
   "outputs": [],
   "source": [
    "**TQC+ 程式語言Python 801 字串索引**\n",
    "\n",
    "1. 題目說明:\n",
    "請開啟PYD801.py檔案，依下列題意進行作答，顯示每個字元的索引，使輸出值符合題意要求。作答完成請另存新檔為PYA801.py再進行評分。\n",
    "\n",
    "\n",
    "2. 設計說明：\n",
    "請撰寫一程式，要求使用者輸入一字串，顯示該字串每個字元的索引。\n",
    "\n",
    "\n",
    "3. 輸入輸出：\n",
    "\n",
    "輸入說明\n",
    "一個字串\n",
    "\n",
    "輸出說明\n",
    "字串每個字元的索引\n",
    "\n",
    "輸入輸出範例\n",
    "\n",
    "- 範例輸入\n",
    "Sandwich\n",
    "\n",
    "- 範例輸出\n",
    "\n",
    "Index of 'S': 0\n",
    "Index of 'a': 1\n",
    "Index of 'n': 2\n",
    "Index of 'd': 3\n",
    "Index of 'w': 4\n",
    "Index of 'i': 5\n",
    "Index of 'c': 6\n",
    "Index of 'h': 7"
   ]
  },
  {
   "cell_type": "code",
   "execution_count": 26,
   "metadata": {},
   "outputs": [
    {
     "name": "stdout",
     "output_type": "stream",
     "text": [
      "Sandwich\n",
      "Index of 'S': 0\n",
      "Index of 'a': 1\n",
      "Index of 'n': 2\n",
      "Index of 'd': 3\n",
      "Index of 'w': 4\n",
      "Index of 'i': 5\n",
      "Index of 'c': 6\n",
      "Index of 'h': 7\n"
     ]
    }
   ],
   "source": [
    "string = input()\n",
    "for i in range(len(string)):\n",
    "    print(\"Index of '%c': %d\" %(string[i],i))"
   ]
  },
  {
   "cell_type": "code",
   "execution_count": null,
   "metadata": {},
   "outputs": [],
   "source": [
    "**TQC+ 程式語言Python 802 字元對應**\n",
    "\n",
    "1. 題目說明:\n",
    "請開啟PYD802.py檔案，依下列題意進行作答，顯示字串每個字元對應的ASCII碼及其總和，使輸出值符合題意要求。作答完成請另存新檔為PYA802.py再進行評分。\n",
    "\n",
    "\n",
    "2. 設計說明：\n",
    "請撰寫一程式，要求使用者輸入一字串，顯示該字串每個字元的對應ASCII碼及其總和。\n",
    "\n",
    "\n",
    "3. 輸入輸出：\n",
    "\n",
    "輸入說明\n",
    "一個字串\n",
    "\n",
    "輸出說明\n",
    "\n",
    "依序輸出字串中每個字元對應的ASCII碼\n",
    "\n",
    "每個字元ASCII碼的總和\n",
    "\n",
    "輸入輸出範例\n",
    "\n",
    "範例輸入\n",
    "Kingdom\n",
    "\n",
    "範例輸出\n",
    "ASCII code for 'K' is 75\n",
    "ASCII code for 'i' is 105\n",
    "ASCII code for 'n' is 110\n",
    "ASCII code for 'g' is 103\n",
    "ASCII code for 'd' is 100\n",
    "ASCII code for 'o' is 111\n",
    "ASCII code for 'm' is 109\n",
    "713"
   ]
  },
  {
   "cell_type": "code",
   "execution_count": 30,
   "metadata": {},
   "outputs": [
    {
     "name": "stdout",
     "output_type": "stream",
     "text": [
      "Kingdom\n",
      "ASCII code for 'K' is 75\n",
      "ASCII code for 'i' is 105\n",
      "ASCII code for 'n' is 110\n",
      "ASCII code for 'g' is 103\n",
      "ASCII code for 'd' is 100\n",
      "ASCII code for 'o' is 111\n",
      "ASCII code for 'm' is 109\n",
      "713\n"
     ]
    }
   ],
   "source": [
    "total = 0\n",
    "string = input()\n",
    "\n",
    "for i in range(0, len(string)):\n",
    "    num = ord(string[i])\n",
    "    print(\"ASCII code for '%s' is %d\" %(string[i], num))\n",
    "    total += num\n",
    "print(total)"
   ]
  },
  {
   "cell_type": "code",
   "execution_count": null,
   "metadata": {},
   "outputs": [],
   "source": [
    "**TQC+ 程式語言Python 803 倒數三個詞(M)**\n",
    "\n",
    "1. 題目說明:\n",
    "請開啟PYD803.py檔案，依下列題意進行作答，依輸入值取得該句子倒數三個詞，使輸出值符合題意要求。作答完成請另存新檔為PYA803.py再進行評分。\n",
    "\n",
    "\n",
    "2. 設計說明：\n",
    "請撰寫一程式，讓使用者輸入一個句子（至少有五個詞，以空白隔開），並輸出該句子倒數三個詞。\n",
    "\n",
    "\n",
    "3. 輸入輸出：\n",
    "\n",
    "輸入說明\n",
    "一個句子（至少五個詞，以空白隔開）\n",
    "\n",
    "輸出說明\n",
    "該句子倒數三個詞\n",
    "\n",
    "輸入輸出範例\n",
    "\n",
    "範例輸入\n",
    "Many foreign students study in FJU\n",
    "範例輸出\n",
    "study in FJU\n"
   ]
  },
  {
   "cell_type": "code",
   "execution_count": 32,
   "metadata": {},
   "outputs": [
    {
     "name": "stdout",
     "output_type": "stream",
     "text": [
      "Many foreign students study in FJU.\n",
      "study in FJU.\n"
     ]
    }
   ],
   "source": [
    "s = input()\n",
    "s_list = s.split(\" \")\n",
    "print(\" \".join(s_list[-3:]))"
   ]
  },
  {
   "cell_type": "code",
   "execution_count": null,
   "metadata": {},
   "outputs": [],
   "source": [
    "**TQC+ 程式語言Python 804 大寫轉換**\n",
    "\n",
    "1. 題目說明:\n",
    "請開啟PYD804.py檔案，依下列題意進行作答，將字串轉換成大寫及首字大寫，使輸出值符合題意要求。作答完成請另存新檔為PYA804.py再進行評分。\n",
    "\n",
    "\n",
    "2. 設計說明：\n",
    "請撰寫一程式，讓使用者輸入一字串，分別將該字串轉換成全部大寫以及每個字的第一個字母大寫。\n",
    "\n",
    "\n",
    "3. 輸入輸出：\n",
    "\n",
    "輸入說明\n",
    "一個字串\n",
    "\n",
    "輸出說明\n",
    "全部大寫\n",
    "每個字的第一個字母大寫\n",
    "\n",
    "輸入輸出範例\n",
    "\n",
    "範例輸入\n",
    "learning python is funny\n",
    "範例輸出\n",
    "LEARNING PYTHON IS FUNNY\n",
    "Learning Python Is Funny\n"
   ]
  },
  {
   "cell_type": "code",
   "execution_count": 33,
   "metadata": {},
   "outputs": [
    {
     "name": "stdout",
     "output_type": "stream",
     "text": [
      "learning python is funny\n",
      "LEARNING PYTHON IS FUNNY\n",
      "Learning Python Is Funny\n"
     ]
    }
   ],
   "source": [
    "s = input()\n",
    "\n",
    "print(s.upper())\n",
    "print(s.title())"
   ]
  },
  {
   "cell_type": "markdown",
   "metadata": {},
   "source": [
    "**TQC+ 程式語言Python 805 字串輸出(M)**\n",
    "\n",
    "1. 題目說明:\n",
    "請開啟PYD805.py檔案，依下列題意進行作答，將字串依規則進行輸出，使輸出值符合題意要求。作答完成請另存新檔為PYA805.py再進行評分。\n",
    "\n",
    "\n",
    "2. 設計說明：\n",
    "請撰寫一程式，要求使用者輸入一個長度為6的字串，將此字串分別置於10個欄位的寬度的左邊、中間和右邊，並顯示這三個結果，左右皆以直線 |（Vertical bar）作為邊界。\n",
    "\n",
    "\n",
    "3. 輸入輸出：\n",
    "\n",
    "輸入說明\n",
    "一個長度為6的字串\n",
    "\n",
    "輸出說明\n",
    "格式化輸出\n",
    "\n",
    "輸入輸出範例\n",
    "\n",
    "範例輸入\n",
    "python\n",
    "\n",
    "範例輸出\n",
    "\n",
    "```\n",
    "|python    |\n",
    "|  python  |\n",
    "|    python|\n",
    "```"
   ]
  },
  {
   "cell_type": "code",
   "execution_count": 34,
   "metadata": {},
   "outputs": [
    {
     "name": "stdout",
     "output_type": "stream",
     "text": [
      "python\n",
      "|python    |\n",
      "|  python  |\n",
      "|    python|\n"
     ]
    }
   ],
   "source": [
    "s = input()\n",
    "if len(s) == 6:\n",
    "    print(\"|%-10s|\" %(s))\n",
    "    print(\"|%s|\" %s.center(10))\n",
    "    print(\"|%10s|\" %(s))"
   ]
  },
  {
   "cell_type": "code",
   "execution_count": null,
   "metadata": {},
   "outputs": [],
   "source": [
    "**TQC+ 程式語言Python 806 字元次數計算(M)**\n",
    "\n",
    "1. 題目說明:\n",
    "請開啟PYD806.py檔案，依下列題意進行作答，計算指定字元出現的次數，使輸出值符合題意要求。作答完成請另存新檔為PYA806.py再進行評分。\n",
    "\n",
    "\n",
    "2. 設計說明：\n",
    "請撰寫一程式，讓使用者輸入一字串和一字元，並將此字串及字元作為參數傳遞給名為compute()的函式，此函式將回傳該字串中指定字元出現的次數，接著再輸出結果。\n",
    "\n",
    "\n",
    "3. 輸入輸出：\n",
    "\n",
    "輸入說明\n",
    "一個字串和一個字元\n",
    "\n",
    "輸出說明\n",
    "字串中指定字元出現的次數\n",
    "\n",
    "輸入輸出範例\n",
    "\n",
    "範例輸入\n",
    "Our country is beautiful\n",
    "u\n",
    "\n",
    "範例輸出\n",
    "u occurs 4 time(s)\n"
   ]
  },
  {
   "cell_type": "code",
   "execution_count": 2,
   "metadata": {},
   "outputs": [
    {
     "name": "stdout",
     "output_type": "stream",
     "text": [
      "Our country is beautiful\n",
      "u\n",
      "u occurs 4 time(s)\n"
     ]
    }
   ],
   "source": [
    "def compute(sentence, w):\n",
    "    return setence.count(w)\n",
    "setence = input()\n",
    "word = input()\n",
    "print(word, \"occurs\", compute(setence, word), \"time(s)\")"
   ]
  },
  {
   "cell_type": "code",
   "execution_count": null,
   "metadata": {},
   "outputs": [],
   "source": [
    "**TQC+ 程式語言Python 807 字串加總(M)**\n",
    "\n",
    "1. 題目說明:\n",
    "請開啟PYD807.py檔案，依下列題意進行作答，計算數字加總並計算平均，使輸出值符合題意要求。作答完成請另存新檔為PYA807.py再進行評分。\n",
    "\n",
    "2. 設計說明：\n",
    "請撰寫一程式，要求使用者輸入一字串，該字串為五個數字，以空白隔開。請將此五個數字加總（Total）並計算平均（Average）。\n",
    "\n",
    "3. 輸入輸出：\n",
    "輸入說明\n",
    "一個字串（五個數字，以空白隔開）\n",
    "輸出說明\n",
    "總合\n",
    "平均 (輸出浮點數到小數點後第一位)\n",
    "\n",
    "輸入輸出範例\n",
    "範例輸入\n",
    "-2 34 18 29 -56\n",
    "範例輸出\n",
    "Total = 23\n",
    "Average = 4.6\n"
   ]
  },
  {
   "cell_type": "code",
   "execution_count": 3,
   "metadata": {},
   "outputs": [
    {
     "name": "stdout",
     "output_type": "stream",
     "text": [
      "-2 34 18 29 -56\n",
      "Total = 23\n",
      "Average = 4.6\n"
     ]
    }
   ],
   "source": [
    "s = input()\n",
    "slist = [int(x) for x in s.split(\" \")]\n",
    "\n",
    "print(\"Total =\", sum(slist))\n",
    "print(\"Average =\", sum(slist)/len(slist))"
   ]
  },
  {
   "cell_type": "markdown",
   "metadata": {},
   "source": [
    "**TQC+ 程式語言Python 808 社會安全碼(M)**\n",
    "\n",
    "1. 題目說明:\n",
    "請開啟PYD808.py檔案，依下列題意進行作答，進行社會安全碼格式檢查，使輸出值符合題意要求。作答完成請另存新檔為PYA808.py再進行評分。\n",
    "\n",
    "\n",
    "2. 設計說明：\n",
    "請撰寫一程式，提示使用者輸入一個社會安全碼SSN，格式為ddd-dd-dddd，d表示數字。若格式完全符合（正確的SSN）則顯示【Valid SSN】，否則顯示【Invalid SSN】。\n",
    "\n",
    "\n",
    "3. 輸入輸出：\n",
    "\n",
    "輸入說明\n",
    "一個字串（格式為ddd-dd-dddd，d表示數字）\n",
    "\n",
    "輸出說明\n",
    "判斷是否符合SSN格式\n",
    "\n",
    "\n",
    "輸入輸出範例\n",
    "\n",
    "- 範例輸入1\n",
    "329-48-4977\n",
    "- 範例輸出1\n",
    "Valid SSN\n",
    "- 範例輸入2\n",
    "837-a3-3000\n",
    "- 範例輸出2\n",
    "Invalid SSN\n"
   ]
  },
  {
   "cell_type": "code",
   "execution_count": 43,
   "metadata": {},
   "outputs": [
    {
     "name": "stdout",
     "output_type": "stream",
     "text": [
      "329-48-4977\n",
      "Valid SSN\n"
     ]
    }
   ],
   "source": [
    "s = input()\n",
    "\n",
    "isSSN = (len(s) == 11)\n",
    "\n",
    "if isSSN:\n",
    "    for i in range(len(s)):\n",
    "        if i == 3 or i == 6:\n",
    "            if s[i] != \"-\":\n",
    "                isSSN = False\n",
    "                break\n",
    "            elif not s[i].isdigit():\n",
    "                isSSN = False\n",
    "                break\n",
    "    print(\"Valid SSN\")\n",
    "else:\n",
    "     print(\"Invalid SSN\")\n",
    "        "
   ]
  },
  {
   "cell_type": "code",
   "execution_count": null,
   "metadata": {},
   "outputs": [],
   "source": [
    "**TQC+ 程式語言Python 809 密碼規則(H)**\n",
    "\n",
    "1. 題目說明:\n",
    "請開啟PYD809.py檔案，依下列題意進行作答，檢查密碼是否符合規則，使輸出值符合題意要求。作答完成請另存新檔為PYA809.py再進行評分。\n",
    "\n",
    "\n",
    "2. 設計說明：\n",
    "\n",
    "請撰寫一程式，要求使用者輸入一個密碼（字串），檢查此密碼是否符合規則。密碼規則如下：\n",
    "　\n",
    "a. 必須至少八個字元。\n",
    "b. 只包含英文字母和數字。\n",
    "c. 至少要有一個大寫英文字母。\n",
    "d. 若符合上述三項規則，程式將顯示檢查結果為【Valid password】，否則顯示【Invalid password】。\n",
    "\n",
    "\n",
    "3. 輸入輸出：\n",
    "\n",
    "輸入說明\n",
    "一個字串\n",
    "\n",
    "輸出說明\n",
    "判斷是否符合密碼規則\n",
    "\n",
    "輸入輸出範例\n",
    "\n",
    "範例輸入1\n",
    "39Gfjkd98\n",
    "範例輸出1\n",
    "Valid password\n",
    "範例輸入2\n",
    "39dk8fh\n",
    "範例輸出2\n",
    "Invalid password"
   ]
  },
  {
   "cell_type": "code",
   "execution_count": 46,
   "metadata": {},
   "outputs": [
    {
     "name": "stdout",
     "output_type": "stream",
     "text": [
      "39dk8fh\n",
      "Invalid password\n"
     ]
    }
   ],
   "source": [
    "pw = input()\n",
    "validPw = True\n",
    "\n",
    "if len(pw) <= 7 or pw.isalphs() or pw.isdigit() or pw.islower():\n",
    "    validPw = False\n",
    "else:\n",
    "    for i in range(0, len(pw)):\n",
    "        if not pw[i].isalpha() and not pw[i].isdigit():\n",
    "            validPw = False\n",
    "            break\n",
    "\n",
    "if validPw:\n",
    "    print(\"Valid password\")\n",
    "else:\n",
    "    print(\"Invalid password\")"
   ]
  },
  {
   "cell_type": "code",
   "execution_count": null,
   "metadata": {},
   "outputs": [],
   "source": [
    "**TQC+ 程式語言Python 810 最大值與最小值之差(H)**\n",
    "\n",
    "1. 題目說明:\n",
    "請開啟PYD810.py檔案，依下列題意進行作答，找出串列數字中最大值和最小值之間的差，使輸出值符合題意要求。作答完成請另存新檔為PYA810.py再進行評分。\n",
    "\n",
    "2. 設計說明：\n",
    "請撰寫一程式，首先要求使用者輸入正整數k（1 <= k <= 100），代表有k筆測試資料。每一筆測試資料是一串數字，每個數字之間以一空白區隔，請找出此串列數字中最大值和最小值之間的差。\n",
    "\n",
    "提示：差值輸出到小數點後第二位。\n",
    "\n",
    "3. 輸入輸出：\n",
    "輸入說明\n",
    "先輸入測試資料的筆數，再輸入每一筆測試資料（一串數字，每個數字之間以空白區隔）\n",
    "輸出說明\n",
    "每個串列數字中，最大值和最小值之間的差\n",
    "\n",
    "輸入輸出範例\n",
    "輸入與輸出會交雜如下，輸出的部份以粗體字表示\n",
    "4\n",
    "94 52.9 3.14 77 46\n",
    "90.86\n",
    "-2 0 1000.34 -14.4 89 50\n",
    "1014.74\n",
    "87.78 33333 29.3\n",
    "33303.70\n",
    "9998 9996 9999\n",
    "3.00\n"
   ]
  },
  {
   "cell_type": "code",
   "execution_count": 1,
   "metadata": {},
   "outputs": [
    {
     "name": "stdout",
     "output_type": "stream",
     "text": [
      "4\n",
      "94 52.9 3.14 77 46\n",
      "90.86\n",
      "-2 0 1000.34 -14.4 89 50\n",
      "1014.74\n",
      "87.78 33333 29.3\n",
      "33303.70\n",
      "9998 9996 9999\n",
      "3.00\n"
     ]
    }
   ],
   "source": [
    "k = eval(input())\n",
    "\n",
    "for i in range(k):\n",
    "    str_num = input()\n",
    "    str_num_list = str_num.split(' ')\n",
    "    str_num_list = [eval(x) for x in str_num_list]\n",
    "    print(\"%.2f\" % (max(str_num_list) - min(str_num_list)))"
   ]
  },
  {
   "cell_type": "code",
   "execution_count": null,
   "metadata": {},
   "outputs": [],
   "source": []
  }
 ],
 "metadata": {
  "kernelspec": {
   "display_name": "Python 3",
   "language": "python",
   "name": "python3"
  },
  "language_info": {
   "codemirror_mode": {
    "name": "ipython",
    "version": 3
   },
   "file_extension": ".py",
   "mimetype": "text/x-python",
   "name": "python",
   "nbconvert_exporter": "python",
   "pygments_lexer": "ipython3",
   "version": "3.7.4"
  }
 },
 "nbformat": 4,
 "nbformat_minor": 2
}
