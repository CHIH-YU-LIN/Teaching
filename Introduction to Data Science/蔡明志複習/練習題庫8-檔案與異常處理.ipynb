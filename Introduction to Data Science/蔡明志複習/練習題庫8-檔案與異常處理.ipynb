{
 "cells": [
  {
   "cell_type": "markdown",
   "metadata": {},
   "source": [
    "# 8. 檔案的I/O與異常處理"
   ]
  },
  {
   "cell_type": "markdown",
   "metadata": {},
   "source": [
    "- 標準的輸入與輸出表示從鍵盤輸入資料，由螢幕加以輸出資料。\n",
    "- 檔案的輸入與輸出則皆從檔案。  \n",
    "\n",
    "**基本上檔案的輸入與輸出之驟是，一、開啟檔案，二、呼叫寫入或讀取的函式，三、關閉檔案。**"
   ]
  },
  {
   "cell_type": "markdown",
   "metadata": {},
   "source": [
    "## 8-1 將資料寫入於檔案\n",
    "\n",
    "利用open函式開啟檔案，然後利用write將資料（Apple, Orange與Banana)寫入檔案(fruit.dat)，由於這些資料是寫入於檔案，所以我們看不到的。\n",
    "最後再利用close函式關閉檔案。\n",
    "\n",
    "**open函式有兩個參數，第一個為檔案名稱，第二個是存取模式。** 這兩個參數皆是以單引號或雙引號括起來的字串。\n",
    "\n",
    "檔案的存取模式\n",
    "\n",
    "![](./figures/PythonGoto-10-1.png)"
   ]
  },
  {
   "cell_type": "code",
   "execution_count": null,
   "metadata": {},
   "outputs": [],
   "source": [
    "def main():\n",
    "    outfile = open('fruits.dat', 'w')\n",
    "    outfile.write('Apple\\n')\n",
    "    outfile.write('Orange\\n')\n",
    "    outfile.write('Banana\\n')\n",
    "    outfile.close()\n",
    "\n",
    "main()"
   ]
  },
  {
   "cell_type": "markdown",
   "metadata": {},
   "source": [
    "## 8-2 從檔案讀取資料\n",
    "\n",
    "要驗證資料是否確實的寫入於指定的檔案，我們可以利用另一程式呼叫從檔案讀取資料的函式來完成。\n",
    "\n",
    "讀取檔案資料的函式\n",
    "\n",
    "![](./figures/PythonGoto-10-2.png)\n",
    "\n",
    "- 利用read函式讀取檔案資料。\n",
    "- 利用readlines函式讀取檔案資料，則其資料會以串列方式顯示之。\n",
    "- 利用readline 函式讀取檔案資料，則只會讀取一行而已，因此你可以利用一迴圈和 readline 讀取檔案所有資料。"
   ]
  },
  {
   "cell_type": "code",
   "execution_count": null,
   "metadata": {},
   "outputs": [],
   "source": [
    "# 方法一：利用read函式讀取檔案資料。\n",
    "\n",
    "def main():\n",
    "    infile = open('fruits.dat', 'r')\n",
    "    print('Using read(): ')\n",
    "    print(infile.read())\n",
    "    infile.close()\n",
    "\n",
    "    infile = open('fruits.dat', 'r')\n",
    "    print('Using read(number): ')\n",
    "    data = infile.read(12)\n",
    "    print(data)\n",
    "    print(repr(data))\n",
    "    infile.close()\n",
    "\n",
    "main()"
   ]
  },
  {
   "cell_type": "code",
   "execution_count": null,
   "metadata": {},
   "outputs": [],
   "source": [
    "# 方法二：利用readlines函式讀取檔案資料。\n",
    "\n",
    "def main():\n",
    "    infile = open('fruits.dat', 'r')\n",
    "    print('Using readlines(): ')\n",
    "    print(infile.readlines())\n",
    "    infile.close()\n",
    "\n",
    "main()"
   ]
  },
  {
   "cell_type": "code",
   "execution_count": null,
   "metadata": {},
   "outputs": [],
   "source": [
    "# 方法三：利用readline 函式讀取檔案資料，一次一行\n",
    "\n",
    "def main():\n",
    "    infile = open('fruits.dat', 'r')\n",
    "    print('Using readline(): ')\n",
    "    line1 = infile.readline()\n",
    "    print(line1)\n",
    "    print(repr(line1))\n",
    "    infile.close()\n",
    "\n",
    "main()"
   ]
  },
  {
   "cell_type": "code",
   "execution_count": null,
   "metadata": {},
   "outputs": [],
   "source": [
    "# 方法三：利用readline 函式讀取檔案資料，用迴圈處理\n",
    "\n",
    "def main():\n",
    "    infile = open('fruits.dat', 'r')\n",
    "    print('Using readline(): ')\n",
    "    line = infile.readline()\n",
    "    \n",
    "    # while迴圈終止條件\n",
    "    while line != '':\n",
    "        print(repr(line))\n",
    "        line = infile.readline()\n",
    "    infile.close()\n",
    "\n",
    "    print()\n",
    "    infile = open('fruits.dat', 'r')\n",
    "    for line in infile:\n",
    "        print(repr(line))\n",
    "    infile.close()\n",
    "\n",
    "main()"
   ]
  },
  {
   "cell_type": "markdown",
   "metadata": {},
   "source": [
    "## 8-3 檢視檔案是否存在\n",
    "\n",
    "我們在開啟一檔案要寫入資料於檔案或從檔案讀取資料時，通常要先檢視檔案是否存在，此時可利用 isfile() 函式來完成。它是 os.path 模組下的一個函式，因此要將它載入進來。"
   ]
  },
  {
   "cell_type": "code",
   "execution_count": null,
   "metadata": {},
   "outputs": [],
   "source": [
    "import os.path\n",
    "def main():\n",
    "    infile = open('fruits.dat', 'r')\n",
    "    if os.path.isfile('fruits.dat'):\n",
    "        print('Using read(): ')\n",
    "        print(infile.read())\n",
    "    infile.close()\n",
    "\n",
    "main()"
   ]
  },
  {
   "cell_type": "code",
   "execution_count": null,
   "metadata": {},
   "outputs": [],
   "source": [
    "# 開啟存取的模式是 a，表示將資料附加於檔案的尾端。\n",
    "\n",
    "import os.path\n",
    "def main():\n",
    "    outfile = open('fruits.dat', 'a')\n",
    "    if os.path.isfile('fruits.dat'):\n",
    "        outfile.write('Kiwi\\n')\n",
    "    outfile.close()\n",
    "\n",
    "    infile = open('fruits.dat', 'r')\n",
    "    if os.path.isfile('fruits.dat'):\n",
    "        print(infile.read())\n",
    "    infile.close()\n",
    "\n",
    "main()"
   ]
  },
  {
   "cell_type": "markdown",
   "metadata": {},
   "source": [
    "## 8-4 將數值資料寫入檔案"
   ]
  },
  {
   "cell_type": "code",
   "execution_count": null,
   "metadata": {},
   "outputs": [],
   "source": [
    "import random\n",
    "def main():\n",
    "    lottos = []\n",
    "    outfile = open('lottoNumbers.dat', 'w')\n",
    "    for i in range(6):\n",
    "        num = random.randint(1, 49)\n",
    "        if num not in lottos:\n",
    "            lottos.append(num)\n",
    "            outfile.write(str(num) + ' ')\n",
    "    outfile.close()\n",
    "\n",
    "    infile = open('lottoNumbers.dat', 'r')\n",
    "    s = infile.read()\n",
    "    lottoNums = [eval(x) for x in s.split()]\n",
    "    for num in lottoNums:\n",
    "        print(num, end = ' ')\n",
    "    infile.close()\n",
    "\n",
    "main()"
   ]
  },
  {
   "cell_type": "markdown",
   "metadata": {},
   "source": [
    "## 8-5 異常處理\n",
    "\n",
    "一位優良的程式設計師，當有異常(exception)的情況發生時，必需要採取某些因應異常處理(exception handle)的動作，而不要讓程式當掉，造成使用者的恐懼。\n"
   ]
  },
  {
   "cell_type": "markdown",
   "metadata": {},
   "source": [
    "**例：計算兩個整數相除，當分母為 0 時，應提示使用者重新輸入，並告訴他分母不為 0。**\n",
    "\n",
    "提示使用者輸入兩個整數，然後計算兩數相除，若你是一位優良的程式設計師，則必需掌握各種的異常狀況，並採取因應的敘述。\n",
    "\n",
    "- 當輸入分母為 0 時，則執行對應的 except ZeroDivisionError:\n",
    "- 當輸入的資料之間沒有逗號時，則執行對應的 except SyntaxError:\n",
    "- 當輸入的資 料不是整數時，則執行對應的 except:\n",
    "- 當輸入的資料是正確時，則執行 else:。\n",
    "- 不管產生哪種情形，都會執行 finally: 對應的敘述。"
   ]
  },
  {
   "cell_type": "code",
   "execution_count": null,
   "metadata": {},
   "outputs": [],
   "source": [
    "def main():\n",
    "    try:\n",
    "        n1, n2 = eval(input('Enter two numbers, separated by a comma: '))\n",
    "        ans = n1 / n2\n",
    "        print('%d/%d = %.2f'%(n1, n2, ans))\n",
    "    except ZeroDivisionError:\n",
    "        print('denominator can\\'t be zero')\n",
    "    except SyntaxError:\n",
    "        print('A comma may be missing in the input')\n",
    "    except:\n",
    "        print('Something wrong in the input')\n",
    "    else:\n",
    "        print('No exception')\n",
    "    finally:\n",
    "        print('The finally clause is executed')\n",
    "\n",
    "main()"
   ]
  },
  {
   "cell_type": "markdown",
   "metadata": {},
   "source": [
    "### Learning By Doing\n",
    "\n",
    "**例：提示使用者輸入一檔名，然後計算此檔案中英文字母的字數。**"
   ]
  },
  {
   "cell_type": "code",
   "execution_count": null,
   "metadata": {},
   "outputs": [],
   "source": [
    "import os.path\n",
    "def main():\n",
    "    filename = input('Enter a filename: ').strip()\n",
    "    infile = open(filename, 'r')\n",
    "    if os.path.isfile(filename):\n",
    "        counts = 26 *[0]\n",
    "        for line in infile:\n",
    "            countLetters(line.lower(), counts)\n",
    "\n",
    "        for i in range(len(counts)):\n",
    "            if counts[i] != 0:\n",
    "            print(chr(ord('a') + i) + ' appears ' + str(counts[i])\n",
    "                    + (' time' if counts[i] == 1 else ' times'))\n",
    "        infile.close()\n",
    "\n",
    "def countLetters(line, counts):\n",
    "    for ch in line:\n",
    "        if ch.isalpha():\n",
    "            counts[ord(ch) - ord('a')] += 1\n",
    "\n",
    "main()"
   ]
  },
  {
   "cell_type": "markdown",
   "metadata": {},
   "source": [
    "**例:若我們將上述計算檔中英文字母字元出現的次數之程式，加上異常處理的區段，如exception10.py的粗體自所示。**"
   ]
  },
  {
   "cell_type": "code",
   "execution_count": null,
   "metadata": {},
   "outputs": [],
   "source": [
    "import os.path\n",
    "def main():\n",
    "    while True:\n",
    "        try:\n",
    "            filename = input('Enter a filename: ').strip()\n",
    "            infile = open(filename, 'r')\n",
    "            break\n",
    "        except IOError:\n",
    "            print('File: %s does not exist. Try again'%(filename))\n",
    "            \n",
    "    counts = 26 * [0]\n",
    "    for line in infile:\n",
    "        countLetters(line.lower(), counts)\n",
    "\n",
    "    for i in range(len(counts)):\n",
    "        if counts[i] != 0:\n",
    "            print(chr(ord('a') + i) + ' appears ' + str(counts[i])\n",
    "                    + (' time' if counts[i] == 1 else ' times'))\n",
    "    infile.close()\n",
    "\n",
    "def countLetters(line, counts):\n",
    "    for ch in line:\n",
    "        if ch.isalpha():\n",
    "            counts[ord(ch) - ord('a')] += 1\n",
    "\n",
    "main()"
   ]
  },
  {
   "cell_type": "markdown",
   "metadata": {},
   "source": [
    "**例：試撰寫一程式，提示使用者輸入檔名，以及預備刪除的字串。**"
   ]
  },
  {
   "cell_type": "code",
   "execution_count": null,
   "metadata": {},
   "outputs": [],
   "source": [
    "def main():\n",
    "    # Prompt the user to enter filenames\n",
    "    f1 = input('Enter a filename: ').strip()\n",
    "\n",
    "    # Open files for input \n",
    "    infile = open(f1, 'r')\n",
    "    \n",
    "    s = infile.read() # Read all from the file\n",
    "    print(s)\n",
    "    \n",
    "    deletedString = input('Enter a string to be deleted: ').strip()\n",
    "    \n",
    "    newString = s.replace(deletedString, '')\n",
    "    print(newString)\n",
    "        \n",
    "    infile.close()  # Close the input file\n",
    "    outfile = open(f1, 'w')\n",
    "\n",
    "    outfile.write(newString)\n",
    "    outfile.close() # Close the output file\n",
    "\n",
    "main()"
   ]
  },
  {
   "cell_type": "markdown",
   "metadata": {},
   "source": [
    "**例：試撰寫一程式，將一檔案的每一字元加 2 予以加密。提示使用者輸入兩個檔名，一為輸入檔名，二為輸出檔名。將輸入檔名利用上述的加密方法給予加密，然後將其寫入輸出檔名。**"
   ]
  },
  {
   "cell_type": "code",
   "execution_count": null,
   "metadata": {},
   "outputs": [],
   "source": [
    "def main():\n",
    "    f1 = input('Enter a source filename: ').strip()\n",
    "    f2 = input('Enter a target filename: ').strip()\n",
    "\n",
    "    # Open files for input \n",
    "    infile = open(f1, 'r')\n",
    "    \n",
    "    s = infile.read() # Read all from the file\n",
    "    print('Original text is \\'%s\\''%(s))\n",
    "    \n",
    "    newString = ''\n",
    "    \n",
    "    for i in range(len(s)):\n",
    "        newString += chr(ord(s[i]) + 2)\n",
    "    print('After Encrypted text is \\'%s\\''%(newString))\n",
    "    \n",
    "    infile.close()  # Close the input file\n",
    "    outfile = open(f2, 'w')   \n",
    "    outfile.write(newString)\n",
    "    outfile.close() # Close the output file\n",
    "\n",
    "main()"
   ]
  },
  {
   "cell_type": "markdown",
   "metadata": {},
   "source": [
    "**例：試撰寫一程式，提示使用者輸入一數字，若所輸入的值不是數值，顯示錯誤訊息，否則顯示該數字。**"
   ]
  },
  {
   "cell_type": "code",
   "execution_count": null,
   "metadata": {},
   "outputs": [],
   "source": [
    "def main():\n",
    "    try:\n",
    "        number = eval(input('Enter a number: '))\n",
    "        print('You enterde number is %d'%(number))\n",
    "    except NameError as ex:\n",
    "        print('Exception : %s'%(ex))\n",
    "\n",
    "main()"
   ]
  }
 ],
 "metadata": {
  "kernelspec": {
   "display_name": "Python 3",
   "language": "python",
   "name": "python3"
  },
  "language_info": {
   "codemirror_mode": {
    "name": "ipython",
    "version": 3
   },
   "file_extension": ".py",
   "mimetype": "text/x-python",
   "name": "python",
   "nbconvert_exporter": "python",
   "pygments_lexer": "ipython3",
   "version": "3.7.4"
  }
 },
 "nbformat": 4,
 "nbformat_minor": 2
}
