{
 "cells": [
  {
   "cell_type": "markdown",
   "metadata": {},
   "source": [
    "# 4. 字串"
   ]
  },
  {
   "cell_type": "markdown",
   "metadata": {},
   "source": [
    "## 4-1 字串的基本用法\n",
    "\n",
    "**字串是由字元所組成的集。**\n",
    "\n",
    "- 建立一空字串可以str()、單引號''、雙引號\"\"方式表示之。\n",
    "- 利用 + 運算子，將字串相連。\n",
    "- 利用 * 運算子可以複製字。\n",
    "- 利用 for 迴圈擷取字串的所有字元。\n",
    "- 也可以利用傳統的 for...in range 的做法。"
   ]
  },
  {
   "cell_type": "markdown",
   "metadata": {},
   "source": [
    "## 4-2 字串函式\n",
    "\n",
    "![](./Figures/PythonGoto-7-1.png)\n",
    "\n",
    "在字串中也可以使用關係運算子比較兩個字串的大小，如 < 、<=、 >、 >=、 ==，以及 !=。字串的大小是以字元的 ASCII 決定其大小。"
   ]
  },
  {
   "cell_type": "markdown",
   "metadata": {},
   "source": [
    "## 4-3 找尋子字串\n",
    "\n",
    "有時候我們會找尋某一字串的子字串。\n",
    "\n",
    "![](./Figures/PythonGoto-7-2.png)"
   ]
  },
  {
   "cell_type": "markdown",
   "metadata": {},
   "source": [
    "## 4-4 字串的轉換\n",
    "\n",
    "Python提供的字串轉換方法。\n",
    "\n",
    "![](./Figures/PythonGoto-7-3.png)"
   ]
  },
  {
   "cell_type": "markdown",
   "metadata": {},
   "source": [
    "## 4-5 從字串去除空白字元\n",
    "\n",
    "我們常常會將字串中左邊、右邊或兩邊多出的白色空白(whitespace)字元加以刪除。白色空白字元包括空白、\\t、\\n，\\b 等等的字元。\n",
    "\n",
    "![](./Figures/PythonGoto-7-4.png)"
   ]
  },
  {
   "cell_type": "markdown",
   "metadata": {},
   "source": [
    "## 4-6 字串格式化\n",
    "\n",
    "字串格式化不外乎將資料置中、向左靠齊、向右靠齊，這些可以利用 Python 提供的方法 center(w)、ljust(w)、rjust(w)，以及 format() 來完成，其中 w 是欄位寬。\n",
    "\n",
    "![](./Figures/PythonGoto-7-5.png)"
   ]
  },
  {
   "cell_type": "markdown",
   "metadata": {},
   "source": [
    "### Learning By Doing\n",
    "\n",
    "**例：試撰寫一程式，提示使用者輸入一字串，然後判斷此字串是否為迴文(palindrome)。\n",
    "迴文的定義是字串由左至右讀取，或是由右至左讀取是相同者稱之。**"
   ]
  },
  {
   "cell_type": "code",
   "execution_count": 60,
   "metadata": {},
   "outputs": [
    {
     "name": "stdout",
     "output_type": "stream",
     "text": [
      "Enter a string: hi\n",
      "hi is not a palindrome\n"
     ]
    }
   ],
   "source": [
    "## 在接收字串函式中，low為字串長度減1。\n",
    "def isPalindrome(s):\n",
    "    low = 0\n",
    "    high = len(s) - 1\n",
    "    ## 利用迴圈判斷是否為迴文，是傳True，否回傳False。\n",
    "    while low < high:\n",
    "        if s[low] != s[high]:\n",
    "            return False\n",
    "        low = low + 1\n",
    "        high = high -1\n",
    "    return True\n",
    "\n",
    "## 程式在main()函式中使用input提示使用者輸入字串，然後呼叫isPalindrome()函式，接收輸入字串。\n",
    "def main():\n",
    "    s = input('Enter a string: ')\n",
    "\n",
    "    if isPalindrome(s):\n",
    "        print('%s is a palindrome'%(s))\n",
    "    else:\n",
    "        print('%s is not a palindrome'%(s))\n",
    "\n",
    "main()"
   ]
  },
  {
   "cell_type": "markdown",
   "metadata": {},
   "source": [
    "**例：ISBN-10(International Standard Book Number)包含10個數字$d_1d_2d_3d_4d_5d_6d_7d_8d_9d_{10}$，最後的$d_{10}$是檢查碼，它是由前九個號碼利用下列公式計算得到的：$d_1+2d_2+3d_3+4d_4+5d_5+6d_6+7d_7+8d_8+9d_9+10d_{10}$ $ \\% 11$。**\n",
    "\n",
    "**根據ISBN的轉換，若檢查碼是10，則最後的數字將以X表示。撰寫一程式提示使用者輸入前九個數字，然後顯示ISBN的10個數字（包含前導0）。\n",
    "程式應該以字串的方式讀取。**"
   ]
  },
  {
   "cell_type": "code",
   "execution_count": 61,
   "metadata": {},
   "outputs": [
    {
     "name": "stdout",
     "output_type": "stream",
     "text": [
      "Enter the first 9 digits of an ISBN-10 number as a string: 123456789\n",
      "The ISBN number is 123456789X\n"
     ]
    }
   ],
   "source": [
    "## 程式提示使用者輸入字串，並將左、右兩邊的白色空白字元刪除。\n",
    "def main():\n",
    "    number = input(\"Enter the first 9 digits of an ISBN-10 number as a string: \").strip()\n",
    "    # Calculate checksum\n",
    "    ## 利用for迴圈計算其公式總和\n",
    "    sum = 0\n",
    "    for i in range(9):\n",
    "        sum += int(number[i]) * (i + 1)\n",
    "\n",
    "   ##再用checksum求出最後數字的檢查碼，若是10，則以X表示\n",
    "    checksum = sum % 11\n",
    "    print(\"The ISBN number is \", end = \"\")\n",
    "    print(number, end = \"\")\n",
    "    if checksum == 10:\n",
    "        print(\"X\")\n",
    "    else:\n",
    "        print(checksum)\n",
    "\n",
    "main()"
   ]
  },
  {
   "cell_type": "markdown",
   "metadata": {},
   "source": [
    "**例：撰寫一程式，提示使用者以格式ddd-dd-dddd，輸入SSN(Social Security Number)，此處的d表示數字。若正確的SSN，則將顯示Valid SSN，否則顯示SSN。**"
   ]
  },
  {
   "cell_type": "code",
   "execution_count": 62,
   "metadata": {},
   "outputs": [
    {
     "name": "stdout",
     "output_type": "stream",
     "text": [
      "Enter a string for SSN: 123456789\n",
      "Invalid SSN\n"
     ]
    }
   ],
   "source": [
    "## 程式提示使用者輸入字串，並將左、右兩邊的白色空白字元刪除。\n",
    "def main():\n",
    "    s = input('Enter a string for SSN: ') .strip() \n",
    "    if isValidSSN(s): \n",
    "        print('Valid SSN')\n",
    "    else:\n",
    "        print('Invalid SSN')    \n",
    "\n",
    "# Check if a string is a valid SSN \n",
    "## 呼叫isValidSSN(s):用以判斷它是否為正確的SSN\n",
    "##撰寫合乎SSN的條件敘述，並以and連結多個條件敘述。\n",
    "## 序樹後面的\\是連結下一行敘述的字元指令。\n",
    "\n",
    "def isValidSSN(ssn):\n",
    "    return len(ssn) == 11 and ssn[0].isdigit() and \\\n",
    "      ssn[1].isdigit() and ssn[2].isdigit() and \\\n",
    "      ssn[3] == '-' and ssn[4].isdigit() and \\\n",
    "      ssn[5].isdigit() and ssn[6] == '-' and \\\n",
    "      ssn[7].isdigit() and ssn[8].isdigit() and \\\n",
    "      ssn[9].isdigit() and ssn[10].isdigit()\n",
    "\n",
    "main()"
   ]
  },
  {
   "cell_type": "markdown",
   "metadata": {},
   "source": [
    "**例：一些網站對密碼會強制加入一些規則。撰寫一函式檢查密碼是否有效。\n",
    "假設密碼的規則是：必須至少八個字元、必須幫含有一個字母和數字、必須包含至少三個數字。\n",
    "請撰寫一程式，提示使用者輸入密碼，若密碼符合上述規則，則顯示Valid password，否則顯示Invalid password。**"
   ]
  },
  {
   "cell_type": "code",
   "execution_count": 63,
   "metadata": {},
   "outputs": [
    {
     "name": "stdout",
     "output_type": "stream",
     "text": [
      "Enter a string for password: hello\n",
      "Invalid password\n"
     ]
    }
   ],
   "source": [
    "##程式提示使用者輸入字串，並將左右兩邊的空白字元刪除，並呼叫函式。\n",
    "def main():\n",
    "    s = input('Enter a string for password: ').strip()\n",
    "    if isValidPassword(s):\n",
    "        print('Valid password')\n",
    "    else:\n",
    "        print('Invalid password')\n",
    "\n",
    "# Check if a string is a valid password \n",
    "## 在此函式中，以isalnum()函式檢視它是否為數字和英文字母；\n",
    "\n",
    "def isValidPassword(s):\n",
    "    # Only letters and digits?\n",
    "    if not s.isalnum():\n",
    "        return False \n",
    "  \n",
    "    # Check length\n",
    "    ##若不是，則回傳False以len(s)計算s字串的長度，若小於8則回傳False。\n",
    "    if len(s) < 8:\n",
    "        return False   \n",
    "\n",
    "    # Count the number of digits\n",
    "    ## 以isdigit()函式檢視它是否為數字，並計算出現的次數。若次數不小於3，則回傳True。\n",
    "    count = 0\n",
    "    for ch in s:\n",
    "        if ch.isdigit(): \n",
    "            count += 1\n",
    "    if count >= 3:\n",
    "        return True\n",
    "    else:\n",
    "        return False\n",
    "\n",
    "main()"
   ]
  }
 ],
 "metadata": {
  "kernelspec": {
   "display_name": "Python 3",
   "language": "python",
   "name": "python3"
  },
  "language_info": {
   "codemirror_mode": {
    "name": "ipython",
    "version": 3
   },
   "file_extension": ".py",
   "mimetype": "text/x-python",
   "name": "python",
   "nbconvert_exporter": "python",
   "pygments_lexer": "ipython3",
   "version": "3.7.4"
  }
 },
 "nbformat": 4,
 "nbformat_minor": 2
}
