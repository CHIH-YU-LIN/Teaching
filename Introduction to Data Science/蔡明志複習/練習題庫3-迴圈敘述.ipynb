{
 "cells": [
  {
   "cell_type": "markdown",
   "metadata": {},
   "source": [
    "# 3. 迴圈敘述"
   ]
  },
  {
   "cell_type": "markdown",
   "metadata": {},
   "source": [
    "## 3-1 迴圈敘述的涵義\n",
    "\n",
    "**迴圈(loop)** 顧名思義是重複執行某些事項。\n",
    "\n",
    "**迴圈敘述是由三大部分所組成，一是初值，二是終止值，三是條件運算式。**\n",
    "\n",
    "迴圈最怕的是無窮迴圈，所以終止值是很重要的。但若初值不對、條件預算式，其結果會錯誤。"
   ]
  },
  {
   "cell_type": "markdown",
   "metadata": {},
   "source": [
    "Python提供了兩種迴圈，一為while，二為for ... in range。這兩種迴圈敘述基本上是可轉換的。"
   ]
  },
  {
   "cell_type": "markdown",
   "metadata": {},
   "source": [
    "## 3-2 while敘述\n",
    "\n",
    "![](./Figures/PythonGoto-4-1.png)\n",
    "\n",
    "while敘述後面要加冒號。"
   ]
  },
  {
   "cell_type": "markdown",
   "metadata": {},
   "source": [
    "**例：大樂透的玩法是在 1 到 49 中選取 6 個號碼。今以亂數產生器產生 6 個大樂透號碼。**\n"
   ]
  },
  {
   "cell_type": "code",
   "execution_count": 24,
   "metadata": {},
   "outputs": [
    {
     "name": "stdout",
     "output_type": "stream",
     "text": [
      "47 25 38 39 26 22 "
     ]
    }
   ],
   "source": [
    "#  方法一：我們以 while 迴圈敘述撰寫之。\n",
    "\n",
    "import random    \n",
    "i = 1\n",
    "while i <= 6:\n",
    "    lottoNum = random.randint(1, 49)\n",
    "    print(lottoNum, end = ' ')\n",
    "    i += 1"
   ]
  },
  {
   "cell_type": "markdown",
   "metadata": {},
   "source": [
    "## 3-3  for in range敘述\n",
    "\n",
    "![](./Figures/PythonGoto-4-2.png)\n",
    "\n",
    "\n",
    "for in range 敘述後面要加冒號。\n",
    "\n",
    "i的初始值是start，然後判斷條件運算式是否小於等於end-1，若是則執行迴圈主體敘述與更新敘述step。step的預設值是1，表示i+-1。若step為負值，表示它是一個遞減的動作，並判斷條件運算式是否大於等於end+1。\n",
    "\n",
    "for敘述將初值初值設定、條件運算式，以及更新運算式置於range裡面。"
   ]
  },
  {
   "cell_type": "code",
   "execution_count": 1,
   "metadata": {},
   "outputs": [
    {
     "name": "stdout",
     "output_type": "stream",
     "text": [
      "20 11 13 46 39 28 "
     ]
    }
   ],
   "source": [
    "#  方法二：我們以for 迴圈敘述撰寫之。\n",
    "\n",
    "import random\n",
    "for i in range(1, 7):\n",
    "    lottoNum = random.randint(1, 49)\n",
    "    print(lottoNum, end = ' ')"
   ]
  },
  {
   "cell_type": "markdown",
   "metadata": {},
   "source": [
    "## 3-4 巢狀迴圈\n",
    "\n",
    "當迴圈內又有一迴圈時，稱之為巢狀迴圈(nested loop)。\n",
    "\n",
    "- 在迴圈外部的稱為外迴圈(outer loop)\n",
    "- 在迴圈裡面的稱為內迴圈(inner loop)"
   ]
  },
  {
   "cell_type": "markdown",
   "metadata": {},
   "source": [
    "**例：列印一九九乘法表。**\n"
   ]
  },
  {
   "cell_type": "code",
   "execution_count": 27,
   "metadata": {},
   "outputs": [
    {
     "name": "stdout",
     "output_type": "stream",
     "text": [
      "i = 1\n",
      "   j = 1\n",
      "   j = 2\n",
      "   j = 3\n",
      "   j = 4\n",
      "   j = 5\n",
      "   j = 6\n",
      "   j = 7\n",
      "   j = 8\n",
      "i = 2\n",
      "   j = 1\n",
      "   j = 2\n",
      "   j = 3\n",
      "   j = 4\n",
      "   j = 5\n",
      "   j = 6\n",
      "   j = 7\n",
      "   j = 8\n",
      "i = 3\n",
      "   j = 1\n",
      "   j = 2\n",
      "   j = 3\n",
      "   j = 4\n",
      "   j = 5\n",
      "   j = 6\n",
      "   j = 7\n",
      "   j = 8\n",
      "i = 4\n",
      "   j = 1\n",
      "   j = 2\n",
      "   j = 3\n",
      "   j = 4\n",
      "   j = 5\n",
      "   j = 6\n",
      "   j = 7\n",
      "   j = 8\n",
      "i = 5\n",
      "   j = 1\n",
      "   j = 2\n",
      "   j = 3\n",
      "   j = 4\n",
      "   j = 5\n",
      "   j = 6\n",
      "   j = 7\n",
      "   j = 8\n",
      "i = 6\n",
      "   j = 1\n",
      "   j = 2\n",
      "   j = 3\n",
      "   j = 4\n",
      "   j = 5\n",
      "   j = 6\n",
      "   j = 7\n",
      "   j = 8\n",
      "i = 7\n",
      "   j = 1\n",
      "   j = 2\n",
      "   j = 3\n",
      "   j = 4\n",
      "   j = 5\n",
      "   j = 6\n",
      "   j = 7\n",
      "   j = 8\n",
      "i = 8\n",
      "   j = 1\n",
      "   j = 2\n",
      "   j = 3\n",
      "   j = 4\n",
      "   j = 5\n",
      "   j = 6\n",
      "   j = 7\n",
      "   j = 8\n"
     ]
    }
   ],
   "source": [
    "#方法一：巢狀迴圈\n",
    "\n",
    "for i in range(1, 9):\n",
    "    print('i = %d'%(i))\n",
    "    for j in range(1, 9):\n",
    "        print('   j = %d'%(j))"
   ]
  },
  {
   "cell_type": "code",
   "execution_count": 28,
   "metadata": {},
   "outputs": [
    {
     "name": "stdout",
     "output_type": "stream",
     "text": [
      "  1   2   3   4   5   6   7   8   9 \n",
      "  2   4   6   8  10  12  14  16  18 \n",
      "  3   6   9  12  15  18  21  24  27 \n",
      "  4   8  12  16  20  24  28  32  36 \n",
      "  5  10  15  20  25  30  35  40  45 \n",
      "  6  12  18  24  30  36  42  48  54 \n",
      "  7  14  21  28  35  42  49  56  63 \n",
      "  8  16  24  32  40  48  56  64  72 \n",
      "  9  18  27  36  45  54  63  72  81 \n"
     ]
    }
   ],
   "source": [
    "#方法二：巢狀迴圈\n",
    "\n",
    "for i in range(1, 10):\n",
    "    for j in range(1, 10):\n",
    "        print('%3d'%(i*j), end = ' ')\n",
    "    print()"
   ]
  },
  {
   "cell_type": "code",
   "execution_count": 29,
   "metadata": {},
   "outputs": [
    {
     "name": "stdout",
     "output_type": "stream",
     "text": [
      "1*1= 1  2*1= 2  3*1= 3  4*1= 4  5*1= 5  6*1= 6  7*1= 7  8*1= 8  9*1= 9  \n",
      "1*2= 2  2*2= 4  3*2= 6  4*2= 8  5*2=10  6*2=12  7*2=14  8*2=16  9*2=18  \n",
      "1*3= 3  2*3= 6  3*3= 9  4*3=12  5*3=15  6*3=18  7*3=21  8*3=24  9*3=27  \n",
      "1*4= 4  2*4= 8  3*4=12  4*4=16  5*4=20  6*4=24  7*4=28  8*4=32  9*4=36  \n",
      "1*5= 5  2*5=10  3*5=15  4*5=20  5*5=25  6*5=30  7*5=35  8*5=40  9*5=45  \n",
      "1*6= 6  2*6=12  3*6=18  4*6=24  5*6=30  6*6=36  7*6=42  8*6=48  9*6=54  \n",
      "1*7= 7  2*7=14  3*7=21  4*7=28  5*7=35  6*7=42  7*7=49  8*7=56  9*7=63  \n",
      "1*8= 8  2*8=16  3*8=24  4*8=32  5*8=40  6*8=48  7*8=56  8*8=64  9*8=72  \n",
      "1*9= 9  2*9=18  3*9=27  4*9=36  5*9=45  6*9=54  7*9=63  8*9=72  9*9=81  \n"
     ]
    }
   ],
   "source": [
    "# 試撰寫一程式，以巢狀迴圈印出以下的九九乘法表\n",
    "\n",
    "for i in range(1, 10):\n",
    "    for j in range(1, 10):\n",
    "        print('%d*%d=%2d  '%(j, i, i*j), end = '')\n",
    "    print()"
   ]
  },
  {
   "cell_type": "markdown",
   "metadata": {},
   "source": [
    "### Learning By Doing\n",
    "\n",
    "**例：試撰寫一程式，以for迴圈計算1~100的偶數和。**"
   ]
  },
  {
   "cell_type": "code",
   "execution_count": 30,
   "metadata": {},
   "outputs": [
    {
     "name": "stdout",
     "output_type": "stream",
     "text": [
      "total = 2550\n"
     ]
    }
   ],
   "source": [
    "total = 0\n",
    "for i in range(2, 101, 2):\n",
    "    total += i\n",
    "print('total = %d'%(total))"
   ]
  },
  {
   "cell_type": "markdown",
   "metadata": {},
   "source": [
    "**例：試撰寫一程式，以亂數產生威力彩號碼。威力彩分兩區，第一區是從 1~38 選六個號碼，第二區是從 1~8 選一個號碼。**"
   ]
  },
  {
   "cell_type": "code",
   "execution_count": 31,
   "metadata": {},
   "outputs": [
    {
     "name": "stdout",
     "output_type": "stream",
     "text": [
      "Part 1\n",
      "  36  30   5  32  35  36\n",
      "Part 2\n",
      "   8\n"
     ]
    }
   ],
   "source": [
    "import random\n",
    "print('Part 1')\n",
    "for i in range(1, 7):\n",
    "    lotto = random.randint(1, 38)\n",
    "    print('%4d'%(lotto), end = '')\n",
    "\n",
    "print('\\nPart 2')\n",
    "lotto2 = random.randint(1, 8)\n",
    "print('%4d'%(lotto2))"
   ]
  },
  {
   "cell_type": "markdown",
   "metadata": {},
   "source": [
    "**例：試撰寫一程式，印出1~50階層的數字。**"
   ]
  },
  {
   "cell_type": "code",
   "execution_count": 32,
   "metadata": {},
   "outputs": [
    {
     "name": "stdout",
     "output_type": "stream",
     "text": [
      " 1! = 1\n",
      " 2! = 2\n",
      " 3! = 6\n",
      " 4! = 24\n",
      " 5! = 120\n",
      " 6! = 720\n",
      " 7! = 5040\n",
      " 8! = 40320\n",
      " 9! = 362880\n",
      "10! = 3628800\n",
      "11! = 39916800\n",
      "12! = 479001600\n",
      "13! = 6227020800\n",
      "14! = 87178291200\n",
      "15! = 1307674368000\n",
      "16! = 20922789888000\n",
      "17! = 355687428096000\n",
      "18! = 6402373705728000\n",
      "19! = 121645100408832000\n",
      "20! = 2432902008176640000\n",
      "21! = 51090942171709440000\n",
      "22! = 1124000727777607680000\n",
      "23! = 25852016738884976640000\n",
      "24! = 620448401733239439360000\n",
      "25! = 15511210043330985984000000\n",
      "26! = 403291461126605635584000000\n",
      "27! = 10888869450418352160768000000\n",
      "28! = 304888344611713860501504000000\n",
      "29! = 8841761993739701954543616000000\n",
      "30! = 265252859812191058636308480000000\n",
      "31! = 8222838654177922817725562880000000\n",
      "32! = 263130836933693530167218012160000000\n",
      "33! = 8683317618811886495518194401280000000\n",
      "34! = 295232799039604140847618609643520000000\n",
      "35! = 10333147966386144929666651337523200000000\n",
      "36! = 371993326789901217467999448150835200000000\n",
      "37! = 13763753091226345046315979581580902400000000\n",
      "38! = 523022617466601111760007224100074291200000000\n",
      "39! = 20397882081197443358640281739902897356800000000\n",
      "40! = 815915283247897734345611269596115894272000000000\n",
      "41! = 33452526613163807108170062053440751665152000000000\n",
      "42! = 1405006117752879898543142606244511569936384000000000\n",
      "43! = 60415263063373835637355132068513997507264512000000000\n",
      "44! = 2658271574788448768043625811014615890319638528000000000\n",
      "45! = 119622220865480194561963161495657715064383733760000000000\n",
      "46! = 5502622159812088949850305428800254892961651752960000000000\n",
      "47! = 258623241511168180642964355153611979969197632389120000000000\n",
      "48! = 12413915592536072670862289047373375038521486354677760000000000\n",
      "49! = 608281864034267560872252163321295376887552831379210240000000000\n",
      "50! = 30414093201713378043612608166064768844377641568960512000000000000\n"
     ]
    }
   ],
   "source": [
    "for i in range(1, 51):\n",
    "    factor = 1\n",
    "    print('%2d! = '%(i), end = '')\n",
    "    for j in range(1, i+1):\n",
    "        factor = factor * j\n",
    "    print(factor)"
   ]
  },
  {
   "cell_type": "markdown",
   "metadata": {},
   "source": [
    "**例：試撰寫一程式，輸出以下結果**"
   ]
  },
  {
   "cell_type": "code",
   "execution_count": 33,
   "metadata": {},
   "outputs": [
    {
     "name": "stdout",
     "output_type": "stream",
     "text": [
      "                1 \n",
      "              2 2 \n",
      "            3 3 3 \n",
      "          4 4 4 4 \n",
      "        5 5 5 5 5 \n",
      "      6 6 6 6 6 6 \n",
      "    7 7 7 7 7 7 7 \n",
      "  8 8 8 8 8 8 8 8 \n",
      "9 9 9 9 9 9 9 9 9 \n"
     ]
    }
   ],
   "source": [
    "for i in range(1, 10):\n",
    "    #add spaces\n",
    "    for j in range(9, i, -1):\n",
    "        print('  ', end = '')\n",
    "    \n",
    "    for k in range(1, i+1):\n",
    "        print(i, end = ' ')\n",
    "    print()"
   ]
  },
  {
   "cell_type": "markdown",
   "metadata": {},
   "source": [
    "## 3-5 定數與不定數迴圈\n",
    "\n",
    "當重複執行的次數是固定時，則稱此為**定數迴圈**。\n",
    "\n",
    "若重複執行的次數不固定，表示它隨時可以中斷，此稱為**不定數迴圈**。"
   ]
  },
  {
   "cell_type": "code",
   "execution_count": 34,
   "metadata": {},
   "outputs": [
    {
     "name": "stdout",
     "output_type": "stream",
     "text": [
      "Enter a number: 3\n",
      "Enter a number: 3\n",
      "Enter a number: 3\n",
      "Enter a number: -1\n",
      "Enter a number: 1\n",
      "total = 9\n"
     ]
    }
   ],
   "source": [
    "# 當重複執行的次數是固定時，則稱此為定數迴圈\n",
    "\n",
    "total = 0\n",
    "i = 1\n",
    "while i <= 5:\n",
    "    a = eval(input('Enter a number: '))\n",
    "    total += a\n",
    "    i += 1\n",
    "print('total = %d'%(total))"
   ]
  },
  {
   "cell_type": "code",
   "execution_count": 35,
   "metadata": {},
   "outputs": [
    {
     "name": "stdout",
     "output_type": "stream",
     "text": [
      "Enter a number: -999\n",
      "total = 0\n"
     ]
    }
   ],
   "source": [
    "# 若重複執行的次數不固定，表示它隨時可以中斷，此稱為不定數迴圈。\n",
    "\n",
    "total = 0\n",
    "a = eval(input('Enter a number: '))\n",
    "while a != -999:\n",
    "    total += a\n",
    "    a = eval(input('Enter a number: '))\n",
    "print('total = %d'%(total))"
   ]
  },
  {
   "cell_type": "markdown",
   "metadata": {},
   "source": [
    "**例：以下是以電腦選號產生大樂透號碼的程式，若你覺得這組號碼不喜歡或有重複的號碼產生時，則可以再來一次。**"
   ]
  },
  {
   "cell_type": "code",
   "execution_count": 36,
   "metadata": {},
   "outputs": [
    {
     "name": "stdout",
     "output_type": "stream",
     "text": [
      "  6  7 48 26 26 43\n",
      "Enter a number, 1 for continue, 0 for stop: 0\n"
     ]
    }
   ],
   "source": [
    "import random\n",
    "again = 1\n",
    "while again == 1:\n",
    "    for i in range(1, 7):\n",
    "        lotto = random.randint(1, 49)\n",
    "        print('%3d'%(lotto), end = '')\n",
    "    print()\n",
    "    again = eval(input('Enter a number, 1 for continue, 0 for stop: '))"
   ]
  },
  {
   "cell_type": "markdown",
   "metadata": {},
   "source": [
    "## 3-6 break 與 continue\n",
    "\n",
    "**break** 可用來結束迴圈的執行\n",
    "\n",
    "**continue** 表示不執行此敘述下的敘述，而再回到迴圈的條件運算式做判斷。"
   ]
  },
  {
   "cell_type": "code",
   "execution_count": 37,
   "metadata": {},
   "outputs": [
    {
     "name": "stdout",
     "output_type": "stream",
     "text": [
      "Enter a number: -999\n",
      "total = 0\n"
     ]
    }
   ],
   "source": [
    "#無窮迴圈，break 可用來結束迴圈的執行。\n",
    "\n",
    "total = 0\n",
    "a = eval(input('Enter a number: '))\n",
    "while True:\n",
    "    if a != -999:\n",
    "        total += a\n",
    "        a = eval(input('Enter a number: '))\n",
    "    else:\n",
    "        break\n",
    "print('total = %d'%(total))"
   ]
  },
  {
   "cell_type": "markdown",
   "metadata": {},
   "source": [
    "\n",
    "**例：撰寫一程式將 1 加到 100，但 9 和 99 不加。\n",
    "撰寫一程式從 1 到 100， 5的倍數相加總。** \n"
   ]
  },
  {
   "cell_type": "code",
   "execution_count": 38,
   "metadata": {},
   "outputs": [
    {
     "name": "stdout",
     "output_type": "stream",
     "text": [
      "total =4942\n"
     ]
    }
   ],
   "source": [
    "# 程式遇到continue時，會再回到while的條件運算式，繼續判斷式否為真，注意要將i加1。 \n",
    "\n",
    "total = 0\n",
    "i = 1\n",
    "while i <= 100:\n",
    "    if i == 9 or i == 99:\n",
    "        i += 1\n",
    "        continue\n",
    "    else:\n",
    "        total += i\n",
    "        i += 1\n",
    "print('total =%d' %(total))\n"
   ]
  },
  {
   "cell_type": "code",
   "execution_count": 39,
   "metadata": {},
   "outputs": [
    {
     "name": "stdout",
     "output_type": "stream",
     "text": [
      "total = 4000\n"
     ]
    }
   ],
   "source": [
    "# continue 表示不執行此敘述下的敘述，而再回到迴圈的條件運算式做判斷。\n",
    "\n",
    "total = 0\n",
    "i = 1\n",
    "while i <= 100:\n",
    "    if i % 5 == 0:\n",
    "        i += 1\n",
    "        continue\n",
    "    else:\n",
    "        total += i\n",
    "        i += 1\n",
    "print('total = %d'%(total))"
   ]
  },
  {
   "cell_type": "markdown",
   "metadata": {},
   "source": [
    "### Learning By Doing\n",
    "\n",
    "**例：試撰寫一程式，先由電腦產生 1 到 100 其中某一數字，再由使用者猜猜數字。**\n"
   ]
  },
  {
   "cell_type": "code",
   "execution_count": 43,
   "metadata": {},
   "outputs": [
    {
     "name": "stdout",
     "output_type": "stream",
     "text": [
      "Guess a number: 3\n",
      "3 < correct\n",
      "Guess a number: 30\n",
      "30 < correct\n",
      "Guess a number: 50\n",
      "50 < correct\n",
      "Guess a number: 70\n",
      "70 > correct\n",
      "Guess a number: 60\n",
      "60 > correct\n",
      "Guess a number: 55\n",
      "55 > correct\n",
      "Guess a number: 53\n",
      "53 > correct\n",
      "Guess a number: 51\n",
      "51 < correct\n",
      "Guess a number: 52\n",
      "Correct number is  52\n",
      "You got it\n"
     ]
    }
   ],
   "source": [
    "import random\n",
    "correct = random.randint(1, 100)\n",
    "guess = eval(input('Guess a number: '))\n",
    "while  True:\n",
    "    if guess > correct:\n",
    "        print(guess, '> correct')\n",
    "    elif guess < correct:\n",
    "        print(guess, '< correct')\n",
    "    else:\n",
    "        print('Correct number is ', correct)\n",
    "        print('You got it')\n",
    "        break\n",
    "    guess = eval(input('Guess a number: '))"
   ]
  },
  {
   "cell_type": "markdown",
   "metadata": {},
   "source": [
    "**例：試撰寫一程式，提示使用者輸入一數字，然後判斷它是否為質數。**\n",
    "\n"
   ]
  },
  {
   "cell_type": "code",
   "execution_count": 44,
   "metadata": {},
   "outputs": [
    {
     "name": "stdout",
     "output_type": "stream",
     "text": [
      "Enter a number: 3\n",
      "3 is a prime number.\n"
     ]
    }
   ],
   "source": [
    "data = eval(input('Enter a number: '))\n",
    "isPrime = True\n",
    "divisor = 2\n",
    "while divisor <= data / 2:\n",
    "    if data % divisor == 0:\n",
    "        isPrime = False\n",
    "        break\n",
    "    divisor += 1\n",
    "if isPrime:\n",
    "    print('%d is a prime number.'%(data))\n",
    "else:\n",
    "    print('%d is not a prime number.'%(data))"
   ]
  },
  {
   "cell_type": "markdown",
   "metadata": {},
   "source": [
    "**例：試撰寫一程式，輸出1~100之間的質數。**"
   ]
  },
  {
   "cell_type": "code",
   "execution_count": 45,
   "metadata": {},
   "outputs": [
    {
     "name": "stdout",
     "output_type": "stream",
     "text": [
      "  2   3   5   7  11  13  17  19  23  29  31  37  41  43  47  53  59  61  67  71  73  79  83  89  97 "
     ]
    }
   ],
   "source": [
    "#方法一\n",
    "\n",
    "for i in range(2, 101):\n",
    "    divisor = 2\n",
    "    isPrime = True\n",
    "    while divisor <= i / 2:\n",
    "        if i % divisor == 0:\n",
    "            isPrime = False\n",
    "            break\n",
    "        divisor += 1\n",
    "    if isPrime:\n",
    "        print('%3d'%(i), end = ' ')"
   ]
  },
  {
   "cell_type": "code",
   "execution_count": 46,
   "metadata": {},
   "outputs": [
    {
     "name": "stdout",
     "output_type": "stream",
     "text": [
      "  2   3   5   7  11  13  17  19  23  29\n",
      " 31  37  41  43  47  53  59  61  67  71\n",
      " 73  79  83  89  97 "
     ]
    }
   ],
   "source": [
    "#方法二：一列印十個\n",
    "\n",
    "count = 0\n",
    "for i in range(2, 101):\n",
    "    divisor = 2\n",
    "    isPrime = True\n",
    "    while divisor <= i / 2:\n",
    "        if i % divisor == 0:\n",
    "            isPrime = False\n",
    "            break\n",
    "        divisor += 1\n",
    "    if isPrime:\n",
    "        count += 1\n",
    "        if count % 10 != 0:\n",
    "            print('%3d'%(i), end = ' ')\n",
    "        else:\n",
    "            print('%3d'%(i))"
   ]
  },
  {
   "cell_type": "markdown",
   "metadata": {},
   "source": [
    "**例：試撰寫一程式，輸入兩個整數，然後求出其最大公倍數。**\n"
   ]
  },
  {
   "cell_type": "code",
   "execution_count": 47,
   "metadata": {},
   "outputs": [
    {
     "name": "stdout",
     "output_type": "stream",
     "text": [
      "Enter a number: 3\n",
      "Enter a number: 5\n",
      "GCD(3, 5) = 1\n"
     ]
    }
   ],
   "source": [
    "gcd = 1\n",
    "n = 2\n",
    "a = eval(input('Enter a number: '))\n",
    "b = eval(input('Enter a number: '))\n",
    "while n <= a and n <= b:\n",
    "    if a % n == 0 and b % n == 0:\n",
    "        gcd = n\n",
    "    n += 1\n",
    "print('GCD(%d, %d) = %d'%(a, b, gcd))"
   ]
  }
 ],
 "metadata": {
  "kernelspec": {
   "display_name": "Python 3",
   "language": "python",
   "name": "python3"
  },
  "language_info": {
   "codemirror_mode": {
    "name": "ipython",
    "version": 3
   },
   "file_extension": ".py",
   "mimetype": "text/x-python",
   "name": "python",
   "nbconvert_exporter": "python",
   "pygments_lexer": "ipython3",
   "version": "3.7.4"
  }
 },
 "nbformat": 4,
 "nbformat_minor": 2
}
