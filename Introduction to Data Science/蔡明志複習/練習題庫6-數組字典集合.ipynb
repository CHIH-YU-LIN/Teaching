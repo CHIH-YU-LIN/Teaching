{
 "cells": [
  {
   "cell_type": "markdown",
   "metadata": {},
   "source": [
    "# 6. 數組、集合與詞典"
   ]
  },
  {
   "cell_type": "markdown",
   "metadata": {},
   "source": [
    "## 6-1 數組\n",
    "\n",
    "數組類似串列，但是數組的元素一經固定後就不可以加入、刪除或修改。\n",
    "在 Python 的實作中，數組的效率比串列來得好。\n",
    "\n",
    "**數組是以小括號來建立的，元素之間以逗號隔開。**\n",
    "\n",
    "常用的數組函式\n",
    "\n",
    "![](./Figures/PythonGoto-11-1.png)"
   ]
  },
  {
   "cell_type": "markdown",
   "metadata": {},
   "source": [
    "## 6-2 集合\n",
    "\n",
    "集合也類似串列，但集合的元素沒有用任何的順序來存放。在 Python 的實作中，集合的運作效率比串列來得好。\n",
    "\n",
    "**集合是以大括號來建立的，元素之間以逗號隔開。**\n",
    "\n",
    "**加入和刪除的集合運算**\n",
    "\n",
    "- 將集合做加入和刪除的動作，可利用 add() 函式與remove()函式。\n",
    "- 除此之外，也可以使用 len()、max()、min()，以及 sum()，分別用來計算集合的長度、最大值、最小值，以及總和。\n",
    "- 也可以利用 in 和 not in 來檢視元素是否存在於集合中，若元素存在於集合中，則回傳 True，否則，回傳 False。\n",
    "\n",
    "常見的集合函式\n",
    "\n",
    "![](./Figures/PythonGoto-11-2.png)"
   ]
  },
  {
   "cell_type": "markdown",
   "metadata": {},
   "source": [
    "**檢視兩個集合的關係**\n",
    "\n",
    "我們可以利用 issubset() 函式，來檢視某一集合是否為另一集合的子集合。\n",
    "而 issuperset() 函式，則是檢視某一集合是否為另一集合的超集合。 \n",
    "\n",
    "在集合的運作中，常會有兩個集合做聯集、交集、差集，以及對稱差集。\n",
    "聯集的結果，將包括兩個集合的所有元素，交集表示兩個集合中共有的元素。\n",
    "\n",
    "常用的集合方法\n",
    "\n",
    "![](./Figures/PythonGoto-11-3.png)"
   ]
  },
  {
   "cell_type": "markdown",
   "metadata": {},
   "source": [
    "## 6-3 詞典\n",
    "\n",
    "**詞典(dictionary)是鍵值(key)與其對應的數值(value)組成一項目。\n",
    "詞典中的每一個項目包含鍵值，接著冒號，最後是數值，並以大括號括起來。**\n",
    "\n",
    "**加入、刪除與修改詞典項目**\n",
    "\n",
    "- 加入一項目到詞典內，若鍵值已存在於詞典中，則數值將會被修改取代。\n",
    "- 刪除某一項目，利用 del 完。\n",
    "- 要顯示詞典中的每一項目，可使用for...in來完成。\n",
    "- 若要計算詞典中的項目個數，則可以使用len函式。\n",
    "- 你可以使用in和not in 判斷鍵值是否從於詞典中。若鍵值從在於詞典中，則回傳True，否則回傳False。\n",
    "- 你可以使用==和!＝運算子判斷兩個詞典是否包含相同的項目，但沒有提供>，>=，<，<=來比較詞典，因為詞典沒有提供排序功能。\n",
    "\n",
    "詞典一些常用的方法\n",
    "\n",
    "![](./Figures/PythonGoto-11-4.png)"
   ]
  },
  {
   "cell_type": "markdown",
   "metadata": {},
   "source": [
    "**例：將產生的大樂透號碼儲存於集合中。**"
   ]
  },
  {
   "cell_type": "code",
   "execution_count": null,
   "metadata": {},
   "outputs": [],
   "source": [
    "# Generating lotto number using set \n",
    "\n",
    "import random\n",
    "set10 = set()\n",
    "count = 1\n",
    "while count <= 6:\n",
    "    randNum = random.randint(1, 49)\n",
    "    if randNum not in set10:\n",
    "        set10.add(randNum)\n",
    "        count += 1\n",
    "      \n",
    "print(set10)"
   ]
  },
  {
   "cell_type": "markdown",
   "metadata": {},
   "source": [
    "### Learning By Doing\n",
    "\n",
    "**例：試撰寫一程式，提示使用者輸入一檔名，然後計算程式中集合所給予的關鍵字出現的次數**\n"
   ]
  },
  {
   "cell_type": "code",
   "execution_count": null,
   "metadata": {},
   "outputs": [],
   "source": [
    "def main():\n",
    "    keywords = {'and', 'del', 'or', 'not', 'while',     \n",
    "                'for', 'with', 'break', 'True', 'False'    \n",
    "                'elif', 'else', 'if', 'break', 'except',\n",
    "                'import', 'print', 'class', 'in'             \n",
    "                'continue', 'finally', 'is', 'return',              \n",
    "                'def', 'try'}\n",
    "\n",
    "    f1 = input('Enter a Python source code filename: ').strip()\n",
    "\n",
    "    # Open files for input \n",
    "    infile = open(f1, 'r')\n",
    "    \n",
    "    text = infile.read().split()\n",
    "    \n",
    "    count = 0\n",
    "    for word in text: \n",
    "        if word in keywords:\n",
    "            count += 1\n",
    "    \n",
    "    print('There are %d keywords in %s'%(count, f1))\n",
    "    \n",
    "main()"
   ]
  },
  {
   "cell_type": "markdown",
   "metadata": {},
   "source": [
    "**例：試撰寫一程式，先以隨機亂數產生100個介於1到49的數字，然後將它置放於數組，並統計1到49出現的個數。**"
   ]
  },
  {
   "cell_type": "code",
   "execution_count": null,
   "metadata": {},
   "outputs": [],
   "source": [
    "import random\n",
    "s2 = tuple([random.randint(1, 49) for i in range(1,100)])\n",
    "print(s2)\n",
    "lottoNums = 50*[0]\n",
    "for i in range(len(s2)):\n",
    "    k = s2[i]\n",
    "    lottoNums[k] += 1\n",
    "\n",
    "for j in range(1, len(lottoNums)):\n",
    "    print('%d: %d'%(j, lottoNums[j]))"
   ]
  },
  {
   "cell_type": "markdown",
   "metadata": {},
   "source": [
    "**例：建立一集合選單，它有加入、刪除、顯示，以及結束的選項，然後讓使用者輸入選項後加以執行其相對應的動作。其中加入的元素是以亂數產生的。**\n"
   ]
  },
  {
   "cell_type": "code",
   "execution_count": null,
   "metadata": {},
   "outputs": [],
   "source": [
    "import random\n",
    "def menu():\n",
    "    print()\n",
    "    print('Set menu:')\n",
    "    print('1. insert')\n",
    "    print('2. delete')\n",
    "    print('3. display')\n",
    "    print('4. exit')\n",
    "    n = eval(input('Enter your choice: '))\n",
    "    return n\n",
    "\n",
    "def add(s2):\n",
    "    x = random.randint(1, 49)\n",
    "    print('generating ... %d'%(x))\n",
    "    s2.add(x)\n",
    "\n",
    "def delete(s2):\n",
    "    x = eval(input('Enter a number: '))\n",
    "    if x in s2:\n",
    "        s2.remove(x)\n",
    "    else:\n",
    "        print('There is not invalid number.')\n",
    "\n",
    "def display(s2):\n",
    "    print(s2)\n",
    "\n",
    "def main():\n",
    "    s = set()\n",
    "    while True:\n",
    "        choice = menu()\n",
    "\n",
    "        if choice == 1:\n",
    "            add(s)\n",
    "        elif choice == 2:\n",
    "            delete(s)\n",
    "        elif choice == 3:\n",
    "            display(s)\n",
    "        elif choice == 4:\n",
    "            break\n",
    "        else:\n",
    "            print('Invalid choice')\n",
    "\n",
    "main()"
   ]
  },
  {
   "cell_type": "markdown",
   "metadata": {},
   "source": [
    "**例：建立一詞典選單，它有加入、刪除、顯示，以及結束的選項，然後讓使用者輸入選項後加以執行其相對應的動作。**\n"
   ]
  },
  {
   "cell_type": "code",
   "execution_count": null,
   "metadata": {},
   "outputs": [],
   "source": [
    "import random\n",
    "def menu():\n",
    "    print()\n",
    "    print('Dictionary menu:')\n",
    "    print('1. insert')\n",
    "    print('2. delete')\n",
    "    print('3. display')\n",
    "    print('4. exit')\n",
    "    n = eval(input('Enter your choice: '))\n",
    "    return n\n",
    "\n",
    "def add(d2):\n",
    "    key = eval(input('Enter a key: '))\n",
    "    value = input('Enter a value: ')\n",
    "    print('generating ... {%d: %s}'%(key, value))\n",
    "    d2[key] = value\n",
    "\n",
    "def delete(d2):\n",
    "    key = eval(input('Enter a key: '))\n",
    "    if key in d2:\n",
    "        del d2[key]\n",
    "    else:\n",
    "        print('There is not invalid key.')\n",
    "\n",
    "def display(d2):\n",
    "    print(d2)\n",
    "\n",
    "def main():\n",
    "    d = {}\n",
    "    while True:\n",
    "        choice = menu()\n",
    "\n",
    "        if choice == 1:\n",
    "            add(d)\n",
    "        elif choice == 2:\n",
    "            delete(d)\n",
    "        elif choice == 3:\n",
    "            display(d)\n",
    "        elif choice == 4:\n",
    "            break\n",
    "        else:\n",
    "            print('Invalid choice')\n",
    "\n",
    "main()"
   ]
  },
  {
   "cell_type": "markdown",
   "metadata": {},
   "source": [
    "**例(Optional)：試撰寫一程式，以詞典類別所提供的方法，如pop方法刪除辭典的項目，以及items方法執行印出詞典所有項目的動作。**"
   ]
  },
  {
   "cell_type": "code",
   "execution_count": null,
   "metadata": {},
   "outputs": [],
   "source": [
    "import random\n",
    "def menu():\n",
    "    print()\n",
    "    print('Dictionary menu:')\n",
    "    print('1. insert')\n",
    "    print('2. delete')\n",
    "    print('3. display')\n",
    "    print('4. exit')\n",
    "    n = eval(input('Enter your choice: '))\n",
    "    return n\n",
    "\n",
    "def add(d2):\n",
    "    key = eval(input('Enter a key: '))\n",
    "    value = input('Enter a value: ')\n",
    "    print('generating ... {%d: \\'%s\\'}'%(key, value))\n",
    "    d2[key] = value\n",
    "\n",
    "def delete(d2):\n",
    "    key = eval(input('Enter a key: '))\n",
    "    if key in d2:\n",
    "        print('{%d: \\'%s\\'} has been deleted'%(key, d2.get(key)))\n",
    "        d2.pop(key)\n",
    "    else:\n",
    "        print('There is not invalid key.')\n",
    "\n",
    "def display(d2):\n",
    "    print(d2.items())\n",
    "\n",
    "def main():\n",
    "    d = {}\n",
    "    while True:\n",
    "        choice = menu()\n",
    "\n",
    "        if choice == 1:\n",
    "            add(d)\n",
    "        elif choice == 2:\n",
    "            delete(d)\n",
    "        elif choice == 3:\n",
    "            display(d)\n",
    "        elif choice == 4:\n",
    "            break\n",
    "        else:\n",
    "            print('Invalid choice')\n",
    "\n",
    "main()"
   ]
  }
 ],
 "metadata": {
  "kernelspec": {
   "display_name": "Python 3",
   "language": "python",
   "name": "python3"
  },
  "language_info": {
   "codemirror_mode": {
    "name": "ipython",
    "version": 3
   },
   "file_extension": ".py",
   "mimetype": "text/x-python",
   "name": "python",
   "nbconvert_exporter": "python",
   "pygments_lexer": "ipython3",
   "version": "3.7.4"
  }
 },
 "nbformat": 4,
 "nbformat_minor": 2
}
