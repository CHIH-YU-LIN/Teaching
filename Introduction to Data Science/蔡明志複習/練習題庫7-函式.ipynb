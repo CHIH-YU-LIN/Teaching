{
 "cells": [
  {
   "cell_type": "markdown",
   "metadata": {},
   "source": [
    "# 7. 函式"
   ]
  },
  {
   "cell_type": "markdown",
   "metadata": {},
   "source": [
    "## 7-1 函式的涵義\n",
    "\n",
    "模組化(modulize)：將程式加以劃分，每一部分稱之為函式(function)或副程式(subprogram)。\n",
    "函式表示解決某一問題的有限步驟。 \n",
    "\n",
    "將程式加以模組化有下列好處：\n",
    "\n",
    "- 減少重複的程式碼：我們可以將重複的程式碼以一函式表示，若要使用只要加以呼叫即可。 \n",
    "- 易於開發：因為函式可以當做程式的元件來使用，可以將先前撰寫的函式加以利用，使得撰寫程式好像在推積木一般，易於開發類似的應用系統。 \n",
    "- 易於維護：程式是由一些函式所組成，每一函式各司其職。只要針對錯誤的部分加以修改即可。不需要動到其他部分。 "
   ]
  },
  {
   "cell_type": "markdown",
   "metadata": {},
   "source": [
    "## 7-2 如何定義一函式\n",
    "\n",
    "![](./Figures/PythonGoto-6-1.png)\n",
    "\n",
    "def是系統保留字。function_name是自訂的函式名稱，後面接下括號以及冒號。再來是函式主體敘述，此敘述要內縮。\n"
   ]
  },
  {
   "cell_type": "markdown",
   "metadata": {},
   "source": [
    "**例：以lotto函式表示，產生大樂透號碼的敘述。**"
   ]
  },
  {
   "cell_type": "code",
   "execution_count": 48,
   "metadata": {},
   "outputs": [
    {
     "name": "stdout",
     "output_type": "stream",
     "text": [
      "35 35 4 22 37 48 "
     ]
    }
   ],
   "source": [
    "import random\n",
    "def lotto():\n",
    "    for i in range(1, 7):\n",
    "        n = random.randint(1, 49)\n",
    "        print(n, end = ' ') \n",
    "\n",
    "def main():\n",
    "    lotto()\n",
    "\n",
    "main()"
   ]
  },
  {
   "cell_type": "code",
   "execution_count": 49,
   "metadata": {},
   "outputs": [
    {
     "name": "stdout",
     "output_type": "stream",
     "text": [
      "39 35 40 41 21 36 \n",
      "\n",
      "Do you want to continue? 1 to continue, 0 to stop: 0\n"
     ]
    }
   ],
   "source": [
    "# 例：產生大樂透號碼，當樂透產生重複號碼時，讓使用者決定是否繼續。\n",
    "# 兩個函式，一個為lotto()函式，二為main()函式。\n",
    "\n",
    "import random\n",
    "\n",
    "# 產生大樂透號碼的lotto（）函式\n",
    "\n",
    "def lotto():\n",
    "    for i in range(1, 7):\n",
    "        n = random.randint(1, 49)\n",
    "        print(n, end = ' ')\n",
    "    print('\\n')\n",
    "\n",
    "# 產生重複樂透號碼時，讓使用者決定是否繼續。\n",
    "\n",
    "def main():   \n",
    "    again = 1\n",
    "    while again == 1 :\n",
    "        lotto()\n",
    "        again = eval(input('Do you want to continue? 1 to continue, 0 to stop: '))\n",
    "main()"
   ]
  },
  {
   "cell_type": "markdown",
   "metadata": {},
   "source": [
    "## 7-3 實際參數與形式參數\n",
    "\n",
    "在呼叫函式時，也可以給予參數。"
   ]
  },
  {
   "cell_type": "markdown",
   "metadata": {},
   "source": [
    "**例：由使用者決定要產生多少個亂數。**"
   ]
  },
  {
   "cell_type": "code",
   "execution_count": 50,
   "metadata": {},
   "outputs": [
    {
     "name": "stdout",
     "output_type": "stream",
     "text": [
      "How many random numbers do you want? 3\n",
      "99 48 100 "
     ]
    }
   ],
   "source": [
    "import random\n",
    "\n",
    "# 當呼叫 randNum() 函式時給予一參數k，為形式參數。\n",
    "def randNum(k):\n",
    "    for i in range(1, k+1):\n",
    "        n = random.randint(1, 100)\n",
    "        print(n, end = ' ')        \n",
    "\n",
    "#在main()函式中的n為實際參數。\n",
    "def main():\n",
    "    n = eval(input('How many random numbers do you want? '))\n",
    "    randNum(n)\n",
    "\n",
    "main()"
   ]
  },
  {
   "cell_type": "code",
   "execution_count": 51,
   "metadata": {},
   "outputs": [
    {
     "name": "stdout",
     "output_type": "stream",
     "text": [
      "How many random numbers do you want? 28\n",
      " 46  59  27  86  93  67  61  83  34  88\n",
      " 61  63  17  48  86  33  70  93  71  15\n",
      "  4  20  29  39  28  73  68  74 "
     ]
    }
   ],
   "source": [
    "#每一列印出十個數字\n",
    "\n",
    "import random\n",
    "def randNum(k):\n",
    "    for i in range(1, k+1):\n",
    "        n = random.randint(1, 100)\n",
    "        if i % 10 == 0:\n",
    "            print('%3d'%(n))\n",
    "        else:\n",
    "            print('%3d'%(n), end = ' ')        \n",
    "\n",
    "def main():\n",
    "    n = eval(input('How many random numbers do you want? '))\n",
    "    randNum(n)\n",
    "\n",
    "main()"
   ]
  },
  {
   "cell_type": "markdown",
   "metadata": {},
   "source": [
    "## 7-4  函式回傳值\n",
    "\n",
    "有時呼叫函式後，想要從函式中回傳值。\n",
    "如函式 sum()，接收兩個參數，計算其平均數後回傳\n"
   ]
  },
  {
   "cell_type": "markdown",
   "metadata": {},
   "source": [
    "**例：計算正 n 邊形的面積後回傳， $area = \\frac{n* s^2}{4 * tan{\\frac{\\pi}{n}}$。**"
   ]
  },
  {
   "cell_type": "code",
   "execution_count": 53,
   "metadata": {},
   "outputs": [
    {
     "name": "stdout",
     "output_type": "stream",
     "text": [
      "Enter edge numebrs: 3\n",
      "Enter side length: 3\n",
      "Area of 3 edges is 3.90\n"
     ]
    }
   ],
   "source": [
    "# 計算正 n 邊形的面積後回傳。\n",
    "\n",
    "import math\n",
    "\n",
    "# 程式以return area表示回傳area值給main()函式的area2變數。\n",
    "\n",
    "def nArea(n, s):\n",
    "    area = (n * s ** 2) / (4 * math.tan(math.pi/n))\n",
    "    return area\n",
    "\n",
    "def main():\n",
    "    num = eval(input('Enter edge numebrs: '))\n",
    "    side = eval(input('Enter side length: '))\n",
    "    area2 = nArea(num, side)\n",
    "    print('Area of %d edges is %.2f'%(num, area2))\n",
    "\n",
    "main()"
   ]
  },
  {
   "cell_type": "markdown",
   "metadata": {},
   "source": [
    "**例：計算兩數的總和及平均數。**"
   ]
  },
  {
   "cell_type": "code",
   "execution_count": 54,
   "metadata": {},
   "outputs": [
    {
     "name": "stdout",
     "output_type": "stream",
     "text": [
      "Enter 2 numbers: 3,5\n",
      "total = 8, average = 4.00\n"
     ]
    }
   ],
   "source": [
    "def average(a, b):\n",
    "    total = a + b\n",
    "    aver = total / 2\n",
    "    return total, aver\n",
    "\n",
    "def main():\n",
    "    x, y = eval(input('Enter 2 numbers: '))\n",
    "    tot2, aver2 = average(x, y)\n",
    "    print('total = %d, average = %.2f'%(tot2, aver2))\n",
    "\n",
    "main()\n"
   ]
  },
  {
   "cell_type": "markdown",
   "metadata": {},
   "source": [
    "### Learning By doing\n",
    "\n",
    "**例：試撰寫一函式 rand 產生 100 個介於 1~100 的亂數，並接收由 main() 函式指定亂數的個數。輸出亂數時每一列印十個。**"
   ]
  },
  {
   "cell_type": "code",
   "execution_count": 55,
   "metadata": {},
   "outputs": [
    {
     "name": "stdout",
     "output_type": "stream",
     "text": [
      "Enter num: 3\n",
      "  60   29   75 "
     ]
    }
   ],
   "source": [
    "import random\n",
    "def rand(n):\n",
    "    for i in range(1, n+1):\n",
    "        rn = random.randint(1, 100)\n",
    "        if i % 10 == 0:\n",
    "            print('%4d'%(rn))\n",
    "        else:\n",
    "            print('%4d'%(rn), end = ' ')\n",
    "\n",
    "def main():\n",
    "    num = eval(input('Enter num: '))\n",
    "    rand(num)\n",
    "\n",
    "main()"
   ]
  },
  {
   "cell_type": "markdown",
   "metadata": {},
   "source": [
    "**例：試撰寫一函式 rand，並接收由 main() 函式所指定區間的亂數以及亂數的個數。輸出亂數十每一列印十個。**\n",
    "\n"
   ]
  },
  {
   "cell_type": "code",
   "execution_count": 56,
   "metadata": {},
   "outputs": [
    {
     "name": "stdout",
     "output_type": "stream",
     "text": [
      "Enter x, y, num: 1,3,5\n",
      "   1    2    1    2    3 "
     ]
    }
   ],
   "source": [
    "import random\n",
    "def rand(a, b, n):\n",
    "    for i in range(1, n+1):\n",
    "        rn = random.randint(a, b)\n",
    "        if i % 10 == 0:\n",
    "            print('%4d'%(rn))\n",
    "        else:\n",
    "            print('%4d'%(rn), end = ' ')\n",
    "\n",
    "def main():\n",
    "    x, y, num = eval(input('Enter x, y, num: '))\n",
    "    rand(x, y, num)\n",
    "\n",
    "main()"
   ]
  },
  {
   "cell_type": "markdown",
   "metadata": {},
   "source": [
    "**例：試撰寫一函式 rand，並接收由 main() 函式欲產生多少組的大樂透號碼。**\n"
   ]
  },
  {
   "cell_type": "code",
   "execution_count": 57,
   "metadata": {},
   "outputs": [
    {
     "name": "stdout",
     "output_type": "stream",
     "text": [
      "How many sets: 2\n",
      " 17  18  36  27   9  11 \n",
      "  5  10  18  13  39  19 \n"
     ]
    }
   ],
   "source": [
    "import random\n",
    "def lotto(n):\n",
    "    for i in range(1, n+1):\n",
    "        for i in range(1, 7):\n",
    "            lottoNum = random.randint(1, 49)\n",
    "            print('%3d'%(lottoNum), end = ' ')\n",
    "        print()\n",
    "\n",
    "def main():\n",
    "    num = eval(input('How many sets: '))\n",
    "    lotto(num)\n",
    "\n",
    "main()"
   ]
  },
  {
   "cell_type": "markdown",
   "metadata": {},
   "source": [
    "**例：試撰寫一函式 GPA，並接收由 main() 函式所傳送的分數，然後回傳其對應的 GPA。此程式利用不定數迴圈輸入分數。有關 GPA 的對應表格如下所示：80-100為A，70-79為B，60-69為C，50-59為D，49以下為E。**\n"
   ]
  },
  {
   "cell_type": "code",
   "execution_count": 58,
   "metadata": {},
   "outputs": [
    {
     "name": "stdout",
     "output_type": "stream",
     "text": [
      "Enter your score: 55\n",
      "Your GPA is D.\n",
      "Enter your score: -1\n"
     ]
    }
   ],
   "source": [
    "def gpa(score):\n",
    "    if score >= 80:\n",
    "        print('Your GPA is A.')\n",
    "    elif score >= 70:\n",
    "        print('Your GPA is B.')\n",
    "    elif score >= 60:\n",
    "        print('Your GPA is C.')\n",
    "    elif score >= 50:\n",
    "        print('Your GPA is D.')\n",
    "    else:\n",
    "        print('Your GPA is E.')\n",
    "\n",
    "def main():\n",
    "    score = eval(input('Enter your score: '))\n",
    "\n",
    "    while score >= 0:\n",
    "        gpa(score)\n",
    "        score = eval(input('Enter your score: '))\n",
    "        \n",
    "main()"
   ]
  },
  {
   "cell_type": "markdown",
   "metadata": {},
   "source": [
    "**例：試撰寫一函式bmi，並接收由main()函式所傳送的身高與體重，然後回傳其對應的BMI。此程式利用不定數迴圈輸入多個身高與體重。BMI的對應表格為：小於18.5過輕，18.5-24.9正常，25-29.9過重，大於30肥胖。**\n",
    "\n"
   ]
  },
  {
   "cell_type": "code",
   "execution_count": 59,
   "metadata": {},
   "outputs": [
    {
     "name": "stdout",
     "output_type": "stream",
     "text": [
      "Enter your weight: 100\n",
      "Enter your height: 200\n",
      "Your bmi is 25.00\n",
      "Overweight\n",
      "Enter your weight: -1\n",
      "Enter your height: -1\n"
     ]
    }
   ],
   "source": [
    "def bmi(weight, height):\n",
    "    heightMeter = height / 100\n",
    "    bmi = weight / (heightMeter * heightMeter)\n",
    "    print('Your bmi is %.2f'%(bmi))\n",
    "    if bmi < 18.5:\n",
    "        print('Underweight')\n",
    "    elif bmi < 25:\n",
    "        print('Normal')\n",
    "    elif bmi < 30:\n",
    "        print('Overweight')\n",
    "    else:\n",
    "        print('Obses')\n",
    "\n",
    "def main():\n",
    "    weight = eval(input('Enter your weight: '))\n",
    "\n",
    "    height = eval(input('Enter your height: '))\n",
    "    while weight > 0 and weight > 0:\n",
    "        bmi(weight, height)\n",
    "        weight = eval(input('Enter your weight: '))\n",
    "\n",
    "        height = eval(input('Enter your height: '))\n",
    "        \n",
    "main()"
   ]
  }
 ],
 "metadata": {
  "kernelspec": {
   "display_name": "Python 3",
   "language": "python",
   "name": "python3"
  },
  "language_info": {
   "codemirror_mode": {
    "name": "ipython",
    "version": 3
   },
   "file_extension": ".py",
   "mimetype": "text/x-python",
   "name": "python",
   "nbconvert_exporter": "python",
   "pygments_lexer": "ipython3",
   "version": "3.7.4"
  }
 },
 "nbformat": 4,
 "nbformat_minor": 2
}
