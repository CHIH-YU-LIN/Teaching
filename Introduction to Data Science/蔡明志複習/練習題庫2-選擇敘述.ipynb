{
 "cells": [
  {
   "cell_type": "markdown",
   "metadata": {},
   "source": [
    "# 2. 選擇敘述"
   ]
  },
  {
   "cell_type": "markdown",
   "metadata": {},
   "source": [
    "## 2-1 選擇敘述的涵義\n",
    "\n",
    "選擇敘述在選取執行的敘述時，會先判斷條件運算式(conditional expression)，依照真、假值來執行其對應的敘述。因此會使用到關係運算子(relational operator)。\n",
    "\n",
    "![](./Figures/PythonGoto-3-1.png)"
   ]
  },
  {
   "cell_type": "markdown",
   "metadata": {},
   "source": [
    "## 2-2 條件運算式\n",
    "\n",
    "若只挑選真或假其中一種情形處理 ，則可利用if 敘述。\n",
    "\n",
    "若要對真或假的條件運算式都要處理的話，則可利用if…else 敘述。\n",
    "\n",
    "當條件有三種狀況時，則可利用 if…elif…else來表示。"
   ]
  },
  {
   "cell_type": "markdown",
   "metadata": {},
   "source": [
    "####  if件式\n",
    "\n",
    "![](./Figures/PythonGoto-3-2.png)\n",
    "\n",
    "在if的條件運算式後要加上冒號，而且所對應的執行主體敘述要加以內縮，一般是內縮4格，但這不是絕對的數字。隨你喜歡，但一定要內縮就是了。"
   ]
  },
  {
   "cell_type": "markdown",
   "metadata": {},
   "source": [
    "**例：if 敘述兩數相除，若分母不為於0，則印出此兩數相除的結果，若分母為0，則不加以理會。**\n"
   ]
  },
  {
   "cell_type": "code",
   "execution_count": 14,
   "metadata": {},
   "outputs": [
    {
     "name": "stdout",
     "output_type": "stream",
     "text": [
      "Enter a number1: 2\n",
      "Enter a number2: 3\n",
      "2.00/3.00 = 0.67\n",
      "Over\n"
     ]
    }
   ],
   "source": [
    "# 方法一\n",
    "\n",
    "a = eval(input('Enter a number1: '))\n",
    "b = eval(input('Enter a number2: '))\n",
    "if b != 0:\n",
    "    c = a / b\n",
    "    print('%.2f/%.2f = %.2f'%(a, b, c))\n",
    "print('Over')"
   ]
  },
  {
   "cell_type": "markdown",
   "metadata": {},
   "source": [
    "#### if else條件式\n",
    "\n",
    "![](./Figures/PythonGoto-3-3.png)\n",
    "\n",
    "當條件運算式為True，則執行主體敘述1，否則執行主體敘述2。注意，在else後面要加上冒號，而且其對應的主體敘述2也要內縮。"
   ]
  },
  {
   "cell_type": "code",
   "execution_count": 15,
   "metadata": {},
   "outputs": [
    {
     "name": "stdout",
     "output_type": "stream",
     "text": [
      "Enter a number1: 2\n",
      "Enter a number2: 3\n",
      "2.00/3.00 = 0.67\n",
      "Over\n"
     ]
    }
   ],
   "source": [
    "#方法二\n",
    "\n",
    "a = eval(input('Enter a number1: '))\n",
    "b = eval(input('Enter a number2: '))\n",
    "if b != 0:\n",
    "    c = a / b\n",
    "    print('%.2f/%.2f = %.2f'%(a, b, c))\n",
    "else:\n",
    "    print('Divisor can\\'t be zero')\n",
    "print('Over')"
   ]
  },
  {
   "cell_type": "markdown",
   "metadata": {},
   "source": [
    "#### if elif else條件式\n",
    "\n",
    "![](./Figures/PythonGoto-3-4.png)\n",
    "\n",
    "比if-else 敘述多了elif的和其對應的主體敘述。"
   ]
  },
  {
   "cell_type": "markdown",
   "metadata": {},
   "source": [
    "**例：檢視輸入數直式大於0、等於0、或是小於0。**"
   ]
  },
  {
   "cell_type": "code",
   "execution_count": 16,
   "metadata": {},
   "outputs": [
    {
     "name": "stdout",
     "output_type": "stream",
     "text": [
      "Enter a number: 1\n",
      "1 is greater than 0.\n",
      "Over\n"
     ]
    }
   ],
   "source": [
    "a = eval(input('Enter a number: '))\n",
    "if a > 0:\n",
    "    print('%d is greater than 0.'%(a))\n",
    "elif a < 0:\n",
    "    print('%d is less than 0.'%(a))\n",
    "else:\n",
    "    print('%d is equal to 0.'%(a))\n",
    "print('Over')"
   ]
  },
  {
   "cell_type": "markdown",
   "metadata": {},
   "source": [
    "**例：一學期的期末考結束了，老師要計算每位學生的 GPA(Grade Point Average) ，計算方式為：80-100為A，70-90為B，60-69為C，50-59為D，49以下為F。**\n"
   ]
  },
  {
   "cell_type": "code",
   "execution_count": 17,
   "metadata": {},
   "outputs": [
    {
     "name": "stdout",
     "output_type": "stream",
     "text": [
      "Enter your score: 90\n",
      "Your GPA is A.\n"
     ]
    }
   ],
   "source": [
    "score = eval(input('Enter your score: '))\n",
    "if score >= 80:\n",
    "    print('Your GPA is A.')\n",
    "elif score >= 70:\n",
    "    print('Your GPA is B.')\n",
    "elif score >= 60:\n",
    "    print('Your GPA is C.')\n",
    "elif score >= 50:\n",
    "    print('Your GPA is D.')\n",
    "else:\n",
    "    print('Your GPA is F.')"
   ]
  },
  {
   "cell_type": "markdown",
   "metadata": {},
   "source": [
    "### 邏輯運算子\n",
    "\n",
    "若多個條件運算式要一起判斷時，則此時需要邏輯運算子(logical operator)。\n",
    "\n",
    "- 兩個條件利用and一起做判斷時，此時會比較嚴苛。\n",
    "- 若是以or一起做判斷時，則比較寬鬆。\n",
    "- 而not則是江True變成為False，反之亦然。"
   ]
  },
  {
   "cell_type": "markdown",
   "metadata": {},
   "source": [
    "**例：我們以一讓使用者輸入一西元年份，然後判斷其是否為閏年(leap year)。閏年的條件有二，一是 (1)可以被100整除、二是 (2)可以被4整除但不能被100整除。**"
   ]
  },
  {
   "cell_type": "code",
   "execution_count": 18,
   "metadata": {},
   "outputs": [
    {
     "name": "stdout",
     "output_type": "stream",
     "text": [
      "Enter a year: 2008\n",
      "2008 is a leap year.\n"
     ]
    }
   ],
   "source": [
    "year = eval(input('Enter a year: '))\n",
    "con1 = year % 400 == 0\n",
    "con2 = year % 4 == 0\n",
    "con3 = year % 100 != 0\n",
    "if con1 or (con2 and con3):\n",
    "    print('%d is a leap year.'%(year))\n",
    "else:\n",
    "    print('%d is a common year.'%(year))"
   ]
  },
  {
   "cell_type": "markdown",
   "metadata": {},
   "source": [
    "### Learning By doing\n",
    "\n",
    "**例:以亂數產生1、2和3的數字，並判斷若是1則印出紅燈，若是2則印出綠燈，若是3則印出黃燈。**"
   ]
  },
  {
   "cell_type": "code",
   "execution_count": 19,
   "metadata": {},
   "outputs": [
    {
     "name": "stdout",
     "output_type": "stream",
     "text": [
      "Yellow light now!\n"
     ]
    }
   ],
   "source": [
    "import random\n",
    "light = random.randint(1, 3)\n",
    "if light == 1:\n",
    "    print('Red light now!')\n",
    "elif light == 2:\n",
    "    print('Green light now!')\n",
    "else:\n",
    "    print('Yellow light now!')"
   ]
  },
  {
   "cell_type": "markdown",
   "metadata": {},
   "source": [
    "**例：判斷產生的1到1000的亂數，然後檢視它是否為3的倍數，或是4的倍數，或是7的倍數。**"
   ]
  },
  {
   "cell_type": "code",
   "execution_count": 20,
   "metadata": {},
   "outputs": [
    {
     "name": "stdout",
     "output_type": "stream",
     "text": [
      "124 is 4-multiple\n"
     ]
    }
   ],
   "source": [
    "import random\n",
    "num = random.randint(1, 1000)\n",
    "if num % 3 == 0:\n",
    "    print('%d is 3-multiple'%(num))\n",
    "if num % 4 == 0:\n",
    "    print('%d is 4-multiple'%(num))\n",
    "if num % 7 == 0:\n",
    "    print('%d is 7-multiple'%(num))\n",
    "if (num % 3 !=0 and  num % 4 != 0 and num % 7 != 0):\n",
    "    print('%d is not 3 or 4 or 7 multiple'%(num))"
   ]
  },
  {
   "cell_type": "markdown",
   "metadata": {},
   "source": [
    "**例：計算你的 BMI。身體質量指標(Body Mass Index, BMI)用來量健康狀況，計算公式為體重(公斤) / 身高2(公尺)。BMI大概的衡量標準如下所示：小於18.5過輕，18.5~24.9正常，25~29.9過重，大於30過胖。**\n"
   ]
  },
  {
   "cell_type": "code",
   "execution_count": 21,
   "metadata": {},
   "outputs": [
    {
     "name": "stdout",
     "output_type": "stream",
     "text": [
      "Enter your weight: 100\n",
      "Enter your height: 200\n",
      "Your bmi is 25.00\n",
      "Overweight\n"
     ]
    }
   ],
   "source": [
    "weight = eval(input('Enter your weight: '))\n",
    "height = eval(input('Enter your height: '))\n",
    "heightMeter = height / 100\n",
    "bmi = weight / (heightMeter * heightMeter)\n",
    "print('Your bmi is %.2f'%(bmi))\n",
    "if bmi < 18.5:\n",
    "    print('Underweight')\n",
    "elif bmi < 25:\n",
    "    print('Normal')\n",
    "elif bmi < 30:\n",
    "    print('Overweight')\n",
    "else:\n",
    "    print('Obses')"
   ]
  },
  {
   "cell_type": "markdown",
   "metadata": {},
   "source": [
    "**例：檢視你的生肖。由使用者輸入他得出生年份，來檢視你的生肖。十二生肖是以十二年為一週期，每一年以一動物表示，其順序為猴、雞、狗、豬、鼠、牛、虎、兔、龍、蛇、馬、羊。當輸入年份除以12，若其餘數為0，則其生肖為猴。以此類推。**\n"
   ]
  },
  {
   "cell_type": "code",
   "execution_count": 22,
   "metadata": {},
   "outputs": [
    {
     "name": "stdout",
     "output_type": "stream",
     "text": [
      "Enter your birthday year: 1966\n",
      "Your zodic is Horse\n"
     ]
    }
   ],
   "source": [
    "year = eval(input('Enter your birthday year: '))\n",
    "print('Your zodic is ', end = '')\n",
    "zodic = year % 12\n",
    "if zodic == 0:\n",
    "    print('Monkey')\n",
    "elif zodic == 1:\n",
    "    print('Rooster')\n",
    "elif zodic == 2:\n",
    "    print('Dog')\n",
    "elif zodic == 3:\n",
    "    print('Pig')\n",
    "elif zodic == 4:\n",
    "    print('Rat')\n",
    "elif zodic == 5:\n",
    "    print('Ox')\n",
    "elif zodic == 6:\n",
    "    print('Tiger')\n",
    "elif zodic == 7:\n",
    "    print('Rabbit')\n",
    "elif zodic == 8:\n",
    "    print('Dragon')\n",
    "elif zodic == 9:\n",
    "    print('Snake')\n",
    "elif zodic == 10:\n",
    "    print('Horse')\n",
    "else:\n",
    "    print('Sheep')"
   ]
  },
  {
   "cell_type": "markdown",
   "metadata": {},
   "source": [
    "**例：猜猜1到50數字。由使用者輸入程式所問的答案後，程式將告訴你，你心中所想的數字(1-50)。假設使用者心中想的數字是48。**"
   ]
  },
  {
   "cell_type": "code",
   "execution_count": 23,
   "metadata": {},
   "outputs": [
    {
     "name": "stdout",
     "output_type": "stream",
     "text": [
      "Is your number in this set1? \n",
      " 1,  3,  5,  7\n",
      " 9, 11, 13, 15\n",
      "17, 19, 21, 23\n",
      "25, 27, 29, 31\n",
      "33, 35, 37, 39\n",
      "41, 43, 45, 47\n",
      "49\n",
      "\n",
      "Enter 0 for No and 1 for Yes: 1\n",
      "Is your number in this set2? \n",
      " 2,  3,  6,  7\n",
      "10, 11, 14, 15\n",
      "18, 19, 22, 23\n",
      "26, 27, 30, 31\n",
      "34, 35, 38, 39\n",
      "42, 43, 46, 47\n",
      "50\n",
      "\n",
      "Enter 0 for No and 1 for Yes: 1\n",
      "Is your number in this set3? \n",
      " 4,  5,  6,  7\n",
      "12, 13, 14, 15\n",
      "20, 21, 22, 23\n",
      "28, 29, 30, 31\n",
      "36, 37, 38, 39\n",
      "44, 45, 46, 47\n",
      "\n",
      "Enter 0 for No and 1 for Yes: 1\n",
      "Is your number in this set4? \n",
      " 8,  9, 10, 11\n",
      "12, 13, 14, 15\n",
      "24, 25, 26, 27\n",
      "28, 29, 30, 31\n",
      "40, 41, 42, 43\n",
      "44, 45, 47\n",
      "\n",
      "Enter 0 for No and 1 for Yes: 1\n",
      "Is your number in this set5? \n",
      "16, 17, 18, 19\n",
      "20, 21, 22, 23\n",
      "24, 25, 26, 27\n",
      "28, 29, 30, 31\n",
      "48, 49, 50\n",
      "\n",
      "Enter 0 for No and 1 for Yes: 1\n",
      "Is your number in this set6? \n",
      "32, 33, 34, 35\n",
      "36, 37, 38, 39\n",
      "40, 41, 42, 43\n",
      "44, 45, 46, 47\n",
      "48, 49, 50\n",
      "\n",
      "Enter 0 for No and 1 for Yes: 1\n",
      "\n",
      "Your number is 63.\n"
     ]
    }
   ],
   "source": [
    "number = 0\n",
    "set1 = 'Is your number in this set1? \\n' + \\\n",
    "     ' 1,  3,  5,  7\\n' + \\\n",
    "     ' 9, 11, 13, 15\\n' + \\\n",
    "     '17, 19, 21, 23\\n' + \\\n",
    "     '25, 27, 29, 31\\n' + \\\n",
    "     '33, 35, 37, 39\\n' + \\\n",
    "     '41, 43, 45, 47\\n' + \\\n",
    "     '49\\n' + \\\n",
    "     '\\nEnter 0 for No and 1 for Yes: '\n",
    "answer = eval(input(set1))\n",
    "if answer == 1:\n",
    "    number += 1\n",
    "\n",
    "set2 = 'Is your number in this set2? \\n' + \\\n",
    "     ' 2,  3,  6,  7\\n' + \\\n",
    "     '10, 11, 14, 15\\n' + \\\n",
    "     '18, 19, 22, 23\\n' + \\\n",
    "     '26, 27, 30, 31\\n' + \\\n",
    "     '34, 35, 38, 39\\n' + \\\n",
    "     '42, 43, 46, 47\\n' + \\\n",
    "     '50\\n' + \\\n",
    "     '\\nEnter 0 for No and 1 for Yes: '\n",
    "answer = eval(input(set2))\n",
    "if answer == 1:\n",
    "    number += 2\n",
    "\n",
    "set3 = 'Is your number in this set3? \\n' + \\\n",
    "     ' 4,  5,  6,  7\\n' + \\\n",
    "     '12, 13, 14, 15\\n' + \\\n",
    "     '20, 21, 22, 23\\n' + \\\n",
    "     '28, 29, 30, 31\\n' + \\\n",
    "     '36, 37, 38, 39\\n' + \\\n",
    "     '44, 45, 46, 47\\n' + \\\n",
    "     '\\nEnter 0 for No and 1 for Yes: '\n",
    "answer = eval(input(set3))\n",
    "if answer == 1:\n",
    "    number += 4\n",
    "\n",
    "set4 = 'Is your number in this set4? \\n' + \\\n",
    "     ' 8,  9, 10, 11\\n' + \\\n",
    "     '12, 13, 14, 15\\n' + \\\n",
    "     '24, 25, 26, 27\\n' + \\\n",
    "     '28, 29, 30, 31\\n' + \\\n",
    "     '40, 41, 42, 43\\n' + \\\n",
    "     '44, 45, 47\\n' + \\\n",
    "     '\\nEnter 0 for No and 1 for Yes: '\n",
    "answer = eval(input(set4))\n",
    "if answer == 1:\n",
    "    number += 8\n",
    "\n",
    "set5 = 'Is your number in this set5? \\n' + \\\n",
    "     '16, 17, 18, 19\\n' + \\\n",
    "     '20, 21, 22, 23\\n' + \\\n",
    "     '24, 25, 26, 27\\n' + \\\n",
    "     '28, 29, 30, 31\\n' + \\\n",
    "     '48, 49, 50\\n' + \\\n",
    "     '\\nEnter 0 for No and 1 for Yes: '\n",
    "answer = eval(input(set5))\n",
    "if answer == 1:\n",
    "    number += 16\n",
    "\n",
    "set6 = 'Is your number in this set6? \\n' + \\\n",
    "     '32, 33, 34, 35\\n' + \\\n",
    "     '36, 37, 38, 39\\n' + \\\n",
    "     '40, 41, 42, 43\\n' + \\\n",
    "     '44, 45, 46, 47\\n' + \\\n",
    "     '48, 49, 50\\n' + \\\n",
    "     '\\nEnter 0 for No and 1 for Yes: '\n",
    "answer = eval(input(set6))\n",
    "if answer == 1:\n",
    "    number += 32\n",
    "    \n",
    "print('\\nYour number is %d.'%(number))"
   ]
  }
 ],
 "metadata": {
  "kernelspec": {
   "display_name": "Python 3",
   "language": "python",
   "name": "python3"
  },
  "language_info": {
   "codemirror_mode": {
    "name": "ipython",
    "version": 3
   },
   "file_extension": ".py",
   "mimetype": "text/x-python",
   "name": "python",
   "nbconvert_exporter": "python",
   "pygments_lexer": "ipython3",
   "version": "3.7.4"
  }
 },
 "nbformat": 4,
 "nbformat_minor": 2
}
