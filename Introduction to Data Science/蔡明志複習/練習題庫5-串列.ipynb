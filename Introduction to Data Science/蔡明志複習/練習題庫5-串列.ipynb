{
 "cells": [
  {
   "cell_type": "markdown",
   "metadata": {},
   "source": [
    "# 5. 串列"
   ]
  },
  {
   "cell_type": "markdown",
   "metadata": {},
   "source": [
    "## 5-1 串列的涵義\n",
    "\n",
    "串列可說是儲存資料的好幫手，它使得資料更方便存取。\n",
    "串列(list)，其實相當於其他程式語言所稱的陣列(array)。它可由許多資料所組成的集合。\n",
    "\n",
    "\n",
    "宣告一空串列用 []。\n",
    "- Python 的串列所組成的資料，可以為不同的型態。\n",
    "- 串列的索引值是從 0 開始的，所以串列的最後一個元素的索引值為串列個數減 1。\n",
    "\n",
    "num 為一串列，它有六個元素，分別以 num[0]、num[1]、num[2]、num[3] 、num[4] 、num[5] 表示之，而且其值分別為 1、2、3、4、5，以及 6。\n",
    "\n",
    "![](./Figures/PythonGoto-8-1.png)\n"
   ]
  },
  {
   "cell_type": "markdown",
   "metadata": {},
   "source": [
    "### 串列一些常用的函式\n",
    "\n",
    "![](./Figures/PythonGoto-8-2.png)\n",
    "\n",
    "當串列給予的索引是負值的時候，表示將此負值加上串列的長度"
   ]
  },
  {
   "cell_type": "markdown",
   "metadata": {},
   "source": [
    "**例:以隨機亂數產生十個亂數，將其置放於串列，然後計算串列元素的總和。**"
   ]
  },
  {
   "cell_type": "code",
   "execution_count": 64,
   "metadata": {},
   "outputs": [
    {
     "name": "stdout",
     "output_type": "stream",
     "text": [
      "[5, 1, 10, 10, 1, 9, 10, 10, 10, 9]\n",
      "total = 75\n",
      "75\n"
     ]
    }
   ],
   "source": [
    "## 以亂數器產生10個亂數，然後加入data串列中，再將此元素累加於total變數。\n",
    "\n",
    "import random \n",
    "data = []\n",
    "total = 0\n",
    "for i in range(10):\n",
    "    data.append(random.randint(1, 10))\n",
    "    total += data[i]\n",
    "print(data)\n",
    "print('total = %d'%(total))\n",
    "\n",
    "##用sum()函數亦可計算串列總和\n",
    "print(sum(data))"
   ]
  },
  {
   "cell_type": "markdown",
   "metadata": {},
   "source": [
    "## 5-2 串列常用的方法\n",
    "\n",
    "\n",
    "![](./Figures/PythonGoto-8-2.png)"
   ]
  },
  {
   "cell_type": "markdown",
   "metadata": {},
   "source": [
    "**例:以隨機亂數產生十個亂數，將其置放於串列，然後由大到小排列後加以輸出。**"
   ]
  },
  {
   "cell_type": "code",
   "execution_count": 65,
   "metadata": {},
   "outputs": [
    {
     "name": "stdout",
     "output_type": "stream",
     "text": [
      "Original data:\n",
      " 39  14  14  83  73  26   5  40 100  50 \n",
      "\n",
      "Decending sorting...:\n",
      "Sorted data:\n",
      "100  83  73  50  40  39  26  14  14   5 "
     ]
    }
   ],
   "source": [
    "import random   \n",
    "def main():\n",
    "    lst = []\n",
    "    for i in range(1, 11):\n",
    "        num = random.randint(1, 100)\n",
    "        lst.append(num)\n",
    "    \n",
    "    print('Original data:')\n",
    "    for x in lst:\n",
    "        print('%3d'%(x), end = ' ')\n",
    "    print('\\n')\n",
    "\n",
    "    lst.sort()\n",
    "    lst.reverse()\n",
    "    print('Decending sorting...:')\n",
    "    print('Sorted data:')\n",
    "    for x in lst:\n",
    "        print('%3d'%(x), end = ' ')\n",
    "\n",
    "main()"
   ]
  },
  {
   "cell_type": "markdown",
   "metadata": {},
   "source": [
    "## 5-3 再論大樂透號碼\n",
    "\n",
    "我們撰寫過的產生六個大樂透號碼，但有時會產生重複的號碼，以下將介紹一些方法來解決重複的問題。\n",
    "\n",
    "- 第一種方法：將產生的號碼與前面已產生的號碼相比，若已出現，則將此號碼丟棄，然後再產生另一新的號碼，再重複上述的動作，直到產生六個號碼為止。\n",
    "\n",
    "- 第二種方法：我們可以利用另一串列來判斷，假設此串列名為 checkNum。\n",
    "首先將 checkNum 串列的每一元素皆設為 0，當產生一亂數時，如 21，此時檢查 checkNum[21] 是否為 0，若是，則表示此亂數 21 還未產生，因此，將 21 加入到名為 lotto 的串列中，並將 checkNum[21] 設為 1， 表示此亂數在 lotto 串列中已出現了。\n",
    "再次產生一亂數，依上述的檢查動作判斷是否要加入於 lotto 串列。程式的執行直到已產生六個亂數為止。\n",
    "\n",
    "- 第三種方法：在判斷某一亂數是否已存在於 lotto 串列，也可使用串列的 not in 來輔助判斷之。"
   ]
  },
  {
   "cell_type": "markdown",
   "metadata": {},
   "source": [
    "**例：隨機產生六個大樂透號碼，但要避免重複。**"
   ]
  },
  {
   "cell_type": "code",
   "execution_count": 66,
   "metadata": {},
   "outputs": [
    {
     "name": "stdout",
     "output_type": "stream",
     "text": [
      "The lottery numbers are: \n",
      "  26    17    12    28    14    49  \n"
     ]
    }
   ],
   "source": [
    "##方法一：將產生號碼與前面產生號碼比對，若已出現，則將此號碼丟棄，然後再產生一個新號碼，重複上述動作，直到產生六個號碼。\n",
    "\n",
    "## 程式中先產生一樂透號碼置於lotto串列的第一個位置lotto[0]\n",
    "import random\n",
    "\n",
    "lotto = []\n",
    "lotto.append(random.randint(1, 49))\n",
    "\n",
    "## m用以表示目前已產生的樂透號碼，其區間是1到5用來與n做比較，當n<m時，程式會一直檢查置放於串列的樂透號碼。 \n",
    "for m in range(1, 6):\n",
    "    n = 0\n",
    "    while n < m :\n",
    "        temp = random.randint(1, 49)\n",
    "        if(temp == lotto[n]):\n",
    "            n = 0\n",
    "        else:\n",
    "            n += 1\n",
    "    lotto.append(temp)\n",
    "           \n",
    "print(\"The lottery numbers are: \")\n",
    "for i in lotto:\n",
    "    print('%4d'%(i), end = '  ')\n",
    "print()"
   ]
  },
  {
   "cell_type": "code",
   "execution_count": 67,
   "metadata": {},
   "outputs": [
    {
     "name": "stdout",
     "output_type": "stream",
     "text": [
      "6  11  25  38  40  43  \n"
     ]
    }
   ],
   "source": [
    "## 方法二：使用串列的not in來判斷某一亂數是否以存在kotto串列中。\n",
    "\n",
    "#using list and not in to solve duplicate number\n",
    "import random\n",
    "lotto = []\n",
    "count = 1\n",
    "\n",
    "while count <= 6:\n",
    "    randNum = random.randint(1, 49)\n",
    "    if randNum not in lotto:\n",
    "        lotto.append(randNum)\n",
    "        count += 1\n",
    "\n",
    "lotto.sort()\n",
    "for i in lotto:\n",
    "    print(i, end = '  ')\n",
    "print()"
   ]
  },
  {
   "cell_type": "markdown",
   "metadata": {},
   "source": [
    "## 5-5 傳送串列給函式"
   ]
  },
  {
   "cell_type": "markdown",
   "metadata": {},
   "source": [
    "**例：以隨機亂數產生10個介於1到100的數字，並將其置放於串列，然後將此串列傳送給modify函式當作其參數。modify函式檢視接收的串列之每一元素，若串列的元素值是偶數，則將其加倍。**"
   ]
  },
  {
   "cell_type": "code",
   "execution_count": 68,
   "metadata": {},
   "outputs": [
    {
     "name": "stdout",
     "output_type": "stream",
     "text": [
      "Origianal list data:\n",
      "  81   87   56   42   84   76   85   21   89   99 \n",
      "After modified list:\n",
      "  81   87  112   84  168  152   85   21   89   99 "
     ]
    }
   ],
   "source": [
    "import random\n",
    "\n",
    "##modify函式，串列元素偶數其值加倍\n",
    "def modify(lst2):\n",
    "    for i in range(len(lst2)):\n",
    "        if lst2[i] % 2 == 0:\n",
    "            lst2[i] *= 2\n",
    "\n",
    "## main函式，隨機產生亂數置於串列中\n",
    "def main():\n",
    "    lst = []\n",
    "    for i in range(1, 11):\n",
    "        num = random.randint(1, 100)\n",
    "        lst.append(num)\n",
    "        \n",
    "    print('Origianal list data:')\n",
    "    for x in lst:\n",
    "         print('%4d'%(x), end = ' ')\n",
    "    print()\n",
    "\n",
    "    #pass list to modify()\n",
    "    modify(lst)\n",
    "    \n",
    "    print('After modified list:')\n",
    "    for x in lst:\n",
    "        print('%4d'%(x), end = ' ')\n",
    "\n",
    "main()"
   ]
  },
  {
   "cell_type": "markdown",
   "metadata": {},
   "source": [
    "## 5-6 排序與搜尋\n",
    "\n",
    "排序(sorting)與搜尋(searching)是資料結構的一個重要主題。這兩個主題可以利用串列來輕易完成。\n",
    "\n",
    "**排序有兩種，一種由小到大，一種由大到小，未註明時預設為由小至大。\n",
    "排序有選擇排序語氣泡排序兩種主題。**\n",
    "\n",
    "**(1)選擇排序**\n",
    "\n",
    "第一次將索引為 0 的串列元素值當做最小值，並指定給 min 變數，同時將其索引指定給 minIndex。\n",
    "然後從索引為 1 到最後一個的串列元素值與 min 相比較，若比 min 小，則將其值指定給 min，同時也將其索引指定給 minIndex。\n",
    "接著判斷是否要與第一個元素對調，若 minIndex 和 i 相同，表示此次的最小值就是一開始所設定的值，所以不必對調。\n",
    "\n",
    "第二次，第一次將索引為 1 的串列元素值當做最小值，並指定給 min 變數，同時將其索引指定給 minIndex。\n",
    "然後從索引為 2 到最後一個的串列元素值與 min 相比較，若比 min 小，則將其值指定給 min，同時也將其索引指定給 minIndex。\n",
    "接著判斷是否要與第一個元素對調，若 minIndex 和 i 相同，表示此次的最小值就是一開始所設定的值，所以不必對調。\n",
    "依此類推。\n",
    "\n",
    "**(2)氣泡排序**\n",
    "\n",
    "將串列中的資料兩兩相比，若前者比後者大，則對調。"
   ]
  },
  {
   "cell_type": "markdown",
   "metadata": {},
   "source": [
    "**(1)循序搜尋**\n",
    "\n",
    "從串列的第一筆資料開始搜尋，檢視是否等於要搜尋的數值，若是，則印出它在串列的位置。\n",
    "\n",
    "**(2)二元搜尋**\n",
    "\n",
    "此方法先決條件是要將串列的資料由小至大先排序好，因為它是先從串列的中間找起，看看要找尋的數值是否大於、等於或是小於此串列的中間數值。 "
   ]
  },
  {
   "cell_type": "code",
   "execution_count": 69,
   "metadata": {},
   "outputs": [
    {
     "name": "stdout",
     "output_type": "stream",
     "text": [
      "Original data:\n",
      " 80  98  27  97  58  32  74  20  65  19 \n",
      "\n",
      "Sorted data:\n",
      " 19  20  27  32  58  65  74  80  97  98 "
     ]
    }
   ],
   "source": [
    "# 選擇排序\n",
    "\n",
    "import random\n",
    "lst = []\n",
    "for i in range(1, 11):\n",
    "    num = random.randint(1, 100)\n",
    "    lst.append(num)\n",
    "    \n",
    "print('Original data:')\n",
    "for x in lst:\n",
    "    print('%3d'%(x), end = ' ')\n",
    "print('\\n')\n",
    "    \n",
    "# selection sort\n",
    "for i in range(len(lst) - 1):\n",
    "    #先假設i索引處是最小值\n",
    "    min = lst[i]\n",
    "    minIndex = i\n",
    "    \n",
    "    #從i+1之後與先前假設的最小值相比\n",
    "    for j in range(i+1, len(lst)):\n",
    "        if lst[j] < min:\n",
    "            min = lst[j]\n",
    "            minIndex = j\n",
    "    \n",
    "    #若假設最小值的索引沒有變，就不需要對調\n",
    "    if minIndex != i:\n",
    "         lst[minIndex] = lst[i]\n",
    "         lst[i] = min                  \n",
    "#--------------------------------\n",
    "\n",
    "print('Sorted data:')\n",
    "for x in lst:\n",
    "    print('%3d'%(x), end = ' ')"
   ]
  },
  {
   "cell_type": "code",
   "execution_count": 70,
   "metadata": {},
   "outputs": [
    {
     "name": "stdout",
     "output_type": "stream",
     "text": [
      "Original data:\n",
      " 62  29  60  85  96  29  56  50  54   1 \n",
      "\n",
      "Sorted data:\n",
      "  1  29  29  50  54  56  60  62  85  96 "
     ]
    }
   ],
   "source": [
    "# 氣泡排序\n",
    "\n",
    "import random\n",
    "lst = []\n",
    "for i in range(1, 11):\n",
    "    num = random.randint(1, 100)\n",
    "    lst.append(num)\n",
    "    \n",
    "print('Original data:')\n",
    "for x in lst:\n",
    "    print('%3d'%(x), end = ' ')\n",
    "print('\\n')\n",
    "    \n",
    "# bubble sort\n",
    "for i in range(len(lst)-1):\n",
    "    flag = 0\n",
    "    for j in range(len(lst)-i-1):\n",
    "        if lst[j] > lst[j+1]:\n",
    "            lst[j], lst[j+1] = lst[j+1], lst[j]\n",
    "            flag = 1\n",
    "    if flag == 0:\n",
    "        break            \n",
    "#----------------------------------\n",
    "                  \n",
    "print('Sorted data:')\n",
    "for x in lst:\n",
    "    print('%3d'%(x), end = ' ')"
   ]
  },
  {
   "cell_type": "code",
   "execution_count": 71,
   "metadata": {},
   "outputs": [
    {
     "name": "stdout",
     "output_type": "stream",
     "text": [
      " 39  25  20   8  23  47 \n",
      "What number do you search? 25\n",
      "I got 25 at lst2[1]\n"
     ]
    }
   ],
   "source": [
    "# 循序搜尋\n",
    "\n",
    "import random\n",
    "def randNum():\n",
    "    randLst = []\n",
    "    count = 1\n",
    "    while count <= 6:\n",
    "        num = random.randint(1,49)\n",
    "        if num not in randLst:\n",
    "            randLst.append(num)\n",
    "            print('%3d'%(num), end = ' ')\n",
    "            count += 1\n",
    "    print()\n",
    "    return randLst\n",
    "\n",
    "def seqSearch(key, lst2):\n",
    "    for i in range(len(lst2)):\n",
    "        if key == lst2[i]:\n",
    "            print('I got %d at lst2[%d]'%(key, i))\n",
    "            return True\n",
    "\n",
    "def main():\n",
    "    lst = randNum()\n",
    "    sn = eval(input('What number do you search? '))\n",
    "\n",
    "    bool = seqSearch(sn, lst)\n",
    "    if bool != True:\n",
    "        print('%d is not found.'%(sn))\n",
    "\n",
    "main()"
   ]
  },
  {
   "cell_type": "code",
   "execution_count": 72,
   "metadata": {},
   "outputs": [
    {
     "name": "stdout",
     "output_type": "stream",
     "text": [
      "\n",
      " 14  17  20  25  26  46 \n",
      "What number do you search? 25\n",
      "I got 25 at lst2[3]\n",
      "Numbers of compare: 3\n"
     ]
    }
   ],
   "source": [
    "# 二元搜尋\n",
    "\n",
    "import random\n",
    "def randNum():\n",
    "    randLst = []\n",
    "    count = 1\n",
    "    while count <= 6:\n",
    "        num = random.randint(1,49)\n",
    "        if num not in randLst:\n",
    "            randLst.append(num)\n",
    "            count += 1\n",
    "    print()\n",
    "    randLst.sort()\n",
    "    return randLst\n",
    "\n",
    "def binSearch(key, lst2):\n",
    "    low = 0\n",
    "    high = len(lst2) - 1\n",
    "    count = 1\n",
    "    while high >= low:\n",
    "        mid = (low + high) // 2\n",
    "        if key < lst2[mid]:\n",
    "            high = mid - 1\n",
    "        elif key == lst2[mid]:\n",
    "            return mid, count\n",
    "        else:\n",
    "            low = mid + 1\n",
    "        count += 1\n",
    "    return -999, 99999\n",
    "\n",
    "def main():\n",
    "    lst = randNum()\n",
    "    for x in lst:\n",
    "        print('%3d'%(x), end = ' ')\n",
    "    print()\n",
    "\n",
    "    key = eval(input('What number do you search? '))\n",
    "    n, c = binSearch(key, lst)    \n",
    "    if n == -999:\n",
    "        print('%d is not found.'%(key))\n",
    "    else:\n",
    "        print('I got %d at lst2[%d]'%(key, n))\n",
    "        print('Numbers of compare: %d'%(c))\n",
    "\n",
    "main()"
   ]
  },
  {
   "cell_type": "markdown",
   "metadata": {},
   "source": [
    "## 5-7  二維串列\n",
    "\n",
    "一維串列是許多資料組成的一個集合體，是有助於組織資料的好幫手。\n",
    "\n",
    "二維串列(two dimension list)其實就是由一維串列所組成的集合體。"
   ]
  },
  {
   "cell_type": "markdown",
   "metadata": {},
   "source": [
    "**例：利用亂數產生器產生三列四行共 12 個，和四列六行共 24 個 1 到 49 之間的數值，之後將它加入於 lst 的二維串列中。程式提示使用者輸入二維串列有多少列，有多少行。**\n"
   ]
  },
  {
   "cell_type": "code",
   "execution_count": 73,
   "metadata": {},
   "outputs": [
    {
     "name": "stdout",
     "output_type": "stream",
     "text": [
      "How many rows: 3\n",
      "How many columns: 3\n",
      " 21   6  16 \n",
      " 31  41  49 \n",
      " 42  34  39 \n"
     ]
    }
   ],
   "source": [
    "import random\n",
    "lst = []\n",
    "rows = eval(input('How many rows: '))\n",
    "columns = eval(input('How many columns: '))\n",
    "for i in range(rows):\n",
    "    lst.append([])\n",
    "    for j in range(columns):\n",
    "        num = random.randint(1, 49)\n",
    "        lst[i].append(num)\n",
    "\n",
    "for x in range(rows):\n",
    "    for y in range(columns):\n",
    "        print('%3d'%(lst[x][y]), end = ' ')\n",
    "    print()"
   ]
  },
  {
   "cell_type": "markdown",
   "metadata": {},
   "source": [
    "**例：加總二維串列所有的元素**\n"
   ]
  },
  {
   "cell_type": "code",
   "execution_count": 74,
   "metadata": {},
   "outputs": [
    {
     "name": "stdout",
     "output_type": "stream",
     "text": [
      "Total = 78\n"
     ]
    }
   ],
   "source": [
    "lst34 = [\n",
    "    [1, 2, 3, 4],\n",
    "    [5, 6, 7, 8],\n",
    "    [9, 10, 11, 12]]\n",
    "\n",
    "total = 0\n",
    "for i in range(len(lst34)):\n",
    "    for j in range(len(lst34[i])):\n",
    "        total += lst34[i][j]\n",
    "\n",
    "print('Total = %d'%(total))"
   ]
  },
  {
   "cell_type": "markdown",
   "metadata": {},
   "source": [
    "**例：計算二維串列每一列的總和**"
   ]
  },
  {
   "cell_type": "code",
   "execution_count": 75,
   "metadata": {},
   "outputs": [
    {
     "name": "stdout",
     "output_type": "stream",
     "text": [
      "Total of 0 rows = 10\n",
      "Total of 1 rows = 26\n",
      "Total of 2 rows = 42\n"
     ]
    }
   ],
   "source": [
    "lst34 = [\n",
    "    [1,  2,  3,  4],\n",
    "    [5,  6,  7,  8],\n",
    "    [9, 10, 11, 12]]\n",
    "\n",
    "for row in range(len(lst34)):\n",
    "    total = 0\n",
    "    for col in range(len(lst34[0])):\n",
    "        total += lst34[row][col]\n",
    "    print('Total of %d rows = %d'%(row, total))"
   ]
  },
  {
   "cell_type": "markdown",
   "metadata": {},
   "source": [
    "**例：計算二維串列每一行的總和**\n",
    "\n",
    "計算二維串列每一行的和，做法是先固定行，再將此行的每一列之元素加總，撰寫的方式是以行做為外迴圈，而以列做為內迴圈。 \n"
   ]
  },
  {
   "cell_type": "code",
   "execution_count": 76,
   "metadata": {},
   "outputs": [
    {
     "name": "stdout",
     "output_type": "stream",
     "text": [
      "Total of 0 columns = 15\n",
      "Total of 1 columns = 18\n",
      "Total of 2 columns = 21\n",
      "Total of 3 columns = 24\n"
     ]
    }
   ],
   "source": [
    "lst34 = [\n",
    "    [1, 2, 3, 4],\n",
    "    [5, 6, 7, 8],\n",
    "    [9, 10, 11, 12]]\n",
    "\n",
    "for col in range(len(lst34[0])):\n",
    "    total = 0\n",
    "    for row in range(len(lst34)):\n",
    "        total += lst34[row][col]\n",
    "    print('Total of %d columns = %d'%(col, total))"
   ]
  },
  {
   "cell_type": "markdown",
   "metadata": {},
   "source": [
    "**例：兩個二維串列相加**\n",
    "\n",
    "二維串列相加表示將兩個串列對應的行、列彼此加總。\n",
    "\n"
   ]
  },
  {
   "cell_type": "code",
   "execution_count": 77,
   "metadata": {},
   "outputs": [
    {
     "name": "stdout",
     "output_type": "stream",
     "text": [
      "  3  6  9\n",
      " 12 15 18\n",
      " 21 24 27\n"
     ]
    }
   ],
   "source": [
    "lst1 = [\n",
    "    [1, 2, 3],\n",
    "    [4, 5, 6],\n",
    "    [7, 8, 9]]\n",
    "\n",
    "lst2 = [\n",
    "    [2, 4, 6],\n",
    "    [8, 10, 12],\n",
    "    [14, 16, 18]]\n",
    "\n",
    "lst3 = []\n",
    "for i in range(len(lst1)):\n",
    "    lst3.append([])\n",
    "    for j in range(len(lst2)):\n",
    "        num = lst1[i][j] + lst2[i][j]\n",
    "        lst3[i].append(num)\n",
    "\n",
    "for row in lst3:\n",
    "    for value in row:\n",
    "        print('%3d'%(value), end = '')\n",
    "    print()"
   ]
  },
  {
   "cell_type": "markdown",
   "metadata": {},
   "source": [
    "## 5-8 以二維串列當作參數傳送給函式\n",
    "\n",
    "如同一維串列一樣，二維串列也可以當做參數，將它傳送給函式。"
   ]
  },
  {
   "cell_type": "code",
   "execution_count": 78,
   "metadata": {},
   "outputs": [
    {
     "name": "stdout",
     "output_type": "stream",
     "text": [
      "    3    6    9\n",
      "   12   15   18\n",
      "   21   24   27\n"
     ]
    }
   ],
   "source": [
    "def listAdd(lst11, lst22):\n",
    "    lst33 = []\n",
    "    for i in range(len(lst11)):\n",
    "        lst33.append([])\n",
    "        for j in range(len(lst22)):\n",
    "            num = lst11[i][j] + lst22[i][j]\n",
    "            lst33[i].append(num)\n",
    "    return lst33\n",
    "\n",
    "def displayList(lst):    \n",
    "    for row in lst:\n",
    "        for value in row:\n",
    "            print('%5d'%(value), end = '')\n",
    "        print()\n",
    "            \n",
    "def main():\n",
    "    lst1 = [\n",
    "        [1, 2, 3],\n",
    "        [4, 5, 6],\n",
    "        [7, 8, 9]]\n",
    "\n",
    "    lst2 = [\n",
    "        [2, 4, 6],\n",
    "        [8, 10, 12],\n",
    "        [14, 16, 18]]\n",
    "\n",
    "    lst3 = listAdd(lst1, lst2)\n",
    "    displayList(lst3)\n",
    "\n",
    "main()"
   ]
  },
  {
   "cell_type": "markdown",
   "metadata": {},
   "source": [
    "## 5-9 三維串列\n",
    "\n",
    "三維串列可視為二維串列的集合。"
   ]
  },
  {
   "cell_type": "markdown",
   "metadata": {},
   "source": [
    "**例：要表示五位學生的微積分、會計學和程式設計概論的平時考、期中考、期末考，則可使用三維串列方式來處置。計算每一位學生的每一科目的平均分數，假設每一科目佔的比重是一樣的。**\n"
   ]
  },
  {
   "cell_type": "code",
   "execution_count": 79,
   "metadata": {},
   "outputs": [
    {
     "name": "stdout",
     "output_type": "stream",
     "text": [
      "        Calcu    Accou     Prog\n",
      "        -----    -----     ----\n",
      "#1:     86.00    80.67    90.33\n",
      "#2:     75.67    85.33    86.00\n",
      "#3:     79.33    77.33    90.00\n",
      "#4:     83.67    82.67    93.00\n",
      "#5:     80.00    67.00    74.33\n"
     ]
    }
   ],
   "source": [
    "scores3Dim = [\n",
    "    [[80, 88, 90], [78, 76, 88], [90, 91, 90]],\n",
    "    [[70, 68, 89], [88, 86, 82], [80, 86, 92]],\n",
    "    [[77, 78, 83], [75, 78, 79], [89, 91, 90]],\n",
    "    [[72, 87, 92], [74, 86, 88], [90, 94, 95]],\n",
    "    [[82, 68, 90], [67, 66, 68], [70, 71, 82]]]\n",
    "\n",
    "\n",
    "# 程式先印出標頭，以利閱讀。\n",
    "print('%13s %8s %8s'%('Calcu', 'Accou', 'Prog'))\n",
    "print('%13s %8s %8s'%('-----', '-----', '----'))\n",
    "\n",
    "# len(scores3Dim) 得到三維串列有多少個二維串列\n",
    "# 然後繼續用len求得在第i個二維串列中有多少列，\n",
    "# 以及在第i個二維串列的第j列有多少行，亦即這一列有多少個元素。\n",
    "\n",
    "for i in range(len(scores3Dim)):\n",
    "    print('#%d: '%(i+1), end = '')\n",
    "    for j in range(len(scores3Dim[i])):\n",
    "        total = 0\n",
    "        for k in range(len(scores3Dim[i][j])):\n",
    "            total += scores3Dim[i][j][k]\n",
    "        average = total / 3\n",
    "        print('%9.2f'%(average), end = '')\n",
    "    print()"
   ]
  },
  {
   "cell_type": "markdown",
   "metadata": {},
   "source": [
    "### Learning By Doing\n",
    "\n",
    "**例：試撰寫一程式，計算二維串列中哪一行的和最小。**"
   ]
  },
  {
   "cell_type": "code",
   "execution_count": 80,
   "metadata": {},
   "outputs": [
    {
     "name": "stdout",
     "output_type": "stream",
     "text": [
      "Total of 0 columns = 28\n",
      "Total of 1 columns = 30\n",
      "Total of 2 columns = 26\n",
      "Total of 3 columns = 35\n",
      "The smallest value is 26, at column is 2\n"
     ]
    }
   ],
   "source": [
    "lst44 = [\n",
    "    [11,  2,  3, 14],\n",
    "    [5,  16,  7,  8],\n",
    "    [9,  10, 11, 12],\n",
    "    [3,   2,  5,  1]]\n",
    "\n",
    "smallest = 999999\n",
    "indexOfCol = -1\n",
    "for col in range(0, len(lst44[0])):\n",
    "    total = 0\n",
    "    for row in range(len(lst44)):\n",
    "        total += lst44[row][col]\n",
    "    print('Total of %d columns = %d'%(col, total))\n",
    "\n",
    "    if total < smallest:\n",
    "        smallest = total\n",
    "        indexOfCol = col\n",
    "    \n",
    "print('The smallest value is %d, at column is %d'%(smallest, indexOfCol))"
   ]
  },
  {
   "cell_type": "markdown",
   "metadata": {},
   "source": [
    "**例：試撰寫一程式，用以模擬電腦問卷。假設有六位同學填答有十題具有五個選項的選擇題。**"
   ]
  },
  {
   "cell_type": "code",
   "execution_count": 81,
   "metadata": {},
   "outputs": [
    {
     "name": "stdout",
     "output_type": "stream",
     "text": [
      "#1: 9\n",
      "#2: 5\n",
      "#3: 7\n",
      "#4: 9\n",
      "#5: 8\n",
      "#6: 7\n"
     ]
    }
   ],
   "source": [
    "# 電腦閱卷可以利用二維串列來完成。\n",
    "#名為ans的二維串列記錄六位學生的答案，standAns一維賺列為標準答案。\n",
    "ans = [\n",
    "       [1, 2, 3, 2, 2, 1, 4, 5, 2, 4],\n",
    "       [2, 2, 4, 3, 4, 1, 4, 1, 3, 4],\n",
    "       [1, 2, 3, 3, 3, 1, 2, 5, 2, 3],\n",
    "       [1, 2, 3, 3, 2, 1, 3, 5, 2, 4],\n",
    "       [1, 2, 3, 3, 2, 1, 5, 4, 2, 4],\n",
    "       [3, 2, 2, 3, 2, 1, 4, 5, 1, 4]]\n",
    "\n",
    "standAns =  [1, 2, 3, 3, 2, 1, 4, 5, 2, 4]\n",
    "\n",
    "#以多重迴圈和if敘述判斷and[i][j]是否等於standAns[j]，若是則將correctNum加1。最後印出每位學生答對的題數。\n",
    "for i in range(len(ans)):\n",
    "    correctNum = 0\n",
    "    for j in range(len(ans[i])):\n",
    "        if (ans[i][j] == standAns[j]):\n",
    "            correctNum += 1\n",
    "    print('#%d: %d'%(i+1, correctNum))"
   ]
  },
  {
   "cell_type": "markdown",
   "metadata": {},
   "source": [
    "**例：試撰寫一程式，找尋二維串列中最大的元素。**\n"
   ]
  },
  {
   "cell_type": "code",
   "execution_count": null,
   "metadata": {},
   "outputs": [],
   "source": [
    "import random\n",
    "lst = []\n",
    "rows = eval(input('How many rows: '))\n",
    "columns = eval(input('How many columns: '))\n",
    "for i in range(rows):\n",
    "    lst.append([])\n",
    "    for j in range(columns):\n",
    "        num = random.randint(1, 100)\n",
    "        lst[i].append(num)\n",
    "\n",
    "#先假設第一列第一行的元素最大，並指定給biggest。        \n",
    "biggest = lst[0][0]\n",
    "\n",
    "indexOfRow = 0\n",
    "indexOfColumn = 0\n",
    "\n",
    "#然後逐一與每一列每一行進行比較，若是比biggest大，則對換，直到所有元素比對完。\n",
    "for i in range(len(lst)):\n",
    "    for j in range(len(lst[i])):\n",
    "        if lst[i][j] > biggest:\n",
    "            biggest = lst[i][j]\n",
    "            indexOfRow = i\n",
    "            indexOfColumn = j               \n",
    "\n",
    "for x in range(rows):\n",
    "    for y in range(columns):\n",
    "        print('%5d'%(lst[x][y]), end = ' ')\n",
    "    print()\n",
    "\n",
    "print('The largest value %d at lst[%d][%d]'%(biggest, indexOfRow, indexOfColumn))"
   ]
  },
  {
   "cell_type": "code",
   "execution_count": null,
   "metadata": {},
   "outputs": [],
   "source": [
    "**例：(Optional)試撰寫一函式以檢測某一矩陣是否為正的馬可夫矩陣(positive Markov matrix)。\n",
    "def isMarkovMatrix(m):\n",
    "提示：在一個 N*N 的矩陣，若各個元素皆為正數，而且每一行的總和為 1。則該矩陣為正的馬可夫矩陣。以一個 3*3 的數值矩陣，來測試它是否為正的馬可夫矩陣。**\n",
    "\n"
   ]
  },
  {
   "cell_type": "code",
   "execution_count": null,
   "metadata": {},
   "outputs": [],
   "source": [
    "def isMarkovMatrix(m):\n",
    "    # Check positive\n",
    "    for i in range(len(m)):\n",
    "        for j in range(len(m[0])):\n",
    "            if m[i][j] < 0:\n",
    "                return False\n",
    "\n",
    "        # Check the sum of each column\n",
    "        for j in range(len(m[0])):\n",
    "            sum = 0\n",
    "            for i in range(len(m)):\n",
    "                sum += m[i][j]\n",
    "      \n",
    "            if sum != 1:\n",
    "                return False\n",
    "\n",
    "    return True\n",
    "\n",
    "def main():\n",
    "    SIZE = 3\n",
    "    print(\"Enter a 3 by 3 matrix row by row: \")\n",
    "    m = []\n",
    "    \n",
    "    for i in range(SIZE):\n",
    "        line = input().split()\n",
    "        m.append([eval(x) for x in line])\n",
    "\n",
    "    if isMarkovMatrix(m):\n",
    "        print(\"It is a Markov matrix\")\n",
    "    else:\n",
    "        print(\"It is not a Markov matrix\")\n",
    "\n",
    "main()"
   ]
  },
  {
   "cell_type": "code",
   "execution_count": null,
   "metadata": {},
   "outputs": [],
   "source": [
    "**例：(Optional)試撰寫一程式，以三維串列表示，猜猜1~50的數字範圍。假設心中數字是46。**"
   ]
  },
  {
   "cell_type": "code",
   "execution_count": null,
   "metadata": {},
   "outputs": [],
   "source": [
    "#Using 3D list\n",
    "guessNum = 0\n",
    "\n",
    "numbers = [\n",
    "    [[ 1,  3,  5,  7],\n",
    "     [ 9, 11, 13, 15],\n",
    "     [17, 19, 21, 23],\n",
    "     [25, 27, 29, 31],\n",
    "     [33, 35, 37, 39],\n",
    "     [41, 43, 45, 47],\n",
    "     [49]],\n",
    "\n",
    "    [[ 2,  3,  6,  7],\n",
    "     [10, 11, 14, 15],\n",
    "     [18, 19, 22, 23],\n",
    "     [26, 27, 30, 31],\n",
    "      [34, 35, 38, 39],\n",
    "      [42, 43, 46, 47],\n",
    "      [50]],\n",
    "  \n",
    "     [[4,  5,  6,  7],\n",
    "       [12, 13, 14, 15],\n",
    "       [20, 21, 22, 23],\n",
    "       [28, 29, 30, 31],\n",
    "       [36, 37, 38, 39],\n",
    "       [44, 45, 46, 47]],\n",
    "\n",
    "     [[ 8,  9, 10, 11],\n",
    "      [12, 13, 14, 15],\n",
    "      [24, 25, 26, 27],\n",
    "      [28, 29, 30, 31],\n",
    "      [40, 41, 42, 43],\n",
    "      [44, 45, 46, 47]],\n",
    "\n",
    "    [[16, 17, 18, 19],\n",
    "      [20, 21, 22, 23],\n",
    "      [24, 25, 26, 27],\n",
    "      [28, 29, 30, 31],\n",
    "      [48, 49, 50]],\n",
    "\n",
    "    [[32, 33, 34, 35],\n",
    "      [36, 37, 38, 39],\n",
    "      [40, 41, 42, 43],\n",
    "      [44, 45, 46, 47],\n",
    "      [48, 49, 50]]]\n",
    "\n",
    "for i in range(6):\n",
    "    print('Is your number in Set %d ? '%(i+1))\n",
    "    for j in range(len(numbers[i])):\n",
    "        for k in range(len(numbers[i][j])):\n",
    "            print('%4d'%(numbers[i][j][k]), end = '')\n",
    "        print()\n",
    "\n",
    "    answer = eval(input('Enter 0 for No and 1 for Yes: '))\n",
    "    print()\n",
    "    if answer == 1:\n",
    "        guessNum += numbers[i][0][0]\n",
    "\n",
    "print('Your number is %d'%(guessNum))"
   ]
  }
 ],
 "metadata": {
  "kernelspec": {
   "display_name": "Python 3",
   "language": "python",
   "name": "python3"
  },
  "language_info": {
   "codemirror_mode": {
    "name": "ipython",
    "version": 3
   },
   "file_extension": ".py",
   "mimetype": "text/x-python",
   "name": "python",
   "nbconvert_exporter": "python",
   "pygments_lexer": "ipython3",
   "version": "3.7.4"
  }
 },
 "nbformat": 4,
 "nbformat_minor": 2
}
