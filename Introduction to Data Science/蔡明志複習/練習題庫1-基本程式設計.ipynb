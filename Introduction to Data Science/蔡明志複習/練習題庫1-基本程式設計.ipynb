{
 "cells": [
  {
   "cell_type": "markdown",
   "metadata": {},
   "source": [
    "# 1. 基本程式設計"
   ]
  },
  {
   "cell_type": "markdown",
   "metadata": {},
   "source": [
    "## 1-1 認識Python\n",
    "\n",
    "Python 是由荷蘭人Guido van Rossum 於1990年所創造的。\n",
    "\n",
    "Python是一通用、直譯，以及物件導向的程式語言。\n",
    "\n",
    "Python現由一群熱心的團隊開發和維護的，而且是免費由Python軟體協會(Python Software Foundation)所提供的。\n"
   ]
  },
  {
   "cell_type": "markdown",
   "metadata": {},
   "source": [
    "## 1-2 常見程式設計的錯誤\n",
    "\n",
    "**語法錯誤(Syntax errors)** 是來自於程式碼建構上的錯誤，比方不正確的內縮、遺漏了必要的冒號，或是左、右小括號沒有相互對應。\n",
    "這類的錯誤通常較容易找到，因為Python會告訴您錯誤的地方以及造成錯誤的原因。\n",
    "\n",
    "**執行期間的錯誤(Runtime errors)** 會導致程式不正常結束的錯誤。\n",
    "在程式執行時，如果執行環境偵測到無法進行的動作，便會出現Runtime Errors的錯誤訊息。\n",
    "\n",
    "**邏輯錯誤(Logic errors)** 出現於程式執行的結果與預期的結果不同。\n",
    "\n",
    "語法錯誤與執行期錯誤的處理實際上是相似的。因為這些錯誤皆在程式執行時，由直譯器加以偵測的。一般而言，語法錯誤和執行期錯誤是較容易發現與更正的，因為Python可以給予其錯誤的位置與引起錯誤的原因。相對而言，找尋邏輯錯誤是較不容易的。\n"
   ]
  },
  {
   "cell_type": "markdown",
   "metadata": {},
   "source": [
    "### Learning By doing\n",
    "\n",
    "**例：試計算以下運算式的結果：9.5 * 4.7 – 2.5 *5 / 43.5 – 3.5**\n"
   ]
  },
  {
   "cell_type": "code",
   "execution_count": 2,
   "metadata": {},
   "outputs": [
    {
     "data": {
      "text/plain": [
       "0.80375"
      ]
     },
     "execution_count": 2,
     "metadata": {},
     "output_type": "execute_result"
    }
   ],
   "source": [
    "(9.5 * 4.7 - 2.5 * 5) / (43.5 - 3.5)"
   ]
  },
  {
   "cell_type": "markdown",
   "metadata": {},
   "source": [
    "**例：試輸出你的英文名字與電話號碼。**"
   ]
  },
  {
   "cell_type": "code",
   "execution_count": 3,
   "metadata": {},
   "outputs": [
    {
     "name": "stdout",
     "output_type": "stream",
     "text": [
      "My name is Francis.\n",
      "Tel: 0987654321\n"
     ]
    }
   ],
   "source": [
    "print('My name is Francis.')\n",
    "print('Tel: 0987654321')"
   ]
  },
  {
   "cell_type": "markdown",
   "metadata": {},
   "source": [
    "**例：試計算1加到10的結果。**"
   ]
  },
  {
   "cell_type": "code",
   "execution_count": 4,
   "metadata": {},
   "outputs": [
    {
     "name": "stdout",
     "output_type": "stream",
     "text": [
      "a = 55\n"
     ]
    }
   ],
   "source": [
    "a = 1 + 2 + 3 + 4 + 5 + 6 + 7 + 8 + 9 + 10\n",
    "print('a =', a)"
   ]
  },
  {
   "cell_type": "markdown",
   "metadata": {},
   "source": [
    "**例：試計算99英哩(miles)等於多少公里(km)。**"
   ]
  },
  {
   "cell_type": "code",
   "execution_count": 5,
   "metadata": {},
   "outputs": [
    {
     "name": "stdout",
     "output_type": "stream",
     "text": [
      "99 miles is 158.4 km\n"
     ]
    }
   ],
   "source": [
    "m = 99 * 1.6\n",
    "print('99 miles is', 99 * 1.6, 'km')"
   ]
  },
  {
   "cell_type": "markdown",
   "metadata": {},
   "source": [
    "## 1-3. 基本程式設計"
   ]
  },
  {
   "cell_type": "markdown",
   "metadata": {},
   "source": [
    "### 1-3-1 變數與常數\n",
    "\n",
    "**變數**：表示它會隨著程式的執行而改變其值。\n",
    "\n",
    "**常數**：表示不會隨著程式的執行而改變其值。\n",
    "\n",
    "**變數名稱**：變數名稱必需以英文字母或底線為開頭，接下來可為英文字母或數字或底線，其他字元是不可以的。如abc$，a*…等等。\n"
   ]
  },
  {
   "cell_type": "markdown",
   "metadata": {},
   "source": [
    "## 1-4 輸入與輸出\n",
    "\n",
    "Python的輸入是以input函式來完成，不過從此函式輸入的資料型態皆為字串。\n",
    "\n",
    "- 若要在輸入資料之前加上提示訊息，則可在input函式中加上參數字串。\n",
    "- 若要將輸入的字串資料轉為數值型態，則需再以eval函式加以處理。\n",
    "\n",
    "Python的輸出是以print函式來完成。\n",
    "\n",
    "- 字串與字串的連結可以利用 '+' 符號完。\n",
    "- 若輸出字串與數值，則可以在其之間以逗號隔。"
   ]
  },
  {
   "cell_type": "markdown",
   "metadata": {},
   "source": [
    "### 1-4-1 格式化輸出\n",
    "\n",
    "**format格式化函式** 第一個是輸出的參數，第二個是第一個參數所對應的格式化字串。\n",
    "\n",
    "- 在格式化字串中數字是指定的欄位寬\n",
    "- 字元d表示參數是整數\n",
    "- 字元f表示對應的參數是浮點數\n",
    "- 字元s表示對應的參數是字串。\n",
    "- `<` 表示向左靠齊\n",
    "- `>` 表示向右靠齊\n",
    "\n",
    "～format格式化字串中，向左靠齊是預設，向右靠齊一定用>。\n",
    "\n",
    "～在format格式化數值時，向右靠齊是預設，向左靠齊一定用<。\n",
    "\n",
    "**%是另一個格式化函數**。"
   ]
  },
  {
   "cell_type": "code",
   "execution_count": 6,
   "metadata": {},
   "outputs": [
    {
     "name": "stdout",
     "output_type": "stream",
     "text": [
      "  123\n",
      "  123.46\n",
      "Python    \n",
      "123  \n",
      "123.46  \n",
      "    Python\n"
     ]
    }
   ],
   "source": [
    "# 將輸出格式化 format\n",
    "\n",
    "x = 123\n",
    "y = 123.456\n",
    "z = 'Python'\n",
    "\n",
    "print(format(x, '5d'))\n",
    "print(format(y, '8.2f'))\n",
    "print(format(z, '10s'))\n",
    "\n",
    "print(format(x, '<5d'))\n",
    "print(format(y, '<8.2f'))\n",
    "print(format(z, '>10s'))"
   ]
  },
  {
   "cell_type": "code",
   "execution_count": 7,
   "metadata": {},
   "outputs": [
    {
     "name": "stdout",
     "output_type": "stream",
     "text": [
      "|123|\n",
      "|  123|\n",
      "|123.456000|\n",
      "|  123.46|\n",
      "|Python|\n",
      "|    Python|\n",
      "\n",
      "|123  |\n",
      "|123.46  |\n",
      "|Python    |\n"
     ]
    }
   ],
   "source": [
    "# 將輸出格式化 %\n",
    "\n",
    "x = 123\n",
    "y = 123.456\n",
    "z = 'Python'\n",
    "\n",
    "print('|%d|'%(x))\n",
    "print('|%5d|'%(x))\n",
    "print('|%f|'%(y))\n",
    "print('|%8.2f|'%(y))\n",
    "print('|%s|'%(z))\n",
    "print('|%10s|'%(z))\n",
    "print()\n",
    "\n",
    "print('|%-5d|'%(x))\n",
    "print('|%-8.2f|'%(y))\n",
    "print('|%-10s|'%(z))"
   ]
  },
  {
   "cell_type": "code",
   "execution_count": 8,
   "metadata": {},
   "outputs": [
    {
     "name": "stdout",
     "output_type": "stream",
     "text": [
      "Learning\n",
      " Python now!\n",
      "\tLearning\n",
      " Python now!\n",
      "Learning 'Python' now!\n",
      "Learning \"Python\" now!\n",
      "Learning \\Python\\ now!\n"
     ]
    }
   ],
   "source": [
    "# 將輸出格式化字元\n",
    "\n",
    "print('Learning\\n Python now!')\n",
    "print('\\tLearning\\n Python now!')\n",
    "\n",
    "print('Learning \\'Python\\' now!')\n",
    "print('Learning \\\"Python\\\" now!')\n",
    "print('Learning \\\\Python\\\\ now!')"
   ]
  },
  {
   "cell_type": "markdown",
   "metadata": {},
   "source": [
    "### Learning By Doing\n",
    "\n",
    "**例：試撰寫一程式，提示使用者輸入一圓的半徑，然後計算此圓的面積和周長。**\n"
   ]
  },
  {
   "cell_type": "code",
   "execution_count": 14,
   "metadata": {},
   "outputs": [
    {
     "name": "stdout",
     "output_type": "stream",
     "text": [
      "Enter a radius: 10\n",
      "radius of the circle is 10\n",
      "area is 314.16, perimeter is 62.83\n"
     ]
    }
   ],
   "source": [
    "import math\n",
    "radius = eval(input('Enter a radius: '))\n",
    "area = math.pi * pow(radius, 2)\n",
    "perimeter = 2 * math.pi * radius\n",
    "print('radius of the circle is %d'%(radius))\n",
    "print('area is %.2f, perimeter is %.2f'%(area, perimeter))"
   ]
  },
  {
   "cell_type": "markdown",
   "metadata": {},
   "source": [
    "**例：試撰寫一程式，提示使用者輸入一邊長 s，接著顯示五邊形的面積。計算五邊形面積的公式如下：area = (5 * s2) / (4 * tan( / 5))**"
   ]
  },
  {
   "cell_type": "code",
   "execution_count": 15,
   "metadata": {},
   "outputs": [
    {
     "name": "stdout",
     "output_type": "stream",
     "text": [
      "Enter length of a side: 5\n",
      "Area of 5-side is 43.01\n"
     ]
    }
   ],
   "source": [
    "import math\n",
    "side = eval(input('Enter length of a side: '))\n",
    "area = (5 * side ** 2) / (4 * math.tan(math.pi/5))\n",
    "print('Area of 5-side is %.2f'%(area))"
   ]
  },
  {
   "cell_type": "markdown",
   "metadata": {},
   "source": [
    "**例：試撰寫一程式，提示使用者輸入一ASCII碼（介於0~127之間的整數），然後顯示其所對應的字元，如輸入65則顯示a。**"
   ]
  },
  {
   "cell_type": "code",
   "execution_count": 16,
   "metadata": {},
   "outputs": [
    {
     "name": "stdout",
     "output_type": "stream",
     "text": [
      "Enter a ASCII code: 65\n",
      "ASCII code: 65 is A\n"
     ]
    }
   ],
   "source": [
    "ascii = eval(input('Enter a ASCII code: '))\n",
    "print('ASCII code: %d is %c'%(ascii, chr(ascii)))"
   ]
  },
  {
   "cell_type": "markdown",
   "metadata": {},
   "source": [
    "**例：試撰寫一程式，提示使用者輸入五位數字，然後以反轉的順序加以輸出。**\n"
   ]
  },
  {
   "cell_type": "code",
   "execution_count": 17,
   "metadata": {},
   "outputs": [
    {
     "name": "stdout",
     "output_type": "stream",
     "text": [
      "Enter a 5-digit: 12345\n",
      "54321\n"
     ]
    }
   ],
   "source": [
    "#方法一\n",
    "\n",
    "number = eval(input('Enter a 5-digit: '))\n",
    "n1 = number % 10\n",
    "n2 = (number // 10) % 10\n",
    "n3 = (number // 100) % 10\n",
    "n4 = (number // 1000) % 10\n",
    "n5 = number // 10000\n",
    "\n",
    "print('%d%d%d%d%d'%(n1, n2, n3, n4, n5))"
   ]
  },
  {
   "cell_type": "code",
   "execution_count": 18,
   "metadata": {},
   "outputs": [
    {
     "name": "stdout",
     "output_type": "stream",
     "text": [
      "Enter a 5-digit: 12345\n",
      "54321\n"
     ]
    }
   ],
   "source": [
    "#方法二\n",
    "\n",
    "n = eval(input('Enter a 5-digit: '))\n",
    "print(n % 10, end = '')\n",
    "n1 = n // 10\n",
    "print(n1 % 10, end = '')\n",
    "n2 = n1 // 10\n",
    "print(n2 % 10, end = '')\n",
    "n3 = n2 // 10\n",
    "print(n3 % 10, end = '')\n",
    "n4 = n3 // 10\n",
    "print(n4)"
   ]
  }
 ],
 "metadata": {
  "kernelspec": {
   "display_name": "Python 3",
   "language": "python",
   "name": "python3"
  },
  "language_info": {
   "codemirror_mode": {
    "name": "ipython",
    "version": 3
   },
   "file_extension": ".py",
   "mimetype": "text/x-python",
   "name": "python",
   "nbconvert_exporter": "python",
   "pygments_lexer": "ipython3",
   "version": "3.7.4"
  }
 },
 "nbformat": 4,
 "nbformat_minor": 2
}
